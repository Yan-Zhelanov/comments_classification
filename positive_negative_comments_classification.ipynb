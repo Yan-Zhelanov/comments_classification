{
 "cells": [
  {
   "cell_type": "markdown",
   "metadata": {},
   "source": [
    "# Проект для «Викишоп» с BERT"
   ]
  },
  {
   "cell_type": "markdown",
   "metadata": {},
   "source": [
    "Интернет-магазин «Викишоп» запускает новый сервис. Теперь пользователи могут редактировать и дополнять описания товаров, как в вики-сообществах. То есть клиенты предлагают свои правки и комментируют изменения других. Магазину нужен инструмент, который будет искать токсичные комментарии и отправлять их на модерацию. \n",
    "\n",
    "Обучим модель классифицировать комментарии на позитивные и негативные. В нашем распоряжении набор данных с разметкой о токсичности правок.\n",
    "\n",
    "Постараемся построить модель со значением метрики качества *F1* не меньше 0.75. \n",
    "\n",
    "**План по выполнению проекта:**\n",
    "\n",
    "1. Загрузим и подготовим данные.\n",
    "2. Обучим разные модели. \n",
    "3. Сделаем выводы.\n",
    "\n",
    "Будем использовать модель BERT для создания признаков.\n",
    "\n",
    "**Из документации к данным:**\n",
    "\n",
    "Столбец *text* — содержит текст комментария, а *toxic* — целевой признак."
   ]
  },
  {
   "cell_type": "markdown",
   "metadata": {
    "toc": true
   },
   "source": [
    "<h1>Содержание<span class=\"tocSkip\"></span></h1>\n",
    "<div class=\"toc\"><ul class=\"toc-item\"><li><span><a href=\"#Подготовка\" data-toc-modified-id=\"Подготовка-1\"><span class=\"toc-item-num\">1&nbsp;&nbsp;</span>Подготовка</a></span><ul class=\"toc-item\"><li><span><a href=\"#Загрузка-и-изучение-данных\" data-toc-modified-id=\"Загрузка-и-изучение-данных-1.1\"><span class=\"toc-item-num\">1.1&nbsp;&nbsp;</span>Загрузка и изучение данных</a></span></li><li><span><a href=\"#Создание-признаков\" data-toc-modified-id=\"Создание-признаков-1.2\"><span class=\"toc-item-num\">1.2&nbsp;&nbsp;</span>Создание признаков</a></span></li><li><span><a href=\"#Функции-для-ресемплирования\" data-toc-modified-id=\"Функции-для-ресемплирования-1.3\"><span class=\"toc-item-num\">1.3&nbsp;&nbsp;</span>Функции для ресемплирования</a></span></li></ul></li><li><span><a href=\"#Обучение\" data-toc-modified-id=\"Обучение-2\"><span class=\"toc-item-num\">2&nbsp;&nbsp;</span>Обучение</a></span><ul class=\"toc-item\"><li><span><a href=\"#Dummy\" data-toc-modified-id=\"Dummy-2.1\"><span class=\"toc-item-num\">2.1&nbsp;&nbsp;</span>Dummy</a></span></li><li><span><a href=\"#Logistic\" data-toc-modified-id=\"Logistic-2.2\"><span class=\"toc-item-num\">2.2&nbsp;&nbsp;</span>Logistic</a></span><ul class=\"toc-item\"><li><span><a href=\"#Подбор-параметров-ресемплирования\" data-toc-modified-id=\"Подбор-параметров-ресемплирования-2.2.1\"><span class=\"toc-item-num\">2.2.1&nbsp;&nbsp;</span>Подбор параметров ресемплирования</a></span></li><li><span><a href=\"#Подбор-параметров-для-модели\" data-toc-modified-id=\"Подбор-параметров-для-модели-2.2.2\"><span class=\"toc-item-num\">2.2.2&nbsp;&nbsp;</span>Подбор параметров для модели</a></span></li><li><span><a href=\"#Обучение-и-тестирование-моделей\" data-toc-modified-id=\"Обучение-и-тестирование-моделей-2.2.3\"><span class=\"toc-item-num\">2.2.3&nbsp;&nbsp;</span>Обучение и тестирование моделей</a></span></li><li><span><a href=\"#Подбор-оптимального-порога\" data-toc-modified-id=\"Подбор-оптимального-порога-2.2.4\"><span class=\"toc-item-num\">2.2.4&nbsp;&nbsp;</span>Подбор оптимального порога</a></span></li></ul></li><li><span><a href=\"#CatBoost-с-Bert\" data-toc-modified-id=\"CatBoost-с-Bert-2.3\"><span class=\"toc-item-num\">2.3&nbsp;&nbsp;</span>CatBoost с Bert</a></span><ul class=\"toc-item\"><li><span><a href=\"#Подбор-параметров-ресемплирования\" data-toc-modified-id=\"Подбор-параметров-ресемплирования-2.3.1\"><span class=\"toc-item-num\">2.3.1&nbsp;&nbsp;</span>Подбор параметров ресемплирования</a></span></li><li><span><a href=\"#Обучение-и-тестирование-модели\" data-toc-modified-id=\"Обучение-и-тестирование-модели-2.3.2\"><span class=\"toc-item-num\">2.3.2&nbsp;&nbsp;</span>Обучение и тестирование модели</a></span></li><li><span><a href=\"#Подбор-оптимального-порога\" data-toc-modified-id=\"Подбор-оптимального-порога-2.3.3\"><span class=\"toc-item-num\">2.3.3&nbsp;&nbsp;</span>Подбор оптимального порога</a></span></li></ul></li><li><span><a href=\"#CatBoost\" data-toc-modified-id=\"CatBoost-2.4\"><span class=\"toc-item-num\">2.4&nbsp;&nbsp;</span>CatBoost</a></span><ul class=\"toc-item\"><li><span><a href=\"#Создание-признаков\" data-toc-modified-id=\"Создание-признаков-2.4.1\"><span class=\"toc-item-num\">2.4.1&nbsp;&nbsp;</span>Создание признаков</a></span></li><li><span><a href=\"#Подбор-параметров-ресемплирования\" data-toc-modified-id=\"Подбор-параметров-ресемплирования-2.4.2\"><span class=\"toc-item-num\">2.4.2&nbsp;&nbsp;</span>Подбор параметров ресемплирования</a></span></li><li><span><a href=\"#Обучение-и-тестирование-модели\" data-toc-modified-id=\"Обучение-и-тестирование-модели-2.4.3\"><span class=\"toc-item-num\">2.4.3&nbsp;&nbsp;</span>Обучение и тестирование модели</a></span></li><li><span><a href=\"#Подбор-оптимального-порога\" data-toc-modified-id=\"Подбор-оптимального-порога-2.4.4\"><span class=\"toc-item-num\">2.4.4&nbsp;&nbsp;</span>Подбор оптимального порога</a></span></li></ul></li></ul></li><li><span><a href=\"#Выводы\" data-toc-modified-id=\"Выводы-3\"><span class=\"toc-item-num\">3&nbsp;&nbsp;</span>Выводы</a></span></li></ul></div>"
   ]
  },
  {
   "cell_type": "markdown",
   "metadata": {},
   "source": [
    "## Подготовка"
   ]
  },
  {
   "cell_type": "markdown",
   "metadata": {},
   "source": [
    "### Загрузка и изучение данных"
   ]
  },
  {
   "cell_type": "markdown",
   "metadata": {},
   "source": [
    "Импортируем библиотеки:"
   ]
  },
  {
   "cell_type": "code",
   "execution_count": 2,
   "metadata": {},
   "outputs": [
    {
     "name": "stderr",
     "output_type": "stream",
     "text": [
      "2022-05-15 20:40:49.694609: W tensorflow/stream_executor/platform/default/dso_loader.cc:64] Could not load dynamic library 'libcudart.so.11.0'; dlerror: libcudart.so.11.0: cannot open shared object file: No such file or directory\n",
      "2022-05-15 20:40:49.694628: I tensorflow/stream_executor/cuda/cudart_stub.cc:29] Ignore above cudart dlerror if you do not have a GPU set up on your machine.\n"
     ]
    }
   ],
   "source": [
    "import re\n",
    "import math\n",
    "import string\n",
    "import warnings\n",
    "from typing import Optional\n",
    "from threading import Thread\n",
    "\n",
    "import torch\n",
    "import transformers\n",
    "import numpy as np\n",
    "import pandas as pd\n",
    "from tqdm.notebook import tqdm\n",
    "from joblib import parallel_backend\n",
    "from matplotlib import pyplot as plt\n",
    "from catboost import CatBoostClassifier\n",
    "from sklearn.utils import shuffle\n",
    "from sklearn.metrics import f1_score, roc_auc_score, roc_curve, make_scorer, classification_report\n",
    "from sklearn.dummy import DummyClassifier\n",
    "from sklearn.linear_model import LogisticRegression, LogisticRegressionCV\n",
    "from sklearn.model_selection import (\n",
    "    train_test_split,\n",
    "    cross_val_score,\n",
    "    cross_val_predict,\n",
    "    GridSearchCV,\n",
    ")"
   ]
  },
  {
   "cell_type": "markdown",
   "metadata": {},
   "source": [
    "Отключим предупреждения:"
   ]
  },
  {
   "cell_type": "code",
   "execution_count": 3,
   "metadata": {},
   "outputs": [],
   "source": [
    "warnings.filterwarnings('ignore')"
   ]
  },
  {
   "cell_type": "markdown",
   "metadata": {},
   "source": [
    "Загрузим данные:"
   ]
  },
  {
   "cell_type": "code",
   "execution_count": 4,
   "metadata": {},
   "outputs": [],
   "source": [
    "df = pd.read_csv('~/DS/Datasets/toxic_comments.csv')"
   ]
  },
  {
   "cell_type": "markdown",
   "metadata": {},
   "source": [
    "Изучим первые десять строк:"
   ]
  },
  {
   "cell_type": "code",
   "execution_count": 5,
   "metadata": {
    "scrolled": true
   },
   "outputs": [
    {
     "data": {
      "text/html": [
       "<div>\n",
       "<style scoped>\n",
       "    .dataframe tbody tr th:only-of-type {\n",
       "        vertical-align: middle;\n",
       "    }\n",
       "\n",
       "    .dataframe tbody tr th {\n",
       "        vertical-align: top;\n",
       "    }\n",
       "\n",
       "    .dataframe thead th {\n",
       "        text-align: right;\n",
       "    }\n",
       "</style>\n",
       "<table border=\"1\" class=\"dataframe\">\n",
       "  <thead>\n",
       "    <tr style=\"text-align: right;\">\n",
       "      <th></th>\n",
       "      <th>text</th>\n",
       "      <th>toxic</th>\n",
       "    </tr>\n",
       "  </thead>\n",
       "  <tbody>\n",
       "    <tr>\n",
       "      <th>0</th>\n",
       "      <td>Explanation\\nWhy the edits made under my usern...</td>\n",
       "      <td>0</td>\n",
       "    </tr>\n",
       "    <tr>\n",
       "      <th>1</th>\n",
       "      <td>D'aww! He matches this background colour I'm s...</td>\n",
       "      <td>0</td>\n",
       "    </tr>\n",
       "    <tr>\n",
       "      <th>2</th>\n",
       "      <td>Hey man, I'm really not trying to edit war. It...</td>\n",
       "      <td>0</td>\n",
       "    </tr>\n",
       "    <tr>\n",
       "      <th>3</th>\n",
       "      <td>\"\\nMore\\nI can't make any real suggestions on ...</td>\n",
       "      <td>0</td>\n",
       "    </tr>\n",
       "    <tr>\n",
       "      <th>4</th>\n",
       "      <td>You, sir, are my hero. Any chance you remember...</td>\n",
       "      <td>0</td>\n",
       "    </tr>\n",
       "    <tr>\n",
       "      <th>5</th>\n",
       "      <td>\"\\n\\nCongratulations from me as well, use the ...</td>\n",
       "      <td>0</td>\n",
       "    </tr>\n",
       "    <tr>\n",
       "      <th>6</th>\n",
       "      <td>COCKSUCKER BEFORE YOU PISS AROUND ON MY WORK</td>\n",
       "      <td>1</td>\n",
       "    </tr>\n",
       "    <tr>\n",
       "      <th>7</th>\n",
       "      <td>Your vandalism to the Matt Shirvington article...</td>\n",
       "      <td>0</td>\n",
       "    </tr>\n",
       "    <tr>\n",
       "      <th>8</th>\n",
       "      <td>Sorry if the word 'nonsense' was offensive to ...</td>\n",
       "      <td>0</td>\n",
       "    </tr>\n",
       "    <tr>\n",
       "      <th>9</th>\n",
       "      <td>alignment on this subject and which are contra...</td>\n",
       "      <td>0</td>\n",
       "    </tr>\n",
       "  </tbody>\n",
       "</table>\n",
       "</div>"
      ],
      "text/plain": [
       "                                                text  toxic\n",
       "0  Explanation\\nWhy the edits made under my usern...      0\n",
       "1  D'aww! He matches this background colour I'm s...      0\n",
       "2  Hey man, I'm really not trying to edit war. It...      0\n",
       "3  \"\\nMore\\nI can't make any real suggestions on ...      0\n",
       "4  You, sir, are my hero. Any chance you remember...      0\n",
       "5  \"\\n\\nCongratulations from me as well, use the ...      0\n",
       "6       COCKSUCKER BEFORE YOU PISS AROUND ON MY WORK      1\n",
       "7  Your vandalism to the Matt Shirvington article...      0\n",
       "8  Sorry if the word 'nonsense' was offensive to ...      0\n",
       "9  alignment on this subject and which are contra...      0"
      ]
     },
     "execution_count": 5,
     "metadata": {},
     "output_type": "execute_result"
    }
   ],
   "source": [
    "df.head(10)"
   ]
  },
  {
   "cell_type": "markdown",
   "metadata": {},
   "source": [
    "Изучим информацию о таблице:"
   ]
  },
  {
   "cell_type": "code",
   "execution_count": 6,
   "metadata": {},
   "outputs": [
    {
     "name": "stdout",
     "output_type": "stream",
     "text": [
      "<class 'pandas.core.frame.DataFrame'>\n",
      "RangeIndex: 159571 entries, 0 to 159570\n",
      "Data columns (total 2 columns):\n",
      " #   Column  Non-Null Count   Dtype \n",
      "---  ------  --------------   ----- \n",
      " 0   text    159571 non-null  object\n",
      " 1   toxic   159571 non-null  int64 \n",
      "dtypes: int64(1), object(1)\n",
      "memory usage: 2.4+ MB\n"
     ]
    }
   ],
   "source": [
    "df.info()"
   ]
  },
  {
   "cell_type": "markdown",
   "metadata": {},
   "source": [
    "Проверим наличие дубликатов:"
   ]
  },
  {
   "cell_type": "code",
   "execution_count": 7,
   "metadata": {
    "scrolled": true
   },
   "outputs": [
    {
     "data": {
      "text/plain": [
       "0.0"
      ]
     },
     "execution_count": 7,
     "metadata": {},
     "output_type": "execute_result"
    }
   ],
   "source": [
    "df.duplicated().mean()"
   ]
  },
  {
   "cell_type": "markdown",
   "metadata": {},
   "source": [
    "Изучим целевой признак:"
   ]
  },
  {
   "cell_type": "code",
   "execution_count": 8,
   "metadata": {},
   "outputs": [
    {
     "data": {
      "text/html": [
       "<div>\n",
       "<style scoped>\n",
       "    .dataframe tbody tr th:only-of-type {\n",
       "        vertical-align: middle;\n",
       "    }\n",
       "\n",
       "    .dataframe tbody tr th {\n",
       "        vertical-align: top;\n",
       "    }\n",
       "\n",
       "    .dataframe thead th {\n",
       "        text-align: right;\n",
       "    }\n",
       "</style>\n",
       "<table border=\"1\" class=\"dataframe\">\n",
       "  <thead>\n",
       "    <tr style=\"text-align: right;\">\n",
       "      <th></th>\n",
       "      <th>text</th>\n",
       "      <th>toxic</th>\n",
       "    </tr>\n",
       "  </thead>\n",
       "  <tbody>\n",
       "    <tr>\n",
       "      <th>count</th>\n",
       "      <td>159571</td>\n",
       "      <td>159571.000000</td>\n",
       "    </tr>\n",
       "    <tr>\n",
       "      <th>unique</th>\n",
       "      <td>159571</td>\n",
       "      <td>NaN</td>\n",
       "    </tr>\n",
       "    <tr>\n",
       "      <th>top</th>\n",
       "      <td>Explanation\\nWhy the edits made under my usern...</td>\n",
       "      <td>NaN</td>\n",
       "    </tr>\n",
       "    <tr>\n",
       "      <th>freq</th>\n",
       "      <td>1</td>\n",
       "      <td>NaN</td>\n",
       "    </tr>\n",
       "    <tr>\n",
       "      <th>mean</th>\n",
       "      <td>NaN</td>\n",
       "      <td>0.101679</td>\n",
       "    </tr>\n",
       "    <tr>\n",
       "      <th>std</th>\n",
       "      <td>NaN</td>\n",
       "      <td>0.302226</td>\n",
       "    </tr>\n",
       "    <tr>\n",
       "      <th>min</th>\n",
       "      <td>NaN</td>\n",
       "      <td>0.000000</td>\n",
       "    </tr>\n",
       "    <tr>\n",
       "      <th>25%</th>\n",
       "      <td>NaN</td>\n",
       "      <td>0.000000</td>\n",
       "    </tr>\n",
       "    <tr>\n",
       "      <th>50%</th>\n",
       "      <td>NaN</td>\n",
       "      <td>0.000000</td>\n",
       "    </tr>\n",
       "    <tr>\n",
       "      <th>75%</th>\n",
       "      <td>NaN</td>\n",
       "      <td>0.000000</td>\n",
       "    </tr>\n",
       "    <tr>\n",
       "      <th>max</th>\n",
       "      <td>NaN</td>\n",
       "      <td>1.000000</td>\n",
       "    </tr>\n",
       "  </tbody>\n",
       "</table>\n",
       "</div>"
      ],
      "text/plain": [
       "                                                     text          toxic\n",
       "count                                              159571  159571.000000\n",
       "unique                                             159571            NaN\n",
       "top     Explanation\\nWhy the edits made under my usern...            NaN\n",
       "freq                                                    1            NaN\n",
       "mean                                                  NaN       0.101679\n",
       "std                                                   NaN       0.302226\n",
       "min                                                   NaN       0.000000\n",
       "25%                                                   NaN       0.000000\n",
       "50%                                                   NaN       0.000000\n",
       "75%                                                   NaN       0.000000\n",
       "max                                                   NaN       1.000000"
      ]
     },
     "execution_count": 8,
     "metadata": {},
     "output_type": "execute_result"
    }
   ],
   "source": [
    "df.describe(include='all')"
   ]
  },
  {
   "cell_type": "markdown",
   "metadata": {},
   "source": [
    "Построим график по целевому признаку:"
   ]
  },
  {
   "cell_type": "code",
   "execution_count": 9,
   "metadata": {
    "scrolled": false
   },
   "outputs": [
    {
     "data": {
      "image/png": "[encoded data removed]",
      "text/plain": [
       "<Figure size 720x576 with 1 Axes>"
      ]
     },
     "metadata": {
      "needs_background": "light"
     },
     "output_type": "display_data"
    }
   ],
   "source": [
    "figure, axes = plt.subplots(figsize=(10, 8))\n",
    "values = df['toxic'].value_counts()\n",
    "plt.bar([0, 1], values, color=['blue', 'red'])\n",
    "plt.xticks([0, 1])\n",
    "for index, value in enumerate(values):\n",
    "    plt.text(index - 0.065, value + 1000, value)\n",
    "plt.title('Positive / Toxic')\n",
    "plt.show()"
   ]
  },
  {
   "cell_type": "markdown",
   "metadata": {},
   "source": [
    "Давайте вычислим в процентах количество не токсичных комментариев:"
   ]
  },
  {
   "cell_type": "code",
   "execution_count": 10,
   "metadata": {},
   "outputs": [
    {
     "data": {
      "text/plain": [
       "0.8983211235124177"
      ]
     },
     "execution_count": 10,
     "metadata": {},
     "output_type": "execute_result"
    }
   ],
   "source": [
    "len(df[df['toxic'] == 0]) / len(df)"
   ]
  },
  {
   "cell_type": "markdown",
   "metadata": {},
   "source": [
    "Мы заметили довольно большой дисбаланс классов в сторону положительных комментариев, в дальнейшем, после токенизации попробуем использовать технику для устранения дисбаланса: upsamling (пересемплирование)."
   ]
  },
  {
   "cell_type": "markdown",
   "metadata": {},
   "source": [
    "### Создание признаков"
   ]
  },
  {
   "cell_type": "markdown",
   "metadata": {},
   "source": [
    "Чтобы преобразовать текст в признаки, для начала создадим экземпляр BertTokenaizer:"
   ]
  },
  {
   "cell_type": "code",
   "execution_count": 11,
   "metadata": {},
   "outputs": [],
   "source": [
    "# tokenizer = transformers.BertTokenizer(\n",
    "#     vocab_file='./bert/vocab.txt'\n",
    "# )"
   ]
  },
  {
   "cell_type": "code",
   "execution_count": 12,
   "metadata": {},
   "outputs": [],
   "source": [
    "tokenizer = transformers.DistilBertTokenizer.from_pretrained('distilbert-base-uncased')"
   ]
  },
  {
   "cell_type": "markdown",
   "metadata": {},
   "source": [
    "Напишем функцию для очистки текста:"
   ]
  },
  {
   "cell_type": "code",
   "execution_count": 13,
   "metadata": {},
   "outputs": [],
   "source": [
    "def clean(text: str) -> str:\n",
    "    \"\"\"\n",
    "    Принимает на вход строку, очищает её от мусорных данных,\n",
    "    после вовзвращает очищенную строку.\n",
    "    \"\"\"\n",
    "    text = text.lower()\n",
    "    # Удаляем всё в квадратных скобках, включая сами скобки\n",
    "    text = re.sub(r'\\[.*?\\]', '', text)\n",
    "    # Удаляем все в треугольных скобках, включая сами скобки\n",
    "    text = re.sub(r'<.*?>+', '', text)\n",
    "    # Удаляем все ссылки\n",
    "    text = re.sub(r'https?://\\S+|www\\.\\S+', '', text)\n",
    "    # Удаляем все слова с цифрами внутри\n",
    "    text = re.sub(r'\\w*\\d\\w*', '', text)\n",
    "    # Заменим переводы строк на пробелы\n",
    "    text = re.sub(r'\\n', ' ', text)\n",
    "    # Удаляем все оставшиеся символы\n",
    "    text = re.sub('[%s]' % re.escape(string.punctuation), '', text)\n",
    "    # Очистим текст от лишних пробелов\n",
    "    text = ' '.join(text.split())\n",
    "    return text"
   ]
  },
  {
   "cell_type": "markdown",
   "metadata": {},
   "source": [
    "Применим очистку:"
   ]
  },
  {
   "cell_type": "code",
   "execution_count": 14,
   "metadata": {},
   "outputs": [
    {
     "name": "stdout",
     "output_type": "stream",
     "text": [
      "CPU times: user 6.29 s, sys: 24 ms, total: 6.32 s\n",
      "Wall time: 6.32 s\n"
     ]
    }
   ],
   "source": [
    "%%time\n",
    "\n",
    "tokenized = df['text'].apply(clean)"
   ]
  },
  {
   "cell_type": "markdown",
   "metadata": {},
   "source": [
    "Сравним начальные комментарии и то, что получилось:"
   ]
  },
  {
   "cell_type": "code",
   "execution_count": 15,
   "metadata": {},
   "outputs": [
    {
     "data": {
      "text/plain": [
       "0    Explanation\\nWhy the edits made under my usern...\n",
       "1    D'aww! He matches this background colour I'm s...\n",
       "2    Hey man, I'm really not trying to edit war. It...\n",
       "3    \"\\nMore\\nI can't make any real suggestions on ...\n",
       "4    You, sir, are my hero. Any chance you remember...\n",
       "Name: text, dtype: object"
      ]
     },
     "metadata": {},
     "output_type": "display_data"
    },
    {
     "data": {
      "text/plain": [
       "0    explanation why the edits made under my userna...\n",
       "1    daww he matches this background colour im seem...\n",
       "2    hey man im really not trying to edit war its j...\n",
       "3    more i cant make any real suggestions on impro...\n",
       "4    you sir are my hero any chance you remember wh...\n",
       "Name: text, dtype: object"
      ]
     },
     "metadata": {},
     "output_type": "display_data"
    }
   ],
   "source": [
    "display(df['text'].head())\n",
    "display(tokenized.head())"
   ]
  },
  {
   "cell_type": "markdown",
   "metadata": {},
   "source": [
    "Закодируем все признаки, так как BERT не поддерживает длинну вектора больше 512, ограничим наш результат:"
   ]
  },
  {
   "cell_type": "code",
   "execution_count": 16,
   "metadata": {},
   "outputs": [
    {
     "name": "stdout",
     "output_type": "stream",
     "text": [
      "CPU times: user 1min 45s, sys: 53.6 ms, total: 1min 45s\n",
      "Wall time: 1min 45s\n"
     ]
    }
   ],
   "source": [
    "%%time\n",
    "\n",
    "tokenized = tokenized.apply(\n",
    "    lambda text: tokenizer.encode(\n",
    "        text, add_special_tokens=True, truncation=True, max_length=512,\n",
    "    )\n",
    ")"
   ]
  },
  {
   "cell_type": "markdown",
   "metadata": {},
   "source": [
    "Вычислим максимальную длинну, она не должна превышать 512:"
   ]
  },
  {
   "cell_type": "code",
   "execution_count": 17,
   "metadata": {},
   "outputs": [
    {
     "data": {
      "text/plain": [
       "512"
      ]
     },
     "execution_count": 17,
     "metadata": {},
     "output_type": "execute_result"
    }
   ],
   "source": [
    "max_length = 0\n",
    "for vector in tokenized:\n",
    "    length = len(vector)\n",
    "    if length > max_length:\n",
    "        max_length = length\n",
    "max_length"
   ]
  },
  {
   "cell_type": "markdown",
   "metadata": {},
   "source": [
    "Загрузим целевой признак в отдельную переменную:"
   ]
  },
  {
   "cell_type": "code",
   "execution_count": 18,
   "metadata": {},
   "outputs": [],
   "source": [
    "target = df['toxic']"
   ]
  },
  {
   "cell_type": "markdown",
   "metadata": {},
   "source": [
    "Разделим выборки на две части:\n",
    "\n",
    "- Тренировочную и валидационную (80%)\n",
    "- Тестовую (20%)\n",
    "\n",
    "Приступим:"
   ]
  },
  {
   "cell_type": "code",
   "execution_count": 19,
   "metadata": {
    "scrolled": true
   },
   "outputs": [
    {
     "name": "stdout",
     "output_type": "stream",
     "text": [
      "CPU times: user 11.1 ms, sys: 0 ns, total: 11.1 ms\n",
      "Wall time: 10.9 ms\n"
     ]
    }
   ],
   "source": [
    "%%time\n",
    "\n",
    "features_train_cv, features_test, target_train_cv, target_test = train_test_split(\n",
    "    tokenized, target, test_size=0.2, random_state=1,\n",
    ")"
   ]
  },
  {
   "cell_type": "markdown",
   "metadata": {},
   "source": [
    "Проверим проделанную работу:"
   ]
  },
  {
   "cell_type": "code",
   "execution_count": 20,
   "metadata": {},
   "outputs": [
    {
     "name": "stdout",
     "output_type": "stream",
     "text": [
      "Train: 80.00%\n",
      "Test: 20.00%\n"
     ]
    }
   ],
   "source": [
    "total = len(features_train_cv) + len(features_test)\n",
    "print(f'Train: {len(features_train_cv) / total:.2%}')\n",
    "print(f'Test: {len(features_test) / total:.2%}')"
   ]
  },
  {
   "cell_type": "markdown",
   "metadata": {},
   "source": [
    "Напишем функцию для добавления нулей векторам:"
   ]
  },
  {
   "cell_type": "code",
   "execution_count": 21,
   "metadata": {},
   "outputs": [],
   "source": [
    "def add_padding(vectors: pd.DataFrame | pd.Series, max_length: int) -> np.array:\n",
    "    return np.array([vector + [0] * (max_length - len(vector)) for vector in vectors])"
   ]
  },
  {
   "cell_type": "markdown",
   "metadata": {},
   "source": [
    "Добавим нули нашим векторам, чтобы у всех было одинаковое количество признаков:"
   ]
  },
  {
   "cell_type": "code",
   "execution_count": 22,
   "metadata": {},
   "outputs": [
    {
     "name": "stdout",
     "output_type": "stream",
     "text": [
      "CPU times: user 3.29 s, sys: 127 ms, total: 3.41 s\n",
      "Wall time: 3.41 s\n"
     ]
    }
   ],
   "source": [
    "%%time\n",
    "\n",
    "paddeds_train = add_padding(features_train_cv, max_length)\n",
    "paddeds_test = add_padding(features_test, max_length)"
   ]
  },
  {
   "cell_type": "markdown",
   "metadata": {},
   "source": [
    "Создадим функцию для создания масок:"
   ]
  },
  {
   "cell_type": "code",
   "execution_count": 23,
   "metadata": {},
   "outputs": [],
   "source": [
    "def create_masks(paddeds: np.array) -> list:\n",
    "    return np.array([list(np.where(padded != 0, 1, 0)) for padded in paddeds])"
   ]
  },
  {
   "cell_type": "markdown",
   "metadata": {},
   "source": [
    "Создадим маски:"
   ]
  },
  {
   "cell_type": "code",
   "execution_count": 24,
   "metadata": {
    "scrolled": true
   },
   "outputs": [
    {
     "name": "stdout",
     "output_type": "stream",
     "text": [
      "CPU times: user 4.92 s, sys: 549 ms, total: 5.47 s\n",
      "Wall time: 5.47 s\n"
     ]
    }
   ],
   "source": [
    "%%time\n",
    "\n",
    "masks_train = create_masks(paddeds_train)\n",
    "masks_test = create_masks(paddeds_test)"
   ]
  },
  {
   "cell_type": "markdown",
   "metadata": {},
   "source": [
    "Загрузим конфиг и модель:"
   ]
  },
  {
   "cell_type": "code",
   "execution_count": 133,
   "metadata": {},
   "outputs": [
    {
     "name": "stderr",
     "output_type": "stream",
     "text": [
      "Some weights of the model checkpoint at distilbert-base-uncased were not used when initializing DistilBertModel: ['vocab_projector.bias', 'vocab_layer_norm.weight', 'vocab_projector.weight', 'vocab_transform.bias', 'vocab_layer_norm.bias', 'vocab_transform.weight']\n",
      "- This IS expected if you are initializing DistilBertModel from the checkpoint of a model trained on another task or with another architecture (e.g. initializing a BertForSequenceClassification model from a BertForPreTraining model).\n",
      "- This IS NOT expected if you are initializing DistilBertModel from the checkpoint of a model that you expect to be exactly identical (initializing a BertForSequenceClassification model from a BertForSequenceClassification model).\n"
     ]
    }
   ],
   "source": [
    "model = transformers.DistilBertModel.from_pretrained('distilbert-base-uncased')"
   ]
  },
  {
   "cell_type": "code",
   "execution_count": 26,
   "metadata": {},
   "outputs": [],
   "source": [
    "# config = transformers.BertConfig.from_json_file('./bert/bert_config.json')\n",
    "# model = transformers.BertForPreTraining.from_pretrained('./bert/bert_model.ckpt.index', config=config, from_tf=True)"
   ]
  },
  {
   "cell_type": "markdown",
   "metadata": {},
   "source": [
    "Переведём модель на видеокарту:"
   ]
  },
  {
   "cell_type": "code",
   "execution_count": 134,
   "metadata": {
    "scrolled": true
   },
   "outputs": [
    {
     "data": {
      "text/plain": [
       "DistilBertModel(\n",
       "  (embeddings): Embeddings(\n",
       "    (word_embeddings): Embedding(30522, 768, padding_idx=0)\n",
       "    (position_embeddings): Embedding(512, 768)\n",
       "    (LayerNorm): LayerNorm((768,), eps=1e-12, elementwise_affine=True)\n",
       "    (dropout): Dropout(p=0.1, inplace=False)\n",
       "  )\n",
       "  (transformer): Transformer(\n",
       "    (layer): ModuleList(\n",
       "      (0): TransformerBlock(\n",
       "        (attention): MultiHeadSelfAttention(\n",
       "          (dropout): Dropout(p=0.1, inplace=False)\n",
       "          (q_lin): Linear(in_features=768, out_features=768, bias=True)\n",
       "          (k_lin): Linear(in_features=768, out_features=768, bias=True)\n",
       "          (v_lin): Linear(in_features=768, out_features=768, bias=True)\n",
       "          (out_lin): Linear(in_features=768, out_features=768, bias=True)\n",
       "        )\n",
       "        (sa_layer_norm): LayerNorm((768,), eps=1e-12, elementwise_affine=True)\n",
       "        (ffn): FFN(\n",
       "          (dropout): Dropout(p=0.1, inplace=False)\n",
       "          (lin1): Linear(in_features=768, out_features=3072, bias=True)\n",
       "          (lin2): Linear(in_features=3072, out_features=768, bias=True)\n",
       "          (activation): GELUActivation()\n",
       "        )\n",
       "        (output_layer_norm): LayerNorm((768,), eps=1e-12, elementwise_affine=True)\n",
       "      )\n",
       "      (1): TransformerBlock(\n",
       "        (attention): MultiHeadSelfAttention(\n",
       "          (dropout): Dropout(p=0.1, inplace=False)\n",
       "          (q_lin): Linear(in_features=768, out_features=768, bias=True)\n",
       "          (k_lin): Linear(in_features=768, out_features=768, bias=True)\n",
       "          (v_lin): Linear(in_features=768, out_features=768, bias=True)\n",
       "          (out_lin): Linear(in_features=768, out_features=768, bias=True)\n",
       "        )\n",
       "        (sa_layer_norm): LayerNorm((768,), eps=1e-12, elementwise_affine=True)\n",
       "        (ffn): FFN(\n",
       "          (dropout): Dropout(p=0.1, inplace=False)\n",
       "          (lin1): Linear(in_features=768, out_features=3072, bias=True)\n",
       "          (lin2): Linear(in_features=3072, out_features=768, bias=True)\n",
       "          (activation): GELUActivation()\n",
       "        )\n",
       "        (output_layer_norm): LayerNorm((768,), eps=1e-12, elementwise_affine=True)\n",
       "      )\n",
       "      (2): TransformerBlock(\n",
       "        (attention): MultiHeadSelfAttention(\n",
       "          (dropout): Dropout(p=0.1, inplace=False)\n",
       "          (q_lin): Linear(in_features=768, out_features=768, bias=True)\n",
       "          (k_lin): Linear(in_features=768, out_features=768, bias=True)\n",
       "          (v_lin): Linear(in_features=768, out_features=768, bias=True)\n",
       "          (out_lin): Linear(in_features=768, out_features=768, bias=True)\n",
       "        )\n",
       "        (sa_layer_norm): LayerNorm((768,), eps=1e-12, elementwise_affine=True)\n",
       "        (ffn): FFN(\n",
       "          (dropout): Dropout(p=0.1, inplace=False)\n",
       "          (lin1): Linear(in_features=768, out_features=3072, bias=True)\n",
       "          (lin2): Linear(in_features=3072, out_features=768, bias=True)\n",
       "          (activation): GELUActivation()\n",
       "        )\n",
       "        (output_layer_norm): LayerNorm((768,), eps=1e-12, elementwise_affine=True)\n",
       "      )\n",
       "      (3): TransformerBlock(\n",
       "        (attention): MultiHeadSelfAttention(\n",
       "          (dropout): Dropout(p=0.1, inplace=False)\n",
       "          (q_lin): Linear(in_features=768, out_features=768, bias=True)\n",
       "          (k_lin): Linear(in_features=768, out_features=768, bias=True)\n",
       "          (v_lin): Linear(in_features=768, out_features=768, bias=True)\n",
       "          (out_lin): Linear(in_features=768, out_features=768, bias=True)\n",
       "        )\n",
       "        (sa_layer_norm): LayerNorm((768,), eps=1e-12, elementwise_affine=True)\n",
       "        (ffn): FFN(\n",
       "          (dropout): Dropout(p=0.1, inplace=False)\n",
       "          (lin1): Linear(in_features=768, out_features=3072, bias=True)\n",
       "          (lin2): Linear(in_features=3072, out_features=768, bias=True)\n",
       "          (activation): GELUActivation()\n",
       "        )\n",
       "        (output_layer_norm): LayerNorm((768,), eps=1e-12, elementwise_affine=True)\n",
       "      )\n",
       "      (4): TransformerBlock(\n",
       "        (attention): MultiHeadSelfAttention(\n",
       "          (dropout): Dropout(p=0.1, inplace=False)\n",
       "          (q_lin): Linear(in_features=768, out_features=768, bias=True)\n",
       "          (k_lin): Linear(in_features=768, out_features=768, bias=True)\n",
       "          (v_lin): Linear(in_features=768, out_features=768, bias=True)\n",
       "          (out_lin): Linear(in_features=768, out_features=768, bias=True)\n",
       "        )\n",
       "        (sa_layer_norm): LayerNorm((768,), eps=1e-12, elementwise_affine=True)\n",
       "        (ffn): FFN(\n",
       "          (dropout): Dropout(p=0.1, inplace=False)\n",
       "          (lin1): Linear(in_features=768, out_features=3072, bias=True)\n",
       "          (lin2): Linear(in_features=3072, out_features=768, bias=True)\n",
       "          (activation): GELUActivation()\n",
       "        )\n",
       "        (output_layer_norm): LayerNorm((768,), eps=1e-12, elementwise_affine=True)\n",
       "      )\n",
       "      (5): TransformerBlock(\n",
       "        (attention): MultiHeadSelfAttention(\n",
       "          (dropout): Dropout(p=0.1, inplace=False)\n",
       "          (q_lin): Linear(in_features=768, out_features=768, bias=True)\n",
       "          (k_lin): Linear(in_features=768, out_features=768, bias=True)\n",
       "          (v_lin): Linear(in_features=768, out_features=768, bias=True)\n",
       "          (out_lin): Linear(in_features=768, out_features=768, bias=True)\n",
       "        )\n",
       "        (sa_layer_norm): LayerNorm((768,), eps=1e-12, elementwise_affine=True)\n",
       "        (ffn): FFN(\n",
       "          (dropout): Dropout(p=0.1, inplace=False)\n",
       "          (lin1): Linear(in_features=768, out_features=3072, bias=True)\n",
       "          (lin2): Linear(in_features=3072, out_features=768, bias=True)\n",
       "          (activation): GELUActivation()\n",
       "        )\n",
       "        (output_layer_norm): LayerNorm((768,), eps=1e-12, elementwise_affine=True)\n",
       "      )\n",
       "    )\n",
       "  )\n",
       ")"
      ]
     },
     "execution_count": 134,
     "metadata": {},
     "output_type": "execute_result"
    }
   ],
   "source": [
    "model.to('cuda:0')"
   ]
  },
  {
   "cell_type": "markdown",
   "metadata": {},
   "source": [
    "Напишем функцию для создания эмбеддингов, их мы будем делать партиями, чтобы видеопамяти на карточке хватило:"
   ]
  },
  {
   "cell_type": "code",
   "execution_count": 28,
   "metadata": {},
   "outputs": [],
   "source": [
    "def create_embeddings(paddeds: np.array, masks: list, batch_size: Optional[int] = 4) -> list:\n",
    "    embeddings = []\n",
    "    for index in tqdm(range(math.ceil(len(paddeds) / batch_size))):\n",
    "        left, right = batch_size * index, batch_size * (index + 1)\n",
    "        batch = torch.LongTensor(paddeds[left:right]).cuda()\n",
    "        batch_masks = torch.LongTensor(masks[left:right]).cuda()\n",
    "        with torch.no_grad():\n",
    "            batch_embeddings = model(batch, attention_mask=batch_masks)\n",
    "        embeddings.append(batch_embeddings[0][:, 0, :].cpu().numpy())\n",
    "    return embeddings"
   ]
  },
  {
   "cell_type": "markdown",
   "metadata": {},
   "source": [
    "Создадим эмбеддинги для тренировочной выборки:"
   ]
  },
  {
   "cell_type": "code",
   "execution_count": 135,
   "metadata": {},
   "outputs": [
    {
     "data": {
      "application/vnd.jupyter.widget-view+json": {
       "model_id": "62096c56308c4ed8ac13dd9590bcda04",
       "version_major": 2,
       "version_minor": 0
      },
      "text/plain": [
       "  0%|          | 0/31914 [00:00<?, ?it/s]"
      ]
     },
     "metadata": {},
     "output_type": "display_data"
    }
   ],
   "source": [
    "embeddings_train = create_embeddings(paddeds_train, masks_train)"
   ]
  },
  {
   "cell_type": "markdown",
   "metadata": {},
   "source": [
    "Теперь для тестовой:"
   ]
  },
  {
   "cell_type": "code",
   "execution_count": 136,
   "metadata": {
    "scrolled": true
   },
   "outputs": [
    {
     "data": {
      "application/vnd.jupyter.widget-view+json": {
       "model_id": "0c325fbabf174c5c9c2397d91401b738",
       "version_major": 2,
       "version_minor": 0
      },
      "text/plain": [
       "  0%|          | 0/7979 [00:00<?, ?it/s]"
      ]
     },
     "metadata": {},
     "output_type": "display_data"
    }
   ],
   "source": [
    "embeddings_test = create_embeddings(paddeds_test, masks_test)"
   ]
  },
  {
   "cell_type": "markdown",
   "metadata": {},
   "source": [
    "Соберём все эмбеддинги и сделаем из них признаки:"
   ]
  },
  {
   "cell_type": "code",
   "execution_count": 137,
   "metadata": {},
   "outputs": [],
   "source": [
    "features_train_cv = np.concatenate(embeddings_train)\n",
    "features_test = np.concatenate(embeddings_test)"
   ]
  },
  {
   "cell_type": "markdown",
   "metadata": {},
   "source": [
    "Изучим полученые результаты:"
   ]
  },
  {
   "cell_type": "code",
   "execution_count": 138,
   "metadata": {},
   "outputs": [
    {
     "data": {
      "text/plain": [
       "array([[-0.01594742,  0.04874046,  0.09089076, ..., -0.16904224,\n",
       "         0.4200787 ,  0.46743494],\n",
       "       [ 0.04974288,  0.09716151, -0.05694747, ..., -0.21864972,\n",
       "         0.45344293,  0.37281793],\n",
       "       [-0.03217083,  0.04122206, -0.25705728, ...,  0.09147396,\n",
       "         0.5219908 ,  0.23010065],\n",
       "       ...,\n",
       "       [-0.20425053, -0.19243076, -0.14251375, ..., -0.14861937,\n",
       "         0.22617824,  0.398374  ],\n",
       "       [-0.40452555, -0.11225336, -0.1326448 , ..., -0.11819816,\n",
       "         0.18100469,  0.41376764],\n",
       "       [-0.08622479,  0.11496441, -0.1309822 , ..., -0.13346972,\n",
       "         0.39343607,  0.37132093]], dtype=float32)"
      ]
     },
     "execution_count": 138,
     "metadata": {},
     "output_type": "execute_result"
    }
   ],
   "source": [
    "features_train_cv"
   ]
  },
  {
   "cell_type": "markdown",
   "metadata": {},
   "source": [
    "Переведём полученные данные в DataFrame:"
   ]
  },
  {
   "cell_type": "code",
   "execution_count": 139,
   "metadata": {},
   "outputs": [],
   "source": [
    "features_train_cv = pd.DataFrame(features_train_cv)\n",
    "features_test = pd.DataFrame(features_test)"
   ]
  },
  {
   "cell_type": "markdown",
   "metadata": {},
   "source": [
    "Проверим:"
   ]
  },
  {
   "cell_type": "code",
   "execution_count": 140,
   "metadata": {
    "scrolled": true
   },
   "outputs": [
    {
     "data": {
      "text/html": [
       "<div>\n",
       "<style scoped>\n",
       "    .dataframe tbody tr th:only-of-type {\n",
       "        vertical-align: middle;\n",
       "    }\n",
       "\n",
       "    .dataframe tbody tr th {\n",
       "        vertical-align: top;\n",
       "    }\n",
       "\n",
       "    .dataframe thead th {\n",
       "        text-align: right;\n",
       "    }\n",
       "</style>\n",
       "<table border=\"1\" class=\"dataframe\">\n",
       "  <thead>\n",
       "    <tr style=\"text-align: right;\">\n",
       "      <th></th>\n",
       "      <th>0</th>\n",
       "      <th>1</th>\n",
       "      <th>2</th>\n",
       "      <th>3</th>\n",
       "      <th>4</th>\n",
       "      <th>5</th>\n",
       "      <th>6</th>\n",
       "      <th>7</th>\n",
       "      <th>8</th>\n",
       "      <th>9</th>\n",
       "      <th>...</th>\n",
       "      <th>758</th>\n",
       "      <th>759</th>\n",
       "      <th>760</th>\n",
       "      <th>761</th>\n",
       "      <th>762</th>\n",
       "      <th>763</th>\n",
       "      <th>764</th>\n",
       "      <th>765</th>\n",
       "      <th>766</th>\n",
       "      <th>767</th>\n",
       "    </tr>\n",
       "  </thead>\n",
       "  <tbody>\n",
       "    <tr>\n",
       "      <th>0</th>\n",
       "      <td>-0.015947</td>\n",
       "      <td>0.048740</td>\n",
       "      <td>0.090891</td>\n",
       "      <td>-0.116920</td>\n",
       "      <td>-0.182333</td>\n",
       "      <td>-0.262841</td>\n",
       "      <td>0.361513</td>\n",
       "      <td>0.430451</td>\n",
       "      <td>0.202208</td>\n",
       "      <td>-0.440022</td>\n",
       "      <td>...</td>\n",
       "      <td>0.208584</td>\n",
       "      <td>-0.142682</td>\n",
       "      <td>0.044144</td>\n",
       "      <td>-0.319188</td>\n",
       "      <td>0.217731</td>\n",
       "      <td>0.079623</td>\n",
       "      <td>0.001828</td>\n",
       "      <td>-0.169042</td>\n",
       "      <td>0.420079</td>\n",
       "      <td>0.467435</td>\n",
       "    </tr>\n",
       "    <tr>\n",
       "      <th>1</th>\n",
       "      <td>0.049743</td>\n",
       "      <td>0.097162</td>\n",
       "      <td>-0.056947</td>\n",
       "      <td>-0.057511</td>\n",
       "      <td>-0.097479</td>\n",
       "      <td>-0.310558</td>\n",
       "      <td>0.453450</td>\n",
       "      <td>0.399221</td>\n",
       "      <td>-0.174207</td>\n",
       "      <td>-0.389547</td>\n",
       "      <td>...</td>\n",
       "      <td>0.261317</td>\n",
       "      <td>-0.230988</td>\n",
       "      <td>0.020684</td>\n",
       "      <td>-0.485501</td>\n",
       "      <td>0.180071</td>\n",
       "      <td>0.135631</td>\n",
       "      <td>-0.004147</td>\n",
       "      <td>-0.218650</td>\n",
       "      <td>0.453443</td>\n",
       "      <td>0.372818</td>\n",
       "    </tr>\n",
       "    <tr>\n",
       "      <th>2</th>\n",
       "      <td>-0.032171</td>\n",
       "      <td>0.041222</td>\n",
       "      <td>-0.257057</td>\n",
       "      <td>-0.204931</td>\n",
       "      <td>-0.418560</td>\n",
       "      <td>-0.096043</td>\n",
       "      <td>0.331405</td>\n",
       "      <td>0.265694</td>\n",
       "      <td>-0.211419</td>\n",
       "      <td>-0.186915</td>\n",
       "      <td>...</td>\n",
       "      <td>0.206308</td>\n",
       "      <td>-0.276005</td>\n",
       "      <td>-0.078546</td>\n",
       "      <td>-0.243812</td>\n",
       "      <td>0.234700</td>\n",
       "      <td>0.114665</td>\n",
       "      <td>-0.328208</td>\n",
       "      <td>0.091474</td>\n",
       "      <td>0.521991</td>\n",
       "      <td>0.230101</td>\n",
       "    </tr>\n",
       "    <tr>\n",
       "      <th>3</th>\n",
       "      <td>-0.187169</td>\n",
       "      <td>-0.138597</td>\n",
       "      <td>0.021118</td>\n",
       "      <td>-0.041047</td>\n",
       "      <td>-0.081607</td>\n",
       "      <td>-0.509457</td>\n",
       "      <td>0.254029</td>\n",
       "      <td>0.502379</td>\n",
       "      <td>-0.222136</td>\n",
       "      <td>-0.219849</td>\n",
       "      <td>...</td>\n",
       "      <td>0.057686</td>\n",
       "      <td>-0.102063</td>\n",
       "      <td>-0.104269</td>\n",
       "      <td>-0.300135</td>\n",
       "      <td>0.129854</td>\n",
       "      <td>0.048698</td>\n",
       "      <td>-0.291306</td>\n",
       "      <td>-0.029962</td>\n",
       "      <td>0.505928</td>\n",
       "      <td>0.476574</td>\n",
       "    </tr>\n",
       "    <tr>\n",
       "      <th>4</th>\n",
       "      <td>-0.110749</td>\n",
       "      <td>0.084532</td>\n",
       "      <td>0.111475</td>\n",
       "      <td>-0.185015</td>\n",
       "      <td>-0.159748</td>\n",
       "      <td>-0.072469</td>\n",
       "      <td>0.311522</td>\n",
       "      <td>0.347092</td>\n",
       "      <td>-0.170410</td>\n",
       "      <td>0.021779</td>\n",
       "      <td>...</td>\n",
       "      <td>-0.069876</td>\n",
       "      <td>-0.249787</td>\n",
       "      <td>-0.093828</td>\n",
       "      <td>-0.139125</td>\n",
       "      <td>0.247102</td>\n",
       "      <td>0.063402</td>\n",
       "      <td>-0.141503</td>\n",
       "      <td>-0.038341</td>\n",
       "      <td>0.272248</td>\n",
       "      <td>0.364014</td>\n",
       "    </tr>\n",
       "  </tbody>\n",
       "</table>\n",
       "<p>5 rows × 768 columns</p>\n",
       "</div>"
      ],
      "text/plain": [
       "        0         1         2         3         4         5         6    \\\n",
       "0 -0.015947  0.048740  0.090891 -0.116920 -0.182333 -0.262841  0.361513   \n",
       "1  0.049743  0.097162 -0.056947 -0.057511 -0.097479 -0.310558  0.453450   \n",
       "2 -0.032171  0.041222 -0.257057 -0.204931 -0.418560 -0.096043  0.331405   \n",
       "3 -0.187169 -0.138597  0.021118 -0.041047 -0.081607 -0.509457  0.254029   \n",
       "4 -0.110749  0.084532  0.111475 -0.185015 -0.159748 -0.072469  0.311522   \n",
       "\n",
       "        7         8         9    ...       758       759       760       761  \\\n",
       "0  0.430451  0.202208 -0.440022  ...  0.208584 -0.142682  0.044144 -0.319188   \n",
       "1  0.399221 -0.174207 -0.389547  ...  0.261317 -0.230988  0.020684 -0.485501   \n",
       "2  0.265694 -0.211419 -0.186915  ...  0.206308 -0.276005 -0.078546 -0.243812   \n",
       "3  0.502379 -0.222136 -0.219849  ...  0.057686 -0.102063 -0.104269 -0.300135   \n",
       "4  0.347092 -0.170410  0.021779  ... -0.069876 -0.249787 -0.093828 -0.139125   \n",
       "\n",
       "        762       763       764       765       766       767  \n",
       "0  0.217731  0.079623  0.001828 -0.169042  0.420079  0.467435  \n",
       "1  0.180071  0.135631 -0.004147 -0.218650  0.453443  0.372818  \n",
       "2  0.234700  0.114665 -0.328208  0.091474  0.521991  0.230101  \n",
       "3  0.129854  0.048698 -0.291306 -0.029962  0.505928  0.476574  \n",
       "4  0.247102  0.063402 -0.141503 -0.038341  0.272248  0.364014  \n",
       "\n",
       "[5 rows x 768 columns]"
      ]
     },
     "execution_count": 140,
     "metadata": {},
     "output_type": "execute_result"
    }
   ],
   "source": [
    "features_train_cv.head()"
   ]
  },
  {
   "cell_type": "markdown",
   "metadata": {},
   "source": [
    "Чтобы индексы совпадали сбросим индексы у целевых признаков:"
   ]
  },
  {
   "cell_type": "code",
   "execution_count": 141,
   "metadata": {},
   "outputs": [],
   "source": [
    "target_train_cv.reset_index(drop=True, inplace=True)\n",
    "target_test.reset_index(drop=True, inplace=True)"
   ]
  },
  {
   "cell_type": "markdown",
   "metadata": {},
   "source": [
    "Для некоторых операций нам понадобиться валидационная выборка, поэтому разделим нашу тренировочную выборку на две:"
   ]
  },
  {
   "cell_type": "code",
   "execution_count": 142,
   "metadata": {},
   "outputs": [],
   "source": [
    "features_train, features_valid, target_train, target_valid = train_test_split(\n",
    "    features_train_cv, target_train_cv, test_size=0.2, random_state=1,\n",
    ")"
   ]
  },
  {
   "cell_type": "markdown",
   "metadata": {},
   "source": [
    "Создадим scorer для кросс-валидации:"
   ]
  },
  {
   "cell_type": "code",
   "execution_count": 143,
   "metadata": {},
   "outputs": [],
   "source": [
    "scorer = make_scorer(f1_score)"
   ]
  },
  {
   "cell_type": "markdown",
   "metadata": {},
   "source": [
    "### Функции для ресемплирования"
   ]
  },
  {
   "cell_type": "markdown",
   "metadata": {},
   "source": [
    "Чтобы применить технику upsampling для тренировочных выборок напишем функцию, в дальнейшем мы подберём к ней параметр `repeat`:"
   ]
  },
  {
   "cell_type": "code",
   "execution_count": 144,
   "metadata": {},
   "outputs": [],
   "source": [
    "def upsample(features: pd.DataFrame, target: pd.Series,\n",
    "             classes: Optional[list] = [0, 1],\n",
    "             upsample_class: Optional[int] = 1,\n",
    "             repeat: Optional[int] = 4) -> tuple[pd.DataFrame, pd.Series]:\n",
    "    \"\"\"\n",
    "    Принимает на вход признаки, целевой признак, а также\n",
    "    дополнительные параметры в виде списка классов,\n",
    "    какой класс нужно увеличить и во сколько раз.\n",
    "    Возвращает новые пересемплированные признаки и\n",
    "    целевой признак.\n",
    "    \"\"\"\n",
    "    if upsample_class not in classes:\n",
    "        raise ValueError('Wrong upsample class!')\n",
    "    features_by_classes = {}\n",
    "    target_by_classes = {}\n",
    "    for class_ in classes:\n",
    "        features_by_classes[class_] = features[target == class_]\n",
    "        target_by_classes[class_] = target[target == class_]\n",
    "    features_upsampled = pd.concat(\n",
    "        [features_by_classes[class_] for class_ in classes if class_ != upsample_class]\n",
    "        + [features_by_classes[upsample_class]] * repeat\n",
    "    )\n",
    "    target_upsampled = pd.concat(\n",
    "        [target_by_classes[class_] for class_ in classes if class_ != upsample_class]\n",
    "        + [target_by_classes[upsample_class]] * repeat\n",
    "    )\n",
    "    features_upsampled, target_upsampled = shuffle(\n",
    "        features_upsampled, target_upsampled, random_state=1,\n",
    "    )\n",
    "    return features_upsampled, target_upsampled"
   ]
  },
  {
   "cell_type": "markdown",
   "metadata": {},
   "source": [
    "Также напишем функцию downsample, если upsample нам не поможет:"
   ]
  },
  {
   "cell_type": "code",
   "execution_count": 145,
   "metadata": {},
   "outputs": [],
   "source": [
    "def downsample(features: pd.DataFrame, target: pd.Series,\n",
    "               classes: Optional[list] = [0, 1],\n",
    "               downsample_class: Optional[int] = 0,\n",
    "               fraction: Optional[int] = 0.1) -> tuple[pd.DataFrame, pd.Series]:\n",
    "    \"\"\"\n",
    "    Принимает на вход признаки, целевой признак, а также\n",
    "    дополнительные параметры в виде списка классов,\n",
    "    какой класс нужно уменьшить и размер фракции.\n",
    "    Возвращает новые недосемплированные признаки и\n",
    "    целевой признак.\n",
    "    \"\"\"\n",
    "    if downsample_class not in classes:\n",
    "        raise ValueError('Wrong upsample class!')\n",
    "    features_by_classes = {}\n",
    "    target_by_classes = {}\n",
    "    for class_ in classes:\n",
    "        features_by_classes[class_] = features[target == class_]\n",
    "        target_by_classes[class_] = target[target == class_]\n",
    "    features_downsampled = pd.concat(\n",
    "        [features_by_classes[class_] for class_ in classes if class_ != downsample_class]\n",
    "        + [features_by_classes[downsample_class].sample(frac=fraction, random_state=1)]\n",
    "    )\n",
    "    target_downsampled = pd.concat(\n",
    "        [target_by_classes[class_] for class_ in classes if class_ != downsample_class]\n",
    "        + [target_by_classes[downsample_class].sample(frac=fraction, random_state=1)]\n",
    "    )\n",
    "    features_downsampled, target_downsampled = shuffle(\n",
    "        features_downsampled, target_downsampled, random_state=1,\n",
    "    )\n",
    "    return features_downsampled, target_downsampled"
   ]
  },
  {
   "cell_type": "markdown",
   "metadata": {},
   "source": [
    "**Вывод**\n",
    "\n",
    "Нам удалось с помощью предобученой модели Bert создать матрицу признаков, теперь мы можем использовать её для обучения."
   ]
  },
  {
   "cell_type": "markdown",
   "metadata": {},
   "source": [
    "## Обучение"
   ]
  },
  {
   "cell_type": "markdown",
   "metadata": {},
   "source": [
    "Сегодня мы обучим и замерим F1-меру у четырёх моделей, одна из них будет фиктивная, для того, чтобы нам было от чего отталкиваться:\n",
    "\n",
    "- Dummy (Константная)\n",
    "- Logistic\n",
    "- CatBoost с Bert\n",
    "- CatBoost"
   ]
  },
  {
   "cell_type": "markdown",
   "metadata": {},
   "source": [
    "### Dummy"
   ]
  },
  {
   "cell_type": "markdown",
   "metadata": {},
   "source": [
    "Создадим модель:"
   ]
  },
  {
   "cell_type": "code",
   "execution_count": 146,
   "metadata": {},
   "outputs": [],
   "source": [
    "model = DummyClassifier(strategy='constant', constant=1)"
   ]
  },
  {
   "cell_type": "markdown",
   "metadata": {},
   "source": [
    "Выполним кросс-валидацию:"
   ]
  },
  {
   "cell_type": "code",
   "execution_count": 147,
   "metadata": {},
   "outputs": [
    {
     "data": {
      "text/plain": [
       "array([0.18417684, 0.18421558, 0.18421558])"
      ]
     },
     "execution_count": 147,
     "metadata": {},
     "output_type": "execute_result"
    }
   ],
   "source": [
    "scores = cross_val_score(model, features_train_cv, target_train_cv, scoring=scorer, cv=3)\n",
    "scores"
   ]
  },
  {
   "cell_type": "markdown",
   "metadata": {},
   "source": [
    "Посчитаем среднее:"
   ]
  },
  {
   "cell_type": "code",
   "execution_count": 148,
   "metadata": {},
   "outputs": [
    {
     "data": {
      "text/plain": [
       "0.18420266542090422"
      ]
     },
     "execution_count": 148,
     "metadata": {},
     "output_type": "execute_result"
    }
   ],
   "source": [
    "scores.mean()"
   ]
  },
  {
   "cell_type": "markdown",
   "metadata": {},
   "source": [
    "Обучим модель:"
   ]
  },
  {
   "cell_type": "code",
   "execution_count": 149,
   "metadata": {
    "scrolled": false
   },
   "outputs": [
    {
     "data": {
      "text/plain": [
       "DummyClassifier(constant=1, strategy='constant')"
      ]
     },
     "execution_count": 149,
     "metadata": {},
     "output_type": "execute_result"
    }
   ],
   "source": [
    "model.fit(features_train_cv, target_train_cv)"
   ]
  },
  {
   "cell_type": "markdown",
   "metadata": {},
   "source": [
    "Выполним предсказание на тестовой выборке:"
   ]
  },
  {
   "cell_type": "code",
   "execution_count": 150,
   "metadata": {},
   "outputs": [],
   "source": [
    "predicted_test = model.predict(features_test)"
   ]
  },
  {
   "cell_type": "markdown",
   "metadata": {},
   "source": [
    "Посчитаем F1-меру на тестовой выборке:"
   ]
  },
  {
   "cell_type": "code",
   "execution_count": 151,
   "metadata": {
    "scrolled": true
   },
   "outputs": [
    {
     "data": {
      "text/plain": [
       "0.18613242398408636"
      ]
     },
     "execution_count": 151,
     "metadata": {},
     "output_type": "execute_result"
    }
   ],
   "source": [
    "f1_score(target_test, predicted_test)"
   ]
  },
  {
   "cell_type": "markdown",
   "metadata": {},
   "source": [
    "**Вывод**\n",
    "\n",
    "Мы получили базовое значение, теперь мы сможем делать выводы об адекватности наших моделей."
   ]
  },
  {
   "cell_type": "markdown",
   "metadata": {},
   "source": [
    "### Logistic"
   ]
  },
  {
   "cell_type": "markdown",
   "metadata": {},
   "source": [
    "#### Подбор параметров ресемплирования"
   ]
  },
  {
   "cell_type": "markdown",
   "metadata": {},
   "source": [
    "Для начала давайте попробуем подобрать параметр `repeat` для техники upsample, для этого напишем функцию, так как для CatBoost она нам тоже пригодиться:"
   ]
  },
  {
   "cell_type": "code",
   "execution_count": 160,
   "metadata": {},
   "outputs": [],
   "source": [
    "def select_best_value(model_class, features, target, function,\n",
    "                      select_param='repeat', values=range(1, 10),\n",
    "                      scorer=scorer, params={'random_state': 1},\n",
    "                      eval_fit=False):\n",
    "    \"\"\"\n",
    "    Функция на вход принимает класс модели, признаки и целевой признак,\n",
    "    функцию для семплирования, она должна уметь принимать аргументы: признаков,\n",
    "    целевого признака и аргумент указанный в select_param, и возвращать\n",
    "    новые признаки и целевой признак. Необязательные параметры: итерируемый\n",
    "    объект для перебора параметра repeat, scorer для вычисления счёта модели\n",
    "    и параметры в виде словаря для модели.\n",
    "    Во время выполнения функция распечатывает найденые промежуточные\n",
    "    лучшие результаты кросс-валидации, а в конце возвращает лучшую среднюю\n",
    "    F1-меру и количество repeat для неё.\n",
    "    \"\"\"\n",
    "    best_score = 0\n",
    "    best_value = 0\n",
    "    features_train, features_valid, target_train, target_valid = train_test_split(\n",
    "        features, target, test_size=0.2, random_state=1,\n",
    "    )\n",
    "    fit_params = {}\n",
    "    if eval_fit:\n",
    "        fit_params = {'eval_set': (features_valid, target_valid)}\n",
    "    with parallel_backend('threading', n_jobs=3):\n",
    "        for value in values:\n",
    "            model = model_class(**params)\n",
    "            features_sampled, target_sampled = function(\n",
    "                features_train, target_train, **{select_param: value},\n",
    "            )\n",
    "            model.fit(features_sampled, target_sampled, **fit_params)\n",
    "            predicted_valid = model.predict(features_valid)\n",
    "            score = f1_score(target_valid, predicted_valid)\n",
    "            if score <= best_score:\n",
    "                continue\n",
    "            print(f'New best score! {select_param.title()}: {value}; mean_score: {score}...')\n",
    "            best_score = score\n",
    "            best_value = value\n",
    "    print(f'Best mean score: {best_score}; best {select_param}: {best_value}')\n",
    "    return best_score, best_value"
   ]
  },
  {
   "cell_type": "markdown",
   "metadata": {},
   "source": [
    "Попробуем применить нашу функцию:"
   ]
  },
  {
   "cell_type": "code",
   "execution_count": 162,
   "metadata": {},
   "outputs": [
    {
     "name": "stdout",
     "output_type": "stream",
     "text": [
      "New best score! Repeat: 1; mean_score: 0.7351446874309696...\n",
      "New best score! Repeat: 2; mean_score: 0.743324033479474...\n",
      "Best mean score: 0.743324033479474; best repeat: 2\n",
      "CPU times: user 21min 43s, sys: 3min 11s, total: 24min 54s\n",
      "Wall time: 1min 6s\n"
     ]
    }
   ],
   "source": [
    "%%time\n",
    "\n",
    "_, best_repeat = select_best_value(\n",
    "    LogisticRegression, features_train_cv, target_train_cv, upsample,\n",
    ")"
   ]
  },
  {
   "cell_type": "markdown",
   "metadata": {},
   "source": [
    "Теперь для `downsample`:"
   ]
  },
  {
   "cell_type": "code",
   "execution_count": 163,
   "metadata": {},
   "outputs": [
    {
     "name": "stdout",
     "output_type": "stream",
     "text": [
      "New best score! Fraction: 0.4; mean_score: 0.7390890032399466...\n",
      "New best score! Fraction: 0.5; mean_score: 0.7465929290934229...\n",
      "Best mean score: 0.7465929290934229; best fraction: 0.5\n",
      "CPU times: user 8min 50s, sys: 1min 23s, total: 10min 13s\n",
      "Wall time: 27 s\n"
     ]
    }
   ],
   "source": [
    "%%time\n",
    "\n",
    "_, best_fraction = select_best_value(\n",
    "    LogisticRegression, features_train_cv, target_train_cv, downsample,\n",
    "    select_param='fraction', values=np.arange(0.4, 1.1, 0.1),\n",
    ")"
   ]
  },
  {
   "cell_type": "markdown",
   "metadata": {},
   "source": [
    "#### Подбор параметров для модели"
   ]
  },
  {
   "cell_type": "markdown",
   "metadata": {},
   "source": [
    "Создадим новые выборки:"
   ]
  },
  {
   "cell_type": "code",
   "execution_count": 164,
   "metadata": {},
   "outputs": [],
   "source": [
    "features_train_cv_up, target_train_cv_up = upsample(\n",
    "    features_train_cv, target_train_cv, repeat=best_repeat,\n",
    ")\n",
    "features_train_cv_down, target_train_cv_down = downsample(\n",
    "    features_train_cv, target_train_cv, fraction=best_fraction,\n",
    ")"
   ]
  },
  {
   "cell_type": "markdown",
   "metadata": {},
   "source": [
    "Для логистической модели мы можем подобрать параметр регуляризации, давайте попробуем это сделать, для этого создадим массив с 20 вещественными значениями от 0.01 до 1000.0:"
   ]
  },
  {
   "cell_type": "code",
   "execution_count": 165,
   "metadata": {
    "scrolled": true
   },
   "outputs": [
    {
     "data": {
      "text/plain": [
       "array([1.00000000e-02, 1.48735211e-02, 2.21221629e-02, 3.29034456e-02,\n",
       "       4.89390092e-02, 7.27895384e-02, 1.08263673e-01, 1.61026203e-01,\n",
       "       2.39502662e-01, 3.56224789e-01, 5.29831691e-01, 7.88046282e-01,\n",
       "       1.17210230e+00, 1.74332882e+00, 2.59294380e+00, 3.85662042e+00,\n",
       "       5.73615251e+00, 8.53167852e+00, 1.26896100e+01, 1.88739182e+01,\n",
       "       2.80721620e+01, 4.17531894e+01, 6.21016942e+01, 9.23670857e+01,\n",
       "       1.37382380e+02, 2.04335972e+02, 3.03919538e+02, 4.52035366e+02,\n",
       "       6.72335754e+02, 1.00000000e+03])"
      ]
     },
     "execution_count": 165,
     "metadata": {},
     "output_type": "execute_result"
    }
   ],
   "source": [
    "c_values = np.logspace(-2, 3, 30)\n",
    "c_values"
   ]
  },
  {
   "cell_type": "markdown",
   "metadata": {},
   "source": [
    "Теперь создадим модель логистической регрессии для кросс-валидации и подбора параметров регуляризации:"
   ]
  },
  {
   "cell_type": "code",
   "execution_count": 166,
   "metadata": {},
   "outputs": [],
   "source": [
    "model_cv_up = LogisticRegressionCV(Cs=c_values, scoring=scorer, cv=3, verbose=1, n_jobs=12)"
   ]
  },
  {
   "cell_type": "markdown",
   "metadata": {},
   "source": [
    "Обучим модель:"
   ]
  },
  {
   "cell_type": "code",
   "execution_count": 167,
   "metadata": {},
   "outputs": [
    {
     "name": "stderr",
     "output_type": "stream",
     "text": [
      "[Parallel(n_jobs=12)]: Using backend LokyBackend with 12 concurrent workers.\n"
     ]
    },
    {
     "name": "stdout",
     "output_type": "stream",
     "text": [
      "RUNNING THE L-BFGS-B CODE\n",
      "\n",
      "           * * *\n",
      "\n",
      "Machine precision = 2.220D-16\n",
      " N =          769     M =           10\n",
      "\n",
      "At X0         0 variables are exactly at the bounds\n",
      "\n",
      "At iterate    0    f=  6.49742D+04    |proj g|=  1.60876D+05\n",
      "RUNNING THE L-BFGS-B CODE\n",
      "\n",
      "           * * *\n",
      "\n",
      "Machine precision = 2.220D-16\n",
      " N =          769     M =           10\n",
      "\n",
      "At X0         0 variables are exactly at the bounds\n",
      "\n",
      "At iterate    0    f=  6.49735D+04    |proj g|=  1.61051D+05\n",
      "RUNNING THE L-BFGS-B CODE\n",
      "\n",
      "           * * *\n",
      "\n",
      "Machine precision = 2.220D-16\n",
      " N =          769     M =           10\n",
      "\n",
      "At X0         0 variables are exactly at the bounds\n",
      "\n",
      "At iterate    0    f=  6.49735D+04    |proj g|=  1.61225D+05\n"
     ]
    },
    {
     "name": "stderr",
     "output_type": "stream",
     "text": [
      " This problem is unconstrained.\n",
      " This problem is unconstrained.\n",
      " This problem is unconstrained.\n"
     ]
    },
    {
     "name": "stdout",
     "output_type": "stream",
     "text": [
      "\n",
      "At iterate   50    f=  1.86763D+04    |proj g|=  4.96714D+02\n",
      "\n",
      "At iterate   50    f=  1.85502D+04    |proj g|=  7.54282D+02\n",
      "\n",
      "At iterate   50    f=  1.83807D+04    |proj g|=  4.31769D+01\n",
      "\n",
      "At iterate  100    f=  1.83712D+04    |proj g|=  3.04213D+01\n",
      "\n",
      "           * * *\n",
      "\n",
      "Tit   = total number of iterations\n",
      "Tnf   = total number of function evaluations\n",
      "Tnint = total number of segments explored during Cauchy searches\n",
      "Skip  = number of BFGS updates skipped\n",
      "Nact  = number of active bounds at final generalized Cauchy point\n",
      "Projg = norm of the final projected gradient\n",
      "F     = final function value\n",
      "\n",
      "           * * *\n",
      "\n",
      "   N    Tit     Tnf  Tnint  Skip  Nact     Projg        F\n",
      "  769    100    111      1     0     0   3.042D+01   1.837D+04\n",
      "  F =   18371.182084164451     \n",
      "\n",
      "STOP: TOTAL NO. of ITERATIONS REACHED LIMIT                 \n",
      "\n",
      "At iterate  100    f=  1.86585D+04    |proj g|=  2.66873D+01\n",
      "\n",
      "           * * *\n",
      "\n",
      "Tit   = total number of iterations\n",
      "Tnf   = total number of function evaluations\n",
      "Tnint = total number of segments explored during Cauchy searches\n",
      "Skip  = number of BFGS updates skipped\n",
      "Nact  = number of active bounds at final generalized Cauchy point\n",
      "Projg = norm of the final projected gradient\n",
      "F     = final function value\n",
      "\n",
      "           * * *\n",
      "\n",
      "   N    Tit     Tnf  Tnint  Skip  Nact     Projg        F\n",
      "  769    100    111      1     0     0   2.669D+01   1.866D+04\n",
      "  F =   18658.463665360730     \n",
      "\n",
      "STOP: TOTAL NO. of ITERATIONS REACHED LIMIT                 \n",
      "RUNNING THE L-BFGS-B CODE\n",
      "\n",
      "           * * *\n",
      "\n",
      "Machine precision = 2.220D-16\n",
      " N =          769     M =           10\n",
      "\n",
      "At X0         0 variables are exactly at the bounds\n",
      "\n",
      "At iterate    0    f=  1.79484D+04    |proj g|=  3.53262D+01\n",
      "RUNNING THE L-BFGS-B CODE\n",
      "\n",
      "           * * *\n",
      "\n",
      "Machine precision = 2.220D-16\n",
      " N =          769     M =           10\n",
      "\n",
      "At X0         0 variables are exactly at the bounds\n",
      "\n",
      "At iterate    0    f=  1.82346D+04    |proj g|=  3.96284D+01\n"
     ]
    },
    {
     "name": "stderr",
     "output_type": "stream",
     "text": [
      "/home/poh9shka/.local/lib/python3.10/site-packages/sklearn/linear_model/_logistic.py:814: ConvergenceWarning: lbfgs failed to converge (status=1):\n",
      "STOP: TOTAL NO. of ITERATIONS REACHED LIMIT.\n",
      "\n",
      "Increase the number of iterations (max_iter) or scale the data as shown in:\n",
      "    https://scikit-learn.org/stable/modules/preprocessing.html\n",
      "Please also refer to the documentation for alternative solver options:\n",
      "    https://scikit-learn.org/stable/modules/linear_model.html#logistic-regression\n",
      "  n_iter_i = _check_optimize_result(\n",
      " This problem is unconstrained.\n",
      "/home/poh9shka/.local/lib/python3.10/site-packages/sklearn/linear_model/_logistic.py:814: ConvergenceWarning: lbfgs failed to converge (status=1):\n",
      "STOP: TOTAL NO. of ITERATIONS REACHED LIMIT.\n",
      "\n",
      "Increase the number of iterations (max_iter) or scale the data as shown in:\n",
      "    https://scikit-learn.org/stable/modules/preprocessing.html\n",
      "Please also refer to the documentation for alternative solver options:\n",
      "    https://scikit-learn.org/stable/modules/linear_model.html#logistic-regression\n",
      "  n_iter_i = _check_optimize_result(\n",
      " This problem is unconstrained.\n"
     ]
    },
    {
     "name": "stdout",
     "output_type": "stream",
     "text": [
      "\n",
      "At iterate  100    f=  1.85156D+04    |proj g|=  1.13487D+01\n",
      "\n",
      "           * * *\n",
      "\n",
      "Tit   = total number of iterations\n",
      "Tnf   = total number of function evaluations\n",
      "Tnint = total number of segments explored during Cauchy searches\n",
      "Skip  = number of BFGS updates skipped\n",
      "Nact  = number of active bounds at final generalized Cauchy point\n",
      "Projg = norm of the final projected gradient\n",
      "F     = final function value\n",
      "\n",
      "           * * *\n",
      "\n",
      "   N    Tit     Tnf  Tnint  Skip  Nact     Projg        F\n",
      "  769    100    114      1     0     0   1.135D+01   1.852D+04\n",
      "  F =   18515.586454015815     \n",
      "\n",
      "STOP: TOTAL NO. of ITERATIONS REACHED LIMIT                 \n",
      "RUNNING THE L-BFGS-B CODE\n",
      "\n",
      "           * * *\n",
      "\n",
      "Machine precision = 2.220D-16\n",
      " N =          769     M =           10\n",
      "\n",
      "At X0         0 variables are exactly at the bounds\n",
      "\n",
      "At iterate    0    f=  1.81001D+04    |proj g|=  3.10156D+01\n"
     ]
    },
    {
     "name": "stderr",
     "output_type": "stream",
     "text": [
      "/home/poh9shka/.local/lib/python3.10/site-packages/sklearn/linear_model/_logistic.py:814: ConvergenceWarning: lbfgs failed to converge (status=1):\n",
      "STOP: TOTAL NO. of ITERATIONS REACHED LIMIT.\n",
      "\n",
      "Increase the number of iterations (max_iter) or scale the data as shown in:\n",
      "    https://scikit-learn.org/stable/modules/preprocessing.html\n",
      "Please also refer to the documentation for alternative solver options:\n",
      "    https://scikit-learn.org/stable/modules/linear_model.html#logistic-regression\n",
      "  n_iter_i = _check_optimize_result(\n",
      " This problem is unconstrained.\n"
     ]
    },
    {
     "name": "stdout",
     "output_type": "stream",
     "text": [
      "\n",
      "At iterate   50    f=  1.78966D+04    |proj g|=  1.12198D+01\n",
      "\n",
      "\n",
      "At iterate   50    f=  1.80458D+04    |proj g|=  2.16979D+01\n",
      "At iterate   50    f=  1.81834D+04    |proj g|=  3.59547D+01\n",
      "\n",
      "At iterate  100    f=  1.78930D+04    |proj g|=  1.21940D+02\n",
      "\n",
      "           * * *\n",
      "\n",
      "Tit   = total number of iterations\n",
      "Tnf   = total number of function evaluations\n",
      "Tnint = total number of segments explored during Cauchy searches\n",
      "Skip  = number of BFGS updates skipped\n",
      "Nact  = number of active bounds at final generalized Cauchy point\n",
      "Projg = norm of the final projected gradient\n",
      "F     = final function value\n",
      "\n",
      "           * * *\n",
      "\n",
      "   N    Tit     Tnf  Tnint  Skip  Nact     Projg        F\n",
      "  769    100    113      1     0     0   1.219D+02   1.789D+04\n",
      "  F =   17892.995852171454     \n",
      "\n",
      "STOP: TOTAL NO. of ITERATIONS REACHED LIMIT                 \n",
      "RUNNING THE L-BFGS-B CODE\n",
      "\n",
      "           * * *\n",
      "\n",
      "Machine precision = 2.220D-16\n",
      " N =          769     M =           10\n",
      "\n",
      "At X0         0 variables are exactly at the bounds\n",
      "\n",
      "At iterate    0    f=  1.75283D+04    |proj g|=  1.19616D+02\n",
      "\n",
      "At iterate  100    f=  1.81807D+04    |proj g|=  2.97206D+01\n",
      "\n",
      "           * * *\n",
      "\n",
      "Tit   = total number of iterations\n",
      "Tnf   = total number of function evaluations\n",
      "Tnint = total number of segments explored during Cauchy searches\n",
      "Skip  = number of BFGS updates skipped\n",
      "Nact  = number of active bounds at final generalized Cauchy point\n",
      "Projg = norm of the final projected gradient\n",
      "F     = final function value\n",
      "\n",
      "           * * *\n",
      "\n",
      "   N    Tit     Tnf  Tnint  Skip  Nact     Projg        F\n",
      "  769    100    113      1     0     0   2.972D+01   1.818D+04\n",
      "  F =   18180.709025244636     \n",
      "\n",
      "STOP: TOTAL NO. of ITERATIONS REACHED LIMIT                 \n",
      "RUNNING THE L-BFGS-B CODE\n",
      "\n",
      "           * * *\n",
      "\n",
      "Machine precision = 2.220D-16\n",
      " N =          769     M =           10\n",
      "\n",
      "At X0         0 variables are exactly at the bounds\n",
      "\n",
      "At iterate    0    f=  1.78152D+04    |proj g|=  2.57768D+01\n"
     ]
    },
    {
     "name": "stderr",
     "output_type": "stream",
     "text": [
      "/home/poh9shka/.local/lib/python3.10/site-packages/sklearn/linear_model/_logistic.py:814: ConvergenceWarning: lbfgs failed to converge (status=1):\n",
      "STOP: TOTAL NO. of ITERATIONS REACHED LIMIT.\n",
      "\n",
      "Increase the number of iterations (max_iter) or scale the data as shown in:\n",
      "    https://scikit-learn.org/stable/modules/preprocessing.html\n",
      "Please also refer to the documentation for alternative solver options:\n",
      "    https://scikit-learn.org/stable/modules/linear_model.html#logistic-regression\n",
      "  n_iter_i = _check_optimize_result(\n",
      " This problem is unconstrained.\n",
      "/home/poh9shka/.local/lib/python3.10/site-packages/sklearn/linear_model/_logistic.py:814: ConvergenceWarning: lbfgs failed to converge (status=1):\n",
      "STOP: TOTAL NO. of ITERATIONS REACHED LIMIT.\n",
      "\n",
      "Increase the number of iterations (max_iter) or scale the data as shown in:\n",
      "    https://scikit-learn.org/stable/modules/preprocessing.html\n",
      "Please also refer to the documentation for alternative solver options:\n",
      "    https://scikit-learn.org/stable/modules/linear_model.html#logistic-regression\n",
      "  n_iter_i = _check_optimize_result(\n",
      " This problem is unconstrained.\n"
     ]
    },
    {
     "name": "stdout",
     "output_type": "stream",
     "text": [
      "\n",
      "At iterate  100    f=  1.80385D+04    |proj g|=  1.16775D+02\n",
      "\n",
      "           * * *\n",
      "\n",
      "Tit   = total number of iterations\n",
      "Tnf   = total number of function evaluations\n",
      "Tnint = total number of segments explored during Cauchy searches\n",
      "Skip  = number of BFGS updates skipped\n",
      "Nact  = number of active bounds at final generalized Cauchy point\n",
      "Projg = norm of the final projected gradient\n",
      "F     = final function value\n",
      "\n",
      "           * * *\n",
      "\n",
      "   N    Tit     Tnf  Tnint  Skip  Nact     Projg        F\n",
      "  769    100    114      1     0     0   1.168D+02   1.804D+04\n",
      "  F =   18038.453141463702     \n",
      "\n",
      "STOP: TOTAL NO. of ITERATIONS REACHED LIMIT                 \n",
      "RUNNING THE L-BFGS-B CODE\n",
      "\n",
      "           * * *\n",
      "\n",
      "Machine precision = 2.220D-16\n",
      " N =          769     M =           10\n",
      "\n",
      "At X0         0 variables are exactly at the bounds\n",
      "\n",
      "At iterate    0    f=  1.76864D+04    |proj g|=  1.17826D+02\n"
     ]
    },
    {
     "name": "stderr",
     "output_type": "stream",
     "text": [
      "/home/poh9shka/.local/lib/python3.10/site-packages/sklearn/linear_model/_logistic.py:814: ConvergenceWarning: lbfgs failed to converge (status=1):\n",
      "STOP: TOTAL NO. of ITERATIONS REACHED LIMIT.\n",
      "\n",
      "Increase the number of iterations (max_iter) or scale the data as shown in:\n",
      "    https://scikit-learn.org/stable/modules/preprocessing.html\n",
      "Please also refer to the documentation for alternative solver options:\n",
      "    https://scikit-learn.org/stable/modules/linear_model.html#logistic-regression\n",
      "  n_iter_i = _check_optimize_result(\n",
      " This problem is unconstrained.\n"
     ]
    },
    {
     "name": "stdout",
     "output_type": "stream",
     "text": [
      "\n",
      "At iterate   50    f=  1.74821D+04    |proj g|=  6.90466D+00\n",
      "\n",
      "At iterate   50    f=  1.77674D+04    |proj g|=  4.95121D+01\n",
      "\n",
      "At iterate   50    f=  1.76351D+04    |proj g|=  2.93787D+01\n",
      "\n",
      "At iterate  100    f=  1.77657D+04    |proj g|=  1.49827D+01\n",
      "\n",
      "           * * *\n",
      "\n",
      "Tit   = total number of iterations\n",
      "Tnf   = total number of function evaluations\n",
      "Tnint = total number of segments explored during Cauchy searches\n",
      "Skip  = number of BFGS updates skipped\n",
      "Nact  = number of active bounds at final generalized Cauchy point\n",
      "Projg = norm of the final projected gradient\n",
      "F     = final function value\n",
      "\n",
      "           * * *\n",
      "\n",
      "   N    Tit     Tnf  Tnint  Skip  Nact     Projg        F\n",
      "  769    100    116      1     0     0   1.498D+01   1.777D+04\n",
      "  F =   17765.671357166510     \n",
      "\n",
      "STOP: TOTAL NO. of ITERATIONS REACHED LIMIT                 \n",
      "\n",
      "At iterate  100    f=  1.74816D+04    |proj g|=  1.04689D+01\n",
      "\n",
      "           * * *\n",
      "\n",
      "Tit   = total number of iterations\n",
      "Tnf   = total number of function evaluations\n",
      "Tnint = total number of segments explored during Cauchy searches\n",
      "Skip  = number of BFGS updates skipped\n",
      "Nact  = number of active bounds at final generalized Cauchy point\n",
      "Projg = norm of the final projected gradient\n",
      "F     = final function value\n",
      "\n",
      "           * * *\n",
      "\n",
      "   N    Tit     Tnf  Tnint  Skip  Nact     Projg        F\n",
      "  769    100    118      1     0     0   1.047D+01   1.748D+04\n",
      "  F =   17481.571271726225     \n",
      "\n",
      "STOP: TOTAL NO. of ITERATIONS REACHED LIMIT                 \n",
      "RUNNING THE L-BFGS-B CODE\n",
      "\n",
      "           * * *\n",
      "\n",
      "Machine precision = 2.220D-16\n",
      " N =          769     M =           10\n",
      "\n",
      "At X0         0 variables are exactly at the bounds\n",
      "\n",
      "At iterate    0    f=  1.74461D+04    |proj g|=  1.45091D+01\n",
      "RUNNING THE L-BFGS-B CODE\n",
      "\n",
      "           * * *\n",
      "\n",
      "Machine precision = 2.220D-16\n",
      " N =          769     M =           10\n",
      "\n",
      "At X0         0 variables are exactly at the bounds\n",
      "\n",
      "At iterate    0    f=  1.71646D+04    |proj g|=  1.19723D+01\n"
     ]
    },
    {
     "name": "stderr",
     "output_type": "stream",
     "text": [
      "/home/poh9shka/.local/lib/python3.10/site-packages/sklearn/linear_model/_logistic.py:814: ConvergenceWarning: lbfgs failed to converge (status=1):\n",
      "STOP: TOTAL NO. of ITERATIONS REACHED LIMIT.\n",
      "\n",
      "Increase the number of iterations (max_iter) or scale the data as shown in:\n",
      "    https://scikit-learn.org/stable/modules/preprocessing.html\n",
      "Please also refer to the documentation for alternative solver options:\n",
      "    https://scikit-learn.org/stable/modules/linear_model.html#logistic-regression\n",
      "  n_iter_i = _check_optimize_result(\n",
      "/home/poh9shka/.local/lib/python3.10/site-packages/sklearn/linear_model/_logistic.py:814: ConvergenceWarning: lbfgs failed to converge (status=1):\n",
      "STOP: TOTAL NO. of ITERATIONS REACHED LIMIT.\n",
      "\n",
      "Increase the number of iterations (max_iter) or scale the data as shown in:\n",
      "    https://scikit-learn.org/stable/modules/preprocessing.html\n",
      "Please also refer to the documentation for alternative solver options:\n",
      "    https://scikit-learn.org/stable/modules/linear_model.html#logistic-regression\n",
      "  n_iter_i = _check_optimize_result(\n",
      " This problem is unconstrained.\n",
      " This problem is unconstrained.\n"
     ]
    },
    {
     "name": "stdout",
     "output_type": "stream",
     "text": [
      "\n",
      "At iterate  100    f=  1.76333D+04    |proj g|=  2.83453D+00\n",
      "\n",
      "           * * *\n",
      "\n",
      "Tit   = total number of iterations\n",
      "Tnf   = total number of function evaluations\n",
      "Tnint = total number of segments explored during Cauchy searches\n",
      "Skip  = number of BFGS updates skipped\n",
      "Nact  = number of active bounds at final generalized Cauchy point\n",
      "Projg = norm of the final projected gradient\n",
      "F     = final function value\n",
      "\n",
      "           * * *\n",
      "\n",
      "   N    Tit     Tnf  Tnint  Skip  Nact     Projg        F\n",
      "  769    100    116      1     0     0   2.835D+00   1.763D+04\n",
      "  F =   17633.257145114887     \n",
      "\n",
      "STOP: TOTAL NO. of ITERATIONS REACHED LIMIT                 \n",
      "RUNNING THE L-BFGS-B CODE\n",
      "\n",
      "           * * *\n",
      "\n",
      "Machine precision = 2.220D-16\n",
      " N =          769     M =           10\n",
      "\n",
      "At X0         0 variables are exactly at the bounds\n",
      "\n",
      "At iterate    0    f=  1.73218D+04    |proj g|=  1.18027D+01\n"
     ]
    },
    {
     "name": "stderr",
     "output_type": "stream",
     "text": [
      "/home/poh9shka/.local/lib/python3.10/site-packages/sklearn/linear_model/_logistic.py:814: ConvergenceWarning: lbfgs failed to converge (status=1):\n",
      "STOP: TOTAL NO. of ITERATIONS REACHED LIMIT.\n",
      "\n",
      "Increase the number of iterations (max_iter) or scale the data as shown in:\n",
      "    https://scikit-learn.org/stable/modules/preprocessing.html\n",
      "Please also refer to the documentation for alternative solver options:\n",
      "    https://scikit-learn.org/stable/modules/linear_model.html#logistic-regression\n",
      "  n_iter_i = _check_optimize_result(\n",
      " This problem is unconstrained.\n"
     ]
    },
    {
     "name": "stdout",
     "output_type": "stream",
     "text": [
      "\n",
      "At iterate   50    f=  1.74008D+04    |proj g|=  6.26790D+00\n",
      "\n",
      "At iterate   50    f=  1.71221D+04    |proj g|=  1.90080D+00\n",
      "\n",
      "At iterate   50    f=  1.72776D+04    |proj g|=  1.03207D+01\n",
      "\n",
      "At iterate  100    f=  1.74001D+04    |proj g|=  1.70095D+01\n",
      "\n",
      "           * * *\n",
      "\n",
      "Tit   = total number of iterations\n",
      "Tnf   = total number of function evaluations\n",
      "Tnint = total number of segments explored during Cauchy searches\n",
      "Skip  = number of BFGS updates skipped\n",
      "Nact  = number of active bounds at final generalized Cauchy point\n",
      "Projg = norm of the final projected gradient\n",
      "F     = final function value\n",
      "\n",
      "           * * *\n",
      "\n",
      "   N    Tit     Tnf  Tnint  Skip  Nact     Projg        F\n",
      "\n",
      "  769    100    119      1     0     0   1.701D+01   1.740D+04\n",
      "  F =   17400.095423539864     \n",
      "\n",
      "STOP: TOTAL NO. of ITERATIONS REACHED LIMIT                 \n",
      "At iterate  100    f=  1.71219D+04    |proj g|=  1.10742D+00\n",
      "\n",
      "           * * *\n",
      "\n",
      "Tit   = total number of iterations\n",
      "Tnf   = total number of function evaluations\n",
      "Tnint = total number of segments explored during Cauchy searches\n",
      "Skip  = number of BFGS updates skipped\n",
      "Nact  = number of active bounds at final generalized Cauchy point\n",
      "Projg = norm of the final projected gradient\n",
      "F     = final function value\n",
      "\n",
      "           * * *\n",
      "\n",
      "   N    Tit     Tnf  Tnint  Skip  Nact     Projg        F\n",
      "  769    100    118      1     0     0   1.107D+00   1.712D+04\n",
      "  F =   17121.920841678708     \n",
      "\n",
      "STOP: TOTAL NO. of ITERATIONS REACHED LIMIT                 \n",
      "RUNNING THE L-BFGS-B CODE\n",
      "\n",
      "           * * *\n",
      "\n",
      "Machine precision = 2.220D-16\n",
      " N =          769     M =           10\n",
      "\n",
      "At X0         0 variables are exactly at the bounds\n",
      "\n",
      "At iterate    0    f=  1.68427D+04    |proj g|=  9.13081D+00\n",
      "RUNNING THE L-BFGS-B CODE\n",
      "\n",
      "           * * *\n",
      "\n",
      "Machine precision = 2.220D-16\n",
      " N =          769     M =           10\n",
      "\n",
      "At X0         0 variables are exactly at the bounds\n",
      "\n",
      "At iterate    0    f=  1.71162D+04    |proj g|=  1.70894D+01\n",
      "\n",
      "At iterate  100    f=  1.72773D+04    |proj g|=  3.04181D-01\n",
      "\n",
      "           * * *\n",
      "\n",
      "Tit   = total number of iterations\n",
      "Tnf   = total number of function evaluations\n",
      "Tnint = total number of segments explored during Cauchy searches\n",
      "Skip  = number of BFGS updates skipped\n",
      "Nact  = number of active bounds at final generalized Cauchy point\n",
      "Projg = norm of the final projected gradient\n",
      "F     = final function value\n",
      "\n",
      "           * * *\n",
      "\n",
      "   N    Tit     Tnf  Tnint  Skip  Nact     Projg        F\n",
      "  769    100    117      1     0     0   3.042D-01   1.728D+04\n",
      "  F =   17277.288394065625     \n",
      "\n",
      "STOP: TOTAL NO. of ITERATIONS REACHED LIMIT                 \n"
     ]
    },
    {
     "name": "stderr",
     "output_type": "stream",
     "text": [
      "/home/poh9shka/.local/lib/python3.10/site-packages/sklearn/linear_model/_logistic.py:814: ConvergenceWarning: lbfgs failed to converge (status=1):\n",
      "STOP: TOTAL NO. of ITERATIONS REACHED LIMIT.\n",
      "\n",
      "Increase the number of iterations (max_iter) or scale the data as shown in:\n",
      "    https://scikit-learn.org/stable/modules/preprocessing.html\n",
      "Please also refer to the documentation for alternative solver options:\n",
      "    https://scikit-learn.org/stable/modules/linear_model.html#logistic-regression\n",
      "  n_iter_i = _check_optimize_result(\n",
      "/home/poh9shka/.local/lib/python3.10/site-packages/sklearn/linear_model/_logistic.py:814: ConvergenceWarning: lbfgs failed to converge (status=1):\n",
      "STOP: TOTAL NO. of ITERATIONS REACHED LIMIT.\n",
      "\n",
      "Increase the number of iterations (max_iter) or scale the data as shown in:\n",
      "    https://scikit-learn.org/stable/modules/preprocessing.html\n",
      "Please also refer to the documentation for alternative solver options:\n",
      "    https://scikit-learn.org/stable/modules/linear_model.html#logistic-regression\n",
      "  n_iter_i = _check_optimize_result(\n",
      " This problem is unconstrained.\n",
      " This problem is unconstrained.\n",
      "/home/poh9shka/.local/lib/python3.10/site-packages/sklearn/linear_model/_logistic.py:814: ConvergenceWarning: lbfgs failed to converge (status=1):\n",
      "STOP: TOTAL NO. of ITERATIONS REACHED LIMIT.\n",
      "\n",
      "Increase the number of iterations (max_iter) or scale the data as shown in:\n",
      "    https://scikit-learn.org/stable/modules/preprocessing.html\n",
      "Please also refer to the documentation for alternative solver options:\n",
      "    https://scikit-learn.org/stable/modules/linear_model.html#logistic-regression\n",
      "  n_iter_i = _check_optimize_result(\n"
     ]
    },
    {
     "name": "stdout",
     "output_type": "stream",
     "text": [
      "RUNNING THE L-BFGS-B CODE\n",
      "\n",
      "           * * *\n",
      "\n",
      "Machine precision = 2.220D-16\n",
      " N =          769     M =           10\n",
      "\n",
      "At X0         0 variables are exactly at the bounds\n",
      "\n",
      "At iterate    0    f=  1.70003D+04    |proj g|=  9.08703D+00\n"
     ]
    },
    {
     "name": "stderr",
     "output_type": "stream",
     "text": [
      " This problem is unconstrained.\n"
     ]
    },
    {
     "name": "stdout",
     "output_type": "stream",
     "text": [
      "\n",
      "At iterate   50    f=  1.70773D+04    |proj g|=  5.04169D+01\n",
      "\n",
      "At iterate   50    f=  1.69620D+04    |proj g|=  3.46393D+01\n",
      "\n",
      "At iterate   50    f=  1.68035D+04    |proj g|=  1.99669D+01\n",
      "\n",
      "At iterate  100    f=  1.70743D+04    |proj g|=  1.15111D+01\n",
      "\n",
      "           * * *\n",
      "\n",
      "Tit   = total number of iterations\n",
      "Tnf   = total number of function evaluations\n",
      "Tnint = total number of segments explored during Cauchy searches\n",
      "Skip  = number of BFGS updates skipped\n",
      "Nact  = number of active bounds at final generalized Cauchy point\n",
      "Projg = norm of the final projected gradient\n",
      "F     = final function value\n",
      "\n",
      "           * * *\n",
      "\n",
      "   N    Tit     Tnf  Tnint  Skip  Nact     Projg        F\n",
      "  769    100    116      1     0     0   1.151D+01   1.707D+04\n",
      "  F =   17074.263073747868     \n",
      "\n",
      "STOP: TOTAL NO. of ITERATIONS REACHED LIMIT                 \n",
      "RUNNING THE L-BFGS-B CODE\n",
      "\n",
      "           * * *\n",
      "\n",
      "Machine precision = 2.220D-16\n",
      " N =          769     M =           10\n",
      "\n",
      "At X0         0 variables are exactly at the bounds\n",
      "\n",
      "At iterate    0    f=  1.68189D+04    |proj g|=  1.24160D+01\n",
      "\n",
      "At iterate  100    f=  1.69599D+04    |proj g|=  1.64198D+01\n",
      "\n",
      "           * * *\n",
      "\n",
      "Tit   = total number of iterations\n",
      "Tnf   = total number of function evaluations\n",
      "Tnint = total number of segments explored during Cauchy searches\n",
      "Skip  = number of BFGS updates skipped\n",
      "Nact  = number of active bounds at final generalized Cauchy point\n",
      "Projg = norm of the final projected gradient\n",
      "F     = final function value\n",
      "\n",
      "           * * *\n",
      "\n",
      "   N    Tit     Tnf  Tnint  Skip  Nact     Projg        F\n",
      "  769    100    116      1     0     0   1.642D+01   1.696D+04\n",
      "  F =   16959.942760094105     \n",
      "\n",
      "STOP: TOTAL NO. of ITERATIONS REACHED LIMIT                 \n"
     ]
    },
    {
     "name": "stderr",
     "output_type": "stream",
     "text": [
      "/home/poh9shka/.local/lib/python3.10/site-packages/sklearn/linear_model/_logistic.py:814: ConvergenceWarning: lbfgs failed to converge (status=1):\n",
      "STOP: TOTAL NO. of ITERATIONS REACHED LIMIT.\n",
      "\n",
      "Increase the number of iterations (max_iter) or scale the data as shown in:\n",
      "    https://scikit-learn.org/stable/modules/preprocessing.html\n",
      "Please also refer to the documentation for alternative solver options:\n",
      "    https://scikit-learn.org/stable/modules/linear_model.html#logistic-regression\n",
      "  n_iter_i = _check_optimize_result(\n",
      " This problem is unconstrained.\n",
      "/home/poh9shka/.local/lib/python3.10/site-packages/sklearn/linear_model/_logistic.py:814: ConvergenceWarning: lbfgs failed to converge (status=1):\n",
      "STOP: TOTAL NO. of ITERATIONS REACHED LIMIT.\n",
      "\n",
      "Increase the number of iterations (max_iter) or scale the data as shown in:\n",
      "    https://scikit-learn.org/stable/modules/preprocessing.html\n",
      "Please also refer to the documentation for alternative solver options:\n",
      "    https://scikit-learn.org/stable/modules/linear_model.html#logistic-regression\n",
      "  n_iter_i = _check_optimize_result(\n"
     ]
    },
    {
     "name": "stdout",
     "output_type": "stream",
     "text": [
      "RUNNING THE L-BFGS-B CODE\n",
      "\n",
      "           * * *\n",
      "\n",
      "Machine precision = 2.220D-16\n",
      " N =          769     M =           10\n",
      "\n",
      "At X0         0 variables are exactly at the bounds\n",
      "\n",
      "At iterate    0    f=  1.67120D+04    |proj g|=  1.63167D+01\n",
      "\n",
      "At iterate  100    f=  1.68026D+04    |proj g|=  1.22927D+01\n",
      "\n",
      "           * * *\n",
      "\n",
      "Tit   = total number of iterations\n",
      "Tnf   = total number of function evaluations\n",
      "Tnint = total number of segments explored during Cauchy searches\n",
      "Skip  = number of BFGS updates skipped\n",
      "Nact  = number of active bounds at final generalized Cauchy point\n",
      "Projg = norm of the final projected gradient\n",
      "F     = final function value\n",
      "\n",
      "           * * *\n",
      "\n",
      "   N    Tit     Tnf  Tnint  Skip  Nact     Projg        F\n",
      "  769    100    120      1     0     0   1.229D+01   1.680D+04\n",
      "  F =   16802.580286440530     \n",
      "\n",
      "STOP: TOTAL NO. of ITERATIONS REACHED LIMIT                 \n",
      "RUNNING THE L-BFGS-B CODE\n",
      "\n",
      "           * * *\n",
      "\n",
      "Machine precision = 2.220D-16\n",
      " N =          769     M =           10\n",
      "\n",
      "At X0         0 variables are exactly at the bounds\n",
      "\n",
      "At iterate    0    f=  1.65536D+04    |proj g|=  1.28839D+01\n"
     ]
    },
    {
     "name": "stderr",
     "output_type": "stream",
     "text": [
      " This problem is unconstrained.\n",
      "/home/poh9shka/.local/lib/python3.10/site-packages/sklearn/linear_model/_logistic.py:814: ConvergenceWarning: lbfgs failed to converge (status=1):\n",
      "STOP: TOTAL NO. of ITERATIONS REACHED LIMIT.\n",
      "\n",
      "Increase the number of iterations (max_iter) or scale the data as shown in:\n",
      "    https://scikit-learn.org/stable/modules/preprocessing.html\n",
      "Please also refer to the documentation for alternative solver options:\n",
      "    https://scikit-learn.org/stable/modules/linear_model.html#logistic-regression\n",
      "  n_iter_i = _check_optimize_result(\n",
      " This problem is unconstrained.\n"
     ]
    },
    {
     "name": "stdout",
     "output_type": "stream",
     "text": [
      "\n",
      "At iterate   50    f=  1.67852D+04    |proj g|=  2.85623D+01\n",
      "\n",
      "At iterate   50    f=  1.66790D+04    |proj g|=  1.28144D+01\n",
      "\n",
      "At iterate   50    f=  1.65219D+04    |proj g|=  6.71313D+01\n",
      "\n",
      "At iterate  100    f=  1.67811D+04    |proj g|=  1.22486D+01\n",
      "\n",
      "           * * *\n",
      "\n",
      "Tit   = total number of iterations\n",
      "Tnf   = total number of function evaluations\n",
      "Tnint = total number of segments explored during Cauchy searches\n",
      "Skip  = number of BFGS updates skipped\n",
      "Nact  = number of active bounds at final generalized Cauchy point\n",
      "Projg = norm of the final projected gradient\n",
      "F     = final function value\n",
      "\n",
      "           * * *\n",
      "\n",
      "   N    Tit     Tnf  Tnint  Skip  Nact     Projg        F\n",
      "  769    100    115      1     0     0   1.225D+01   1.678D+04\n",
      "  F =   16781.058473814610     \n",
      "\n",
      "STOP: TOTAL NO. of ITERATIONS REACHED LIMIT                 \n",
      "RUNNING THE L-BFGS-B CODE\n",
      "\n",
      "           * * *\n",
      "\n",
      "Machine precision = 2.220D-16\n",
      " N =          769     M =           10\n",
      "\n",
      "At X0         0 variables are exactly at the bounds\n",
      "\n",
      "At iterate    0    f=  1.65521D+04    |proj g|=  1.44017D+01\n"
     ]
    },
    {
     "name": "stderr",
     "output_type": "stream",
     "text": [
      "/home/poh9shka/.local/lib/python3.10/site-packages/sklearn/linear_model/_logistic.py:814: ConvergenceWarning: lbfgs failed to converge (status=1):\n",
      "STOP: TOTAL NO. of ITERATIONS REACHED LIMIT.\n",
      "\n",
      "Increase the number of iterations (max_iter) or scale the data as shown in:\n",
      "    https://scikit-learn.org/stable/modules/preprocessing.html\n",
      "Please also refer to the documentation for alternative solver options:\n",
      "    https://scikit-learn.org/stable/modules/linear_model.html#logistic-regression\n",
      "  n_iter_i = _check_optimize_result(\n",
      " This problem is unconstrained.\n"
     ]
    },
    {
     "name": "stdout",
     "output_type": "stream",
     "text": [
      "\n",
      "At iterate  100    f=  1.66747D+04    |proj g|=  1.57726D+01\n",
      "\n",
      "           * * *\n",
      "\n",
      "Tit   = total number of iterations\n",
      "Tnf   = total number of function evaluations\n",
      "Tnint = total number of segments explored during Cauchy searches\n",
      "Skip  = number of BFGS updates skipped\n",
      "Nact  = number of active bounds at final generalized Cauchy point\n",
      "Projg = norm of the final projected gradient\n",
      "F     = final function value\n",
      "\n",
      "           * * *\n",
      "\n",
      "   N    Tit     Tnf  Tnint  Skip  Nact     Projg        F\n",
      "  769    100    116      1     0     0   1.577D+01   1.667D+04\n",
      "  F =   16674.720058595780     \n",
      "\n",
      "STOP: TOTAL NO. of ITERATIONS REACHED LIMIT                 \n",
      "RUNNING THE L-BFGS-B CODE\n",
      "\n",
      "           * * *\n",
      "\n",
      "Machine precision = 2.220D-16\n",
      " N =          769     M =           10\n",
      "\n",
      "At X0         0 variables are exactly at the bounds\n",
      "\n",
      "At iterate    0    f=  1.64518D+04    |proj g|=  1.35462D+01\n"
     ]
    },
    {
     "name": "stderr",
     "output_type": "stream",
     "text": [
      "/home/poh9shka/.local/lib/python3.10/site-packages/sklearn/linear_model/_logistic.py:814: ConvergenceWarning: lbfgs failed to converge (status=1):\n",
      "STOP: TOTAL NO. of ITERATIONS REACHED LIMIT.\n",
      "\n",
      "Increase the number of iterations (max_iter) or scale the data as shown in:\n",
      "    https://scikit-learn.org/stable/modules/preprocessing.html\n",
      "Please also refer to the documentation for alternative solver options:\n",
      "    https://scikit-learn.org/stable/modules/linear_model.html#logistic-regression\n",
      "  n_iter_i = _check_optimize_result(\n",
      " This problem is unconstrained.\n"
     ]
    },
    {
     "name": "stdout",
     "output_type": "stream",
     "text": [
      "\n",
      "At iterate  100    f=  1.65170D+04    |proj g|=  6.89703D+00\n",
      "\n",
      "           * * *\n",
      "\n",
      "Tit   = total number of iterations\n",
      "Tnf   = total number of function evaluations\n",
      "Tnint = total number of segments explored during Cauchy searches\n",
      "Skip  = number of BFGS updates skipped\n",
      "Nact  = number of active bounds at final generalized Cauchy point\n",
      "Projg = norm of the final projected gradient\n",
      "F     = final function value\n",
      "\n",
      "           * * *\n",
      "\n",
      "   N    Tit     Tnf  Tnint  Skip  Nact     Projg        F\n",
      "  769    100    118      1     0     0   6.897D+00   1.652D+04\n",
      "  F =   16517.006570387279     \n",
      "\n",
      "STOP: TOTAL NO. of ITERATIONS REACHED LIMIT                 \n",
      "RUNNING THE L-BFGS-B CODE\n",
      "\n",
      "           * * *\n",
      "\n",
      "Machine precision = 2.220D-16\n",
      " N =          769     M =           10\n",
      "\n",
      "At X0         0 variables are exactly at the bounds\n",
      "\n",
      "At iterate    0    f=  1.62941D+04    |proj g|=  7.23550D+00\n"
     ]
    },
    {
     "name": "stderr",
     "output_type": "stream",
     "text": [
      "/home/poh9shka/.local/lib/python3.10/site-packages/sklearn/linear_model/_logistic.py:814: ConvergenceWarning: lbfgs failed to converge (status=1):\n",
      "STOP: TOTAL NO. of ITERATIONS REACHED LIMIT.\n",
      "\n",
      "Increase the number of iterations (max_iter) or scale the data as shown in:\n",
      "    https://scikit-learn.org/stable/modules/preprocessing.html\n",
      "Please also refer to the documentation for alternative solver options:\n",
      "    https://scikit-learn.org/stable/modules/linear_model.html#logistic-regression\n",
      "  n_iter_i = _check_optimize_result(\n",
      " This problem is unconstrained.\n"
     ]
    },
    {
     "name": "stdout",
     "output_type": "stream",
     "text": [
      "\n",
      "At iterate   50    f=  1.65217D+04    |proj g|=  1.27480D+02\n",
      "\n",
      "At iterate   50    f=  1.64197D+04    |proj g|=  4.17476D+01\n",
      "\n",
      "At iterate   50    f=  1.62615D+04    |proj g|=  2.98193D+01\n",
      "\n",
      "At iterate  100    f=  1.65164D+04    |proj g|=  9.24312D+00\n",
      "\n",
      "           * * *\n",
      "\n",
      "Tit   = total number of iterations\n",
      "Tnf   = total number of function evaluations\n",
      "Tnint = total number of segments explored during Cauchy searches\n",
      "Skip  = number of BFGS updates skipped\n",
      "Nact  = number of active bounds at final generalized Cauchy point\n",
      "Projg = norm of the final projected gradient\n",
      "F     = final function value\n",
      "\n",
      "           * * *\n",
      "\n",
      "   N    Tit     Tnf  Tnint  Skip  Nact     Projg        F\n",
      "  769    100    116      1     0     0   9.243D+00   1.652D+04\n",
      "  F =   16516.427620559996     \n",
      "\n",
      "STOP: TOTAL NO. of ITERATIONS REACHED LIMIT                 \n",
      "RUNNING THE L-BFGS-B CODE\n",
      "\n",
      "           * * *\n",
      "\n",
      "Machine precision = 2.220D-16\n",
      " N =          769     M =           10\n",
      "\n",
      "At X0         0 variables are exactly at the bounds\n",
      "\n",
      "At iterate    0    f=  1.63099D+04    |proj g|=  1.11753D+01\n",
      "\n",
      "At iterate  100    f=  1.64170D+04    |proj g|=  1.01049D+01\n",
      "\n",
      "           * * *\n",
      "\n",
      "Tit   = total number of iterations\n",
      "Tnf   = total number of function evaluations\n",
      "Tnint = total number of segments explored during Cauchy searches\n",
      "Skip  = number of BFGS updates skipped\n",
      "Nact  = number of active bounds at final generalized Cauchy point\n",
      "Projg = norm of the final projected gradient\n",
      "F     = final function value\n",
      "\n",
      "           * * *\n",
      "\n",
      "   N    Tit     Tnf  Tnint  Skip  Nact     Projg        F\n",
      "  769    100    115      1     0     0   1.010D+01   1.642D+04\n",
      "  F =   16417.029975759269     \n",
      "\n",
      "STOP: TOTAL NO. of ITERATIONS REACHED LIMIT                 \n"
     ]
    },
    {
     "name": "stderr",
     "output_type": "stream",
     "text": [
      "/home/poh9shka/.local/lib/python3.10/site-packages/sklearn/linear_model/_logistic.py:814: ConvergenceWarning: lbfgs failed to converge (status=1):\n",
      "STOP: TOTAL NO. of ITERATIONS REACHED LIMIT.\n",
      "\n",
      "Increase the number of iterations (max_iter) or scale the data as shown in:\n",
      "    https://scikit-learn.org/stable/modules/preprocessing.html\n",
      "Please also refer to the documentation for alternative solver options:\n",
      "    https://scikit-learn.org/stable/modules/linear_model.html#logistic-regression\n",
      "  n_iter_i = _check_optimize_result(\n",
      " This problem is unconstrained.\n",
      "/home/poh9shka/.local/lib/python3.10/site-packages/sklearn/linear_model/_logistic.py:814: ConvergenceWarning: lbfgs failed to converge (status=1):\n",
      "STOP: TOTAL NO. of ITERATIONS REACHED LIMIT.\n",
      "\n",
      "Increase the number of iterations (max_iter) or scale the data as shown in:\n",
      "    https://scikit-learn.org/stable/modules/preprocessing.html\n",
      "Please also refer to the documentation for alternative solver options:\n",
      "    https://scikit-learn.org/stable/modules/linear_model.html#logistic-regression\n",
      "  n_iter_i = _check_optimize_result(\n"
     ]
    },
    {
     "name": "stdout",
     "output_type": "stream",
     "text": [
      "RUNNING THE L-BFGS-B CODE\n",
      "\n",
      "           * * *\n",
      "\n",
      "Machine precision = 2.220D-16\n",
      " N =          769     M =           10\n",
      "\n",
      "At X0         0 variables are exactly at the bounds\n",
      "\n",
      "At iterate    0    f=  1.62156D+04    |proj g|=  1.00250D+01\n"
     ]
    },
    {
     "name": "stderr",
     "output_type": "stream",
     "text": [
      " This problem is unconstrained.\n"
     ]
    },
    {
     "name": "stdout",
     "output_type": "stream",
     "text": [
      "\n",
      "At iterate  100    f=  1.62603D+04    |proj g|=  7.17127D+00\n",
      "\n",
      "           * * *\n",
      "\n",
      "Tit   = total number of iterations\n",
      "Tnf   = total number of function evaluations\n",
      "Tnint = total number of segments explored during Cauchy searches\n",
      "Skip  = number of BFGS updates skipped\n",
      "Nact  = number of active bounds at final generalized Cauchy point\n",
      "Projg = norm of the final projected gradient\n",
      "F     = final function value\n",
      "\n",
      "           * * *\n",
      "\n",
      "   N    Tit     Tnf  Tnint  Skip  Nact     Projg        F\n",
      "  769    100    117      1     0     0   7.171D+00   1.626D+04\n",
      "  F =   16260.270730281334     \n",
      "\n",
      "STOP: TOTAL NO. of ITERATIONS REACHED LIMIT                 \n",
      "RUNNING THE L-BFGS-B CODE\n",
      "\n",
      "           * * *\n",
      "\n",
      "Machine precision = 2.220D-16\n",
      " N =          769     M =           10\n",
      "\n",
      "At X0         0 variables are exactly at the bounds\n",
      "\n",
      "At iterate    0    f=  1.60598D+04    |proj g|=  8.76510D+00\n"
     ]
    },
    {
     "name": "stderr",
     "output_type": "stream",
     "text": [
      "/home/poh9shka/.local/lib/python3.10/site-packages/sklearn/linear_model/_logistic.py:814: ConvergenceWarning: lbfgs failed to converge (status=1):\n",
      "STOP: TOTAL NO. of ITERATIONS REACHED LIMIT.\n",
      "\n",
      "Increase the number of iterations (max_iter) or scale the data as shown in:\n",
      "    https://scikit-learn.org/stable/modules/preprocessing.html\n",
      "Please also refer to the documentation for alternative solver options:\n",
      "    https://scikit-learn.org/stable/modules/linear_model.html#logistic-regression\n",
      "  n_iter_i = _check_optimize_result(\n",
      " This problem is unconstrained.\n"
     ]
    },
    {
     "name": "stdout",
     "output_type": "stream",
     "text": [
      "\n",
      "At iterate   50    f=  1.62836D+04    |proj g|=  1.90722D+01\n",
      "\n",
      "At iterate   50    f=  1.61898D+04    |proj g|=  6.87772D+00\n",
      "\n",
      "At iterate   50    f=  1.60335D+04    |proj g|=  2.26610D+01\n",
      "\n",
      "At iterate  100    f=  1.62793D+04    |proj g|=  2.37413D+01\n",
      "\n",
      "           * * *\n",
      "\n",
      "Tit   = total number of iterations\n",
      "Tnf   = total number of function evaluations\n",
      "Tnint = total number of segments explored during Cauchy searches\n",
      "Skip  = number of BFGS updates skipped\n",
      "Nact  = number of active bounds at final generalized Cauchy point\n",
      "Projg = norm of the final projected gradient\n",
      "F     = final function value\n",
      "\n",
      "           * * *\n",
      "\n",
      "   N    Tit     Tnf  Tnint  Skip  Nact     Projg        F\n",
      "  769    100    114      1     0     0   2.374D+01   1.628D+04\n",
      "  F =   16279.336421669805     \n",
      "\n",
      "STOP: TOTAL NO. of ITERATIONS REACHED LIMIT                 \n",
      "RUNNING THE L-BFGS-B CODE\n",
      "\n",
      "           * * *\n",
      "\n",
      "Machine precision = 2.220D-16\n",
      " N =          769     M =           10\n",
      "\n",
      "At X0         0 variables are exactly at the bounds\n",
      "\n",
      "At iterate    0    f=  1.60952D+04    |proj g|=  2.33124D+01\n"
     ]
    },
    {
     "name": "stderr",
     "output_type": "stream",
     "text": [
      "/home/poh9shka/.local/lib/python3.10/site-packages/sklearn/linear_model/_logistic.py:814: ConvergenceWarning: lbfgs failed to converge (status=1):\n",
      "STOP: TOTAL NO. of ITERATIONS REACHED LIMIT.\n",
      "\n",
      "Increase the number of iterations (max_iter) or scale the data as shown in:\n",
      "    https://scikit-learn.org/stable/modules/preprocessing.html\n",
      "Please also refer to the documentation for alternative solver options:\n",
      "    https://scikit-learn.org/stable/modules/linear_model.html#logistic-regression\n",
      "  n_iter_i = _check_optimize_result(\n",
      " This problem is unconstrained.\n"
     ]
    },
    {
     "name": "stdout",
     "output_type": "stream",
     "text": [
      "\n",
      "At iterate  100    f=  1.61856D+04    |proj g|=  7.25532D+00\n",
      "\n",
      "           * * *\n",
      "\n",
      "Tit   = total number of iterations\n",
      "Tnf   = total number of function evaluations\n",
      "Tnint = total number of segments explored during Cauchy searches\n",
      "Skip  = number of BFGS updates skipped\n",
      "Nact  = number of active bounds at final generalized Cauchy point\n",
      "Projg = norm of the final projected gradient\n",
      "F     = final function value\n",
      "\n",
      "           * * *\n",
      "\n",
      "   N    Tit     Tnf  Tnint  Skip  Nact     Projg        F\n",
      "  769    100    118      1     0     0   7.255D+00   1.619D+04\n",
      "  F =   16185.589657871898     \n",
      "\n",
      "STOP: TOTAL NO. of ITERATIONS REACHED LIMIT                 \n",
      "RUNNING THE L-BFGS-B CODE\n",
      "\n",
      "           * * *\n",
      "\n",
      "Machine precision = 2.220D-16\n",
      " N =          769     M =           10\n",
      "\n",
      "At X0         0 variables are exactly at the bounds\n",
      "\n",
      "At iterate    0    f=  1.60059D+04    |proj g|=  7.33291D+00\n"
     ]
    },
    {
     "name": "stderr",
     "output_type": "stream",
     "text": [
      "/home/poh9shka/.local/lib/python3.10/site-packages/sklearn/linear_model/_logistic.py:814: ConvergenceWarning: lbfgs failed to converge (status=1):\n",
      "STOP: TOTAL NO. of ITERATIONS REACHED LIMIT.\n",
      "\n",
      "Increase the number of iterations (max_iter) or scale the data as shown in:\n",
      "    https://scikit-learn.org/stable/modules/preprocessing.html\n",
      "Please also refer to the documentation for alternative solver options:\n",
      "    https://scikit-learn.org/stable/modules/linear_model.html#logistic-regression\n",
      "  n_iter_i = _check_optimize_result(\n",
      " This problem is unconstrained.\n"
     ]
    },
    {
     "name": "stdout",
     "output_type": "stream",
     "text": [
      "\n",
      "At iterate  100    f=  1.60311D+04    |proj g|=  5.89032D+00\n",
      "\n",
      "           * * *\n",
      "\n",
      "Tit   = total number of iterations\n",
      "Tnf   = total number of function evaluations\n",
      "Tnint = total number of segments explored during Cauchy searches\n",
      "Skip  = number of BFGS updates skipped\n",
      "Nact  = number of active bounds at final generalized Cauchy point\n",
      "Projg = norm of the final projected gradient\n",
      "F     = final function value\n",
      "\n",
      "           * * *\n",
      "\n",
      "   N    Tit     Tnf  Tnint  Skip  Nact     Projg        F\n",
      "  769    100    117      1     0     0   5.890D+00   1.603D+04\n",
      "  F =   16031.101601697907     \n",
      "\n",
      "STOP: TOTAL NO. of ITERATIONS REACHED LIMIT                 \n",
      "RUNNING THE L-BFGS-B CODE\n",
      "\n",
      "           * * *\n",
      "\n",
      "Machine precision = 2.220D-16\n",
      " N =          769     M =           10\n",
      "\n",
      "At X0         0 variables are exactly at the bounds\n",
      "\n",
      "At iterate    0    f=  1.58533D+04    |proj g|=  6.00566D+00\n"
     ]
    },
    {
     "name": "stderr",
     "output_type": "stream",
     "text": [
      "/home/poh9shka/.local/lib/python3.10/site-packages/sklearn/linear_model/_logistic.py:814: ConvergenceWarning: lbfgs failed to converge (status=1):\n",
      "STOP: TOTAL NO. of ITERATIONS REACHED LIMIT.\n",
      "\n",
      "Increase the number of iterations (max_iter) or scale the data as shown in:\n",
      "    https://scikit-learn.org/stable/modules/preprocessing.html\n",
      "Please also refer to the documentation for alternative solver options:\n",
      "    https://scikit-learn.org/stable/modules/linear_model.html#logistic-regression\n",
      "  n_iter_i = _check_optimize_result(\n",
      " This problem is unconstrained.\n"
     ]
    },
    {
     "name": "stdout",
     "output_type": "stream",
     "text": [
      "\n",
      "At iterate   50    f=  1.60739D+04    |proj g|=  8.30075D+01\n",
      "\n",
      "At iterate   50    f=  1.58347D+04    |proj g|=  2.38699D+01\n",
      "\n",
      "At iterate   50    f=  1.59868D+04    |proj g|=  6.00308D+01\n",
      "\n",
      "At iterate  100    f=  1.60687D+04    |proj g|=  2.80019D+01\n",
      "\n",
      "           * * *\n",
      "\n",
      "Tit   = total number of iterations\n",
      "Tnf   = total number of function evaluations\n",
      "Tnint = total number of segments explored during Cauchy searches\n",
      "Skip  = number of BFGS updates skipped\n",
      "Nact  = number of active bounds at final generalized Cauchy point\n",
      "Projg = norm of the final projected gradient\n",
      "F     = final function value\n",
      "\n",
      "           * * *\n",
      "\n",
      "   N    Tit     Tnf  Tnint  Skip  Nact     Projg        F\n",
      "  769    100    117      1     0     0   2.800D+01   1.607D+04\n",
      "  F =   16068.722678660724     \n",
      "\n",
      "STOP: TOTAL NO. of ITERATIONS REACHED LIMIT                 \n",
      "RUNNING THE L-BFGS-B CODE\n",
      "\n",
      "           * * *\n",
      "\n",
      "Machine precision = 2.220D-16\n",
      " N =          769     M =           10\n",
      "\n",
      "At X0         0 variables are exactly at the bounds\n",
      "\n",
      "At iterate    0    f=  1.59081D+04    |proj g|=  2.70067D+01\n"
     ]
    },
    {
     "name": "stderr",
     "output_type": "stream",
     "text": [
      "/home/poh9shka/.local/lib/python3.10/site-packages/sklearn/linear_model/_logistic.py:814: ConvergenceWarning: lbfgs failed to converge (status=1):\n",
      "STOP: TOTAL NO. of ITERATIONS REACHED LIMIT.\n",
      "\n",
      "Increase the number of iterations (max_iter) or scale the data as shown in:\n",
      "    https://scikit-learn.org/stable/modules/preprocessing.html\n",
      "Please also refer to the documentation for alternative solver options:\n",
      "    https://scikit-learn.org/stable/modules/linear_model.html#logistic-regression\n",
      "  n_iter_i = _check_optimize_result(\n",
      " This problem is unconstrained.\n"
     ]
    },
    {
     "name": "stdout",
     "output_type": "stream",
     "text": [
      "\n",
      "At iterate  100    f=  1.59808D+04    |proj g|=  2.56577D+01\n",
      "\n",
      "           * * *\n",
      "\n",
      "Tit   = total number of iterations\n",
      "Tnf   = total number of function evaluations\n",
      "Tnint = total number of segments explored during Cauchy searches\n",
      "Skip  = number of BFGS updates skipped\n",
      "Nact  = number of active bounds at final generalized Cauchy point\n",
      "Projg = norm of the final projected gradient\n",
      "F     = final function value\n",
      "\n",
      "           * * *\n",
      "\n",
      "   N    Tit     Tnf  Tnint  Skip  Nact     Projg        F\n",
      "  769    100    119      1     0     0   2.566D+01   1.598D+04\n",
      "  F =   15980.757164622366     \n",
      "\n",
      "STOP: TOTAL NO. of ITERATIONS REACHED LIMIT                 \n",
      "\n",
      "At iterate  100    f=  1.58296D+04    |proj g|=  2.69790D+01\n",
      "\n",
      "           * * *\n",
      "\n",
      "Tit   = total number of iterations\n",
      "Tnf   = total number of function evaluations\n",
      "Tnint = total number of segments explored during Cauchy searches\n",
      "Skip  = number of BFGS updates skipped\n",
      "Nact  = number of active bounds at final generalized Cauchy point\n",
      "Projg = norm of the final projected gradient\n",
      "F     = final function value\n",
      "\n",
      "           * * *\n",
      "\n",
      "   N    Tit     Tnf  Tnint  Skip  Nact     Projg        F\n",
      "  769    100    118      1     0     0   2.698D+01   1.583D+04\n",
      "  F =   15829.582128724405     \n",
      "\n",
      "STOP: TOTAL NO. of ITERATIONS REACHED LIMIT                 \n",
      "RUNNING THE L-BFGS-B CODE\n",
      "\n",
      "           * * *\n",
      "\n",
      "Machine precision = 2.220D-16\n",
      " N =          769     M =           10\n",
      "\n",
      "At X0         0 variables are exactly at the bounds\n",
      "\n",
      "At iterate    0    f=  1.58229D+04    |proj g|=  2.65582D+01\n",
      "RUNNING THE L-BFGS-B CODE\n",
      "\n",
      "           * * *\n",
      "\n",
      "Machine precision = 2.220D-16\n",
      " N =          769     M =           10\n",
      "\n",
      "At X0         0 variables are exactly at the bounds\n",
      "\n",
      "At iterate    0    f=  1.56749D+04    |proj g|=  2.69117D+01\n"
     ]
    },
    {
     "name": "stderr",
     "output_type": "stream",
     "text": [
      "/home/poh9shka/.local/lib/python3.10/site-packages/sklearn/linear_model/_logistic.py:814: ConvergenceWarning: lbfgs failed to converge (status=1):\n",
      "STOP: TOTAL NO. of ITERATIONS REACHED LIMIT.\n",
      "\n",
      "Increase the number of iterations (max_iter) or scale the data as shown in:\n",
      "    https://scikit-learn.org/stable/modules/preprocessing.html\n",
      "Please also refer to the documentation for alternative solver options:\n",
      "    https://scikit-learn.org/stable/modules/linear_model.html#logistic-regression\n",
      "  n_iter_i = _check_optimize_result(\n",
      "/home/poh9shka/.local/lib/python3.10/site-packages/sklearn/linear_model/_logistic.py:814: ConvergenceWarning: lbfgs failed to converge (status=1):\n",
      "STOP: TOTAL NO. of ITERATIONS REACHED LIMIT.\n",
      "\n",
      "Increase the number of iterations (max_iter) or scale the data as shown in:\n",
      "    https://scikit-learn.org/stable/modules/preprocessing.html\n",
      "Please also refer to the documentation for alternative solver options:\n",
      "    https://scikit-learn.org/stable/modules/linear_model.html#logistic-regression\n",
      "  n_iter_i = _check_optimize_result(\n",
      " This problem is unconstrained.\n",
      " This problem is unconstrained.\n"
     ]
    },
    {
     "name": "stdout",
     "output_type": "stream",
     "text": [
      "\n",
      "At iterate   50    f=  1.58933D+04    |proj g|=  7.61601D+01\n",
      "\n",
      "At iterate   50    f=  1.56549D+04    |proj g|=  3.73046D+01\n",
      "\n",
      "At iterate   50    f=  1.58039D+04    |proj g|=  3.34269D+01\n",
      "\n",
      "At iterate  100    f=  1.58855D+04    |proj g|=  2.73852D+01\n",
      "\n",
      "           * * *\n",
      "\n",
      "Tit   = total number of iterations\n",
      "Tnf   = total number of function evaluations\n",
      "Tnint = total number of segments explored during Cauchy searches\n",
      "Skip  = number of BFGS updates skipped\n",
      "Nact  = number of active bounds at final generalized Cauchy point\n",
      "Projg = norm of the final projected gradient\n",
      "F     = final function value\n",
      "\n",
      "           * * *\n",
      "\n",
      "   N    Tit     Tnf  Tnint  Skip  Nact     Projg        F\n",
      "  769    100    117      1     0     0   2.739D+01   1.589D+04\n",
      "  F =   15885.457473719582     \n",
      "\n",
      "STOP: TOTAL NO. of ITERATIONS REACHED LIMIT                 \n",
      "RUNNING THE L-BFGS-B CODE\n",
      "\n",
      "           * * *\n",
      "\n",
      "Machine precision = 2.220D-16\n",
      " N =          769     M =           10\n",
      "\n",
      "At X0         0 variables are exactly at the bounds\n",
      "\n",
      "At iterate    0    f=  1.57459D+04    |proj g|=  2.76490D+01\n"
     ]
    },
    {
     "name": "stderr",
     "output_type": "stream",
     "text": [
      "/home/poh9shka/.local/lib/python3.10/site-packages/sklearn/linear_model/_logistic.py:814: ConvergenceWarning: lbfgs failed to converge (status=1):\n",
      "STOP: TOTAL NO. of ITERATIONS REACHED LIMIT.\n",
      "\n",
      "Increase the number of iterations (max_iter) or scale the data as shown in:\n",
      "    https://scikit-learn.org/stable/modules/preprocessing.html\n",
      "Please also refer to the documentation for alternative solver options:\n",
      "    https://scikit-learn.org/stable/modules/linear_model.html#logistic-regression\n",
      "  n_iter_i = _check_optimize_result(\n",
      " This problem is unconstrained.\n"
     ]
    },
    {
     "name": "stdout",
     "output_type": "stream",
     "text": [
      "\n",
      "At iterate  100    f=  1.56529D+04    |proj g|=  6.34764D+00\n",
      "\n",
      "           * * *\n",
      "\n",
      "Tit   = total number of iterations\n",
      "Tnf   = total number of function evaluations\n",
      "Tnint = total number of segments explored during Cauchy searches\n",
      "Skip  = number of BFGS updates skipped\n",
      "Nact  = number of active bounds at final generalized Cauchy point\n",
      "Projg = norm of the final projected gradient\n",
      "F     = final function value\n",
      "\n",
      "           * * *\n",
      "\n",
      "   N    Tit     Tnf  Tnint  Skip  Nact     Projg        F\n",
      "  769    100    117      1     0     0   6.348D+00   1.565D+04\n",
      "  F =   15652.885085168846     \n",
      "\n",
      "STOP: TOTAL NO. of ITERATIONS REACHED LIMIT                 \n",
      "\n",
      "At iterate  100    f=  1.58003D+04    |proj g|=  8.91646D+00\n",
      "\n",
      "           * * *\n",
      "\n",
      "Tit   = total number of iterations\n",
      "Tnf   = total number of function evaluations\n",
      "Tnint = total number of segments explored during Cauchy searches\n",
      "Skip  = number of BFGS updates skipped\n",
      "Nact  = number of active bounds at final generalized Cauchy point\n",
      "Projg = norm of the final projected gradient\n",
      "F     = final function value\n",
      "\n",
      "           * * *\n",
      "\n",
      "   N    Tit     Tnf  Tnint  Skip  Nact     Projg        F\n",
      "  769    100    119      1     0     0   8.916D+00   1.580D+04\n",
      "  F =   15800.306820155713     \n",
      "\n",
      "STOP: TOTAL NO. of ITERATIONS REACHED LIMIT                 \n",
      "RUNNING THE L-BFGS-B CODE\n",
      "\n",
      "           * * *\n",
      "\n",
      "Machine precision = 2.220D-16\n",
      " N =          769     M =           10\n",
      "\n",
      "At X0         0 variables are exactly at the bounds\n",
      "\n",
      "At iterate    0    f=  1.55187D+04    |proj g|=  6.28358D+00\n",
      "RUNNING THE L-BFGS-B CODE\n",
      "\n",
      "           * * *\n",
      "\n",
      "Machine precision = 2.220D-16\n",
      " N =          769     M =           10\n",
      "\n",
      "At X0         0 variables are exactly at the bounds\n",
      "\n",
      "At iterate    0    f=  1.56626D+04    |proj g|=  8.93726D+00\n"
     ]
    },
    {
     "name": "stderr",
     "output_type": "stream",
     "text": [
      "/home/poh9shka/.local/lib/python3.10/site-packages/sklearn/linear_model/_logistic.py:814: ConvergenceWarning: lbfgs failed to converge (status=1):\n",
      "STOP: TOTAL NO. of ITERATIONS REACHED LIMIT.\n",
      "\n",
      "Increase the number of iterations (max_iter) or scale the data as shown in:\n",
      "    https://scikit-learn.org/stable/modules/preprocessing.html\n",
      "Please also refer to the documentation for alternative solver options:\n",
      "    https://scikit-learn.org/stable/modules/linear_model.html#logistic-regression\n",
      "  n_iter_i = _check_optimize_result(\n",
      "/home/poh9shka/.local/lib/python3.10/site-packages/sklearn/linear_model/_logistic.py:814: ConvergenceWarning: lbfgs failed to converge (status=1):\n",
      "STOP: TOTAL NO. of ITERATIONS REACHED LIMIT.\n",
      "\n",
      "Increase the number of iterations (max_iter) or scale the data as shown in:\n",
      "    https://scikit-learn.org/stable/modules/preprocessing.html\n",
      "Please also refer to the documentation for alternative solver options:\n",
      "    https://scikit-learn.org/stable/modules/linear_model.html#logistic-regression\n",
      "  n_iter_i = _check_optimize_result(\n",
      " This problem is unconstrained.\n",
      " This problem is unconstrained.\n"
     ]
    },
    {
     "name": "stdout",
     "output_type": "stream",
     "text": [
      "\n",
      "At iterate   50    f=  1.57368D+04    |proj g|=  1.74466D+01\n",
      "\n",
      "At iterate   50    f=  1.56518D+04    |proj g|=  3.76097D+01\n",
      "\n",
      "At iterate   50    f=  1.55080D+04    |proj g|=  1.59295D+01\n",
      "\n",
      "At iterate  100    f=  1.57274D+04    |proj g|=  2.66140D+01\n",
      "\n",
      "           * * *\n",
      "\n",
      "Tit   = total number of iterations\n",
      "Tnf   = total number of function evaluations\n",
      "Tnint = total number of segments explored during Cauchy searches\n",
      "Skip  = number of BFGS updates skipped\n",
      "Nact  = number of active bounds at final generalized Cauchy point\n",
      "Projg = norm of the final projected gradient\n",
      "F     = final function value\n",
      "\n",
      "           * * *\n",
      "\n",
      "   N    Tit     Tnf  Tnint  Skip  Nact     Projg        F\n",
      "  769    100    114      1     0     0   2.661D+01   1.573D+04\n",
      "  F =   15727.380895632428     \n",
      "\n",
      "STOP: TOTAL NO. of ITERATIONS REACHED LIMIT                 \n",
      "RUNNING THE L-BFGS-B CODE\n",
      "\n",
      "           * * *\n",
      "\n",
      "Machine precision = 2.220D-16\n",
      " N =          769     M =           10\n",
      "\n",
      "At X0         0 variables are exactly at the bounds\n",
      "\n",
      "At iterate    0    f=  1.56099D+04    |proj g|=  2.64298D+01\n"
     ]
    },
    {
     "name": "stderr",
     "output_type": "stream",
     "text": [
      "/home/poh9shka/.local/lib/python3.10/site-packages/sklearn/linear_model/_logistic.py:814: ConvergenceWarning: lbfgs failed to converge (status=1):\n",
      "STOP: TOTAL NO. of ITERATIONS REACHED LIMIT.\n",
      "\n",
      "Increase the number of iterations (max_iter) or scale the data as shown in:\n",
      "    https://scikit-learn.org/stable/modules/preprocessing.html\n",
      "Please also refer to the documentation for alternative solver options:\n",
      "    https://scikit-learn.org/stable/modules/linear_model.html#logistic-regression\n",
      "  n_iter_i = _check_optimize_result(\n",
      " This problem is unconstrained.\n"
     ]
    },
    {
     "name": "stdout",
     "output_type": "stream",
     "text": [
      "\n",
      "At iterate  100    f=  1.56474D+04    |proj g|=  1.29818D+01\n",
      "\n",
      "           * * *\n",
      "\n",
      "Tit   = total number of iterations\n",
      "Tnf   = total number of function evaluations\n",
      "Tnint = total number of segments explored during Cauchy searches\n",
      "Skip  = number of BFGS updates skipped\n",
      "Nact  = number of active bounds at final generalized Cauchy point\n",
      "Projg = norm of the final projected gradient\n",
      "F     = final function value\n",
      "\n",
      "           * * *\n",
      "\n",
      "   N    Tit     Tnf  Tnint  Skip  Nact     Projg        F\n",
      "  769    100    113      1     0     0   1.298D+01   1.565D+04\n",
      "  F =   15647.424904323232     \n",
      "\n",
      "STOP: TOTAL NO. of ITERATIONS REACHED LIMIT                 \n",
      "RUNNING THE L-BFGS-B CODE\n",
      "\n",
      "           * * *\n",
      "\n",
      "Machine precision = 2.220D-16\n",
      " N =          769     M =           10\n",
      "\n",
      "At X0         0 variables are exactly at the bounds\n",
      "\n",
      "At iterate    0    f=  1.55325D+04    |proj g|=  1.29785D+01\n"
     ]
    },
    {
     "name": "stderr",
     "output_type": "stream",
     "text": [
      "/home/poh9shka/.local/lib/python3.10/site-packages/sklearn/linear_model/_logistic.py:814: ConvergenceWarning: lbfgs failed to converge (status=1):\n",
      "STOP: TOTAL NO. of ITERATIONS REACHED LIMIT.\n",
      "\n",
      "Increase the number of iterations (max_iter) or scale the data as shown in:\n",
      "    https://scikit-learn.org/stable/modules/preprocessing.html\n",
      "Please also refer to the documentation for alternative solver options:\n",
      "    https://scikit-learn.org/stable/modules/linear_model.html#logistic-regression\n",
      "  n_iter_i = _check_optimize_result(\n",
      " This problem is unconstrained.\n"
     ]
    },
    {
     "name": "stdout",
     "output_type": "stream",
     "text": [
      "\n",
      "At iterate  100    f=  1.55040D+04    |proj g|=  2.21251D+01\n",
      "\n",
      "           * * *\n",
      "\n",
      "Tit   = total number of iterations\n",
      "Tnf   = total number of function evaluations\n",
      "Tnint = total number of segments explored during Cauchy searches\n",
      "Skip  = number of BFGS updates skipped\n",
      "Nact  = number of active bounds at final generalized Cauchy point\n",
      "Projg = norm of the final projected gradient\n",
      "F     = final function value\n",
      "\n",
      "           * * *\n",
      "\n",
      "   N    Tit     Tnf  Tnint  Skip  Nact     Projg        F\n",
      "  769    100    117      1     0     0   2.213D+01   1.550D+04\n",
      "  F =   15504.016167337757     \n",
      "\n",
      "STOP: TOTAL NO. of ITERATIONS REACHED LIMIT                 \n",
      "RUNNING THE L-BFGS-B CODE\n",
      "\n",
      "           * * *\n",
      "\n",
      "Machine precision = 2.220D-16\n",
      " N =          769     M =           10\n",
      "\n",
      "At X0         0 variables are exactly at the bounds\n",
      "\n",
      "At iterate    0    f=  1.53929D+04    |proj g|=  2.21791D+01\n"
     ]
    },
    {
     "name": "stderr",
     "output_type": "stream",
     "text": [
      "/home/poh9shka/.local/lib/python3.10/site-packages/sklearn/linear_model/_logistic.py:814: ConvergenceWarning: lbfgs failed to converge (status=1):\n",
      "STOP: TOTAL NO. of ITERATIONS REACHED LIMIT.\n",
      "\n",
      "Increase the number of iterations (max_iter) or scale the data as shown in:\n",
      "    https://scikit-learn.org/stable/modules/preprocessing.html\n",
      "Please also refer to the documentation for alternative solver options:\n",
      "    https://scikit-learn.org/stable/modules/linear_model.html#logistic-regression\n",
      "  n_iter_i = _check_optimize_result(\n",
      " This problem is unconstrained.\n"
     ]
    },
    {
     "name": "stdout",
     "output_type": "stream",
     "text": [
      "\n",
      "At iterate   50    f=  1.55988D+04    |proj g|=  8.79380D+00\n",
      "\n",
      "At iterate   50    f=  1.53836D+04    |proj g|=  6.01999D+01\n",
      "\n",
      "At iterate   50    f=  1.55254D+04    |proj g|=  8.94213D+01\n",
      "\n",
      "At iterate  100    f=  1.55964D+04    |proj g|=  1.87340D+01\n",
      "\n",
      "           * * *\n",
      "\n",
      "Tit   = total number of iterations\n",
      "Tnf   = total number of function evaluations\n",
      "Tnint = total number of segments explored during Cauchy searches\n",
      "Skip  = number of BFGS updates skipped\n",
      "Nact  = number of active bounds at final generalized Cauchy point\n",
      "Projg = norm of the final projected gradient\n",
      "F     = final function value\n",
      "\n",
      "           * * *\n",
      "\n",
      "   N    Tit     Tnf  Tnint  Skip  Nact     Projg        F\n",
      "  769    100    113      1     0     0   1.873D+01   1.560D+04\n",
      "  F =   15596.374604523478     \n",
      "\n",
      "STOP: TOTAL NO. of ITERATIONS REACHED LIMIT                 \n",
      "RUNNING THE L-BFGS-B CODE\n",
      "\n",
      "           * * *\n",
      "\n",
      "Machine precision = 2.220D-16\n",
      " N =          769     M =           10\n",
      "\n",
      "At X0         0 variables are exactly at the bounds\n",
      "\n",
      "At iterate    0    f=  1.55001D+04    |proj g|=  1.83907D+01\n"
     ]
    },
    {
     "name": "stderr",
     "output_type": "stream",
     "text": [
      "/home/poh9shka/.local/lib/python3.10/site-packages/sklearn/linear_model/_logistic.py:814: ConvergenceWarning: lbfgs failed to converge (status=1):\n",
      "STOP: TOTAL NO. of ITERATIONS REACHED LIMIT.\n",
      "\n",
      "Increase the number of iterations (max_iter) or scale the data as shown in:\n",
      "    https://scikit-learn.org/stable/modules/preprocessing.html\n",
      "Please also refer to the documentation for alternative solver options:\n",
      "    https://scikit-learn.org/stable/modules/linear_model.html#logistic-regression\n",
      "  n_iter_i = _check_optimize_result(\n",
      " This problem is unconstrained.\n"
     ]
    },
    {
     "name": "stdout",
     "output_type": "stream",
     "text": [
      "\n",
      "At iterate  100    f=  1.53811D+04    |proj g|=  1.59698D+01\n",
      "\n",
      "           * * *\n",
      "\n",
      "Tit   = total number of iterations\n",
      "Tnf   = total number of function evaluations\n",
      "Tnint = total number of segments explored during Cauchy searches\n",
      "Skip  = number of BFGS updates skipped\n",
      "Nact  = number of active bounds at final generalized Cauchy point\n",
      "Projg = norm of the final projected gradient\n",
      "F     = final function value\n",
      "\n",
      "           * * *\n",
      "\n",
      "   N    Tit     Tnf  Tnint  Skip  Nact     Projg        F\n",
      "  769    100    113      1     0     0   1.597D+01   1.538D+04\n",
      "  F =   15381.118836337575     \n",
      "\n",
      "STOP: TOTAL NO. of ITERATIONS REACHED LIMIT                 \n",
      "RUNNING THE L-BFGS-B CODE\n",
      "\n",
      "           * * *\n",
      "\n",
      "Machine precision = 2.220D-16\n",
      " N =          769     M =           10\n",
      "\n",
      "At X0         0 variables are exactly at the bounds\n",
      "\n",
      "At iterate    0    f=  1.52908D+04    |proj g|=  1.59193D+01\n"
     ]
    },
    {
     "name": "stderr",
     "output_type": "stream",
     "text": [
      "/home/poh9shka/.local/lib/python3.10/site-packages/sklearn/linear_model/_logistic.py:814: ConvergenceWarning: lbfgs failed to converge (status=1):\n",
      "STOP: TOTAL NO. of ITERATIONS REACHED LIMIT.\n",
      "\n",
      "Increase the number of iterations (max_iter) or scale the data as shown in:\n",
      "    https://scikit-learn.org/stable/modules/preprocessing.html\n",
      "Please also refer to the documentation for alternative solver options:\n",
      "    https://scikit-learn.org/stable/modules/linear_model.html#logistic-regression\n",
      "  n_iter_i = _check_optimize_result(\n",
      " This problem is unconstrained.\n"
     ]
    },
    {
     "name": "stdout",
     "output_type": "stream",
     "text": [
      "\n",
      "At iterate  100    f=  1.55203D+04    |proj g|=  5.74509D+00\n",
      "\n",
      "           * * *\n",
      "\n",
      "Tit   = total number of iterations\n",
      "Tnf   = total number of function evaluations\n",
      "Tnint = total number of segments explored during Cauchy searches\n",
      "Skip  = number of BFGS updates skipped\n",
      "Nact  = number of active bounds at final generalized Cauchy point\n",
      "Projg = norm of the final projected gradient\n",
      "F     = final function value\n",
      "\n",
      "           * * *\n",
      "\n",
      "   N    Tit     Tnf  Tnint  Skip  Nact     Projg        F\n",
      "  769    100    115      1     0     0   5.745D+00   1.552D+04\n",
      "  F =   15520.344530549492     \n",
      "\n",
      "STOP: TOTAL NO. of ITERATIONS REACHED LIMIT                 \n",
      "RUNNING THE L-BFGS-B CODE\n",
      "\n",
      "           * * *\n",
      "\n",
      "Machine precision = 2.220D-16\n",
      " N =          769     M =           10\n",
      "\n",
      "At X0         0 variables are exactly at the bounds\n",
      "\n",
      "At iterate    0    f=  1.54261D+04    |proj g|=  6.08790D+00\n"
     ]
    },
    {
     "name": "stderr",
     "output_type": "stream",
     "text": [
      "/home/poh9shka/.local/lib/python3.10/site-packages/sklearn/linear_model/_logistic.py:814: ConvergenceWarning: lbfgs failed to converge (status=1):\n",
      "STOP: TOTAL NO. of ITERATIONS REACHED LIMIT.\n",
      "\n",
      "Increase the number of iterations (max_iter) or scale the data as shown in:\n",
      "    https://scikit-learn.org/stable/modules/preprocessing.html\n",
      "Please also refer to the documentation for alternative solver options:\n",
      "    https://scikit-learn.org/stable/modules/linear_model.html#logistic-regression\n",
      "  n_iter_i = _check_optimize_result(\n",
      " This problem is unconstrained.\n"
     ]
    },
    {
     "name": "stdout",
     "output_type": "stream",
     "text": [
      "\n",
      "At iterate   50    f=  1.54940D+04    |proj g|=  1.60231D+02\n",
      "\n",
      "At iterate   50    f=  1.52841D+04    |proj g|=  1.15959D+01\n",
      "\n",
      "At iterate   50    f=  1.54198D+04    |proj g|=  8.58857D+00\n",
      "\n",
      "At iterate  100    f=  1.54178D+04    |proj g|=  7.39812D+00\n",
      "\n",
      "           * * *\n",
      "\n",
      "Tit   = total number of iterations\n",
      "Tnf   = total number of function evaluations\n",
      "Tnint = total number of segments explored during Cauchy searches\n",
      "Skip  = number of BFGS updates skipped\n",
      "Nact  = number of active bounds at final generalized Cauchy point\n",
      "Projg = norm of the final projected gradient\n",
      "F     = final function value\n",
      "\n",
      "           * * *\n",
      "\n",
      "   N    Tit     Tnf  Tnint  Skip  Nact     Projg        F\n",
      "  769    100    113      1     0     0   7.398D+00   1.542D+04\n",
      "  F =   15417.805873857325     \n",
      "\n",
      "STOP: TOTAL NO. of ITERATIONS REACHED LIMIT                 \n",
      "\n",
      "At iterate  100    f=  1.52823D+04    |proj g|=  2.60975D+01\n",
      "\n",
      "           * * *\n",
      "\n",
      "Tit   = total number of iterations\n",
      "Tnf   = total number of function evaluations\n",
      "Tnint = total number of segments explored during Cauchy searches\n",
      "Skip  = number of BFGS updates skipped\n",
      "Nact  = number of active bounds at final generalized Cauchy point\n",
      "Projg = norm of the final projected gradient\n",
      "F     = final function value\n",
      "\n",
      "           * * *\n",
      "\n",
      "   N    Tit     Tnf  Tnint  Skip  Nact     Projg        F\n",
      "  769    100    117      1     0     0   2.610D+01   1.528D+04\n",
      "  F =   15282.336143948434     \n",
      "\n",
      "STOP: TOTAL NO. of ITERATIONS REACHED LIMIT                 \n",
      "\n",
      "At iterate  100    f=  1.54910D+04    |proj g|=  1.61364D+01\n",
      "\n",
      "           * * *\n",
      "\n",
      "Tit   = total number of iterations\n",
      "Tnf   = total number of function evaluations\n",
      "Tnint = total number of segments explored during Cauchy searches\n",
      "Skip  = number of BFGS updates skipped\n",
      "Nact  = number of active bounds at final generalized Cauchy point\n",
      "Projg = norm of the final projected gradient\n",
      "F     = final function value\n",
      "\n",
      "           * * *\n",
      "\n",
      "   N    Tit     Tnf  Tnint  Skip  Nact     Projg        F\n",
      "  769    100    112      1     0     0   1.614D+01   1.549D+04\n",
      "  F =   15491.029830882630     \n",
      "\n",
      "STOP: TOTAL NO. of ITERATIONS REACHED LIMIT                 \n",
      "RUNNING THE L-BFGS-B CODE\n",
      "\n",
      "           * * *\n",
      "\n",
      "Machine precision = 2.220D-16\n",
      " N =          769     M =           10\n",
      "\n",
      "At X0         0 variables are exactly at the bounds\n",
      "\n",
      "At iterate    0    f=  1.53435D+04    |proj g|=  7.43275D+00\n",
      "RUNNING THE L-BFGS-B CODE\n",
      "\n",
      "           * * *\n",
      "\n",
      "Machine precision = 2.220D-16\n",
      " N =          769     M =           10\n",
      "\n",
      "At X0         0 variables are exactly at the bounds\n",
      "\n",
      "At iterate    0    f=  1.52110D+04    |proj g|=  2.61459D+01\n",
      "RUNNING THE L-BFGS-B CODE\n",
      "\n",
      "           * * *\n",
      "\n",
      "Machine precision = 2.220D-16\n",
      " N =          769     M =           10\n",
      "\n",
      "At X0         0 variables are exactly at the bounds\n",
      "\n",
      "At iterate    0    f=  1.54149D+04    |proj g|=  1.62175D+01\n"
     ]
    },
    {
     "name": "stderr",
     "output_type": "stream",
     "text": [
      "/home/poh9shka/.local/lib/python3.10/site-packages/sklearn/linear_model/_logistic.py:814: ConvergenceWarning: lbfgs failed to converge (status=1):\n",
      "STOP: TOTAL NO. of ITERATIONS REACHED LIMIT.\n",
      "\n",
      "Increase the number of iterations (max_iter) or scale the data as shown in:\n",
      "    https://scikit-learn.org/stable/modules/preprocessing.html\n",
      "Please also refer to the documentation for alternative solver options:\n",
      "    https://scikit-learn.org/stable/modules/linear_model.html#logistic-regression\n",
      "  n_iter_i = _check_optimize_result(\n",
      "/home/poh9shka/.local/lib/python3.10/site-packages/sklearn/linear_model/_logistic.py:814: ConvergenceWarning: lbfgs failed to converge (status=1):\n",
      "STOP: TOTAL NO. of ITERATIONS REACHED LIMIT.\n",
      "\n",
      "Increase the number of iterations (max_iter) or scale the data as shown in:\n",
      "    https://scikit-learn.org/stable/modules/preprocessing.html\n",
      "Please also refer to the documentation for alternative solver options:\n",
      "    https://scikit-learn.org/stable/modules/linear_model.html#logistic-regression\n",
      "  n_iter_i = _check_optimize_result(\n",
      "/home/poh9shka/.local/lib/python3.10/site-packages/sklearn/linear_model/_logistic.py:814: ConvergenceWarning: lbfgs failed to converge (status=1):\n",
      "STOP: TOTAL NO. of ITERATIONS REACHED LIMIT.\n",
      "\n",
      "Increase the number of iterations (max_iter) or scale the data as shown in:\n",
      "    https://scikit-learn.org/stable/modules/preprocessing.html\n",
      "Please also refer to the documentation for alternative solver options:\n",
      "    https://scikit-learn.org/stable/modules/linear_model.html#logistic-regression\n",
      "  n_iter_i = _check_optimize_result(\n",
      " This problem is unconstrained.\n",
      " This problem is unconstrained.\n",
      " This problem is unconstrained.\n"
     ]
    },
    {
     "name": "stdout",
     "output_type": "stream",
     "text": [
      "\n",
      "At iterate   50    f=  1.52082D+04    |proj g|=  2.58080D+01\n",
      "\n",
      "At iterate   50    f=  1.53412D+04    |proj g|=  1.19550D+02\n",
      "\n",
      "At iterate   50    f=  1.54130D+04    |proj g|=  9.00132D+01\n",
      "\n",
      "At iterate  100    f=  1.53387D+04    |proj g|=  1.73001D+01\n",
      "\n",
      "           * * *\n",
      "\n",
      "Tit   = total number of iterations\n",
      "Tnf   = total number of function evaluations\n",
      "Tnint = total number of segments explored during Cauchy searches\n",
      "Skip  = number of BFGS updates skipped\n",
      "Nact  = number of active bounds at final generalized Cauchy point\n",
      "Projg = norm of the final projected gradient\n",
      "F     = final function value\n",
      "\n",
      "           * * *\n",
      "\n",
      "   N    Tit     Tnf  Tnint  Skip  Nact     Projg        F\n",
      "  769    100    113      1     0     0   1.730D+01   1.534D+04\n",
      "  F =   15338.736005106177     \n",
      "\n",
      "STOP: TOTAL NO. of ITERATIONS REACHED LIMIT                 \n",
      "RUNNING THE L-BFGS-B CODE\n",
      "\n",
      "           * * *\n",
      "\n",
      "Machine precision = 2.220D-16\n",
      " N =          769     M =           10\n",
      "\n",
      "At X0         0 variables are exactly at the bounds\n",
      "\n",
      "At iterate    0    f=  1.52821D+04    |proj g|=  1.71325D+01\n"
     ]
    },
    {
     "name": "stderr",
     "output_type": "stream",
     "text": [
      "/home/poh9shka/.local/lib/python3.10/site-packages/sklearn/linear_model/_logistic.py:814: ConvergenceWarning: lbfgs failed to converge (status=1):\n",
      "STOP: TOTAL NO. of ITERATIONS REACHED LIMIT.\n",
      "\n",
      "Increase the number of iterations (max_iter) or scale the data as shown in:\n",
      "    https://scikit-learn.org/stable/modules/preprocessing.html\n",
      "Please also refer to the documentation for alternative solver options:\n",
      "    https://scikit-learn.org/stable/modules/linear_model.html#logistic-regression\n",
      "  n_iter_i = _check_optimize_result(\n",
      " This problem is unconstrained.\n"
     ]
    },
    {
     "name": "stdout",
     "output_type": "stream",
     "text": [
      "\n",
      "At iterate  100    f=  1.52063D+04    |proj g|=  2.07169D+00\n",
      "\n",
      "           * * *\n",
      "\n",
      "Tit   = total number of iterations\n",
      "Tnf   = total number of function evaluations\n",
      "Tnint = total number of segments explored during Cauchy searches\n",
      "Skip  = number of BFGS updates skipped\n",
      "Nact  = number of active bounds at final generalized Cauchy point\n",
      "Projg = norm of the final projected gradient\n",
      "F     = final function value\n",
      "\n",
      "           * * *\n",
      "\n",
      "   N    Tit     Tnf  Tnint  Skip  Nact     Projg        F\n",
      "  769    100    116      1     0     0   2.072D+00   1.521D+04\n",
      "  F =   15206.317605269909     \n",
      "\n",
      "STOP: TOTAL NO. of ITERATIONS REACHED LIMIT                 \n",
      "RUNNING THE L-BFGS-B CODE\n",
      "\n",
      "           * * *\n",
      "\n",
      "Machine precision = 2.220D-16\n",
      " N =          769     M =           10\n",
      "\n",
      "At X0         0 variables are exactly at the bounds\n",
      "\n",
      "At iterate    0    f=  1.51520D+04    |proj g|=  1.83123D+00\n"
     ]
    },
    {
     "name": "stderr",
     "output_type": "stream",
     "text": [
      "/home/poh9shka/.local/lib/python3.10/site-packages/sklearn/linear_model/_logistic.py:814: ConvergenceWarning: lbfgs failed to converge (status=1):\n",
      "STOP: TOTAL NO. of ITERATIONS REACHED LIMIT.\n",
      "\n",
      "Increase the number of iterations (max_iter) or scale the data as shown in:\n",
      "    https://scikit-learn.org/stable/modules/preprocessing.html\n",
      "Please also refer to the documentation for alternative solver options:\n",
      "    https://scikit-learn.org/stable/modules/linear_model.html#logistic-regression\n",
      "  n_iter_i = _check_optimize_result(\n",
      " This problem is unconstrained.\n"
     ]
    },
    {
     "name": "stdout",
     "output_type": "stream",
     "text": [
      "\n",
      "At iterate  100    f=  1.54091D+04    |proj g|=  1.27911D+01\n",
      "\n",
      "           * * *\n",
      "\n",
      "Tit   = total number of iterations\n",
      "Tnf   = total number of function evaluations\n",
      "Tnint = total number of segments explored during Cauchy searches\n",
      "Skip  = number of BFGS updates skipped\n",
      "Nact  = number of active bounds at final generalized Cauchy point\n",
      "Projg = norm of the final projected gradient\n",
      "F     = final function value\n",
      "\n",
      "           * * *\n",
      "\n",
      "   N    Tit     Tnf  Tnint  Skip  Nact     Projg        F\n",
      "  769    100    110      1     0     0   1.279D+01   1.541D+04\n",
      "  F =   15409.115070628604     \n",
      "\n",
      "STOP: TOTAL NO. of ITERATIONS REACHED LIMIT                 \n",
      "RUNNING THE L-BFGS-B CODE\n",
      "\n",
      "           * * *\n",
      "\n",
      "Machine precision = 2.220D-16\n",
      " N =          769     M =           10\n",
      "\n",
      "At X0         0 variables are exactly at the bounds\n",
      "\n",
      "At iterate    0    f=  1.53504D+04    |proj g|=  1.28429D+01\n"
     ]
    },
    {
     "name": "stderr",
     "output_type": "stream",
     "text": [
      "/home/poh9shka/.local/lib/python3.10/site-packages/sklearn/linear_model/_logistic.py:814: ConvergenceWarning: lbfgs failed to converge (status=1):\n",
      "STOP: TOTAL NO. of ITERATIONS REACHED LIMIT.\n",
      "\n",
      "Increase the number of iterations (max_iter) or scale the data as shown in:\n",
      "    https://scikit-learn.org/stable/modules/preprocessing.html\n",
      "Please also refer to the documentation for alternative solver options:\n",
      "    https://scikit-learn.org/stable/modules/linear_model.html#logistic-regression\n",
      "  n_iter_i = _check_optimize_result(\n",
      " This problem is unconstrained.\n"
     ]
    },
    {
     "name": "stdout",
     "output_type": "stream",
     "text": [
      "\n",
      "At iterate   50    f=  1.52807D+04    |proj g|=  4.71593D+01\n",
      "\n",
      "At iterate   50    f=  1.51505D+04    |proj g|=  4.54058D+01\n",
      "\n",
      "At iterate   50    f=  1.53491D+04    |proj g|=  2.87173D+01\n",
      "\n",
      "At iterate  100    f=  1.52788D+04    |proj g|=  6.76541D+00\n",
      "\n",
      "           * * *\n",
      "\n",
      "Tit   = total number of iterations\n",
      "Tnf   = total number of function evaluations\n",
      "Tnint = total number of segments explored during Cauchy searches\n",
      "Skip  = number of BFGS updates skipped\n",
      "Nact  = number of active bounds at final generalized Cauchy point\n",
      "Projg = norm of the final projected gradient\n",
      "F     = final function value\n",
      "\n",
      "           * * *\n",
      "\n",
      "   N    Tit     Tnf  Tnint  Skip  Nact     Projg        F\n",
      "  769    100    117      1     0     0   6.765D+00   1.528D+04\n",
      "  F =   15278.783047134648     \n",
      "\n",
      "STOP: TOTAL NO. of ITERATIONS REACHED LIMIT                 \n",
      "RUNNING THE L-BFGS-B CODE\n",
      "\n",
      "           * * *\n",
      "\n",
      "Machine precision = 2.220D-16\n",
      " N =          769     M =           10\n",
      "\n",
      "At X0         0 variables are exactly at the bounds\n",
      "\n",
      "At iterate    0    f=  1.52369D+04    |proj g|=  6.79605D+00\n"
     ]
    },
    {
     "name": "stderr",
     "output_type": "stream",
     "text": [
      "/home/poh9shka/.local/lib/python3.10/site-packages/sklearn/linear_model/_logistic.py:814: ConvergenceWarning: lbfgs failed to converge (status=1):\n",
      "STOP: TOTAL NO. of ITERATIONS REACHED LIMIT.\n",
      "\n",
      "Increase the number of iterations (max_iter) or scale the data as shown in:\n",
      "    https://scikit-learn.org/stable/modules/preprocessing.html\n",
      "Please also refer to the documentation for alternative solver options:\n",
      "    https://scikit-learn.org/stable/modules/linear_model.html#logistic-regression\n",
      "  n_iter_i = _check_optimize_result(\n",
      " This problem is unconstrained.\n"
     ]
    },
    {
     "name": "stdout",
     "output_type": "stream",
     "text": [
      "\n",
      "At iterate  100    f=  1.51488D+04    |proj g|=  4.91216D+00\n",
      "\n",
      "           * * *\n",
      "\n",
      "Tit   = total number of iterations\n",
      "Tnf   = total number of function evaluations\n",
      "Tnint = total number of segments explored during Cauchy searches\n",
      "Skip  = number of BFGS updates skipped\n",
      "Nact  = number of active bounds at final generalized Cauchy point\n",
      "Projg = norm of the final projected gradient\n",
      "F     = final function value\n",
      "\n",
      "           * * *\n",
      "\n",
      "   N    Tit     Tnf  Tnint  Skip  Nact     Projg        F\n",
      "  769    100    118      1     0     0   4.912D+00   1.515D+04\n",
      "  F =   15148.757346246399     \n",
      "\n",
      "STOP: TOTAL NO. of ITERATIONS REACHED LIMIT                 \n",
      "RUNNING THE L-BFGS-B CODE\n",
      "\n",
      "           * * *\n",
      "\n",
      "Machine precision = 2.220D-16\n",
      " N =          769     M =           10\n",
      "\n",
      "At X0         0 variables are exactly at the bounds\n",
      "\n",
      "At iterate    0    f=  1.51084D+04    |proj g|=  5.00778D+00\n"
     ]
    },
    {
     "name": "stderr",
     "output_type": "stream",
     "text": [
      "/home/poh9shka/.local/lib/python3.10/site-packages/sklearn/linear_model/_logistic.py:814: ConvergenceWarning: lbfgs failed to converge (status=1):\n",
      "STOP: TOTAL NO. of ITERATIONS REACHED LIMIT.\n",
      "\n",
      "Increase the number of iterations (max_iter) or scale the data as shown in:\n",
      "    https://scikit-learn.org/stable/modules/preprocessing.html\n",
      "Please also refer to the documentation for alternative solver options:\n",
      "    https://scikit-learn.org/stable/modules/linear_model.html#logistic-regression\n",
      "  n_iter_i = _check_optimize_result(\n",
      " This problem is unconstrained.\n"
     ]
    },
    {
     "name": "stdout",
     "output_type": "stream",
     "text": [
      "\n",
      "At iterate   50    f=  1.52361D+04    |proj g|=  1.02135D+01\n",
      "\n",
      "At iterate  100    f=  1.53467D+04    |proj g|=  1.96247D+01\n",
      "\n",
      "           * * *\n",
      "\n",
      "Tit   = total number of iterations\n",
      "Tnf   = total number of function evaluations\n",
      "Tnint = total number of segments explored during Cauchy searches\n",
      "Skip  = number of BFGS updates skipped\n",
      "Nact  = number of active bounds at final generalized Cauchy point\n",
      "Projg = norm of the final projected gradient\n",
      "F     = final function value\n",
      "\n",
      "           * * *\n",
      "\n",
      "   N    Tit     Tnf  Tnint  Skip  Nact     Projg        F\n",
      "  769    100    117      1     0     0   1.962D+01   1.535D+04\n",
      "  F =   15346.677291301938     \n",
      "\n",
      "STOP: TOTAL NO. of ITERATIONS REACHED LIMIT                 \n",
      "RUNNING THE L-BFGS-B CODE\n",
      "\n",
      "           * * *\n",
      "\n",
      "Machine precision = 2.220D-16\n",
      " N =          769     M =           10\n",
      "\n",
      "At X0         0 variables are exactly at the bounds\n",
      "\n",
      "At iterate    0    f=  1.53034D+04    |proj g|=  1.96573D+01\n",
      "\n",
      "At iterate   50    f=  1.51076D+04    |proj g|=  3.77255D+01\n"
     ]
    },
    {
     "name": "stderr",
     "output_type": "stream",
     "text": [
      "/home/poh9shka/.local/lib/python3.10/site-packages/sklearn/linear_model/_logistic.py:814: ConvergenceWarning: lbfgs failed to converge (status=1):\n",
      "STOP: TOTAL NO. of ITERATIONS REACHED LIMIT.\n",
      "\n",
      "Increase the number of iterations (max_iter) or scale the data as shown in:\n",
      "    https://scikit-learn.org/stable/modules/preprocessing.html\n",
      "Please also refer to the documentation for alternative solver options:\n",
      "    https://scikit-learn.org/stable/modules/linear_model.html#logistic-regression\n",
      "  n_iter_i = _check_optimize_result(\n",
      " This problem is unconstrained.\n"
     ]
    },
    {
     "name": "stdout",
     "output_type": "stream",
     "text": [
      "\n",
      "At iterate  100    f=  1.52353D+04    |proj g|=  2.28989D+00\n",
      "\n",
      "           * * *\n",
      "\n",
      "Tit   = total number of iterations\n",
      "Tnf   = total number of function evaluations\n",
      "Tnint = total number of segments explored during Cauchy searches\n",
      "Skip  = number of BFGS updates skipped\n",
      "Nact  = number of active bounds at final generalized Cauchy point\n",
      "Projg = norm of the final projected gradient\n",
      "F     = final function value\n",
      "\n",
      "           * * *\n",
      "\n",
      "   N    Tit     Tnf  Tnint  Skip  Nact     Projg        F\n",
      "  769    100    111      1     0     0   2.290D+00   1.524D+04\n",
      "  F =   15235.322010793707     \n",
      "\n",
      "STOP: TOTAL NO. of ITERATIONS REACHED LIMIT                 \n",
      "RUNNING THE L-BFGS-B CODE\n",
      "\n",
      "           * * *\n",
      "\n",
      "Machine precision = 2.220D-16\n",
      " N =          769     M =           10\n",
      "\n",
      "At X0         0 variables are exactly at the bounds\n",
      "\n",
      "At iterate    0    f=  1.52059D+04    |proj g|=  2.21113D+00\n"
     ]
    },
    {
     "name": "stderr",
     "output_type": "stream",
     "text": [
      "/home/poh9shka/.local/lib/python3.10/site-packages/sklearn/linear_model/_logistic.py:814: ConvergenceWarning: lbfgs failed to converge (status=1):\n",
      "STOP: TOTAL NO. of ITERATIONS REACHED LIMIT.\n",
      "\n",
      "Increase the number of iterations (max_iter) or scale the data as shown in:\n",
      "    https://scikit-learn.org/stable/modules/preprocessing.html\n",
      "Please also refer to the documentation for alternative solver options:\n",
      "    https://scikit-learn.org/stable/modules/linear_model.html#logistic-regression\n",
      "  n_iter_i = _check_optimize_result(\n",
      " This problem is unconstrained.\n"
     ]
    },
    {
     "name": "stdout",
     "output_type": "stream",
     "text": [
      "\n",
      "At iterate  100    f=  1.51069D+04    |proj g|=  3.23746D+01\n",
      "\n",
      "           * * *\n",
      "\n",
      "Tit   = total number of iterations\n",
      "Tnf   = total number of function evaluations\n",
      "Tnint = total number of segments explored during Cauchy searches\n",
      "Skip  = number of BFGS updates skipped\n",
      "Nact  = number of active bounds at final generalized Cauchy point\n",
      "Projg = norm of the final projected gradient\n",
      "F     = final function value\n",
      "\n",
      "           * * *\n",
      "\n",
      "   N    Tit     Tnf  Tnint  Skip  Nact     Projg        F\n",
      "  769    100    117      1     0     0   3.237D+01   1.511D+04\n",
      "  F =   15106.937665408001     \n",
      "\n",
      "STOP: TOTAL NO. of ITERATIONS REACHED LIMIT                 \n",
      "RUNNING THE L-BFGS-B CODE\n",
      "\n",
      "           * * *\n",
      "\n",
      "Machine precision = 2.220D-16\n",
      " N =          769     M =           10\n",
      "\n",
      "At X0         0 variables are exactly at the bounds\n",
      "\n",
      "At iterate    0    f=  1.50780D+04    |proj g|=  3.23496D+01\n"
     ]
    },
    {
     "name": "stderr",
     "output_type": "stream",
     "text": [
      "/home/poh9shka/.local/lib/python3.10/site-packages/sklearn/linear_model/_logistic.py:814: ConvergenceWarning: lbfgs failed to converge (status=1):\n",
      "STOP: TOTAL NO. of ITERATIONS REACHED LIMIT.\n",
      "\n",
      "Increase the number of iterations (max_iter) or scale the data as shown in:\n",
      "    https://scikit-learn.org/stable/modules/preprocessing.html\n",
      "Please also refer to the documentation for alternative solver options:\n",
      "    https://scikit-learn.org/stable/modules/linear_model.html#logistic-regression\n",
      "  n_iter_i = _check_optimize_result(\n",
      " This problem is unconstrained.\n"
     ]
    },
    {
     "name": "stdout",
     "output_type": "stream",
     "text": [
      "\n",
      "At iterate   50    f=  1.53027D+04    |proj g|=  6.57091D+00\n",
      "\n",
      "At iterate   50    f=  1.52045D+04    |proj g|=  2.70150D+00\n",
      "\n",
      "At iterate   50    f=  1.50776D+04    |proj g|=  9.23571D+00\n",
      "\n",
      "At iterate  100    f=  1.53018D+04    |proj g|=  9.01644D+00\n",
      "\n",
      "           * * *\n",
      "\n",
      "Tit   = total number of iterations\n",
      "Tnf   = total number of function evaluations\n",
      "Tnint = total number of segments explored during Cauchy searches\n",
      "Skip  = number of BFGS updates skipped\n",
      "Nact  = number of active bounds at final generalized Cauchy point\n",
      "Projg = norm of the final projected gradient\n",
      "F     = final function value\n",
      "\n",
      "           * * *\n",
      "\n",
      "   N    Tit     Tnf  Tnint  Skip  Nact     Projg        F\n",
      "  769    100    111      1     0     0   9.016D+00   1.530D+04\n",
      "  F =   15301.841066112236     \n",
      "\n",
      "STOP: TOTAL NO. of ITERATIONS REACHED LIMIT                 \n",
      "RUNNING THE L-BFGS-B CODE\n",
      "\n",
      "           * * *\n",
      "\n",
      "Machine precision = 2.220D-16\n",
      " N =          769     M =           10\n",
      "\n",
      "At X0         0 variables are exactly at the bounds\n",
      "\n",
      "At iterate    0    f=  1.52716D+04    |proj g|=  9.03800D+00\n"
     ]
    },
    {
     "name": "stderr",
     "output_type": "stream",
     "text": [
      "/home/poh9shka/.local/lib/python3.10/site-packages/sklearn/linear_model/_logistic.py:814: ConvergenceWarning: lbfgs failed to converge (status=1):\n",
      "STOP: TOTAL NO. of ITERATIONS REACHED LIMIT.\n",
      "\n",
      "Increase the number of iterations (max_iter) or scale the data as shown in:\n",
      "    https://scikit-learn.org/stable/modules/preprocessing.html\n",
      "Please also refer to the documentation for alternative solver options:\n",
      "    https://scikit-learn.org/stable/modules/linear_model.html#logistic-regression\n",
      "  n_iter_i = _check_optimize_result(\n",
      " This problem is unconstrained.\n"
     ]
    },
    {
     "name": "stdout",
     "output_type": "stream",
     "text": [
      "\n",
      "At iterate  100    f=  1.52036D+04    |proj g|=  2.82291D+00\n",
      "\n",
      "           * * *\n",
      "\n",
      "Tit   = total number of iterations\n",
      "Tnf   = total number of function evaluations\n",
      "Tnint = total number of segments explored during Cauchy searches\n",
      "Skip  = number of BFGS updates skipped\n",
      "Nact  = number of active bounds at final generalized Cauchy point\n",
      "Projg = norm of the final projected gradient\n",
      "F     = final function value\n",
      "\n",
      "           * * *\n",
      "\n",
      "   N    Tit     Tnf  Tnint  Skip  Nact     Projg        F\n",
      "  769    100    115      1     0     0   2.823D+00   1.520D+04\n",
      "  F =   15203.592475309038     \n",
      "\n",
      "STOP: TOTAL NO. of ITERATIONS REACHED LIMIT                 \n",
      "RUNNING THE L-BFGS-B CODE\n",
      "\n",
      "           * * *\n",
      "\n",
      "Machine precision = 2.220D-16\n",
      " N =          769     M =           10\n",
      "\n",
      "At X0         0 variables are exactly at the bounds\n",
      "\n",
      "At iterate    0    f=  1.51823D+04    |proj g|=  2.84048D+00\n"
     ]
    },
    {
     "name": "stderr",
     "output_type": "stream",
     "text": [
      "/home/poh9shka/.local/lib/python3.10/site-packages/sklearn/linear_model/_logistic.py:814: ConvergenceWarning: lbfgs failed to converge (status=1):\n",
      "STOP: TOTAL NO. of ITERATIONS REACHED LIMIT.\n",
      "\n",
      "Increase the number of iterations (max_iter) or scale the data as shown in:\n",
      "    https://scikit-learn.org/stable/modules/preprocessing.html\n",
      "Please also refer to the documentation for alternative solver options:\n",
      "    https://scikit-learn.org/stable/modules/linear_model.html#logistic-regression\n",
      "  n_iter_i = _check_optimize_result(\n",
      " This problem is unconstrained.\n"
     ]
    },
    {
     "name": "stdout",
     "output_type": "stream",
     "text": [
      "\n",
      "At iterate  100    f=  1.50770D+04    |proj g|=  8.98428D+00\n",
      "\n",
      "           * * *\n",
      "\n",
      "Tit   = total number of iterations\n",
      "Tnf   = total number of function evaluations\n",
      "Tnint = total number of segments explored during Cauchy searches\n",
      "Skip  = number of BFGS updates skipped\n",
      "Nact  = number of active bounds at final generalized Cauchy point\n",
      "Projg = norm of the final projected gradient\n",
      "F     = final function value\n",
      "\n",
      "           * * *\n",
      "\n",
      "   N    Tit     Tnf  Tnint  Skip  Nact     Projg        F\n",
      "  769    100    115      1     0     0   8.984D+00   1.508D+04\n",
      "  F =   15077.047094951686     \n",
      "\n",
      "STOP: TOTAL NO. of ITERATIONS REACHED LIMIT                 \n",
      "RUNNING THE L-BFGS-B CODE\n",
      "\n",
      "           * * *\n",
      "\n",
      "Machine precision = 2.220D-16\n",
      " N =          769     M =           10\n",
      "\n",
      "At X0         0 variables are exactly at the bounds\n",
      "\n",
      "At iterate    0    f=  1.50570D+04    |proj g|=  9.00259D+00\n"
     ]
    },
    {
     "name": "stderr",
     "output_type": "stream",
     "text": [
      "/home/poh9shka/.local/lib/python3.10/site-packages/sklearn/linear_model/_logistic.py:814: ConvergenceWarning: lbfgs failed to converge (status=1):\n",
      "STOP: TOTAL NO. of ITERATIONS REACHED LIMIT.\n",
      "\n",
      "Increase the number of iterations (max_iter) or scale the data as shown in:\n",
      "    https://scikit-learn.org/stable/modules/preprocessing.html\n",
      "Please also refer to the documentation for alternative solver options:\n",
      "    https://scikit-learn.org/stable/modules/linear_model.html#logistic-regression\n",
      "  n_iter_i = _check_optimize_result(\n",
      " This problem is unconstrained.\n"
     ]
    },
    {
     "name": "stdout",
     "output_type": "stream",
     "text": [
      "\n",
      "At iterate   50    f=  1.52708D+04    |proj g|=  6.18187D+01\n",
      "\n",
      "At iterate   50    f=  1.51817D+04    |proj g|=  1.05955D+01\n",
      "\n",
      "At iterate   50    f=  1.50566D+04    |proj g|=  5.78825D+00\n",
      "\n",
      "At iterate  100    f=  1.51813D+04    |proj g|=  7.94485D+01\n",
      "\n",
      "           * * *\n",
      "\n",
      "Tit   = total number of iterations\n",
      "Tnf   = total number of function evaluations\n",
      "Tnint = total number of segments explored during Cauchy searches\n",
      "Skip  = number of BFGS updates skipped\n",
      "Nact  = number of active bounds at final generalized Cauchy point\n",
      "Projg = norm of the final projected gradient\n",
      "F     = final function value\n",
      "\n",
      "           * * *\n",
      "\n",
      "   N    Tit     Tnf  Tnint  Skip  Nact     Projg        F\n",
      "  769    100    119      1     0     0   7.945D+01   1.518D+04\n",
      "  F =   15181.258413005335     \n",
      "\n",
      "STOP: TOTAL NO. of ITERATIONS REACHED LIMIT                 \n",
      "RUNNING THE L-BFGS-B CODE\n",
      "\n",
      "           * * *\n",
      "\n",
      "Machine precision = 2.220D-16\n",
      " N =          769     M =           10\n",
      "\n",
      "At X0         0 variables are exactly at the bounds\n",
      "\n",
      "At iterate    0    f=  1.51665D+04    |proj g|=  7.94358D+01\n"
     ]
    },
    {
     "name": "stderr",
     "output_type": "stream",
     "text": [
      "/home/poh9shka/.local/lib/python3.10/site-packages/sklearn/linear_model/_logistic.py:814: ConvergenceWarning: lbfgs failed to converge (status=1):\n",
      "STOP: TOTAL NO. of ITERATIONS REACHED LIMIT.\n",
      "\n",
      "Increase the number of iterations (max_iter) or scale the data as shown in:\n",
      "    https://scikit-learn.org/stable/modules/preprocessing.html\n",
      "Please also refer to the documentation for alternative solver options:\n",
      "    https://scikit-learn.org/stable/modules/linear_model.html#logistic-regression\n",
      "  n_iter_i = _check_optimize_result(\n",
      " This problem is unconstrained.\n"
     ]
    },
    {
     "name": "stdout",
     "output_type": "stream",
     "text": [
      "\n",
      "At iterate  100    f=  1.52691D+04    |proj g|=  9.68033D+00\n",
      "\n",
      "           * * *\n",
      "\n",
      "Tit   = total number of iterations\n",
      "Tnf   = total number of function evaluations\n",
      "Tnint = total number of segments explored during Cauchy searches\n",
      "Skip  = number of BFGS updates skipped\n",
      "Nact  = number of active bounds at final generalized Cauchy point\n",
      "Projg = norm of the final projected gradient\n",
      "F     = final function value\n",
      "\n",
      "           * * *\n",
      "\n",
      "   N    Tit     Tnf  Tnint  Skip  Nact     Projg        F\n",
      "  769    100    115      1     0     0   9.680D+00   1.527D+04\n",
      "  F =   15269.070986976309     \n",
      "\n",
      "STOP: TOTAL NO. of ITERATIONS REACHED LIMIT                 \n",
      "RUNNING THE L-BFGS-B CODE\n",
      "\n",
      "           * * *\n",
      "\n",
      "Machine precision = 2.220D-16\n",
      " N =          769     M =           10\n",
      "\n",
      "At X0         0 variables are exactly at the bounds\n",
      "\n",
      "At iterate    0    f=  1.52475D+04    |proj g|=  9.69433D+00\n"
     ]
    },
    {
     "name": "stderr",
     "output_type": "stream",
     "text": [
      "/home/poh9shka/.local/lib/python3.10/site-packages/sklearn/linear_model/_logistic.py:814: ConvergenceWarning: lbfgs failed to converge (status=1):\n",
      "STOP: TOTAL NO. of ITERATIONS REACHED LIMIT.\n",
      "\n",
      "Increase the number of iterations (max_iter) or scale the data as shown in:\n",
      "    https://scikit-learn.org/stable/modules/preprocessing.html\n",
      "Please also refer to the documentation for alternative solver options:\n",
      "    https://scikit-learn.org/stable/modules/linear_model.html#logistic-regression\n",
      "  n_iter_i = _check_optimize_result(\n",
      " This problem is unconstrained.\n"
     ]
    },
    {
     "name": "stdout",
     "output_type": "stream",
     "text": [
      "\n",
      "At iterate  100    f=  1.50561D+04    |proj g|=  5.64260D+00\n",
      "\n",
      "           * * *\n",
      "\n",
      "Tit   = total number of iterations\n",
      "Tnf   = total number of function evaluations\n",
      "Tnint = total number of segments explored during Cauchy searches\n",
      "Skip  = number of BFGS updates skipped\n",
      "Nact  = number of active bounds at final generalized Cauchy point\n",
      "Projg = norm of the final projected gradient\n",
      "F     = final function value\n",
      "\n",
      "           * * *\n",
      "\n",
      "   N    Tit     Tnf  Tnint  Skip  Nact     Projg        F\n",
      "  769    100    116      1     0     0   5.643D+00   1.506D+04\n",
      "  F =   15056.135397677828     \n",
      "\n",
      "STOP: TOTAL NO. of ITERATIONS REACHED LIMIT                 \n",
      "RUNNING THE L-BFGS-B CODE\n",
      "\n",
      "           * * *\n",
      "\n",
      "Machine precision = 2.220D-16\n",
      " N =          769     M =           10\n",
      "\n",
      "At X0         0 variables are exactly at the bounds\n",
      "\n",
      "At iterate    0    f=  1.50422D+04    |proj g|=  5.63003D+00\n"
     ]
    },
    {
     "name": "stderr",
     "output_type": "stream",
     "text": [
      "/home/poh9shka/.local/lib/python3.10/site-packages/sklearn/linear_model/_logistic.py:814: ConvergenceWarning: lbfgs failed to converge (status=1):\n",
      "STOP: TOTAL NO. of ITERATIONS REACHED LIMIT.\n",
      "\n",
      "Increase the number of iterations (max_iter) or scale the data as shown in:\n",
      "    https://scikit-learn.org/stable/modules/preprocessing.html\n",
      "Please also refer to the documentation for alternative solver options:\n",
      "    https://scikit-learn.org/stable/modules/linear_model.html#logistic-regression\n",
      "  n_iter_i = _check_optimize_result(\n",
      " This problem is unconstrained.\n"
     ]
    },
    {
     "name": "stdout",
     "output_type": "stream",
     "text": [
      "\n",
      "At iterate   50    f=  1.51662D+04    |proj g|=  2.29916D+01\n",
      "\n",
      "At iterate   50    f=  1.50418D+04    |proj g|=  1.75528D+01\n",
      "\n",
      "At iterate   50    f=  1.52466D+04    |proj g|=  1.79856D+01\n",
      "\n",
      "At iterate  100    f=  1.51658D+04    |proj g|=  1.03476D+01\n",
      "\n",
      "           * * *\n",
      "\n",
      "Tit   = total number of iterations\n",
      "Tnf   = total number of function evaluations\n",
      "Tnint = total number of segments explored during Cauchy searches\n",
      "Skip  = number of BFGS updates skipped\n",
      "Nact  = number of active bounds at final generalized Cauchy point\n",
      "Projg = norm of the final projected gradient\n",
      "F     = final function value\n",
      "\n",
      "           * * *\n",
      "\n",
      "   N    Tit     Tnf  Tnint  Skip  Nact     Projg        F\n",
      "  769    100    116      1     0     0   1.035D+01   1.517D+04\n",
      "  F =   15165.826763755629     \n",
      "\n",
      "STOP: TOTAL NO. of ITERATIONS REACHED LIMIT                 \n",
      "RUNNING THE L-BFGS-B CODE\n",
      "\n",
      "           * * *\n",
      "\n",
      "Machine precision = 2.220D-16\n",
      " N =          769     M =           10\n",
      "\n",
      "At X0         0 variables are exactly at the bounds\n",
      "\n",
      "At iterate    0    f=  1.51557D+04    |proj g|=  1.03230D+01\n"
     ]
    },
    {
     "name": "stderr",
     "output_type": "stream",
     "text": [
      "/home/poh9shka/.local/lib/python3.10/site-packages/sklearn/linear_model/_logistic.py:814: ConvergenceWarning: lbfgs failed to converge (status=1):\n",
      "STOP: TOTAL NO. of ITERATIONS REACHED LIMIT.\n",
      "\n",
      "Increase the number of iterations (max_iter) or scale the data as shown in:\n",
      "    https://scikit-learn.org/stable/modules/preprocessing.html\n",
      "Please also refer to the documentation for alternative solver options:\n",
      "    https://scikit-learn.org/stable/modules/linear_model.html#logistic-regression\n",
      "  n_iter_i = _check_optimize_result(\n",
      " This problem is unconstrained.\n"
     ]
    },
    {
     "name": "stdout",
     "output_type": "stream",
     "text": [
      "\n",
      "At iterate  100    f=  1.50413D+04    |proj g|=  3.00335D+00\n",
      "\n",
      "           * * *\n",
      "\n",
      "Tit   = total number of iterations\n",
      "Tnf   = total number of function evaluations\n",
      "Tnint = total number of segments explored during Cauchy searches\n",
      "Skip  = number of BFGS updates skipped\n",
      "Nact  = number of active bounds at final generalized Cauchy point\n",
      "Projg = norm of the final projected gradient\n",
      "F     = final function value\n",
      "\n",
      "           * * *\n",
      "\n",
      "   N    Tit     Tnf  Tnint  Skip  Nact     Projg        F\n",
      "  769    100    111      1     0     0   3.003D+00   1.504D+04\n",
      "  F =   15041.274083045102     \n",
      "\n",
      "STOP: TOTAL NO. of ITERATIONS REACHED LIMIT                 \n",
      "RUNNING THE L-BFGS-B CODE\n",
      "\n",
      "           * * *\n",
      "\n",
      "Machine precision = 2.220D-16\n",
      " N =          769     M =           10\n",
      "\n",
      "At X0         0 variables are exactly at the bounds\n",
      "\n",
      "At iterate    0    f=  1.50316D+04    |proj g|=  3.02339D+00\n"
     ]
    },
    {
     "name": "stderr",
     "output_type": "stream",
     "text": [
      "/home/poh9shka/.local/lib/python3.10/site-packages/sklearn/linear_model/_logistic.py:814: ConvergenceWarning: lbfgs failed to converge (status=1):\n",
      "STOP: TOTAL NO. of ITERATIONS REACHED LIMIT.\n",
      "\n",
      "Increase the number of iterations (max_iter) or scale the data as shown in:\n",
      "    https://scikit-learn.org/stable/modules/preprocessing.html\n",
      "Please also refer to the documentation for alternative solver options:\n",
      "    https://scikit-learn.org/stable/modules/linear_model.html#logistic-regression\n",
      "  n_iter_i = _check_optimize_result(\n",
      " This problem is unconstrained.\n"
     ]
    },
    {
     "name": "stdout",
     "output_type": "stream",
     "text": [
      "\n",
      "At iterate  100    f=  1.52458D+04    |proj g|=  5.04930D+01\n",
      "\n",
      "           * * *\n",
      "\n",
      "Tit   = total number of iterations\n",
      "Tnf   = total number of function evaluations\n",
      "Tnint = total number of segments explored during Cauchy searches\n",
      "Skip  = number of BFGS updates skipped\n",
      "Nact  = number of active bounds at final generalized Cauchy point\n",
      "Projg = norm of the final projected gradient\n",
      "F     = final function value\n",
      "\n",
      "           * * *\n",
      "\n",
      "   N    Tit     Tnf  Tnint  Skip  Nact     Projg        F\n",
      "  769    100    112      1     0     0   5.049D+01   1.525D+04\n",
      "  F =   15245.808478605075     \n",
      "\n",
      "STOP: TOTAL NO. of ITERATIONS REACHED LIMIT                 \n",
      "RUNNING THE L-BFGS-B CODE\n",
      "\n",
      "           * * *\n",
      "\n",
      "Machine precision = 2.220D-16\n",
      " N =          769     M =           10\n",
      "\n",
      "At X0         0 variables are exactly at the bounds\n",
      "\n",
      "At iterate    0    f=  1.52308D+04    |proj g|=  5.04839D+01\n"
     ]
    },
    {
     "name": "stderr",
     "output_type": "stream",
     "text": [
      "/home/poh9shka/.local/lib/python3.10/site-packages/sklearn/linear_model/_logistic.py:814: ConvergenceWarning: lbfgs failed to converge (status=1):\n",
      "STOP: TOTAL NO. of ITERATIONS REACHED LIMIT.\n",
      "\n",
      "Increase the number of iterations (max_iter) or scale the data as shown in:\n",
      "    https://scikit-learn.org/stable/modules/preprocessing.html\n",
      "Please also refer to the documentation for alternative solver options:\n",
      "    https://scikit-learn.org/stable/modules/linear_model.html#logistic-regression\n",
      "  n_iter_i = _check_optimize_result(\n",
      " This problem is unconstrained.\n"
     ]
    },
    {
     "name": "stdout",
     "output_type": "stream",
     "text": [
      "\n",
      "At iterate   50    f=  1.51554D+04    |proj g|=  9.54151D+00\n",
      "\n",
      "At iterate   50    f=  1.50312D+04    |proj g|=  3.15470D+00\n",
      "\n",
      "At iterate   50    f=  1.52303D+04    |proj g|=  1.01823D+01\n",
      "\n",
      "At iterate  100    f=  1.51550D+04    |proj g|=  1.30961D+01\n",
      "\n",
      "           * * *\n",
      "\n",
      "Tit   = total number of iterations\n",
      "Tnf   = total number of function evaluations\n",
      "Tnint = total number of segments explored during Cauchy searches\n",
      "Skip  = number of BFGS updates skipped\n",
      "Nact  = number of active bounds at final generalized Cauchy point\n",
      "Projg = norm of the final projected gradient\n",
      "F     = final function value\n",
      "\n",
      "           * * *\n",
      "\n",
      "   N    Tit     Tnf  Tnint  Skip  Nact     Projg        F\n",
      "  769    100    114      1     0     0   1.310D+01   1.516D+04\n",
      "  F =   15155.017444142944     \n",
      "\n",
      "STOP: TOTAL NO. of ITERATIONS REACHED LIMIT                 \n",
      "RUNNING THE L-BFGS-B CODE\n",
      "\n",
      "           * * *\n",
      "\n",
      "Machine precision = 2.220D-16\n",
      " N =          769     M =           10\n",
      "\n",
      "At X0         0 variables are exactly at the bounds\n",
      "\n",
      "At iterate    0    f=  1.51480D+04    |proj g|=  1.31025D+01\n"
     ]
    },
    {
     "name": "stderr",
     "output_type": "stream",
     "text": [
      "/home/poh9shka/.local/lib/python3.10/site-packages/sklearn/linear_model/_logistic.py:814: ConvergenceWarning: lbfgs failed to converge (status=1):\n",
      "STOP: TOTAL NO. of ITERATIONS REACHED LIMIT.\n",
      "\n",
      "Increase the number of iterations (max_iter) or scale the data as shown in:\n",
      "    https://scikit-learn.org/stable/modules/preprocessing.html\n",
      "Please also refer to the documentation for alternative solver options:\n",
      "    https://scikit-learn.org/stable/modules/linear_model.html#logistic-regression\n",
      "  n_iter_i = _check_optimize_result(\n",
      " This problem is unconstrained.\n"
     ]
    },
    {
     "name": "stdout",
     "output_type": "stream",
     "text": [
      "\n",
      "At iterate  100    f=  1.50310D+04    |proj g|=  7.29147D+00\n",
      "\n",
      "           * * *\n",
      "\n",
      "Tit   = total number of iterations\n",
      "Tnf   = total number of function evaluations\n",
      "Tnint = total number of segments explored during Cauchy searches\n",
      "Skip  = number of BFGS updates skipped\n",
      "Nact  = number of active bounds at final generalized Cauchy point\n",
      "Projg = norm of the final projected gradient\n",
      "F     = final function value\n",
      "\n",
      "           * * *\n",
      "\n",
      "   N    Tit     Tnf  Tnint  Skip  Nact     Projg        F\n",
      "  769    100    115      1     0     0   7.291D+00   1.503D+04\n",
      "  F =   15031.012877627982     \n",
      "\n",
      "STOP: TOTAL NO. of ITERATIONS REACHED LIMIT                 \n",
      "RUNNING THE L-BFGS-B CODE\n",
      "\n",
      "           * * *\n",
      "\n",
      "Machine precision = 2.220D-16\n",
      " N =          769     M =           10\n",
      "\n",
      "At X0         0 variables are exactly at the bounds\n",
      "\n",
      "At iterate    0    f=  1.50244D+04    |proj g|=  7.29776D+00\n"
     ]
    },
    {
     "name": "stderr",
     "output_type": "stream",
     "text": [
      "/home/poh9shka/.local/lib/python3.10/site-packages/sklearn/linear_model/_logistic.py:814: ConvergenceWarning: lbfgs failed to converge (status=1):\n",
      "STOP: TOTAL NO. of ITERATIONS REACHED LIMIT.\n",
      "\n",
      "Increase the number of iterations (max_iter) or scale the data as shown in:\n",
      "    https://scikit-learn.org/stable/modules/preprocessing.html\n",
      "Please also refer to the documentation for alternative solver options:\n",
      "    https://scikit-learn.org/stable/modules/linear_model.html#logistic-regression\n",
      "  n_iter_i = _check_optimize_result(\n",
      " This problem is unconstrained.\n"
     ]
    },
    {
     "name": "stdout",
     "output_type": "stream",
     "text": [
      "\n",
      "At iterate   50    f=  1.51477D+04    |proj g|=  3.61142D+00\n",
      "\n",
      "At iterate  100    f=  1.52291D+04    |proj g|=  1.75750D+01\n",
      "\n",
      "           * * *\n",
      "\n",
      "Tit   = total number of iterations\n",
      "Tnf   = total number of function evaluations\n",
      "Tnint = total number of segments explored during Cauchy searches\n",
      "Skip  = number of BFGS updates skipped\n",
      "Nact  = number of active bounds at final generalized Cauchy point\n",
      "Projg = norm of the final projected gradient\n",
      "F     = final function value\n",
      "\n",
      "           * * *\n",
      "\n",
      "   N    Tit     Tnf  Tnint  Skip  Nact     Projg        F\n",
      "  769    100    114      1     0     0   1.758D+01   1.523D+04\n",
      "  F =   15229.072042688704     \n",
      "\n",
      "STOP: TOTAL NO. of ITERATIONS REACHED LIMIT                 \n",
      "RUNNING THE L-BFGS-B CODE\n",
      "\n",
      "           * * *\n",
      "\n",
      "Machine precision = 2.220D-16\n",
      " N =          769     M =           10\n",
      "\n",
      "At X0         0 variables are exactly at the bounds\n",
      "\n",
      "At iterate    0    f=  1.52185D+04    |proj g|=  1.75808D+01\n"
     ]
    },
    {
     "name": "stderr",
     "output_type": "stream",
     "text": [
      "/home/poh9shka/.local/lib/python3.10/site-packages/sklearn/linear_model/_logistic.py:814: ConvergenceWarning: lbfgs failed to converge (status=1):\n",
      "STOP: TOTAL NO. of ITERATIONS REACHED LIMIT.\n",
      "\n",
      "Increase the number of iterations (max_iter) or scale the data as shown in:\n",
      "    https://scikit-learn.org/stable/modules/preprocessing.html\n",
      "Please also refer to the documentation for alternative solver options:\n",
      "    https://scikit-learn.org/stable/modules/linear_model.html#logistic-regression\n",
      "  n_iter_i = _check_optimize_result(\n",
      " This problem is unconstrained.\n"
     ]
    },
    {
     "name": "stdout",
     "output_type": "stream",
     "text": [
      "\n",
      "At iterate   50    f=  1.50243D+04    |proj g|=  3.16515D+00\n",
      "\n",
      "At iterate  100    f=  1.51476D+04    |proj g|=  2.74976D+00\n",
      "\n",
      "           * * *\n",
      "\n",
      "Tit   = total number of iterations\n",
      "Tnf   = total number of function evaluations\n",
      "Tnint = total number of segments explored during Cauchy searches\n",
      "Skip  = number of BFGS updates skipped\n",
      "Nact  = number of active bounds at final generalized Cauchy point\n",
      "Projg = norm of the final projected gradient\n",
      "F     = final function value\n",
      "\n",
      "           * * *\n",
      "\n",
      "   N    Tit     Tnf  Tnint  Skip  Nact     Projg        F\n",
      "  769    100    110      1     0     0   2.750D+00   1.515D+04\n",
      "  F =   15147.597203448287     \n",
      "\n",
      "STOP: TOTAL NO. of ITERATIONS REACHED LIMIT                 \n",
      "RUNNING THE L-BFGS-B CODE\n",
      "\n",
      "           * * *\n",
      "\n",
      "Machine precision = 2.220D-16\n",
      " N =          769     M =           10\n",
      "\n",
      "At X0         0 variables are exactly at the bounds\n",
      "\n",
      "At iterate    0    f=  1.51428D+04    |proj g|=  2.74526D+00\n"
     ]
    },
    {
     "name": "stderr",
     "output_type": "stream",
     "text": [
      "/home/poh9shka/.local/lib/python3.10/site-packages/sklearn/linear_model/_logistic.py:814: ConvergenceWarning: lbfgs failed to converge (status=1):\n",
      "STOP: TOTAL NO. of ITERATIONS REACHED LIMIT.\n",
      "\n",
      "Increase the number of iterations (max_iter) or scale the data as shown in:\n",
      "    https://scikit-learn.org/stable/modules/preprocessing.html\n",
      "Please also refer to the documentation for alternative solver options:\n",
      "    https://scikit-learn.org/stable/modules/linear_model.html#logistic-regression\n",
      "  n_iter_i = _check_optimize_result(\n",
      " This problem is unconstrained.\n"
     ]
    },
    {
     "name": "stdout",
     "output_type": "stream",
     "text": [
      "\n",
      "At iterate  100    f=  1.50239D+04    |proj g|=  9.91005D+00\n",
      "\n",
      "           * * *\n",
      "\n",
      "Tit   = total number of iterations\n",
      "Tnf   = total number of function evaluations\n",
      "Tnint = total number of segments explored during Cauchy searches\n",
      "Skip  = number of BFGS updates skipped\n",
      "Nact  = number of active bounds at final generalized Cauchy point\n",
      "Projg = norm of the final projected gradient\n",
      "F     = final function value\n",
      "\n",
      "           * * *\n",
      "\n",
      "   N    Tit     Tnf  Tnint  Skip  Nact     Projg        F\n",
      "  769    100    113      1     0     0   9.910D+00   1.502D+04\n",
      "  F =   15023.883790543834     \n",
      "\n",
      "STOP: TOTAL NO. of ITERATIONS REACHED LIMIT                 \n",
      "RUNNING THE L-BFGS-B CODE\n",
      "\n",
      "           * * *\n",
      "\n",
      "Machine precision = 2.220D-16\n",
      " N =          769     M =           10\n",
      "\n",
      "At X0         0 variables are exactly at the bounds\n",
      "\n",
      "At iterate    0    f=  1.50193D+04    |proj g|=  9.90551D+00\n"
     ]
    },
    {
     "name": "stderr",
     "output_type": "stream",
     "text": [
      "/home/poh9shka/.local/lib/python3.10/site-packages/sklearn/linear_model/_logistic.py:814: ConvergenceWarning: lbfgs failed to converge (status=1):\n",
      "STOP: TOTAL NO. of ITERATIONS REACHED LIMIT.\n",
      "\n",
      "Increase the number of iterations (max_iter) or scale the data as shown in:\n",
      "    https://scikit-learn.org/stable/modules/preprocessing.html\n",
      "Please also refer to the documentation for alternative solver options:\n",
      "    https://scikit-learn.org/stable/modules/linear_model.html#logistic-regression\n",
      "  n_iter_i = _check_optimize_result(\n",
      " This problem is unconstrained.\n"
     ]
    },
    {
     "name": "stdout",
     "output_type": "stream",
     "text": [
      "\n",
      "At iterate   50    f=  1.52179D+04    |proj g|=  2.78516D+01\n",
      "\n",
      "At iterate   50    f=  1.51427D+04    |proj g|=  6.02192D+00\n",
      "\n",
      "At iterate   50    f=  1.50192D+04    |proj g|=  9.47613D+00\n",
      "\n",
      "At iterate  100    f=  1.52174D+04    |proj g|=  1.10933D+01\n",
      "\n",
      "           * * *\n",
      "\n",
      "Tit   = total number of iterations\n",
      "Tnf   = total number of function evaluations\n",
      "Tnint = total number of segments explored during Cauchy searches\n",
      "Skip  = number of BFGS updates skipped\n",
      "Nact  = number of active bounds at final generalized Cauchy point\n",
      "Projg = norm of the final projected gradient\n",
      "F     = final function value\n",
      "\n",
      "           * * *\n",
      "\n",
      "   N    Tit     Tnf  Tnint  Skip  Nact     Projg        F\n",
      "  769    100    118      1     0     0   1.109D+01   1.522D+04\n",
      "  F =   15217.446110735538     \n",
      "\n",
      "STOP: TOTAL NO. of ITERATIONS REACHED LIMIT                 \n",
      "RUNNING THE L-BFGS-B CODE\n",
      "\n",
      "           * * *\n",
      "\n",
      "Machine precision = 2.220D-16\n",
      " N =          769     M =           10\n",
      "\n",
      "At X0         0 variables are exactly at the bounds\n",
      "\n",
      "At iterate    0    f=  1.52102D+04    |proj g|=  1.10896D+01\n"
     ]
    },
    {
     "name": "stderr",
     "output_type": "stream",
     "text": [
      "/home/poh9shka/.local/lib/python3.10/site-packages/sklearn/linear_model/_logistic.py:814: ConvergenceWarning: lbfgs failed to converge (status=1):\n",
      "STOP: TOTAL NO. of ITERATIONS REACHED LIMIT.\n",
      "\n",
      "Increase the number of iterations (max_iter) or scale the data as shown in:\n",
      "    https://scikit-learn.org/stable/modules/preprocessing.html\n",
      "Please also refer to the documentation for alternative solver options:\n",
      "    https://scikit-learn.org/stable/modules/linear_model.html#logistic-regression\n",
      "  n_iter_i = _check_optimize_result(\n",
      " This problem is unconstrained.\n"
     ]
    },
    {
     "name": "stdout",
     "output_type": "stream",
     "text": [
      "\n",
      "At iterate  100    f=  1.51425D+04    |proj g|=  1.04393D+00\n",
      "\n",
      "           * * *\n",
      "\n",
      "Tit   = total number of iterations\n",
      "Tnf   = total number of function evaluations\n",
      "Tnint = total number of segments explored during Cauchy searches\n",
      "Skip  = number of BFGS updates skipped\n",
      "Nact  = number of active bounds at final generalized Cauchy point\n",
      "Projg = norm of the final projected gradient\n",
      "F     = final function value\n",
      "\n",
      "           * * *\n",
      "\n",
      "   N    Tit     Tnf  Tnint  Skip  Nact     Projg        F\n",
      "  769    100    113      1     0     0   1.044D+00   1.514D+04\n",
      "  F =   15142.513462967376     \n",
      "\n",
      "STOP: TOTAL NO. of ITERATIONS REACHED LIMIT                 \n",
      "RUNNING THE L-BFGS-B CODE\n",
      "\n",
      "           * * *\n",
      "\n",
      "Machine precision = 2.220D-16\n",
      " N =          769     M =           10\n",
      "\n",
      "At X0         0 variables are exactly at the bounds\n",
      "\n",
      "At iterate    0    f=  1.51392D+04    |proj g|=  1.02844D+00\n"
     ]
    },
    {
     "name": "stderr",
     "output_type": "stream",
     "text": [
      "/home/poh9shka/.local/lib/python3.10/site-packages/sklearn/linear_model/_logistic.py:814: ConvergenceWarning: lbfgs failed to converge (status=1):\n",
      "STOP: TOTAL NO. of ITERATIONS REACHED LIMIT.\n",
      "\n",
      "Increase the number of iterations (max_iter) or scale the data as shown in:\n",
      "    https://scikit-learn.org/stable/modules/preprocessing.html\n",
      "Please also refer to the documentation for alternative solver options:\n",
      "    https://scikit-learn.org/stable/modules/linear_model.html#logistic-regression\n",
      "  n_iter_i = _check_optimize_result(\n",
      " This problem is unconstrained.\n"
     ]
    },
    {
     "name": "stdout",
     "output_type": "stream",
     "text": [
      "\n",
      "At iterate  100    f=  1.50191D+04    |proj g|=  1.62028D+00\n",
      "\n",
      "           * * *\n",
      "\n",
      "Tit   = total number of iterations\n",
      "Tnf   = total number of function evaluations\n",
      "Tnint = total number of segments explored during Cauchy searches\n",
      "Skip  = number of BFGS updates skipped\n",
      "Nact  = number of active bounds at final generalized Cauchy point\n",
      "Projg = norm of the final projected gradient\n",
      "F     = final function value\n",
      "\n",
      "           * * *\n",
      "\n",
      "   N    Tit     Tnf  Tnint  Skip  Nact     Projg        F\n",
      "  769    100    117      1     0     0   1.620D+00   1.502D+04\n",
      "  F =   15019.088327899890     \n",
      "\n",
      "STOP: TOTAL NO. of ITERATIONS REACHED LIMIT                 \n",
      "RUNNING THE L-BFGS-B CODE\n",
      "\n",
      "           * * *\n",
      "\n",
      "Machine precision = 2.220D-16\n",
      " N =          769     M =           10\n",
      "\n",
      "At X0         0 variables are exactly at the bounds\n",
      "\n",
      "At iterate    0    f=  1.50160D+04    |proj g|=  1.61723D+00\n"
     ]
    },
    {
     "name": "stderr",
     "output_type": "stream",
     "text": [
      "/home/poh9shka/.local/lib/python3.10/site-packages/sklearn/linear_model/_logistic.py:814: ConvergenceWarning: lbfgs failed to converge (status=1):\n",
      "STOP: TOTAL NO. of ITERATIONS REACHED LIMIT.\n",
      "\n",
      "Increase the number of iterations (max_iter) or scale the data as shown in:\n",
      "    https://scikit-learn.org/stable/modules/preprocessing.html\n",
      "Please also refer to the documentation for alternative solver options:\n",
      "    https://scikit-learn.org/stable/modules/linear_model.html#logistic-regression\n",
      "  n_iter_i = _check_optimize_result(\n",
      " This problem is unconstrained.\n"
     ]
    },
    {
     "name": "stdout",
     "output_type": "stream",
     "text": [
      "\n",
      "           * * *\n",
      "\n",
      "Tit   = total number of iterations\n",
      "Tnf   = total number of function evaluations\n",
      "Tnint = total number of segments explored during Cauchy searches\n",
      "Skip  = number of BFGS updates skipped\n",
      "Nact  = number of active bounds at final generalized Cauchy point\n",
      "Projg = norm of the final projected gradient\n",
      "F     = final function value\n",
      "\n",
      "           * * *\n",
      "\n",
      "   N    Tit     Tnf  Tnint  Skip  Nact     Projg        F\n",
      "  769      1      3      1     0     0   6.689D-01   1.502D+04\n",
      "  F =   15015.986877919826     \n",
      "\n",
      "CONVERGENCE: REL_REDUCTION_OF_F_<=_FACTR*EPSMCH             \n",
      "RUNNING THE L-BFGS-B CODE\n",
      "\n",
      "           * * *\n",
      "\n",
      "Machine precision = 2.220D-16\n",
      " N =          769     M =           10\n",
      "\n",
      "At X0         0 variables are exactly at the bounds\n",
      "\n",
      "At iterate    0    f=  1.50139D+04    |proj g|=  6.73034D-01\n"
     ]
    },
    {
     "name": "stderr",
     "output_type": "stream",
     "text": [
      " This problem is unconstrained.\n"
     ]
    },
    {
     "name": "stdout",
     "output_type": "stream",
     "text": [
      "\n",
      "At iterate   50    f=  1.51392D+04    |proj g|=  1.94071D+00\n",
      "\n",
      "At iterate   50    f=  1.52099D+04    |proj g|=  1.28752D+01\n",
      "\n",
      "At iterate   50    f=  1.50137D+04    |proj g|=  4.88611D+00\n",
      "\n",
      "At iterate  100    f=  1.51391D+04    |proj g|=  1.29336D+00\n",
      "\n",
      "           * * *\n",
      "\n",
      "Tit   = total number of iterations\n",
      "Tnf   = total number of function evaluations\n",
      "Tnint = total number of segments explored during Cauchy searches\n",
      "Skip  = number of BFGS updates skipped\n",
      "Nact  = number of active bounds at final generalized Cauchy point\n",
      "Projg = norm of the final projected gradient\n",
      "F     = final function value\n",
      "\n",
      "           * * *\n",
      "\n",
      "   N    Tit     Tnf  Tnint  Skip  Nact     Projg        F\n",
      "  769    100    114      1     0     0   1.293D+00   1.514D+04\n",
      "  F =   15139.079411996772     \n",
      "\n",
      "STOP: TOTAL NO. of ITERATIONS REACHED LIMIT                 \n",
      "RUNNING THE L-BFGS-B CODE\n",
      "\n",
      "           * * *\n",
      "\n",
      "Machine precision = 2.220D-16\n",
      " N =          769     M =           10\n",
      "\n",
      "At X0         0 variables are exactly at the bounds\n",
      "\n",
      "At iterate    0    f=  1.51369D+04    |proj g|=  1.28822D+00\n"
     ]
    },
    {
     "name": "stderr",
     "output_type": "stream",
     "text": [
      "/home/poh9shka/.local/lib/python3.10/site-packages/sklearn/linear_model/_logistic.py:814: ConvergenceWarning: lbfgs failed to converge (status=1):\n",
      "STOP: TOTAL NO. of ITERATIONS REACHED LIMIT.\n",
      "\n",
      "Increase the number of iterations (max_iter) or scale the data as shown in:\n",
      "    https://scikit-learn.org/stable/modules/preprocessing.html\n",
      "Please also refer to the documentation for alternative solver options:\n",
      "    https://scikit-learn.org/stable/modules/linear_model.html#logistic-regression\n",
      "  n_iter_i = _check_optimize_result(\n",
      " This problem is unconstrained.\n"
     ]
    },
    {
     "name": "stdout",
     "output_type": "stream",
     "text": [
      "\n",
      "At iterate  100    f=  1.52094D+04    |proj g|=  6.12600D+00\n",
      "\n",
      "           * * *\n",
      "\n",
      "Tit   = total number of iterations\n",
      "Tnf   = total number of function evaluations\n",
      "Tnint = total number of segments explored during Cauchy searches\n",
      "Skip  = number of BFGS updates skipped\n",
      "Nact  = number of active bounds at final generalized Cauchy point\n",
      "Projg = norm of the final projected gradient\n",
      "F     = final function value\n",
      "\n",
      "           * * *\n",
      "\n",
      "   N    Tit     Tnf  Tnint  Skip  Nact     Projg        F\n",
      "  769    100    114      1     0     0   6.126D+00   1.521D+04\n",
      "  F =   15209.443819595343     \n",
      "\n",
      "STOP: TOTAL NO. of ITERATIONS REACHED LIMIT                 \n",
      "RUNNING THE L-BFGS-B CODE\n",
      "\n",
      "           * * *\n",
      "\n",
      "Machine precision = 2.220D-16\n",
      " N =          769     M =           10\n",
      "\n",
      "At X0         0 variables are exactly at the bounds\n",
      "\n",
      "At iterate    0    f=  1.52044D+04    |proj g|=  6.13623D+00\n"
     ]
    },
    {
     "name": "stderr",
     "output_type": "stream",
     "text": [
      "/home/poh9shka/.local/lib/python3.10/site-packages/sklearn/linear_model/_logistic.py:814: ConvergenceWarning: lbfgs failed to converge (status=1):\n",
      "STOP: TOTAL NO. of ITERATIONS REACHED LIMIT.\n",
      "\n",
      "Increase the number of iterations (max_iter) or scale the data as shown in:\n",
      "    https://scikit-learn.org/stable/modules/preprocessing.html\n",
      "Please also refer to the documentation for alternative solver options:\n",
      "    https://scikit-learn.org/stable/modules/linear_model.html#logistic-regression\n",
      "  n_iter_i = _check_optimize_result(\n",
      " This problem is unconstrained.\n"
     ]
    },
    {
     "name": "stdout",
     "output_type": "stream",
     "text": [
      "\n",
      "At iterate  100    f=  1.50136D+04    |proj g|=  2.17981D+00\n",
      "\n",
      "           * * *\n",
      "\n",
      "Tit   = total number of iterations\n",
      "Tnf   = total number of function evaluations\n",
      "Tnint = total number of segments explored during Cauchy searches\n",
      "Skip  = number of BFGS updates skipped\n",
      "Nact  = number of active bounds at final generalized Cauchy point\n",
      "Projg = norm of the final projected gradient\n",
      "F     = final function value\n",
      "\n",
      "           * * *\n",
      "\n",
      "   N    Tit     Tnf  Tnint  Skip  Nact     Projg        F\n",
      "  769    100    118      1     0     0   2.180D+00   1.501D+04\n",
      "  F =   15013.573310124035     \n",
      "\n",
      "STOP: TOTAL NO. of ITERATIONS REACHED LIMIT                 \n",
      "RUNNING THE L-BFGS-B CODE\n",
      "\n",
      "           * * *\n",
      "\n",
      "Machine precision = 2.220D-16\n",
      " N =          769     M =           10\n",
      "\n",
      "At X0         0 variables are exactly at the bounds\n",
      "\n",
      "At iterate    0    f=  1.50121D+04    |proj g|=  2.18258D+00\n"
     ]
    },
    {
     "name": "stderr",
     "output_type": "stream",
     "text": [
      "/home/poh9shka/.local/lib/python3.10/site-packages/sklearn/linear_model/_logistic.py:814: ConvergenceWarning: lbfgs failed to converge (status=1):\n",
      "STOP: TOTAL NO. of ITERATIONS REACHED LIMIT.\n",
      "\n",
      "Increase the number of iterations (max_iter) or scale the data as shown in:\n",
      "    https://scikit-learn.org/stable/modules/preprocessing.html\n",
      "Please also refer to the documentation for alternative solver options:\n",
      "    https://scikit-learn.org/stable/modules/linear_model.html#logistic-regression\n",
      "  n_iter_i = _check_optimize_result(\n",
      " This problem is unconstrained.\n"
     ]
    },
    {
     "name": "stdout",
     "output_type": "stream",
     "text": [
      "\n",
      "           * * *\n",
      "\n",
      "Tit   = total number of iterations\n",
      "Tnf   = total number of function evaluations\n",
      "Tnint = total number of segments explored during Cauchy searches\n",
      "Skip  = number of BFGS updates skipped\n",
      "Nact  = number of active bounds at final generalized Cauchy point\n",
      "Projg = norm of the final projected gradient\n",
      "F     = final function value\n",
      "\n",
      "           * * *\n",
      "\n",
      "   N    Tit     Tnf  Tnint  Skip  Nact     Projg        F\n",
      "  769      1      3      1     0     0   1.762D+00   1.501D+04\n",
      "  F =   15012.126293896657     \n",
      "\n",
      "CONVERGENCE: REL_REDUCTION_OF_F_<=_FACTR*EPSMCH             \n",
      "RUNNING THE L-BFGS-B CODE\n",
      "\n",
      "           * * *\n",
      "\n",
      "Machine precision = 2.220D-16\n",
      " N =          769     M =           10\n",
      "\n",
      "At X0         0 variables are exactly at the bounds\n",
      "\n",
      "At iterate    0    f=  1.50112D+04    |proj g|=  1.76096D+00\n"
     ]
    },
    {
     "name": "stderr",
     "output_type": "stream",
     "text": [
      " This problem is unconstrained.\n"
     ]
    },
    {
     "name": "stdout",
     "output_type": "stream",
     "text": [
      "\n",
      "           * * *\n",
      "\n",
      "Tit   = total number of iterations\n",
      "Tnf   = total number of function evaluations\n",
      "Tnint = total number of segments explored during Cauchy searches\n",
      "Skip  = number of BFGS updates skipped\n",
      "Nact  = number of active bounds at final generalized Cauchy point\n",
      "Projg = norm of the final projected gradient\n",
      "F     = final function value\n",
      "\n",
      "           * * *\n",
      "\n",
      "   N    Tit     Tnf  Tnint  Skip  Nact     Projg        F\n",
      "  769      1      3      1     0     0   8.422D-01   1.501D+04\n",
      "  F =   15011.153412578302     \n",
      "\n",
      "CONVERGENCE: REL_REDUCTION_OF_F_<=_FACTR*EPSMCH             \n",
      "RUNNING THE L-BFGS-B CODE\n",
      "\n",
      "           * * *\n",
      "\n",
      "Machine precision = 2.220D-16\n",
      " N =          769     M =           10\n",
      "\n",
      "At X0         0 variables are exactly at the bounds\n",
      "\n",
      "At iterate    0    f=  1.50105D+04    |proj g|=  8.43434D-01\n"
     ]
    },
    {
     "name": "stderr",
     "output_type": "stream",
     "text": [
      " This problem is unconstrained.\n"
     ]
    },
    {
     "name": "stdout",
     "output_type": "stream",
     "text": [
      "\n",
      "At iterate   50    f=  1.51368D+04    |proj g|=  3.16010D+00\n",
      "\n",
      "At iterate   50    f=  1.52042D+04    |proj g|=  4.01572D+00\n",
      "\n",
      "At iterate   50    f=  1.50105D+04    |proj g|=  9.39763D-01\n",
      "\n",
      "           * * *\n",
      "\n",
      "Tit   = total number of iterations\n",
      "Tnf   = total number of function evaluations\n",
      "Tnint = total number of segments explored during Cauchy searches\n",
      "Skip  = number of BFGS updates skipped\n",
      "Nact  = number of active bounds at final generalized Cauchy point\n",
      "Projg = norm of the final projected gradient\n",
      "F     = final function value\n",
      "\n",
      "           * * *\n",
      "\n",
      "   N    Tit     Tnf  Tnint  Skip  Nact     Projg        F\n",
      "  769     54     63      1     0     0   3.394D+00   1.501D+04\n",
      "  F =   15010.477371660674     \n",
      "\n",
      "CONVERGENCE: REL_REDUCTION_OF_F_<=_FACTR*EPSMCH             \n",
      "RUNNING THE L-BFGS-B CODE\n",
      "\n",
      "           * * *\n",
      "\n",
      "Machine precision = 2.220D-16\n",
      " N =          769     M =           10\n",
      "\n",
      "At X0         0 variables are exactly at the bounds\n",
      "\n",
      "At iterate    0    f=  1.50100D+04    |proj g|=  3.39475D+00\n"
     ]
    },
    {
     "name": "stderr",
     "output_type": "stream",
     "text": [
      " This problem is unconstrained.\n"
     ]
    },
    {
     "name": "stdout",
     "output_type": "stream",
     "text": [
      "\n",
      "           * * *\n",
      "\n",
      "Tit   = total number of iterations\n",
      "Tnf   = total number of function evaluations\n",
      "Tnint = total number of segments explored during Cauchy searches\n",
      "Skip  = number of BFGS updates skipped\n",
      "Nact  = number of active bounds at final generalized Cauchy point\n",
      "Projg = norm of the final projected gradient\n",
      "F     = final function value\n",
      "\n",
      "           * * *\n",
      "\n",
      "   N    Tit     Tnf  Tnint  Skip  Nact     Projg        F\n",
      "  769      2      4      1     0     0   3.681D-01   1.501D+04\n",
      "  F =   15010.037370144357     \n",
      "\n",
      "CONVERGENCE: REL_REDUCTION_OF_F_<=_FACTR*EPSMCH             \n",
      "RUNNING THE L-BFGS-B CODE\n",
      "\n",
      "           * * *\n",
      "\n",
      "Machine precision = 2.220D-16\n",
      " N =          769     M =           10\n",
      "\n",
      "At X0         0 variables are exactly at the bounds\n",
      "\n",
      "At iterate    0    f=  1.50097D+04    |proj g|=  3.67833D-01\n"
     ]
    },
    {
     "name": "stderr",
     "output_type": "stream",
     "text": [
      " This problem is unconstrained.\n",
      "/home/poh9shka/.local/lib/python3.10/site-packages/sklearn/linear_model/_logistic.py:814: ConvergenceWarning: lbfgs failed to converge (status=1):\n",
      "STOP: TOTAL NO. of ITERATIONS REACHED LIMIT.\n",
      "\n",
      "Increase the number of iterations (max_iter) or scale the data as shown in:\n",
      "    https://scikit-learn.org/stable/modules/preprocessing.html\n",
      "Please also refer to the documentation for alternative solver options:\n",
      "    https://scikit-learn.org/stable/modules/linear_model.html#logistic-regression\n",
      "  n_iter_i = _check_optimize_result(\n"
     ]
    },
    {
     "name": "stdout",
     "output_type": "stream",
     "text": [
      "\n",
      "At iterate  100    f=  1.51368D+04    |proj g|=  1.36617D+00\n",
      "\n",
      "           * * *\n",
      "\n",
      "Tit   = total number of iterations\n",
      "Tnf   = total number of function evaluations\n",
      "Tnint = total number of segments explored during Cauchy searches\n",
      "Skip  = number of BFGS updates skipped\n",
      "Nact  = number of active bounds at final generalized Cauchy point\n",
      "Projg = norm of the final projected gradient\n",
      "F     = final function value\n",
      "\n",
      "           * * *\n",
      "\n",
      "   N    Tit     Tnf  Tnint  Skip  Nact     Projg        F\n",
      "  769    100    114      1     0     0   1.366D+00   1.514D+04\n",
      "  F =   15136.783127165394     \n",
      "\n",
      "STOP: TOTAL NO. of ITERATIONS REACHED LIMIT                 \n",
      "\n",
      "           * * *\n",
      "\n",
      "Tit   = total number of iterations\n",
      "Tnf   = total number of function evaluations\n",
      "Tnint = total number of segments explored during Cauchy searches\n",
      "Skip  = number of BFGS updates skipped\n",
      "Nact  = number of active bounds at final generalized Cauchy point\n",
      "Projg = norm of the final projected gradient\n",
      "F     = final function value\n",
      "\n",
      "           * * *\n",
      "\n",
      "   N    Tit     Tnf  Tnint  Skip  Nact     Projg        F\n",
      "  769      1      3      1     0     0   2.362D+00   1.501D+04\n",
      "  F =   15009.741541673795     \n",
      "\n",
      "CONVERGENCE: REL_REDUCTION_OF_F_<=_FACTR*EPSMCH             \n",
      "RUNNING THE L-BFGS-B CODE\n",
      "\n",
      "           * * *\n",
      "\n",
      "Machine precision = 2.220D-16\n",
      " N =          769     M =           10\n",
      "\n",
      "At X0         0 variables are exactly at the bounds\n",
      "\n",
      "At iterate    0    f=  1.51353D+04    |proj g|=  1.36271D+00\n",
      "RUNNING THE L-BFGS-B CODE\n",
      "\n",
      "           * * *\n",
      "\n",
      "Machine precision = 2.220D-16\n",
      " N =          769     M =           10\n",
      "\n",
      "At X0         0 variables are exactly at the bounds\n",
      "\n",
      "At iterate    0    f=  1.50095D+04    |proj g|=  2.36188D+00\n"
     ]
    },
    {
     "name": "stderr",
     "output_type": "stream",
     "text": [
      " This problem is unconstrained.\n",
      " This problem is unconstrained.\n"
     ]
    },
    {
     "name": "stdout",
     "output_type": "stream",
     "text": [
      "\n",
      "           * * *\n",
      "\n",
      "Tit   = total number of iterations\n",
      "Tnf   = total number of function evaluations\n",
      "Tnint = total number of segments explored during Cauchy searches\n",
      "Skip  = number of BFGS updates skipped\n",
      "Nact  = number of active bounds at final generalized Cauchy point\n",
      "Projg = norm of the final projected gradient\n",
      "F     = final function value\n",
      "\n",
      "           * * *\n",
      "\n",
      "   N    Tit     Tnf  Tnint  Skip  Nact     Projg        F\n",
      "  769      1      3      1     0     0   9.960D-01   1.501D+04\n",
      "  F =   15009.542649028810     \n",
      "\n",
      "CONVERGENCE: REL_REDUCTION_OF_F_<=_FACTR*EPSMCH             \n",
      "\n",
      "At iterate  100    f=  1.52041D+04    |proj g|=  7.04353D+00\n",
      "\n",
      "           * * *\n",
      "\n",
      "Tit   = total number of iterations\n",
      "Tnf   = total number of function evaluations\n",
      "Tnint = total number of segments explored during Cauchy searches\n",
      "Skip  = number of BFGS updates skipped\n",
      "Nact  = number of active bounds at final generalized Cauchy point\n",
      "Projg = norm of the final projected gradient\n",
      "F     = final function value\n",
      "\n",
      "           * * *\n",
      "\n",
      "   N    Tit     Tnf  Tnint  Skip  Nact     Projg        F\n",
      "  769    100    111      1     0     0   7.044D+00   1.520D+04\n",
      "  F =   15204.052575181006     \n",
      "\n",
      "STOP: TOTAL NO. of ITERATIONS REACHED LIMIT                 \n",
      "RUNNING THE L-BFGS-B CODE\n",
      "\n",
      "           * * *\n",
      "\n",
      "Machine precision = 2.220D-16\n",
      " N =          769     M =           10\n",
      "\n",
      "At X0         0 variables are exactly at the bounds\n",
      "\n",
      "At iterate    0    f=  1.52007D+04    |proj g|=  7.04510D+00\n"
     ]
    },
    {
     "name": "stderr",
     "output_type": "stream",
     "text": [
      "/home/poh9shka/.local/lib/python3.10/site-packages/sklearn/linear_model/_logistic.py:814: ConvergenceWarning: lbfgs failed to converge (status=1):\n",
      "STOP: TOTAL NO. of ITERATIONS REACHED LIMIT.\n",
      "\n",
      "Increase the number of iterations (max_iter) or scale the data as shown in:\n",
      "    https://scikit-learn.org/stable/modules/preprocessing.html\n",
      "Please also refer to the documentation for alternative solver options:\n",
      "    https://scikit-learn.org/stable/modules/linear_model.html#logistic-regression\n",
      "  n_iter_i = _check_optimize_result(\n",
      " This problem is unconstrained.\n"
     ]
    },
    {
     "name": "stdout",
     "output_type": "stream",
     "text": [
      "\n",
      "           * * *\n",
      "\n",
      "Tit   = total number of iterations\n",
      "Tnf   = total number of function evaluations\n",
      "Tnint = total number of segments explored during Cauchy searches\n",
      "Skip  = number of BFGS updates skipped\n",
      "Nact  = number of active bounds at final generalized Cauchy point\n",
      "Projg = norm of the final projected gradient\n",
      "F     = final function value\n",
      "\n",
      "           * * *\n",
      "\n",
      "   N    Tit     Tnf  Tnint  Skip  Nact     Projg        F\n",
      "  769     36     44      1     0     0   2.842D+00   1.514D+04\n",
      "  F =   15135.262818427977     \n",
      "\n",
      "CONVERGENCE: REL_REDUCTION_OF_F_<=_FACTR*EPSMCH             \n",
      "RUNNING THE L-BFGS-B CODE\n",
      "\n",
      "           * * *\n",
      "\n",
      "Machine precision = 2.220D-16\n",
      " N =          769     M =           10\n",
      "\n",
      "At X0         0 variables are exactly at the bounds\n",
      "\n",
      "At iterate    0    f=  1.51343D+04    |proj g|=  2.84300D+00\n",
      "\n",
      "           * * *\n",
      "\n",
      "Tit   = total number of iterations\n",
      "Tnf   = total number of function evaluations\n",
      "Tnint = total number of segments explored during Cauchy searches\n",
      "Skip  = number of BFGS updates skipped\n",
      "Nact  = number of active bounds at final generalized Cauchy point\n",
      "Projg = norm of the final projected gradient\n",
      "F     = final function value\n",
      "\n",
      "           * * *\n",
      "\n",
      "   N    Tit     Tnf  Tnint  Skip  Nact     Projg        F\n",
      "  769      1      3      1     0     0   7.948D-01   1.513D+04\n",
      "  F =   15134.252091950722     \n",
      "\n",
      "CONVERGENCE: REL_REDUCTION_OF_F_<=_FACTR*EPSMCH             \n"
     ]
    },
    {
     "name": "stderr",
     "output_type": "stream",
     "text": [
      " This problem is unconstrained.\n",
      " This problem is unconstrained.\n"
     ]
    },
    {
     "name": "stdout",
     "output_type": "stream",
     "text": [
      "RUNNING THE L-BFGS-B CODE\n",
      "\n",
      "           * * *\n",
      "\n",
      "Machine precision = 2.220D-16\n",
      " N =          769     M =           10\n",
      "\n",
      "At X0         0 variables are exactly at the bounds\n",
      "\n",
      "At iterate    0    f=  1.51336D+04    |proj g|=  7.93204D-01\n",
      "\n",
      "           * * *\n",
      "\n",
      "Tit   = total number of iterations\n",
      "Tnf   = total number of function evaluations\n",
      "Tnint = total number of segments explored during Cauchy searches\n",
      "Skip  = number of BFGS updates skipped\n",
      "Nact  = number of active bounds at final generalized Cauchy point\n",
      "Projg = norm of the final projected gradient\n",
      "F     = final function value\n",
      "\n",
      "           * * *\n",
      "\n",
      "   N    Tit     Tnf  Tnint  Skip  Nact     Projg        F\n",
      "  769      1      3      1     0     0   2.446D-01   1.513D+04\n",
      "  F =   15133.572551795301     \n",
      "\n",
      "CONVERGENCE: REL_REDUCTION_OF_F_<=_FACTR*EPSMCH             \n",
      "RUNNING THE L-BFGS-B CODE\n",
      "\n",
      "           * * *\n",
      "\n",
      "Machine precision = 2.220D-16\n",
      " N =          769     M =           10\n",
      "\n",
      "At X0         0 variables are exactly at the bounds\n",
      "\n",
      "At iterate    0    f=  1.51331D+04    |proj g|=  2.45048D-01\n"
     ]
    },
    {
     "name": "stderr",
     "output_type": "stream",
     "text": [
      " This problem is unconstrained.\n"
     ]
    },
    {
     "name": "stdout",
     "output_type": "stream",
     "text": [
      "\n",
      "At iterate   50    f=  1.52005D+04    |proj g|=  9.67337D+00\n",
      "\n",
      "At iterate   50    f=  1.51331D+04    |proj g|=  3.50640D+00\n",
      "\n",
      "At iterate  100    f=  1.52002D+04    |proj g|=  3.48718D+00\n",
      "\n",
      "           * * *\n",
      "\n",
      "Tit   = total number of iterations\n",
      "Tnf   = total number of function evaluations\n",
      "Tnint = total number of segments explored during Cauchy searches\n",
      "Skip  = number of BFGS updates skipped\n",
      "Nact  = number of active bounds at final generalized Cauchy point\n",
      "Projg = norm of the final projected gradient\n",
      "F     = final function value\n",
      "\n",
      "           * * *\n",
      "\n",
      "   N    Tit     Tnf  Tnint  Skip  Nact     Projg        F\n",
      "  769    100    115      1     0     0   3.487D+00   1.520D+04\n",
      "  F =   15200.178665325595     \n",
      "\n",
      "STOP: TOTAL NO. of ITERATIONS REACHED LIMIT                 \n",
      "RUNNING THE L-BFGS-B CODE\n",
      "\n",
      "           * * *\n",
      "\n",
      "Machine precision = 2.220D-16\n",
      " N =          769     M =           10\n",
      "\n",
      "At X0         0 variables are exactly at the bounds\n",
      "\n",
      "At iterate    0    f=  1.51978D+04    |proj g|=  3.48257D+00\n"
     ]
    },
    {
     "name": "stderr",
     "output_type": "stream",
     "text": [
      "/home/poh9shka/.local/lib/python3.10/site-packages/sklearn/linear_model/_logistic.py:814: ConvergenceWarning: lbfgs failed to converge (status=1):\n",
      "STOP: TOTAL NO. of ITERATIONS REACHED LIMIT.\n",
      "\n",
      "Increase the number of iterations (max_iter) or scale the data as shown in:\n",
      "    https://scikit-learn.org/stable/modules/preprocessing.html\n",
      "Please also refer to the documentation for alternative solver options:\n",
      "    https://scikit-learn.org/stable/modules/linear_model.html#logistic-regression\n",
      "  n_iter_i = _check_optimize_result(\n",
      " This problem is unconstrained.\n"
     ]
    },
    {
     "name": "stdout",
     "output_type": "stream",
     "text": [
      "\n",
      "At iterate  100    f=  1.51330D+04    |proj g|=  4.98927D+00\n",
      "\n",
      "           * * *\n",
      "\n",
      "Tit   = total number of iterations\n",
      "Tnf   = total number of function evaluations\n",
      "Tnint = total number of segments explored during Cauchy searches\n",
      "Skip  = number of BFGS updates skipped\n",
      "Nact  = number of active bounds at final generalized Cauchy point\n",
      "Projg = norm of the final projected gradient\n",
      "F     = final function value\n",
      "\n",
      "           * * *\n",
      "\n",
      "   N    Tit     Tnf  Tnint  Skip  Nact     Projg        F\n",
      "  769    100    113      1     0     0   4.989D+00   1.513D+04\n",
      "  F =   15133.013741951501     \n",
      "\n",
      "STOP: TOTAL NO. of ITERATIONS REACHED LIMIT                 \n",
      "RUNNING THE L-BFGS-B CODE\n",
      "\n",
      "           * * *\n",
      "\n",
      "Machine precision = 2.220D-16\n",
      " N =          769     M =           10\n",
      "\n",
      "At X0         0 variables are exactly at the bounds\n",
      "\n",
      "At iterate    0    f=  1.51327D+04    |proj g|=  4.98896D+00\n"
     ]
    },
    {
     "name": "stderr",
     "output_type": "stream",
     "text": [
      "/home/poh9shka/.local/lib/python3.10/site-packages/sklearn/linear_model/_logistic.py:814: ConvergenceWarning: lbfgs failed to converge (status=1):\n",
      "STOP: TOTAL NO. of ITERATIONS REACHED LIMIT.\n",
      "\n",
      "Increase the number of iterations (max_iter) or scale the data as shown in:\n",
      "    https://scikit-learn.org/stable/modules/preprocessing.html\n",
      "Please also refer to the documentation for alternative solver options:\n",
      "    https://scikit-learn.org/stable/modules/linear_model.html#logistic-regression\n",
      "  n_iter_i = _check_optimize_result(\n",
      " This problem is unconstrained.\n"
     ]
    },
    {
     "name": "stdout",
     "output_type": "stream",
     "text": [
      "\n",
      "           * * *\n",
      "\n",
      "Tit   = total number of iterations\n",
      "Tnf   = total number of function evaluations\n",
      "Tnint = total number of segments explored during Cauchy searches\n",
      "Skip  = number of BFGS updates skipped\n",
      "Nact  = number of active bounds at final generalized Cauchy point\n",
      "Projg = norm of the final projected gradient\n",
      "F     = final function value\n",
      "\n",
      "           * * *\n",
      "\n",
      "   N    Tit     Tnf  Tnint  Skip  Nact     Projg        F\n",
      "  769      2      4      1     0     0   6.625D-01   1.513D+04\n",
      "  F =   15132.701672165214     \n",
      "\n",
      "CONVERGENCE: REL_REDUCTION_OF_F_<=_FACTR*EPSMCH             \n",
      "RUNNING THE L-BFGS-B CODE\n",
      "\n",
      "           * * *\n",
      "\n",
      "Machine precision = 2.220D-16\n",
      " N =          769     M =           10\n",
      "\n",
      "At X0         0 variables are exactly at the bounds\n",
      "\n",
      "At iterate    0    f=  1.51325D+04    |proj g|=  6.62954D-01\n"
     ]
    },
    {
     "name": "stderr",
     "output_type": "stream",
     "text": [
      " This problem is unconstrained.\n"
     ]
    },
    {
     "name": "stdout",
     "output_type": "stream",
     "text": [
      "\n",
      "At iterate   50    f=  1.51977D+04    |proj g|=  2.00178D+00\n",
      "\n",
      "           * * *\n",
      "\n",
      "Tit   = total number of iterations\n",
      "Tnf   = total number of function evaluations\n",
      "Tnint = total number of segments explored during Cauchy searches\n",
      "Skip  = number of BFGS updates skipped\n",
      "Nact  = number of active bounds at final generalized Cauchy point\n",
      "Projg = norm of the final projected gradient\n",
      "F     = final function value\n",
      "\n",
      "           * * *\n",
      "\n",
      "   N    Tit     Tnf  Tnint  Skip  Nact     Projg        F\n",
      "  769     46     54      1     0     0   3.736D-01   1.513D+04\n",
      "  F =   15132.469304736940     \n",
      "\n",
      "CONVERGENCE: REL_REDUCTION_OF_F_<=_FACTR*EPSMCH             \n",
      "\n",
      "At iterate  100    f=  1.51977D+04    |proj g|=  1.50299D+00\n",
      "\n",
      "           * * *\n",
      "\n",
      "Tit   = total number of iterations\n",
      "Tnf   = total number of function evaluations\n",
      "Tnint = total number of segments explored during Cauchy searches\n",
      "Skip  = number of BFGS updates skipped\n",
      "Nact  = number of active bounds at final generalized Cauchy point\n",
      "Projg = norm of the final projected gradient\n",
      "F     = final function value\n",
      "\n",
      "           * * *\n",
      "\n",
      "   N    Tit     Tnf  Tnint  Skip  Nact     Projg        F\n",
      "  769    100    118      1     0     0   1.503D+00   1.520D+04\n",
      "  F =   15197.661748615745     \n",
      "\n",
      "STOP: TOTAL NO. of ITERATIONS REACHED LIMIT                 \n",
      "RUNNING THE L-BFGS-B CODE\n",
      "\n",
      "           * * *\n",
      "\n",
      "Machine precision = 2.220D-16\n",
      " N =          769     M =           10\n",
      "\n",
      "At X0         0 variables are exactly at the bounds\n",
      "\n",
      "At iterate    0    f=  1.51961D+04    |proj g|=  1.50364D+00\n",
      "\n",
      "           * * *\n",
      "\n",
      "Tit   = total number of iterations\n",
      "Tnf   = total number of function evaluations\n",
      "Tnint = total number of segments explored during Cauchy searches\n",
      "Skip  = number of BFGS updates skipped\n",
      "Nact  = number of active bounds at final generalized Cauchy point\n",
      "Projg = norm of the final projected gradient\n",
      "F     = final function value\n",
      "\n",
      "           * * *\n",
      "\n",
      "   N    Tit     Tnf  Tnint  Skip  Nact     Projg        F\n",
      "  769      1      3      1     0     0   3.464D-01   1.520D+04\n",
      "  F =   15196.073429627899     \n",
      "\n",
      "CONVERGENCE: REL_REDUCTION_OF_F_<=_FACTR*EPSMCH             \n",
      "RUNNING THE L-BFGS-B CODE\n",
      "\n",
      "           * * *\n",
      "\n",
      "Machine precision = 2.220D-16\n",
      " N =          769     M =           10\n",
      "\n",
      "At X0         0 variables are exactly at the bounds\n",
      "\n",
      "At iterate    0    f=  1.51950D+04    |proj g|=  3.47050D-01\n"
     ]
    },
    {
     "name": "stderr",
     "output_type": "stream",
     "text": [
      "/home/poh9shka/.local/lib/python3.10/site-packages/sklearn/linear_model/_logistic.py:814: ConvergenceWarning: lbfgs failed to converge (status=1):\n",
      "STOP: TOTAL NO. of ITERATIONS REACHED LIMIT.\n",
      "\n",
      "Increase the number of iterations (max_iter) or scale the data as shown in:\n",
      "    https://scikit-learn.org/stable/modules/preprocessing.html\n",
      "Please also refer to the documentation for alternative solver options:\n",
      "    https://scikit-learn.org/stable/modules/linear_model.html#logistic-regression\n",
      "  n_iter_i = _check_optimize_result(\n",
      " This problem is unconstrained.\n",
      " This problem is unconstrained.\n"
     ]
    },
    {
     "name": "stdout",
     "output_type": "stream",
     "text": [
      "\n",
      "At iterate   50    f=  1.51950D+04    |proj g|=  7.72336D+00\n",
      "\n",
      "At iterate  100    f=  1.51949D+04    |proj g|=  1.77210D+00\n",
      "\n",
      "           * * *\n",
      "\n",
      "Tit   = total number of iterations\n",
      "Tnf   = total number of function evaluations\n",
      "Tnint = total number of segments explored during Cauchy searches\n",
      "Skip  = number of BFGS updates skipped\n",
      "Nact  = number of active bounds at final generalized Cauchy point\n",
      "Projg = norm of the final projected gradient\n",
      "F     = final function value\n",
      "\n",
      "           * * *\n",
      "\n",
      "   N    Tit     Tnf  Tnint  Skip  Nact     Projg        F\n",
      "  769    100    110      1     0     0   1.772D+00   1.519D+04\n",
      "  F =   15194.918058682932     \n",
      "\n",
      "STOP: TOTAL NO. of ITERATIONS REACHED LIMIT                 \n",
      "RUNNING THE L-BFGS-B CODE\n",
      "\n",
      "           * * *\n",
      "\n",
      "Machine precision = 2.220D-16\n",
      " N =          769     M =           10\n",
      "\n",
      "At X0         0 variables are exactly at the bounds\n",
      "\n",
      "At iterate    0    f=  1.51942D+04    |proj g|=  1.77181D+00\n",
      "\n",
      "           * * *\n",
      "\n",
      "Tit   = total number of iterations\n",
      "Tnf   = total number of function evaluations\n",
      "Tnint = total number of segments explored during Cauchy searches\n",
      "Skip  = number of BFGS updates skipped\n",
      "Nact  = number of active bounds at final generalized Cauchy point\n",
      "Projg = norm of the final projected gradient\n",
      "F     = final function value\n",
      "\n",
      "           * * *\n",
      "\n",
      "   N    Tit     Tnf  Tnint  Skip  Nact     Projg        F\n",
      "  769      1      3      1     0     0   1.769D+00   1.519D+04\n",
      "  F =   15194.195055223869     \n",
      "\n",
      "CONVERGENCE: REL_REDUCTION_OF_F_<=_FACTR*EPSMCH             \n",
      "RUNNING THE L-BFGS-B CODE\n",
      "\n",
      "           * * *\n",
      "\n",
      "Machine precision = 2.220D-16\n",
      " N =          769     M =           10\n",
      "\n",
      "At X0         0 variables are exactly at the bounds\n",
      "\n",
      "At iterate    0    f=  1.51937D+04    |proj g|=  1.76907D+00\n"
     ]
    },
    {
     "name": "stderr",
     "output_type": "stream",
     "text": [
      "/home/poh9shka/.local/lib/python3.10/site-packages/sklearn/linear_model/_logistic.py:814: ConvergenceWarning: lbfgs failed to converge (status=1):\n",
      "STOP: TOTAL NO. of ITERATIONS REACHED LIMIT.\n",
      "\n",
      "Increase the number of iterations (max_iter) or scale the data as shown in:\n",
      "    https://scikit-learn.org/stable/modules/preprocessing.html\n",
      "Please also refer to the documentation for alternative solver options:\n",
      "    https://scikit-learn.org/stable/modules/linear_model.html#logistic-regression\n",
      "  n_iter_i = _check_optimize_result(\n",
      " This problem is unconstrained.\n",
      " This problem is unconstrained.\n"
     ]
    },
    {
     "name": "stdout",
     "output_type": "stream",
     "text": [
      "\n",
      "           * * *\n",
      "\n",
      "Tit   = total number of iterations\n",
      "Tnf   = total number of function evaluations\n",
      "Tnint = total number of segments explored during Cauchy searches\n",
      "Skip  = number of BFGS updates skipped\n",
      "Nact  = number of active bounds at final generalized Cauchy point\n",
      "Projg = norm of the final projected gradient\n",
      "F     = final function value\n",
      "\n",
      "           * * *\n",
      "\n",
      "   N    Tit     Tnf  Tnint  Skip  Nact     Projg        F\n",
      "  769      1      3      1     0     0   3.736D-01   1.519D+04\n",
      "  F =   15193.708950780681     \n",
      "\n",
      "CONVERGENCE: REL_REDUCTION_OF_F_<=_FACTR*EPSMCH             \n",
      "RUNNING THE L-BFGS-B CODE\n",
      "\n",
      "           * * *\n",
      "\n",
      "Machine precision = 2.220D-16\n",
      " N =          769     M =           10\n",
      "\n",
      "At X0         0 variables are exactly at the bounds\n",
      "\n",
      "At iterate    0    f=  1.51934D+04    |proj g|=  3.74342D-01\n"
     ]
    },
    {
     "name": "stderr",
     "output_type": "stream",
     "text": [
      " This problem is unconstrained.\n"
     ]
    },
    {
     "name": "stdout",
     "output_type": "stream",
     "text": [
      "\n",
      "At iterate   50    f=  1.51933D+04    |proj g|=  3.52641D-01\n",
      "\n",
      "At iterate  100    f=  1.51933D+04    |proj g|=  1.52495D+00\n",
      "\n",
      "           * * *\n",
      "\n",
      "Tit   = total number of iterations\n",
      "Tnf   = total number of function evaluations\n",
      "Tnint = total number of segments explored during Cauchy searches\n",
      "Skip  = number of BFGS updates skipped\n",
      "Nact  = number of active bounds at final generalized Cauchy point\n",
      "Projg = norm of the final projected gradient\n",
      "F     = final function value\n",
      "\n",
      "           * * *\n",
      "\n",
      "   N    Tit     Tnf  Tnint  Skip  Nact     Projg        F\n",
      "  769    100    117      1     0     0   1.525D+00   1.519D+04\n",
      "  F =   15193.323007381514     \n",
      "\n",
      "STOP: TOTAL NO. of ITERATIONS REACHED LIMIT                 \n",
      "RUNNING THE L-BFGS-B CODE\n",
      "\n",
      "           * * *\n",
      "\n",
      "Machine precision = 2.220D-16\n",
      " N =          769     M =           10\n",
      "\n",
      "At X0         0 variables are exactly at the bounds\n",
      "\n",
      "At iterate    0    f=  1.51931D+04    |proj g|=  1.52453D+00\n",
      "\n",
      "           * * *\n",
      "\n",
      "Tit   = total number of iterations\n",
      "Tnf   = total number of function evaluations\n",
      "Tnint = total number of segments explored during Cauchy searches\n",
      "Skip  = number of BFGS updates skipped\n",
      "Nact  = number of active bounds at final generalized Cauchy point\n",
      "Projg = norm of the final projected gradient\n",
      "F     = final function value\n",
      "\n",
      "           * * *\n",
      "\n",
      "   N    Tit     Tnf  Tnint  Skip  Nact     Projg        F\n",
      "  769      1      3      1     0     0   6.675D-01   1.519D+04\n",
      "  F =   15193.101746520051     \n",
      "\n",
      "CONVERGENCE: REL_REDUCTION_OF_F_<=_FACTR*EPSMCH             \n"
     ]
    },
    {
     "name": "stderr",
     "output_type": "stream",
     "text": [
      "/home/poh9shka/.local/lib/python3.10/site-packages/sklearn/linear_model/_logistic.py:814: ConvergenceWarning: lbfgs failed to converge (status=1):\n",
      "STOP: TOTAL NO. of ITERATIONS REACHED LIMIT.\n",
      "\n",
      "Increase the number of iterations (max_iter) or scale the data as shown in:\n",
      "    https://scikit-learn.org/stable/modules/preprocessing.html\n",
      "Please also refer to the documentation for alternative solver options:\n",
      "    https://scikit-learn.org/stable/modules/linear_model.html#logistic-regression\n",
      "  n_iter_i = _check_optimize_result(\n",
      " This problem is unconstrained.\n",
      "[Parallel(n_jobs=12)]: Done   3 out of   3 | elapsed:  4.2min finished\n"
     ]
    },
    {
     "name": "stdout",
     "output_type": "stream",
     "text": [
      "CPU times: user 2min 38s, sys: 16.6 s, total: 2min 54s\n",
      "Wall time: 4min 17s\n"
     ]
    },
    {
     "data": {
      "text/plain": [
       "LogisticRegressionCV(Cs=array([1.00000000e-02, 1.48735211e-02, 2.21221629e-02, 3.29034456e-02,\n",
       "       4.89390092e-02, 7.27895384e-02, 1.08263673e-01, 1.61026203e-01,\n",
       "       2.39502662e-01, 3.56224789e-01, 5.29831691e-01, 7.88046282e-01,\n",
       "       1.17210230e+00, 1.74332882e+00, 2.59294380e+00, 3.85662042e+00,\n",
       "       5.73615251e+00, 8.53167852e+00, 1.26896100e+01, 1.88739182e+01,\n",
       "       2.80721620e+01, 4.17531894e+01, 6.21016942e+01, 9.23670857e+01,\n",
       "       1.37382380e+02, 2.04335972e+02, 3.03919538e+02, 4.52035366e+02,\n",
       "       6.72335754e+02, 1.00000000e+03]),\n",
       "                     cv=3, n_jobs=12, scoring=make_scorer(f1_score), verbose=1)"
      ]
     },
     "execution_count": 167,
     "metadata": {},
     "output_type": "execute_result"
    }
   ],
   "source": [
    "%%time\n",
    "\n",
    "model_cv_up.fit(features_train_cv_up, target_train_cv_up)"
   ]
  },
  {
   "cell_type": "markdown",
   "metadata": {},
   "source": [
    "Изучим лучшее значение регуляризации:"
   ]
  },
  {
   "cell_type": "code",
   "execution_count": 168,
   "metadata": {},
   "outputs": [
    {
     "data": {
      "text/plain": [
       "array([3.85662042])"
      ]
     },
     "execution_count": 168,
     "metadata": {},
     "output_type": "execute_result"
    }
   ],
   "source": [
    "model_cv_up.C_"
   ]
  },
  {
   "cell_type": "markdown",
   "metadata": {},
   "source": [
    "Теперь для `downsample`:"
   ]
  },
  {
   "cell_type": "code",
   "execution_count": 169,
   "metadata": {},
   "outputs": [],
   "source": [
    "model_cv_down = LogisticRegressionCV(Cs=c_values, scoring=scorer, cv=3, verbose=1, n_jobs=12)"
   ]
  },
  {
   "cell_type": "markdown",
   "metadata": {},
   "source": [
    "Обучим модель:"
   ]
  },
  {
   "cell_type": "code",
   "execution_count": 170,
   "metadata": {
    "scrolled": true
   },
   "outputs": [
    {
     "name": "stderr",
     "output_type": "stream",
     "text": [
      "[Parallel(n_jobs=12)]: Using backend LokyBackend with 12 concurrent workers.\n"
     ]
    },
    {
     "name": "stdout",
     "output_type": "stream",
     "text": [
      "RUNNING THE L-BFGS-B CODE\n",
      "\n",
      "           * * *\n",
      "\n",
      "Machine precision = 2.220D-16\n",
      " N =          769     M =           10\n",
      "\n",
      "At X0         0 variables are exactly at the bounds\n",
      "\n",
      "At iterate    0    f=  3.24871D+04    |proj g|=  8.02964D+04\n",
      "RUNNING THE L-BFGS-B CODE\n",
      "\n",
      "           * * *\n",
      "\n",
      "Machine precision = 2.220D-16\n",
      " N =          769     M =           10\n",
      "\n",
      "At X0         0 variables are exactly at the bounds\n",
      "\n",
      "At iterate    0    f=  3.24871D+04    |proj g|=  8.05599D+04\n",
      "RUNNING THE L-BFGS-B CODE\n",
      "\n",
      "           * * *\n",
      "\n",
      "Machine precision = 2.220D-16\n",
      " N =          769     M =           10\n",
      "\n",
      "At X0         0 variables are exactly at the bounds\n",
      "\n",
      "At iterate    0    f=  3.24864D+04    |proj g|=  8.04526D+04\n"
     ]
    },
    {
     "name": "stderr",
     "output_type": "stream",
     "text": [
      " This problem is unconstrained.\n",
      " This problem is unconstrained.\n",
      " This problem is unconstrained.\n"
     ]
    },
    {
     "name": "stdout",
     "output_type": "stream",
     "text": [
      "\n",
      "At iterate   50    f=  9.70352D+03    |proj g|=  2.59056D+02\n",
      "\n",
      "At iterate   50    f=  9.72506D+03    |proj g|=  9.25373D+00\n",
      "\n",
      "At iterate   50    f=  9.72595D+03    |proj g|=  1.08313D+02\n",
      "\n",
      "At iterate  100    f=  9.69721D+03    |proj g|=  9.90033D+01\n",
      "\n",
      "           * * *\n",
      "\n",
      "Tit   = total number of iterations\n",
      "Tnf   = total number of function evaluations\n",
      "Tnint = total number of segments explored during Cauchy searches\n",
      "Skip  = number of BFGS updates skipped\n",
      "Nact  = number of active bounds at final generalized Cauchy point\n",
      "Projg = norm of the final projected gradient\n",
      "F     = final function value\n",
      "\n",
      "           * * *\n",
      "\n",
      "   N    Tit     Tnf  Tnint  Skip  Nact     Projg        F\n",
      "  769    100    116      1     0     0   9.900D+01   9.697D+03\n",
      "  F =   9697.2055303869329     \n",
      "\n",
      "STOP: TOTAL NO. of ITERATIONS REACHED LIMIT                 \n",
      "RUNNING THE L-BFGS-B CODE\n",
      "\n",
      "           * * *\n",
      "\n",
      "Machine precision = 2.220D-16\n",
      " N =          769     M =           10\n",
      "\n",
      "At X0         0 variables are exactly at the bounds\n",
      "\n",
      "At iterate    0    f=  9.41695D+03    |proj g|=  9.76534D+01\n",
      "\n",
      "At iterate  100    f=  9.71547D+03    |proj g|=  8.05581D+01\n",
      "\n",
      "           * * *\n",
      "\n",
      "Tit   = total number of iterations\n",
      "Tnf   = total number of function evaluations\n",
      "Tnint = total number of segments explored during Cauchy searches\n",
      "Skip  = number of BFGS updates skipped\n",
      "Nact  = number of active bounds at final generalized Cauchy point\n",
      "Projg = norm of the final projected gradient\n",
      "F     = final function value\n",
      "\n",
      "           * * *\n",
      "\n",
      "   N    Tit     Tnf  Tnint  Skip  Nact     Projg        F\n",
      "  769    100    116      1     0     0   8.056D+01   9.715D+03\n",
      "  F =   9715.4697773371863     \n",
      "\n",
      "STOP: TOTAL NO. of ITERATIONS REACHED LIMIT                 \n",
      "RUNNING THE L-BFGS-B CODE\n",
      "\n",
      "           * * *\n",
      "\n",
      "Machine precision = 2.220D-16\n",
      " N =          769     M =           10\n",
      "\n",
      "At X0         0 variables are exactly at the bounds\n",
      "\n",
      "At iterate    0    f=  9.44106D+03    |proj g|=  7.04466D+01\n"
     ]
    },
    {
     "name": "stderr",
     "output_type": "stream",
     "text": [
      "/home/poh9shka/.local/lib/python3.10/site-packages/sklearn/linear_model/_logistic.py:814: ConvergenceWarning: lbfgs failed to converge (status=1):\n",
      "STOP: TOTAL NO. of ITERATIONS REACHED LIMIT.\n",
      "\n",
      "Increase the number of iterations (max_iter) or scale the data as shown in:\n",
      "    https://scikit-learn.org/stable/modules/preprocessing.html\n",
      "Please also refer to the documentation for alternative solver options:\n",
      "    https://scikit-learn.org/stable/modules/linear_model.html#logistic-regression\n",
      "  n_iter_i = _check_optimize_result(\n",
      " This problem is unconstrained.\n",
      "/home/poh9shka/.local/lib/python3.10/site-packages/sklearn/linear_model/_logistic.py:814: ConvergenceWarning: lbfgs failed to converge (status=1):\n",
      "STOP: TOTAL NO. of ITERATIONS REACHED LIMIT.\n",
      "\n",
      "Increase the number of iterations (max_iter) or scale the data as shown in:\n",
      "    https://scikit-learn.org/stable/modules/preprocessing.html\n",
      "Please also refer to the documentation for alternative solver options:\n",
      "    https://scikit-learn.org/stable/modules/linear_model.html#logistic-regression\n",
      "  n_iter_i = _check_optimize_result(\n",
      " This problem is unconstrained.\n"
     ]
    },
    {
     "name": "stdout",
     "output_type": "stream",
     "text": [
      "\n",
      "At iterate  100    f=  9.71011D+03    |proj g|=  3.78565D+01\n",
      "\n",
      "           * * *\n",
      "\n",
      "Tit   = total number of iterations\n",
      "Tnf   = total number of function evaluations\n",
      "Tnint = total number of segments explored during Cauchy searches\n",
      "Skip  = number of BFGS updates skipped\n",
      "Nact  = number of active bounds at final generalized Cauchy point\n",
      "Projg = norm of the final projected gradient\n",
      "F     = final function value\n",
      "\n",
      "           * * *\n",
      "\n",
      "   N    Tit     Tnf  Tnint  Skip  Nact     Projg        F\n",
      "  769    100    117      1     0     0   3.786D+01   9.710D+03\n",
      "  F =   9710.1086115575108     \n",
      "\n",
      "STOP: TOTAL NO. of ITERATIONS REACHED LIMIT                 \n",
      "RUNNING THE L-BFGS-B CODE\n",
      "\n",
      "           * * *\n",
      "\n",
      "Machine precision = 2.220D-16\n",
      " N =          769     M =           10\n",
      "\n",
      "At X0         0 variables are exactly at the bounds\n",
      "\n",
      "At iterate    0    f=  9.43746D+03    |proj g|=  3.85270D+01\n"
     ]
    },
    {
     "name": "stderr",
     "output_type": "stream",
     "text": [
      "/home/poh9shka/.local/lib/python3.10/site-packages/sklearn/linear_model/_logistic.py:814: ConvergenceWarning: lbfgs failed to converge (status=1):\n",
      "STOP: TOTAL NO. of ITERATIONS REACHED LIMIT.\n",
      "\n",
      "Increase the number of iterations (max_iter) or scale the data as shown in:\n",
      "    https://scikit-learn.org/stable/modules/preprocessing.html\n",
      "Please also refer to the documentation for alternative solver options:\n",
      "    https://scikit-learn.org/stable/modules/linear_model.html#logistic-regression\n",
      "  n_iter_i = _check_optimize_result(\n",
      " This problem is unconstrained.\n"
     ]
    },
    {
     "name": "stdout",
     "output_type": "stream",
     "text": [
      "\n",
      "At iterate   50    f=  9.38556D+03    |proj g|=  1.48986D+01\n",
      "\n",
      "At iterate   50    f=  9.40404D+03    |proj g|=  4.94820D+00\n",
      "\n",
      "At iterate   50    f=  9.40206D+03    |proj g|=  5.76855D+00\n",
      "\n",
      "At iterate  100    f=  9.38277D+03    |proj g|=  4.28070D+01\n",
      "\n",
      "           * * *\n",
      "\n",
      "Tit   = total number of iterations\n",
      "Tnf   = total number of function evaluations\n",
      "Tnint = total number of segments explored during Cauchy searches\n",
      "Skip  = number of BFGS updates skipped\n",
      "Nact  = number of active bounds at final generalized Cauchy point\n",
      "Projg = norm of the final projected gradient\n",
      "F     = final function value\n",
      "\n",
      "           * * *\n",
      "\n",
      "   N    Tit     Tnf  Tnint  Skip  Nact     Projg        F\n",
      "  769    100    113      1     0     0   4.281D+01   9.383D+03\n",
      "  F =   9382.7698227840119     \n",
      "\n",
      "STOP: TOTAL NO. of ITERATIONS REACHED LIMIT                 \n",
      "RUNNING THE L-BFGS-B CODE\n",
      "\n",
      "           * * *\n",
      "\n",
      "Machine precision = 2.220D-16\n",
      " N =          769     M =           10\n",
      "\n",
      "At X0         0 variables are exactly at the bounds\n",
      "\n",
      "At iterate    0    f=  9.14635D+03    |proj g|=  4.31925D+01\n",
      "\n",
      "At iterate  100    f=  9.40390D+03    |proj g|=  1.91286D+00\n",
      "\n",
      "           * * *\n",
      "\n",
      "Tit   = total number of iterations\n",
      "Tnf   = total number of function evaluations\n",
      "Tnint = total number of segments explored during Cauchy searches\n",
      "Skip  = number of BFGS updates skipped\n",
      "Nact  = number of active bounds at final generalized Cauchy point\n",
      "Projg = norm of the final projected gradient\n",
      "F     = final function value\n",
      "\n",
      "           * * *\n",
      "\n",
      "   N    Tit     Tnf  Tnint  Skip  Nact     Projg        F\n",
      "  769    100    114      1     0     0   1.913D+00   9.404D+03\n",
      "  F =   9403.8982825214334     \n",
      "\n",
      "STOP: TOTAL NO. of ITERATIONS REACHED LIMIT                 \n",
      "RUNNING THE L-BFGS-B CODE\n",
      "\n",
      "           * * *\n",
      "\n",
      "Machine precision = 2.220D-16\n",
      " N =          769     M =           10\n",
      "\n",
      "At X0         0 variables are exactly at the bounds\n",
      "\n",
      "At iterate    0    f=  9.16978D+03    |proj g|=  1.22763D+01\n"
     ]
    },
    {
     "name": "stderr",
     "output_type": "stream",
     "text": [
      "/home/poh9shka/.local/lib/python3.10/site-packages/sklearn/linear_model/_logistic.py:814: ConvergenceWarning: lbfgs failed to converge (status=1):\n",
      "STOP: TOTAL NO. of ITERATIONS REACHED LIMIT.\n",
      "\n",
      "Increase the number of iterations (max_iter) or scale the data as shown in:\n",
      "    https://scikit-learn.org/stable/modules/preprocessing.html\n",
      "Please also refer to the documentation for alternative solver options:\n",
      "    https://scikit-learn.org/stable/modules/linear_model.html#logistic-regression\n",
      "  n_iter_i = _check_optimize_result(\n",
      " This problem is unconstrained.\n",
      "/home/poh9shka/.local/lib/python3.10/site-packages/sklearn/linear_model/_logistic.py:814: ConvergenceWarning: lbfgs failed to converge (status=1):\n",
      "STOP: TOTAL NO. of ITERATIONS REACHED LIMIT.\n",
      "\n",
      "Increase the number of iterations (max_iter) or scale the data as shown in:\n",
      "    https://scikit-learn.org/stable/modules/preprocessing.html\n",
      "Please also refer to the documentation for alternative solver options:\n",
      "    https://scikit-learn.org/stable/modules/linear_model.html#logistic-regression\n",
      "  n_iter_i = _check_optimize_result(\n",
      " This problem is unconstrained.\n"
     ]
    },
    {
     "name": "stdout",
     "output_type": "stream",
     "text": [
      "\n",
      "           * * *\n",
      "\n",
      "Tit   = total number of iterations\n",
      "Tnf   = total number of function evaluations\n",
      "Tnint = total number of segments explored during Cauchy searches\n",
      "Skip  = number of BFGS updates skipped\n",
      "Nact  = number of active bounds at final generalized Cauchy point\n",
      "Projg = norm of the final projected gradient\n",
      "F     = final function value\n",
      "\n",
      "           * * *\n",
      "\n",
      "   N    Tit     Tnf  Tnint  Skip  Nact     Projg        F\n",
      "  769     81     92      1     0     0   3.205D-01   9.402D+03\n",
      "  F =   9402.0084275297486     \n",
      "\n",
      "CONVERGENCE: REL_REDUCTION_OF_F_<=_FACTR*EPSMCH             \n",
      "RUNNING THE L-BFGS-B CODE\n",
      "\n",
      "           * * *\n",
      "\n",
      "Machine precision = 2.220D-16\n",
      " N =          769     M =           10\n",
      "\n",
      "At X0         0 variables are exactly at the bounds\n",
      "\n",
      "At iterate    0    f=  9.16733D+03    |proj g|=  1.25492D+01\n"
     ]
    },
    {
     "name": "stderr",
     "output_type": "stream",
     "text": [
      " This problem is unconstrained.\n"
     ]
    },
    {
     "name": "stdout",
     "output_type": "stream",
     "text": [
      "\n",
      "At iterate   50    f=  9.11874D+03    |proj g|=  2.40694D+00\n",
      "\n",
      "At iterate   50    f=  9.14194D+03    |proj g|=  5.98018D+00\n",
      "\n",
      "At iterate   50    f=  9.13788D+03    |proj g|=  3.66140D+00\n",
      "\n",
      "At iterate  100    f=  9.11865D+03    |proj g|=  8.50550D-01\n",
      "\n",
      "           * * *\n",
      "\n",
      "Tit   = total number of iterations\n",
      "Tnf   = total number of function evaluations\n",
      "Tnint = total number of segments explored during Cauchy searches\n",
      "Skip  = number of BFGS updates skipped\n",
      "Nact  = number of active bounds at final generalized Cauchy point\n",
      "Projg = norm of the final projected gradient\n",
      "F     = final function value\n",
      "\n",
      "           * * *\n",
      "\n",
      "   N    Tit     Tnf  Tnint  Skip  Nact     Projg        F\n",
      "  769    100    114      1     0     0   8.506D-01   9.119D+03\n",
      "  F =   9118.6452605796603     \n",
      "\n",
      "STOP: TOTAL NO. of ITERATIONS REACHED LIMIT                 \n",
      "RUNNING THE L-BFGS-B CODE\n",
      "\n",
      "           * * *\n",
      "\n",
      "Machine precision = 2.220D-16\n",
      " N =          769     M =           10\n",
      "\n",
      "At X0         0 variables are exactly at the bounds\n",
      "\n",
      "At iterate    0    f=  8.91689D+03    |proj g|=  9.45058D+00\n"
     ]
    },
    {
     "name": "stderr",
     "output_type": "stream",
     "text": [
      "/home/poh9shka/.local/lib/python3.10/site-packages/sklearn/linear_model/_logistic.py:814: ConvergenceWarning: lbfgs failed to converge (status=1):\n",
      "STOP: TOTAL NO. of ITERATIONS REACHED LIMIT.\n",
      "\n",
      "Increase the number of iterations (max_iter) or scale the data as shown in:\n",
      "    https://scikit-learn.org/stable/modules/preprocessing.html\n",
      "Please also refer to the documentation for alternative solver options:\n",
      "    https://scikit-learn.org/stable/modules/linear_model.html#logistic-regression\n",
      "  n_iter_i = _check_optimize_result(\n",
      " This problem is unconstrained.\n"
     ]
    },
    {
     "name": "stdout",
     "output_type": "stream",
     "text": [
      "\n",
      "At iterate  100    f=  9.14182D+03    |proj g|=  5.38581D-01\n",
      "\n",
      "           * * *\n",
      "\n",
      "Tit   = total number of iterations\n",
      "Tnf   = total number of function evaluations\n",
      "Tnint = total number of segments explored during Cauchy searches\n",
      "Skip  = number of BFGS updates skipped\n",
      "Nact  = number of active bounds at final generalized Cauchy point\n",
      "Projg = norm of the final projected gradient\n",
      "F     = final function value\n",
      "\n",
      "           * * *\n",
      "\n",
      "   N    Tit     Tnf  Tnint  Skip  Nact     Projg        F\n",
      "  769    100    119      1     0     0   5.386D-01   9.142D+03\n",
      "  F =   9141.8215666050419     \n",
      "\n",
      "STOP: TOTAL NO. of ITERATIONS REACHED LIMIT                 \n",
      "RUNNING THE L-BFGS-B CODE\n",
      "\n",
      "           * * *\n",
      "\n",
      "Machine precision = 2.220D-16\n",
      " N =          769     M =           10\n",
      "\n",
      "At X0         0 variables are exactly at the bounds\n",
      "\n",
      "At iterate    0    f=  8.94121D+03    |proj g|=  9.66091D+00\n"
     ]
    },
    {
     "name": "stderr",
     "output_type": "stream",
     "text": [
      "/home/poh9shka/.local/lib/python3.10/site-packages/sklearn/linear_model/_logistic.py:814: ConvergenceWarning: lbfgs failed to converge (status=1):\n",
      "STOP: TOTAL NO. of ITERATIONS REACHED LIMIT.\n",
      "\n",
      "Increase the number of iterations (max_iter) or scale the data as shown in:\n",
      "    https://scikit-learn.org/stable/modules/preprocessing.html\n",
      "Please also refer to the documentation for alternative solver options:\n",
      "    https://scikit-learn.org/stable/modules/linear_model.html#logistic-regression\n",
      "  n_iter_i = _check_optimize_result(\n",
      " This problem is unconstrained.\n"
     ]
    },
    {
     "name": "stdout",
     "output_type": "stream",
     "text": [
      "\n",
      "           * * *\n",
      "\n",
      "Tit   = total number of iterations\n",
      "Tnf   = total number of function evaluations\n",
      "Tnint = total number of segments explored during Cauchy searches\n",
      "Skip  = number of BFGS updates skipped\n",
      "Nact  = number of active bounds at final generalized Cauchy point\n",
      "Projg = norm of the final projected gradient\n",
      "F     = final function value\n",
      "\n",
      "           * * *\n",
      "\n",
      "   N    Tit     Tnf  Tnint  Skip  Nact     Projg        F\n",
      "  769     86    100      1     0     0   9.682D-01   9.138D+03\n",
      "  F =   9137.8379533122334     \n",
      "\n",
      "CONVERGENCE: REL_REDUCTION_OF_F_<=_FACTR*EPSMCH             \n",
      "RUNNING THE L-BFGS-B CODE\n",
      "\n",
      "           * * *\n",
      "\n",
      "Machine precision = 2.220D-16\n",
      " N =          769     M =           10\n",
      "\n",
      "At X0         0 variables are exactly at the bounds\n",
      "\n",
      "At iterate    0    f=  8.93525D+03    |proj g|=  9.68563D+00\n"
     ]
    },
    {
     "name": "stderr",
     "output_type": "stream",
     "text": [
      " This problem is unconstrained.\n"
     ]
    },
    {
     "name": "stdout",
     "output_type": "stream",
     "text": [
      "\n",
      "At iterate   50    f=  8.89041D+03    |proj g|=  3.22681D+00\n",
      "\n",
      "At iterate   50    f=  8.91531D+03    |proj g|=  2.88822D+00\n",
      "\n",
      "At iterate   50    f=  8.90884D+03    |proj g|=  1.14653D+00\n",
      "\n",
      "           * * *\n",
      "\n",
      "Tit   = total number of iterations\n",
      "Tnf   = total number of function evaluations\n",
      "Tnint = total number of segments explored during Cauchy searches\n",
      "Skip  = number of BFGS updates skipped\n",
      "Nact  = number of active bounds at final generalized Cauchy point\n",
      "Projg = norm of the final projected gradient\n",
      "F     = final function value\n",
      "\n",
      "           * * *\n",
      "\n",
      "   N    Tit     Tnf  Tnint  Skip  Nact     Projg        F\n",
      "  769     80     94      1     0     0   1.900D+00   8.890D+03\n",
      "  F =   8890.3772023963684     \n",
      "\n",
      "CONVERGENCE: REL_REDUCTION_OF_F_<=_FACTR*EPSMCH             \n",
      "RUNNING THE L-BFGS-B CODE\n",
      "\n",
      "           * * *\n",
      "\n",
      "Machine precision = 2.220D-16\n",
      " N =          769     M =           10\n",
      "\n",
      "At X0         0 variables are exactly at the bounds\n",
      "\n",
      "At iterate    0    f=  8.71428D+03    |proj g|=  7.27846D+00\n"
     ]
    },
    {
     "name": "stderr",
     "output_type": "stream",
     "text": [
      " This problem is unconstrained.\n"
     ]
    },
    {
     "name": "stdout",
     "output_type": "stream",
     "text": [
      "\n",
      "           * * *\n",
      "\n",
      "Tit   = total number of iterations\n",
      "Tnf   = total number of function evaluations\n",
      "Tnint = total number of segments explored during Cauchy searches\n",
      "Skip  = number of BFGS updates skipped\n",
      "Nact  = number of active bounds at final generalized Cauchy point\n",
      "Projg = norm of the final projected gradient\n",
      "F     = final function value\n",
      "\n",
      "           * * *\n",
      "\n",
      "   N    Tit     Tnf  Tnint  Skip  Nact     Projg        F\n",
      "  769     81     96      1     0     0   1.384D+00   8.915D+03\n",
      "  F =   8915.2798002165582     \n",
      "\n",
      "CONVERGENCE: REL_REDUCTION_OF_F_<=_FACTR*EPSMCH             \n",
      "RUNNING THE L-BFGS-B CODE\n",
      "\n",
      "           * * *\n",
      "\n",
      "Machine precision = 2.220D-16\n",
      " N =          769     M =           10\n",
      "\n",
      "At X0         0 variables are exactly at the bounds\n",
      "\n",
      "At iterate    0    f=  8.74085D+03    |proj g|=  7.52312D+00\n"
     ]
    },
    {
     "name": "stderr",
     "output_type": "stream",
     "text": [
      " This problem is unconstrained.\n"
     ]
    },
    {
     "name": "stdout",
     "output_type": "stream",
     "text": [
      "\n",
      "           * * *\n",
      "\n",
      "Tit   = total number of iterations\n",
      "Tnf   = total number of function evaluations\n",
      "Tnint = total number of segments explored during Cauchy searches\n",
      "Skip  = number of BFGS updates skipped\n",
      "Nact  = number of active bounds at final generalized Cauchy point\n",
      "Projg = norm of the final projected gradient\n",
      "F     = final function value\n",
      "\n",
      "           * * *\n",
      "\n",
      "   N    Tit     Tnf  Tnint  Skip  Nact     Projg        F\n",
      "  769     73     89      1     0     0   1.696D-01   8.909D+03\n",
      "  F =   8908.8189043993589     \n",
      "\n",
      "CONVERGENCE: REL_REDUCTION_OF_F_<=_FACTR*EPSMCH             \n",
      "RUNNING THE L-BFGS-B CODE\n",
      "\n",
      "           * * *\n",
      "\n",
      "Machine precision = 2.220D-16\n",
      " N =          769     M =           10\n",
      "\n",
      "At X0         0 variables are exactly at the bounds\n",
      "\n",
      "At iterate    0    f=  8.73229D+03    |proj g|=  7.47851D+00\n"
     ]
    },
    {
     "name": "stderr",
     "output_type": "stream",
     "text": [
      " This problem is unconstrained.\n"
     ]
    },
    {
     "name": "stdout",
     "output_type": "stream",
     "text": [
      "\n",
      "At iterate   50    f=  8.69042D+03    |proj g|=  6.76969D+00\n",
      "\n",
      "At iterate   50    f=  8.71676D+03    |proj g|=  7.25921D-01\n",
      "\n",
      "At iterate   50    f=  8.70796D+03    |proj g|=  4.81351D+00\n",
      "\n",
      "           * * *\n",
      "\n",
      "Tit   = total number of iterations\n",
      "Tnf   = total number of function evaluations\n",
      "Tnint = total number of segments explored during Cauchy searches\n",
      "Skip  = number of BFGS updates skipped\n",
      "Nact  = number of active bounds at final generalized Cauchy point\n",
      "Projg = norm of the final projected gradient\n",
      "F     = final function value\n",
      "\n",
      "           * * *\n",
      "\n",
      "   N    Tit     Tnf  Tnint  Skip  Nact     Projg        F\n",
      "  769     81     94      1     0     0   1.609D+00   8.717D+03\n",
      "  F =   8716.7215872532815     \n",
      "\n",
      "CONVERGENCE: REL_REDUCTION_OF_F_<=_FACTR*EPSMCH             \n",
      "RUNNING THE L-BFGS-B CODE\n",
      "\n",
      "           * * *\n",
      "\n",
      "Machine precision = 2.220D-16\n",
      " N =          769     M =           10\n",
      "\n",
      "At X0         0 variables are exactly at the bounds\n",
      "\n",
      "At iterate    0    f=  8.56248D+03    |proj g|=  5.85035D+00\n"
     ]
    },
    {
     "name": "stderr",
     "output_type": "stream",
     "text": [
      " This problem is unconstrained.\n"
     ]
    },
    {
     "name": "stdout",
     "output_type": "stream",
     "text": [
      "\n",
      "At iterate  100    f=  8.69003D+03    |proj g|=  1.96645D+00\n",
      "\n",
      "           * * *\n",
      "\n",
      "Tit   = total number of iterations\n",
      "Tnf   = total number of function evaluations\n",
      "Tnint = total number of segments explored during Cauchy searches\n",
      "Skip  = number of BFGS updates skipped\n",
      "Nact  = number of active bounds at final generalized Cauchy point\n",
      "Projg = norm of the final projected gradient\n",
      "F     = final function value\n",
      "\n",
      "           * * *\n",
      "\n",
      "   N    Tit     Tnf  Tnint  Skip  Nact     Projg        F\n",
      "  769    100    117      1     0     0   1.966D+00   8.690D+03\n",
      "  F =   8690.0300729524006     \n",
      "\n",
      "STOP: TOTAL NO. of ITERATIONS REACHED LIMIT                 \n",
      "RUNNING THE L-BFGS-B CODE\n",
      "\n",
      "           * * *\n",
      "\n",
      "Machine precision = 2.220D-16\n",
      " N =          769     M =           10\n",
      "\n",
      "At X0         0 variables are exactly at the bounds\n",
      "\n",
      "At iterate    0    f=  8.53451D+03    |proj g|=  6.42030D+00\n"
     ]
    },
    {
     "name": "stderr",
     "output_type": "stream",
     "text": [
      "/home/poh9shka/.local/lib/python3.10/site-packages/sklearn/linear_model/_logistic.py:814: ConvergenceWarning: lbfgs failed to converge (status=1):\n",
      "STOP: TOTAL NO. of ITERATIONS REACHED LIMIT.\n",
      "\n",
      "Increase the number of iterations (max_iter) or scale the data as shown in:\n",
      "    https://scikit-learn.org/stable/modules/preprocessing.html\n",
      "Please also refer to the documentation for alternative solver options:\n",
      "    https://scikit-learn.org/stable/modules/linear_model.html#logistic-regression\n",
      "  n_iter_i = _check_optimize_result(\n",
      " This problem is unconstrained.\n"
     ]
    },
    {
     "name": "stdout",
     "output_type": "stream",
     "text": [
      "\n",
      "           * * *\n",
      "\n",
      "Tit   = total number of iterations\n",
      "Tnf   = total number of function evaluations\n",
      "Tnint = total number of segments explored during Cauchy searches\n",
      "Skip  = number of BFGS updates skipped\n",
      "Nact  = number of active bounds at final generalized Cauchy point\n",
      "Projg = norm of the final projected gradient\n",
      "F     = final function value\n",
      "\n",
      "           * * *\n",
      "\n",
      "   N    Tit     Tnf  Tnint  Skip  Nact     Projg        F\n",
      "  769     92    107      1     0     0   9.383D-01   8.708D+03\n",
      "  F =   8707.8467476842470     \n",
      "\n",
      "CONVERGENCE: REL_REDUCTION_OF_F_<=_FACTR*EPSMCH             \n",
      "RUNNING THE L-BFGS-B CODE\n",
      "\n",
      "           * * *\n",
      "\n",
      "Machine precision = 2.220D-16\n",
      " N =          769     M =           10\n",
      "\n",
      "At X0         0 variables are exactly at the bounds\n",
      "\n",
      "At iterate    0    f=  8.55189D+03    |proj g|=  5.75562D+00\n"
     ]
    },
    {
     "name": "stderr",
     "output_type": "stream",
     "text": [
      " This problem is unconstrained.\n"
     ]
    },
    {
     "name": "stdout",
     "output_type": "stream",
     "text": [
      "\n",
      "At iterate   50    f=  8.54057D+03    |proj g|=  1.05503D+01\n",
      "\n",
      "At iterate   50    f=  8.51197D+03    |proj g|=  1.31217D+01\n",
      "\n",
      "At iterate   50    f=  8.52920D+03    |proj g|=  6.04589D+00\n",
      "\n",
      "At iterate  100    f=  8.54003D+03    |proj g|=  3.58732D+00\n",
      "\n",
      "           * * *\n",
      "\n",
      "Tit   = total number of iterations\n",
      "Tnf   = total number of function evaluations\n",
      "Tnint = total number of segments explored during Cauchy searches\n",
      "Skip  = number of BFGS updates skipped\n",
      "Nact  = number of active bounds at final generalized Cauchy point\n",
      "Projg = norm of the final projected gradient\n",
      "F     = final function value\n",
      "\n",
      "           * * *\n",
      "\n",
      "   N    Tit     Tnf  Tnint  Skip  Nact     Projg        F\n",
      "  769    100    119      1     0     0   3.587D+00   8.540D+03\n",
      "  F =   8540.0332718131867     \n",
      "\n",
      "STOP: TOTAL NO. of ITERATIONS REACHED LIMIT                 \n",
      "RUNNING THE L-BFGS-B CODE\n",
      "\n",
      "           * * *\n",
      "\n",
      "Machine precision = 2.220D-16\n",
      " N =          769     M =           10\n",
      "\n",
      "At X0         0 variables are exactly at the bounds\n",
      "\n",
      "At iterate    0    f=  8.40232D+03    |proj g|=  4.65715D+00\n"
     ]
    },
    {
     "name": "stderr",
     "output_type": "stream",
     "text": [
      "/home/poh9shka/.local/lib/python3.10/site-packages/sklearn/linear_model/_logistic.py:814: ConvergenceWarning: lbfgs failed to converge (status=1):\n",
      "STOP: TOTAL NO. of ITERATIONS REACHED LIMIT.\n",
      "\n",
      "Increase the number of iterations (max_iter) or scale the data as shown in:\n",
      "    https://scikit-learn.org/stable/modules/preprocessing.html\n",
      "Please also refer to the documentation for alternative solver options:\n",
      "    https://scikit-learn.org/stable/modules/linear_model.html#logistic-regression\n",
      "  n_iter_i = _check_optimize_result(\n",
      " This problem is unconstrained.\n"
     ]
    },
    {
     "name": "stdout",
     "output_type": "stream",
     "text": [
      "\n",
      "At iterate  100    f=  8.51183D+03    |proj g|=  1.74102D+00\n",
      "\n",
      "           * * *\n",
      "\n",
      "Tit   = total number of iterations\n",
      "Tnf   = total number of function evaluations\n",
      "Tnint = total number of segments explored during Cauchy searches\n",
      "Skip  = number of BFGS updates skipped\n",
      "Nact  = number of active bounds at final generalized Cauchy point\n",
      "Projg = norm of the final projected gradient\n",
      "F     = final function value\n",
      "\n",
      "           * * *\n",
      "\n",
      "   N    Tit     Tnf  Tnint  Skip  Nact     Projg        F\n",
      "  769    100    123      1     0     0   1.741D+00   8.512D+03\n",
      "  F =   8511.8329907949046     \n",
      "\n",
      "STOP: TOTAL NO. of ITERATIONS REACHED LIMIT                 \n",
      "RUNNING THE L-BFGS-B CODE\n",
      "\n",
      "           * * *\n",
      "\n",
      "Machine precision = 2.220D-16\n",
      " N =          769     M =           10\n",
      "\n",
      "At X0         0 variables are exactly at the bounds\n",
      "\n",
      "At iterate    0    f=  8.37259D+03    |proj g|=  4.97654D+00\n"
     ]
    },
    {
     "name": "stderr",
     "output_type": "stream",
     "text": [
      "/home/poh9shka/.local/lib/python3.10/site-packages/sklearn/linear_model/_logistic.py:814: ConvergenceWarning: lbfgs failed to converge (status=1):\n",
      "STOP: TOTAL NO. of ITERATIONS REACHED LIMIT.\n",
      "\n",
      "Increase the number of iterations (max_iter) or scale the data as shown in:\n",
      "    https://scikit-learn.org/stable/modules/preprocessing.html\n",
      "Please also refer to the documentation for alternative solver options:\n",
      "    https://scikit-learn.org/stable/modules/linear_model.html#logistic-regression\n",
      "  n_iter_i = _check_optimize_result(\n",
      " This problem is unconstrained.\n"
     ]
    },
    {
     "name": "stdout",
     "output_type": "stream",
     "text": [
      "\n",
      "At iterate   50    f=  8.38104D+03    |proj g|=  6.22817D+00\n",
      "\n",
      "At iterate  100    f=  8.52916D+03    |proj g|=  1.18562D+00\n",
      "\n",
      "           * * *\n",
      "\n",
      "Tit   = total number of iterations\n",
      "Tnf   = total number of function evaluations\n",
      "Tnint = total number of segments explored during Cauchy searches\n",
      "Skip  = number of BFGS updates skipped\n",
      "Nact  = number of active bounds at final generalized Cauchy point\n",
      "Projg = norm of the final projected gradient\n",
      "F     = final function value\n",
      "\n",
      "           * * *\n",
      "\n",
      "   N    Tit     Tnf  Tnint  Skip  Nact     Projg        F\n",
      "  769    100    114      1     0     0   1.186D+00   8.529D+03\n",
      "  F =   8529.1560548217331     \n",
      "\n",
      "STOP: TOTAL NO. of ITERATIONS REACHED LIMIT                 \n"
     ]
    },
    {
     "name": "stderr",
     "output_type": "stream",
     "text": [
      "/home/poh9shka/.local/lib/python3.10/site-packages/sklearn/linear_model/_logistic.py:814: ConvergenceWarning: lbfgs failed to converge (status=1):\n",
      "STOP: TOTAL NO. of ITERATIONS REACHED LIMIT.\n",
      "\n",
      "Increase the number of iterations (max_iter) or scale the data as shown in:\n",
      "    https://scikit-learn.org/stable/modules/preprocessing.html\n",
      "Please also refer to the documentation for alternative solver options:\n",
      "    https://scikit-learn.org/stable/modules/linear_model.html#logistic-regression\n",
      "  n_iter_i = _check_optimize_result(\n",
      " This problem is unconstrained.\n"
     ]
    },
    {
     "name": "stdout",
     "output_type": "stream",
     "text": [
      "RUNNING THE L-BFGS-B CODE\n",
      "\n",
      "           * * *\n",
      "\n",
      "Machine precision = 2.220D-16\n",
      " N =          769     M =           10\n",
      "\n",
      "At X0         0 variables are exactly at the bounds\n",
      "\n",
      "At iterate    0    f=  8.38975D+03    |proj g|=  4.39933D+00\n",
      "\n",
      "At iterate   50    f=  8.35245D+03    |proj g|=  2.17760D+01\n",
      "\n",
      "At iterate  100    f=  8.38057D+03    |proj g|=  9.41793D-01\n",
      "\n",
      "           * * *\n",
      "\n",
      "Tit   = total number of iterations\n",
      "Tnf   = total number of function evaluations\n",
      "Tnint = total number of segments explored during Cauchy searches\n",
      "Skip  = number of BFGS updates skipped\n",
      "Nact  = number of active bounds at final generalized Cauchy point\n",
      "Projg = norm of the final projected gradient\n",
      "F     = final function value\n",
      "\n",
      "           * * *\n",
      "\n",
      "   N    Tit     Tnf  Tnint  Skip  Nact     Projg        F\n",
      "  769    100    115      1     0     0   9.418D-01   8.381D+03\n",
      "  F =   8380.5748762378844     \n",
      "\n",
      "STOP: TOTAL NO. of ITERATIONS REACHED LIMIT                 \n",
      "RUNNING THE L-BFGS-B CODE\n",
      "\n",
      "           * * *\n",
      "\n",
      "Machine precision = 2.220D-16\n",
      " N =          769     M =           10\n",
      "\n",
      "At X0         0 variables are exactly at the bounds\n",
      "\n",
      "At iterate    0    f=  8.25562D+03    |proj g|=  3.66595D+00\n"
     ]
    },
    {
     "name": "stderr",
     "output_type": "stream",
     "text": [
      "/home/poh9shka/.local/lib/python3.10/site-packages/sklearn/linear_model/_logistic.py:814: ConvergenceWarning: lbfgs failed to converge (status=1):\n",
      "STOP: TOTAL NO. of ITERATIONS REACHED LIMIT.\n",
      "\n",
      "Increase the number of iterations (max_iter) or scale the data as shown in:\n",
      "    https://scikit-learn.org/stable/modules/preprocessing.html\n",
      "Please also refer to the documentation for alternative solver options:\n",
      "    https://scikit-learn.org/stable/modules/linear_model.html#logistic-regression\n",
      "  n_iter_i = _check_optimize_result(\n",
      " This problem is unconstrained.\n"
     ]
    },
    {
     "name": "stdout",
     "output_type": "stream",
     "text": [
      "\n",
      "At iterate   50    f=  8.36923D+03    |proj g|=  4.01974D+01\n",
      "\n",
      "At iterate  100    f=  8.35159D+03    |proj g|=  2.42808D+01\n",
      "\n",
      "           * * *\n",
      "\n",
      "Tit   = total number of iterations\n",
      "Tnf   = total number of function evaluations\n",
      "Tnint = total number of segments explored during Cauchy searches\n",
      "Skip  = number of BFGS updates skipped\n",
      "Nact  = number of active bounds at final generalized Cauchy point\n",
      "Projg = norm of the final projected gradient\n",
      "F     = final function value\n",
      "\n",
      "           * * *\n",
      "\n",
      "   N    Tit     Tnf  Tnint  Skip  Nact     Projg        F\n",
      "  769    100    119      1     0     0   2.428D+01   8.352D+03\n",
      "  F =   8351.5854373077600     \n",
      "\n",
      "STOP: TOTAL NO. of ITERATIONS REACHED LIMIT                 \n",
      "RUNNING THE L-BFGS-B CODE\n",
      "\n",
      "           * * *\n",
      "\n",
      "Machine precision = 2.220D-16\n",
      " N =          769     M =           10\n",
      "\n",
      "At X0         0 variables are exactly at the bounds\n",
      "\n",
      "At iterate    0    f=  8.22604D+03    |proj g|=  2.40115D+01\n"
     ]
    },
    {
     "name": "stderr",
     "output_type": "stream",
     "text": [
      "/home/poh9shka/.local/lib/python3.10/site-packages/sklearn/linear_model/_logistic.py:814: ConvergenceWarning: lbfgs failed to converge (status=1):\n",
      "STOP: TOTAL NO. of ITERATIONS REACHED LIMIT.\n",
      "\n",
      "Increase the number of iterations (max_iter) or scale the data as shown in:\n",
      "    https://scikit-learn.org/stable/modules/preprocessing.html\n",
      "Please also refer to the documentation for alternative solver options:\n",
      "    https://scikit-learn.org/stable/modules/linear_model.html#logistic-regression\n",
      "  n_iter_i = _check_optimize_result(\n",
      " This problem is unconstrained.\n"
     ]
    },
    {
     "name": "stdout",
     "output_type": "stream",
     "text": [
      "\n",
      "At iterate   50    f=  8.23569D+03    |proj g|=  4.84229D+00\n",
      "\n",
      "At iterate   50    f=  8.20883D+03    |proj g|=  3.10475D+01\n",
      "\n",
      "At iterate  100    f=  8.36849D+03    |proj g|=  3.80273D-01\n",
      "\n",
      "           * * *\n",
      "\n",
      "Tit   = total number of iterations\n",
      "Tnf   = total number of function evaluations\n",
      "Tnint = total number of segments explored during Cauchy searches\n",
      "Skip  = number of BFGS updates skipped\n",
      "Nact  = number of active bounds at final generalized Cauchy point\n",
      "Projg = norm of the final projected gradient\n",
      "F     = final function value\n",
      "\n",
      "           * * *\n",
      "\n",
      "   N    Tit     Tnf  Tnint  Skip  Nact     Projg        F\n",
      "  769    100    118      1     0     0   3.803D-01   8.368D+03\n",
      "  F =   8368.4881925975824     \n",
      "\n",
      "STOP: TOTAL NO. of ITERATIONS REACHED LIMIT                 \n",
      "RUNNING THE L-BFGS-B CODE\n",
      "\n",
      "           * * *\n",
      "\n",
      "Machine precision = 2.220D-16\n",
      " N =          769     M =           10\n",
      "\n",
      "At X0         0 variables are exactly at the bounds\n",
      "\n",
      "At iterate    0    f=  8.24314D+03    |proj g|=  3.36320D+00\n"
     ]
    },
    {
     "name": "stderr",
     "output_type": "stream",
     "text": [
      "/home/poh9shka/.local/lib/python3.10/site-packages/sklearn/linear_model/_logistic.py:814: ConvergenceWarning: lbfgs failed to converge (status=1):\n",
      "STOP: TOTAL NO. of ITERATIONS REACHED LIMIT.\n",
      "\n",
      "Increase the number of iterations (max_iter) or scale the data as shown in:\n",
      "    https://scikit-learn.org/stable/modules/preprocessing.html\n",
      "Please also refer to the documentation for alternative solver options:\n",
      "    https://scikit-learn.org/stable/modules/linear_model.html#logistic-regression\n",
      "  n_iter_i = _check_optimize_result(\n",
      " This problem is unconstrained.\n"
     ]
    },
    {
     "name": "stdout",
     "output_type": "stream",
     "text": [
      "\n",
      "At iterate  100    f=  8.23533D+03    |proj g|=  9.11715D-01\n",
      "\n",
      "           * * *\n",
      "\n",
      "Tit   = total number of iterations\n",
      "Tnf   = total number of function evaluations\n",
      "Tnint = total number of segments explored during Cauchy searches\n",
      "Skip  = number of BFGS updates skipped\n",
      "Nact  = number of active bounds at final generalized Cauchy point\n",
      "Projg = norm of the final projected gradient\n",
      "F     = final function value\n",
      "\n",
      "           * * *\n",
      "\n",
      "   N    Tit     Tnf  Tnint  Skip  Nact     Projg        F\n",
      "  769    100    119      1     0     0   9.117D-01   8.235D+03\n",
      "  F =   8235.3324423696504     \n",
      "\n",
      "STOP: TOTAL NO. of ITERATIONS REACHED LIMIT                 \n",
      "RUNNING THE L-BFGS-B CODE\n",
      "\n",
      "           * * *\n",
      "\n",
      "Machine precision = 2.220D-16\n",
      " N =          769     M =           10\n",
      "\n",
      "At X0         0 variables are exactly at the bounds\n",
      "\n",
      "At iterate    0    f=  8.12075D+03    |proj g|=  2.90741D+00\n"
     ]
    },
    {
     "name": "stderr",
     "output_type": "stream",
     "text": [
      "/home/poh9shka/.local/lib/python3.10/site-packages/sklearn/linear_model/_logistic.py:814: ConvergenceWarning: lbfgs failed to converge (status=1):\n",
      "STOP: TOTAL NO. of ITERATIONS REACHED LIMIT.\n",
      "\n",
      "Increase the number of iterations (max_iter) or scale the data as shown in:\n",
      "    https://scikit-learn.org/stable/modules/preprocessing.html\n",
      "Please also refer to the documentation for alternative solver options:\n",
      "    https://scikit-learn.org/stable/modules/linear_model.html#logistic-regression\n",
      "  n_iter_i = _check_optimize_result(\n",
      " This problem is unconstrained.\n"
     ]
    },
    {
     "name": "stdout",
     "output_type": "stream",
     "text": [
      "\n",
      "At iterate  100    f=  8.20658D+03    |proj g|=  5.50584D+00\n",
      "\n",
      "           * * *\n",
      "\n",
      "Tit   = total number of iterations\n",
      "Tnf   = total number of function evaluations\n",
      "Tnint = total number of segments explored during Cauchy searches\n",
      "Skip  = number of BFGS updates skipped\n",
      "Nact  = number of active bounds at final generalized Cauchy point\n",
      "Projg = norm of the final projected gradient\n",
      "F     = final function value\n",
      "\n",
      "           * * *\n",
      "\n",
      "   N    Tit     Tnf  Tnint  Skip  Nact     Projg        F\n",
      "  769    100    118      1     0     0   5.506D+00   8.207D+03\n",
      "  F =   8206.5784281176329     \n",
      "\n",
      "STOP: TOTAL NO. of ITERATIONS REACHED LIMIT                 \n",
      "RUNNING THE L-BFGS-B CODE\n",
      "\n",
      "           * * *\n",
      "\n",
      "Machine precision = 2.220D-16\n",
      " N =          769     M =           10\n",
      "\n",
      "At X0         0 variables are exactly at the bounds\n",
      "\n",
      "At iterate    0    f=  8.09290D+03    |proj g|=  5.83203D+00\n"
     ]
    },
    {
     "name": "stderr",
     "output_type": "stream",
     "text": [
      "/home/poh9shka/.local/lib/python3.10/site-packages/sklearn/linear_model/_logistic.py:814: ConvergenceWarning: lbfgs failed to converge (status=1):\n",
      "STOP: TOTAL NO. of ITERATIONS REACHED LIMIT.\n",
      "\n",
      "Increase the number of iterations (max_iter) or scale the data as shown in:\n",
      "    https://scikit-learn.org/stable/modules/preprocessing.html\n",
      "Please also refer to the documentation for alternative solver options:\n",
      "    https://scikit-learn.org/stable/modules/linear_model.html#logistic-regression\n",
      "  n_iter_i = _check_optimize_result(\n",
      " This problem is unconstrained.\n"
     ]
    },
    {
     "name": "stdout",
     "output_type": "stream",
     "text": [
      "\n",
      "At iterate   50    f=  8.22416D+03    |proj g|=  1.16670D+01\n",
      "\n",
      "At iterate   50    f=  8.10414D+03    |proj g|=  2.70496D+01\n",
      "\n",
      "At iterate   50    f=  8.07745D+03    |proj g|=  2.68820D+01\n",
      "\n",
      "At iterate  100    f=  8.22293D+03    |proj g|=  9.11828D+00\n",
      "\n",
      "           * * *\n",
      "\n",
      "Tit   = total number of iterations\n",
      "Tnf   = total number of function evaluations\n",
      "Tnint = total number of segments explored during Cauchy searches\n",
      "Skip  = number of BFGS updates skipped\n",
      "Nact  = number of active bounds at final generalized Cauchy point\n",
      "Projg = norm of the final projected gradient\n",
      "F     = final function value\n",
      "\n",
      "           * * *\n",
      "\n",
      "   N    Tit     Tnf  Tnint  Skip  Nact     Projg        F\n",
      "  769    100    118      1     0     0   9.118D+00   8.223D+03\n",
      "  F =   8222.9266076468248     \n",
      "\n",
      "STOP: TOTAL NO. of ITERATIONS REACHED LIMIT                 \n",
      "RUNNING THE L-BFGS-B CODE\n",
      "\n",
      "           * * *\n",
      "\n",
      "Machine precision = 2.220D-16\n",
      " N =          769     M =           10\n",
      "\n",
      "At X0         0 variables are exactly at the bounds\n",
      "\n",
      "At iterate    0    f=  8.10831D+03    |proj g|=  9.13845D+00\n"
     ]
    },
    {
     "name": "stderr",
     "output_type": "stream",
     "text": [
      "/home/poh9shka/.local/lib/python3.10/site-packages/sklearn/linear_model/_logistic.py:814: ConvergenceWarning: lbfgs failed to converge (status=1):\n",
      "STOP: TOTAL NO. of ITERATIONS REACHED LIMIT.\n",
      "\n",
      "Increase the number of iterations (max_iter) or scale the data as shown in:\n",
      "    https://scikit-learn.org/stable/modules/preprocessing.html\n",
      "Please also refer to the documentation for alternative solver options:\n",
      "    https://scikit-learn.org/stable/modules/linear_model.html#logistic-regression\n",
      "  n_iter_i = _check_optimize_result(\n",
      " This problem is unconstrained.\n"
     ]
    },
    {
     "name": "stdout",
     "output_type": "stream",
     "text": [
      "\n",
      "At iterate  100    f=  8.10293D+03    |proj g|=  1.57616D+00\n",
      "\n",
      "           * * *\n",
      "\n",
      "Tit   = total number of iterations\n",
      "Tnf   = total number of function evaluations\n",
      "Tnint = total number of segments explored during Cauchy searches\n",
      "Skip  = number of BFGS updates skipped\n",
      "Nact  = number of active bounds at final generalized Cauchy point\n",
      "Projg = norm of the final projected gradient\n",
      "F     = final function value\n",
      "\n",
      "           * * *\n",
      "\n",
      "   N    Tit     Tnf  Tnint  Skip  Nact     Projg        F\n",
      "  769    100    118      1     0     0   1.576D+00   8.103D+03\n",
      "  F =   8102.9292543115707     \n",
      "\n",
      "STOP: TOTAL NO. of ITERATIONS REACHED LIMIT                 \n",
      "RUNNING THE L-BFGS-B CODE\n",
      "\n",
      "           * * *\n",
      "\n",
      "Machine precision = 2.220D-16\n",
      " N =          769     M =           10\n",
      "\n",
      "At X0         0 variables are exactly at the bounds\n",
      "\n",
      "At iterate    0    f=  7.99916D+03    |proj g|=  2.74220D+00\n"
     ]
    },
    {
     "name": "stderr",
     "output_type": "stream",
     "text": [
      "/home/poh9shka/.local/lib/python3.10/site-packages/sklearn/linear_model/_logistic.py:814: ConvergenceWarning: lbfgs failed to converge (status=1):\n",
      "STOP: TOTAL NO. of ITERATIONS REACHED LIMIT.\n",
      "\n",
      "Increase the number of iterations (max_iter) or scale the data as shown in:\n",
      "    https://scikit-learn.org/stable/modules/preprocessing.html\n",
      "Please also refer to the documentation for alternative solver options:\n",
      "    https://scikit-learn.org/stable/modules/linear_model.html#logistic-regression\n",
      "  n_iter_i = _check_optimize_result(\n",
      " This problem is unconstrained.\n"
     ]
    },
    {
     "name": "stdout",
     "output_type": "stream",
     "text": [
      "\n",
      "At iterate  100    f=  8.07508D+03    |proj g|=  6.25422D+00\n",
      "\n",
      "           * * *\n",
      "\n",
      "Tit   = total number of iterations\n",
      "Tnf   = total number of function evaluations\n",
      "Tnint = total number of segments explored during Cauchy searches\n",
      "Skip  = number of BFGS updates skipped\n",
      "Nact  = number of active bounds at final generalized Cauchy point\n",
      "Projg = norm of the final projected gradient\n",
      "F     = final function value\n",
      "\n",
      "           * * *\n",
      "\n",
      "   N    Tit     Tnf  Tnint  Skip  Nact     Projg        F\n",
      "  769    100    116      1     0     0   6.254D+00   8.075D+03\n",
      "  F =   8075.0832799210284     \n",
      "\n",
      "STOP: TOTAL NO. of ITERATIONS REACHED LIMIT                 \n",
      "RUNNING THE L-BFGS-B CODE\n",
      "\n",
      "           * * *\n",
      "\n",
      "Machine precision = 2.220D-16\n",
      " N =          769     M =           10\n",
      "\n",
      "At X0         0 variables are exactly at the bounds\n",
      "\n",
      "At iterate    0    f=  7.97251D+03    |proj g|=  6.49751D+00\n"
     ]
    },
    {
     "name": "stderr",
     "output_type": "stream",
     "text": [
      "/home/poh9shka/.local/lib/python3.10/site-packages/sklearn/linear_model/_logistic.py:814: ConvergenceWarning: lbfgs failed to converge (status=1):\n",
      "STOP: TOTAL NO. of ITERATIONS REACHED LIMIT.\n",
      "\n",
      "Increase the number of iterations (max_iter) or scale the data as shown in:\n",
      "    https://scikit-learn.org/stable/modules/preprocessing.html\n",
      "Please also refer to the documentation for alternative solver options:\n",
      "    https://scikit-learn.org/stable/modules/linear_model.html#logistic-regression\n",
      "  n_iter_i = _check_optimize_result(\n",
      " This problem is unconstrained.\n"
     ]
    },
    {
     "name": "stdout",
     "output_type": "stream",
     "text": [
      "\n",
      "At iterate   50    f=  8.09366D+03    |proj g|=  2.63441D+01\n",
      "\n",
      "At iterate   50    f=  7.98376D+03    |proj g|=  9.03471D+00\n",
      "\n",
      "At iterate   50    f=  7.95957D+03    |proj g|=  1.25295D+01\n",
      "\n",
      "At iterate  100    f=  7.98252D+03    |proj g|=  2.81404D+00\n",
      "\n",
      "           * * *\n",
      "\n",
      "Tit   = total number of iterations\n",
      "Tnf   = total number of function evaluations\n",
      "Tnint = total number of segments explored during Cauchy searches\n",
      "Skip  = number of BFGS updates skipped\n",
      "Nact  = number of active bounds at final generalized Cauchy point\n",
      "Projg = norm of the final projected gradient\n",
      "F     = final function value\n",
      "\n",
      "           * * *\n",
      "\n",
      "   N    Tit     Tnf  Tnint  Skip  Nact     Projg        F\n",
      "  769    100    114      1     0     0   2.814D+00   7.983D+03\n",
      "  F =   7982.5180502625344     \n",
      "\n",
      "STOP: TOTAL NO. of ITERATIONS REACHED LIMIT                 \n",
      "RUNNING THE L-BFGS-B CODE\n",
      "\n",
      "           * * *\n",
      "\n",
      "Machine precision = 2.220D-16\n",
      " N =          769     M =           10\n",
      "\n",
      "At X0         0 variables are exactly at the bounds\n",
      "\n",
      "At iterate    0    f=  7.88764D+03    |proj g|=  3.13546D+00\n"
     ]
    },
    {
     "name": "stderr",
     "output_type": "stream",
     "text": [
      "/home/poh9shka/.local/lib/python3.10/site-packages/sklearn/linear_model/_logistic.py:814: ConvergenceWarning: lbfgs failed to converge (status=1):\n",
      "STOP: TOTAL NO. of ITERATIONS REACHED LIMIT.\n",
      "\n",
      "Increase the number of iterations (max_iter) or scale the data as shown in:\n",
      "    https://scikit-learn.org/stable/modules/preprocessing.html\n",
      "Please also refer to the documentation for alternative solver options:\n",
      "    https://scikit-learn.org/stable/modules/linear_model.html#logistic-regression\n",
      "  n_iter_i = _check_optimize_result(\n",
      " This problem is unconstrained.\n"
     ]
    },
    {
     "name": "stdout",
     "output_type": "stream",
     "text": [
      "\n",
      "At iterate  100    f=  8.09101D+03    |proj g|=  1.84415D+01\n",
      "\n",
      "           * * *\n",
      "\n",
      "Tit   = total number of iterations\n",
      "Tnf   = total number of function evaluations\n",
      "Tnint = total number of segments explored during Cauchy searches\n",
      "Skip  = number of BFGS updates skipped\n",
      "Nact  = number of active bounds at final generalized Cauchy point\n",
      "Projg = norm of the final projected gradient\n",
      "F     = final function value\n",
      "\n",
      "           * * *\n",
      "\n",
      "   N    Tit     Tnf  Tnint  Skip  Nact     Projg        F\n",
      "  769    100    115      1     0     0   1.844D+01   8.091D+03\n",
      "  F =   8091.0101421004902     \n",
      "\n",
      "STOP: TOTAL NO. of ITERATIONS REACHED LIMIT                 \n",
      "RUNNING THE L-BFGS-B CODE\n",
      "\n",
      "           * * *\n",
      "\n",
      "Machine precision = 2.220D-16\n",
      " N =          769     M =           10\n",
      "\n",
      "At X0         0 variables are exactly at the bounds\n",
      "\n",
      "At iterate    0    f=  7.98867D+03    |proj g|=  1.84490D+01\n"
     ]
    },
    {
     "name": "stderr",
     "output_type": "stream",
     "text": [
      "/home/poh9shka/.local/lib/python3.10/site-packages/sklearn/linear_model/_logistic.py:814: ConvergenceWarning: lbfgs failed to converge (status=1):\n",
      "STOP: TOTAL NO. of ITERATIONS REACHED LIMIT.\n",
      "\n",
      "Increase the number of iterations (max_iter) or scale the data as shown in:\n",
      "    https://scikit-learn.org/stable/modules/preprocessing.html\n",
      "Please also refer to the documentation for alternative solver options:\n",
      "    https://scikit-learn.org/stable/modules/linear_model.html#logistic-regression\n",
      "  n_iter_i = _check_optimize_result(\n",
      " This problem is unconstrained.\n"
     ]
    },
    {
     "name": "stdout",
     "output_type": "stream",
     "text": [
      "\n",
      "At iterate  100    f=  7.95641D+03    |proj g|=  1.29577D+01\n",
      "\n",
      "           * * *\n",
      "\n",
      "Tit   = total number of iterations\n",
      "Tnf   = total number of function evaluations\n",
      "Tnint = total number of segments explored during Cauchy searches\n",
      "Skip  = number of BFGS updates skipped\n",
      "Nact  = number of active bounds at final generalized Cauchy point\n",
      "Projg = norm of the final projected gradient\n",
      "F     = final function value\n",
      "\n",
      "           * * *\n",
      "\n",
      "   N    Tit     Tnf  Tnint  Skip  Nact     Projg        F\n",
      "  769    100    116      1     0     0   1.296D+01   7.956D+03\n",
      "  F =   7956.4054858660784     \n",
      "\n",
      "STOP: TOTAL NO. of ITERATIONS REACHED LIMIT                 \n",
      "RUNNING THE L-BFGS-B CODE\n",
      "\n",
      "           * * *\n",
      "\n",
      "Machine precision = 2.220D-16\n",
      " N =          769     M =           10\n",
      "\n",
      "At X0         0 variables are exactly at the bounds\n",
      "\n",
      "At iterate    0    f=  7.86413D+03    |proj g|=  1.27581D+01\n"
     ]
    },
    {
     "name": "stderr",
     "output_type": "stream",
     "text": [
      "/home/poh9shka/.local/lib/python3.10/site-packages/sklearn/linear_model/_logistic.py:814: ConvergenceWarning: lbfgs failed to converge (status=1):\n",
      "STOP: TOTAL NO. of ITERATIONS REACHED LIMIT.\n",
      "\n",
      "Increase the number of iterations (max_iter) or scale the data as shown in:\n",
      "    https://scikit-learn.org/stable/modules/preprocessing.html\n",
      "Please also refer to the documentation for alternative solver options:\n",
      "    https://scikit-learn.org/stable/modules/linear_model.html#logistic-regression\n",
      "  n_iter_i = _check_optimize_result(\n",
      " This problem is unconstrained.\n"
     ]
    },
    {
     "name": "stdout",
     "output_type": "stream",
     "text": [
      "\n",
      "At iterate   50    f=  7.87741D+03    |proj g|=  3.47883D+01\n",
      "\n",
      "At iterate   50    f=  7.85508D+03    |proj g|=  1.78292D+01\n",
      "\n",
      "At iterate   50    f=  7.97539D+03    |proj g|=  2.06706D+01\n",
      "\n",
      "At iterate  100    f=  7.87482D+03    |proj g|=  7.11022D+00\n",
      "\n",
      "           * * *\n",
      "\n",
      "Tit   = total number of iterations\n",
      "Tnf   = total number of function evaluations\n",
      "Tnint = total number of segments explored during Cauchy searches\n",
      "Skip  = number of BFGS updates skipped\n",
      "Nact  = number of active bounds at final generalized Cauchy point\n",
      "Projg = norm of the final projected gradient\n",
      "F     = final function value\n",
      "\n",
      "           * * *\n",
      "\n",
      "   N    Tit     Tnf  Tnint  Skip  Nact     Projg        F\n",
      "  769    100    118      1     0     0   7.110D+00   7.875D+03\n",
      "  F =   7874.8225400864540     \n",
      "\n",
      "STOP: TOTAL NO. of ITERATIONS REACHED LIMIT                 \n",
      "RUNNING THE L-BFGS-B CODE\n",
      "\n",
      "           * * *\n",
      "\n",
      "Machine precision = 2.220D-16\n",
      " N =          769     M =           10\n",
      "\n",
      "At X0         0 variables are exactly at the bounds\n",
      "\n",
      "At iterate    0    f=  7.79171D+03    |proj g|=  7.18283D+00\n"
     ]
    },
    {
     "name": "stderr",
     "output_type": "stream",
     "text": [
      "/home/poh9shka/.local/lib/python3.10/site-packages/sklearn/linear_model/_logistic.py:814: ConvergenceWarning: lbfgs failed to converge (status=1):\n",
      "STOP: TOTAL NO. of ITERATIONS REACHED LIMIT.\n",
      "\n",
      "Increase the number of iterations (max_iter) or scale the data as shown in:\n",
      "    https://scikit-learn.org/stable/modules/preprocessing.html\n",
      "Please also refer to the documentation for alternative solver options:\n",
      "    https://scikit-learn.org/stable/modules/linear_model.html#logistic-regression\n",
      "  n_iter_i = _check_optimize_result(\n",
      " This problem is unconstrained.\n"
     ]
    },
    {
     "name": "stdout",
     "output_type": "stream",
     "text": [
      "\n",
      "At iterate  100    f=  7.85083D+03    |proj g|=  1.11424D+01\n",
      "\n",
      "           * * *\n",
      "\n",
      "Tit   = total number of iterations\n",
      "Tnf   = total number of function evaluations\n",
      "Tnint = total number of segments explored during Cauchy searches\n",
      "Skip  = number of BFGS updates skipped\n",
      "Nact  = number of active bounds at final generalized Cauchy point\n",
      "Projg = norm of the final projected gradient\n",
      "F     = final function value\n",
      "\n",
      "           * * *\n",
      "\n",
      "   N    Tit     Tnf  Tnint  Skip  Nact     Projg        F\n",
      "  769    100    115      1     0     0   1.114D+01   7.851D+03\n",
      "  F =   7850.8302834962597     \n",
      "\n",
      "STOP: TOTAL NO. of ITERATIONS REACHED LIMIT                 \n",
      "RUNNING THE L-BFGS-B CODE\n",
      "\n",
      "           * * *\n",
      "\n",
      "Machine precision = 2.220D-16\n",
      " N =          769     M =           10\n",
      "\n",
      "At X0         0 variables are exactly at the bounds\n",
      "\n",
      "At iterate    0    f=  7.77043D+03    |proj g|=  1.09912D+01\n"
     ]
    },
    {
     "name": "stderr",
     "output_type": "stream",
     "text": [
      "/home/poh9shka/.local/lib/python3.10/site-packages/sklearn/linear_model/_logistic.py:814: ConvergenceWarning: lbfgs failed to converge (status=1):\n",
      "STOP: TOTAL NO. of ITERATIONS REACHED LIMIT.\n",
      "\n",
      "Increase the number of iterations (max_iter) or scale the data as shown in:\n",
      "    https://scikit-learn.org/stable/modules/preprocessing.html\n",
      "Please also refer to the documentation for alternative solver options:\n",
      "    https://scikit-learn.org/stable/modules/linear_model.html#logistic-regression\n",
      "  n_iter_i = _check_optimize_result(\n",
      " This problem is unconstrained.\n"
     ]
    },
    {
     "name": "stdout",
     "output_type": "stream",
     "text": [
      "\n",
      "At iterate  100    f=  7.97188D+03    |proj g|=  2.28317D+01\n",
      "\n",
      "           * * *\n",
      "\n",
      "Tit   = total number of iterations\n",
      "Tnf   = total number of function evaluations\n",
      "Tnint = total number of segments explored during Cauchy searches\n",
      "Skip  = number of BFGS updates skipped\n",
      "Nact  = number of active bounds at final generalized Cauchy point\n",
      "Projg = norm of the final projected gradient\n",
      "F     = final function value\n",
      "\n",
      "           * * *\n",
      "\n",
      "   N    Tit     Tnf  Tnint  Skip  Nact     Projg        F\n",
      "  769    100    114      1     0     0   2.283D+01   7.972D+03\n",
      "  F =   7971.8792099146704     \n",
      "\n",
      "STOP: TOTAL NO. of ITERATIONS REACHED LIMIT                 \n",
      "RUNNING THE L-BFGS-B CODE\n",
      "\n",
      "           * * *\n",
      "\n",
      "Machine precision = 2.220D-16\n",
      " N =          769     M =           10\n",
      "\n",
      "At X0         0 variables are exactly at the bounds\n",
      "\n",
      "At iterate    0    f=  7.87808D+03    |proj g|=  2.28151D+01\n"
     ]
    },
    {
     "name": "stderr",
     "output_type": "stream",
     "text": [
      "/home/poh9shka/.local/lib/python3.10/site-packages/sklearn/linear_model/_logistic.py:814: ConvergenceWarning: lbfgs failed to converge (status=1):\n",
      "STOP: TOTAL NO. of ITERATIONS REACHED LIMIT.\n",
      "\n",
      "Increase the number of iterations (max_iter) or scale the data as shown in:\n",
      "    https://scikit-learn.org/stable/modules/preprocessing.html\n",
      "Please also refer to the documentation for alternative solver options:\n",
      "    https://scikit-learn.org/stable/modules/linear_model.html#logistic-regression\n",
      "  n_iter_i = _check_optimize_result(\n",
      " This problem is unconstrained.\n"
     ]
    },
    {
     "name": "stdout",
     "output_type": "stream",
     "text": [
      "\n",
      "At iterate   50    f=  7.78361D+03    |proj g|=  3.50508D+01\n",
      "\n",
      "At iterate   50    f=  7.76262D+03    |proj g|=  5.33856D+01\n",
      "\n",
      "At iterate   50    f=  7.86754D+03    |proj g|=  7.39085D+00\n",
      "\n",
      "At iterate  100    f=  7.77999D+03    |proj g|=  3.60853D+00\n",
      "\n",
      "           * * *\n",
      "\n",
      "Tit   = total number of iterations\n",
      "Tnf   = total number of function evaluations\n",
      "Tnint = total number of segments explored during Cauchy searches\n",
      "Skip  = number of BFGS updates skipped\n",
      "Nact  = number of active bounds at final generalized Cauchy point\n",
      "Projg = norm of the final projected gradient\n",
      "F     = final function value\n",
      "\n",
      "           * * *\n",
      "\n",
      "   N    Tit     Tnf  Tnint  Skip  Nact     Projg        F\n",
      "  769    100    114      1     0     0   3.609D+00   7.780D+03\n",
      "  F =   7779.9930569751414     \n",
      "\n",
      "STOP: TOTAL NO. of ITERATIONS REACHED LIMIT                 \n",
      "RUNNING THE L-BFGS-B CODE\n",
      "\n",
      "           * * *\n",
      "\n",
      "Machine precision = 2.220D-16\n",
      " N =          769     M =           10\n",
      "\n",
      "At X0         0 variables are exactly at the bounds\n",
      "\n",
      "At iterate    0    f=  7.70852D+03    |proj g|=  3.65288D+00\n"
     ]
    },
    {
     "name": "stderr",
     "output_type": "stream",
     "text": [
      "/home/poh9shka/.local/lib/python3.10/site-packages/sklearn/linear_model/_logistic.py:814: ConvergenceWarning: lbfgs failed to converge (status=1):\n",
      "STOP: TOTAL NO. of ITERATIONS REACHED LIMIT.\n",
      "\n",
      "Increase the number of iterations (max_iter) or scale the data as shown in:\n",
      "    https://scikit-learn.org/stable/modules/preprocessing.html\n",
      "Please also refer to the documentation for alternative solver options:\n",
      "    https://scikit-learn.org/stable/modules/linear_model.html#logistic-regression\n",
      "  n_iter_i = _check_optimize_result(\n",
      " This problem is unconstrained.\n"
     ]
    },
    {
     "name": "stdout",
     "output_type": "stream",
     "text": [
      "\n",
      "At iterate  100    f=  7.75906D+03    |proj g|=  2.55434D+01\n",
      "\n",
      "           * * *\n",
      "\n",
      "Tit   = total number of iterations\n",
      "Tnf   = total number of function evaluations\n",
      "Tnint = total number of segments explored during Cauchy searches\n",
      "Skip  = number of BFGS updates skipped\n",
      "Nact  = number of active bounds at final generalized Cauchy point\n",
      "Projg = norm of the final projected gradient\n",
      "F     = final function value\n",
      "\n",
      "           * * *\n",
      "\n",
      "   N    Tit     Tnf  Tnint  Skip  Nact     Projg        F\n",
      "  769    100    110      1     0     0   2.554D+01   7.759D+03\n",
      "  F =   7759.0560698137597     \n",
      "\n",
      "STOP: TOTAL NO. of ITERATIONS REACHED LIMIT                 \n",
      "RUNNING THE L-BFGS-B CODE\n",
      "\n",
      "           * * *\n",
      "\n",
      "Machine precision = 2.220D-16\n",
      " N =          769     M =           10\n",
      "\n",
      "At X0         0 variables are exactly at the bounds\n",
      "\n",
      "At iterate    0    f=  7.68954D+03    |proj g|=  2.56535D+01\n"
     ]
    },
    {
     "name": "stderr",
     "output_type": "stream",
     "text": [
      "/home/poh9shka/.local/lib/python3.10/site-packages/sklearn/linear_model/_logistic.py:814: ConvergenceWarning: lbfgs failed to converge (status=1):\n",
      "STOP: TOTAL NO. of ITERATIONS REACHED LIMIT.\n",
      "\n",
      "Increase the number of iterations (max_iter) or scale the data as shown in:\n",
      "    https://scikit-learn.org/stable/modules/preprocessing.html\n",
      "Please also refer to the documentation for alternative solver options:\n",
      "    https://scikit-learn.org/stable/modules/linear_model.html#logistic-regression\n",
      "  n_iter_i = _check_optimize_result(\n",
      " This problem is unconstrained.\n"
     ]
    },
    {
     "name": "stdout",
     "output_type": "stream",
     "text": [
      "\n",
      "At iterate   50    f=  7.69994D+03    |proj g|=  1.77985D+01\n",
      "\n",
      "At iterate  100    f=  7.86562D+03    |proj g|=  8.70710D+00\n",
      "\n",
      "           * * *\n",
      "\n",
      "Tit   = total number of iterations\n",
      "Tnf   = total number of function evaluations\n",
      "Tnint = total number of segments explored during Cauchy searches\n",
      "Skip  = number of BFGS updates skipped\n",
      "Nact  = number of active bounds at final generalized Cauchy point\n",
      "Projg = norm of the final projected gradient\n",
      "F     = final function value\n",
      "\n",
      "           * * *\n",
      "\n",
      "   N    Tit     Tnf  Tnint  Skip  Nact     Projg        F\n",
      "  769    100    114      1     0     0   8.707D+00   7.866D+03\n",
      "  F =   7865.6193480100410     \n",
      "\n",
      "STOP: TOTAL NO. of ITERATIONS REACHED LIMIT                 \n"
     ]
    },
    {
     "name": "stderr",
     "output_type": "stream",
     "text": [
      "/home/poh9shka/.local/lib/python3.10/site-packages/sklearn/linear_model/_logistic.py:814: ConvergenceWarning: lbfgs failed to converge (status=1):\n",
      "STOP: TOTAL NO. of ITERATIONS REACHED LIMIT.\n",
      "\n",
      "Increase the number of iterations (max_iter) or scale the data as shown in:\n",
      "    https://scikit-learn.org/stable/modules/preprocessing.html\n",
      "Please also refer to the documentation for alternative solver options:\n",
      "    https://scikit-learn.org/stable/modules/linear_model.html#logistic-regression\n",
      "  n_iter_i = _check_optimize_result(\n",
      " This problem is unconstrained.\n"
     ]
    },
    {
     "name": "stdout",
     "output_type": "stream",
     "text": [
      "RUNNING THE L-BFGS-B CODE\n",
      "\n",
      "           * * *\n",
      "\n",
      "Machine precision = 2.220D-16\n",
      " N =          769     M =           10\n",
      "\n",
      "At X0         0 variables are exactly at the bounds\n",
      "\n",
      "At iterate    0    f=  7.78465D+03    |proj g|=  8.71600D+00\n",
      "\n",
      "At iterate   50    f=  7.68396D+03    |proj g|=  4.30970D+01\n",
      "\n",
      "At iterate  100    f=  7.69862D+03    |proj g|=  1.13865D+01\n",
      "\n",
      "           * * *\n",
      "\n",
      "Tit   = total number of iterations\n",
      "Tnf   = total number of function evaluations\n",
      "Tnint = total number of segments explored during Cauchy searches\n",
      "Skip  = number of BFGS updates skipped\n",
      "Nact  = number of active bounds at final generalized Cauchy point\n",
      "Projg = norm of the final projected gradient\n",
      "F     = final function value\n",
      "\n",
      "           * * *\n",
      "\n",
      "   N    Tit     Tnf  Tnint  Skip  Nact     Projg        F\n",
      "  769    100    114      1     0     0   1.139D+01   7.699D+03\n",
      "  F =   7698.6224382610526     \n",
      "\n",
      "STOP: TOTAL NO. of ITERATIONS REACHED LIMIT                 \n",
      "RUNNING THE L-BFGS-B CODE\n",
      "\n",
      "           * * *\n",
      "\n",
      "Machine precision = 2.220D-16\n",
      " N =          769     M =           10\n",
      "\n",
      "At X0         0 variables are exactly at the bounds\n",
      "\n",
      "At iterate    0    f=  7.63786D+03    |proj g|=  1.13646D+01\n"
     ]
    },
    {
     "name": "stderr",
     "output_type": "stream",
     "text": [
      "/home/poh9shka/.local/lib/python3.10/site-packages/sklearn/linear_model/_logistic.py:814: ConvergenceWarning: lbfgs failed to converge (status=1):\n",
      "STOP: TOTAL NO. of ITERATIONS REACHED LIMIT.\n",
      "\n",
      "Increase the number of iterations (max_iter) or scale the data as shown in:\n",
      "    https://scikit-learn.org/stable/modules/preprocessing.html\n",
      "Please also refer to the documentation for alternative solver options:\n",
      "    https://scikit-learn.org/stable/modules/linear_model.html#logistic-regression\n",
      "  n_iter_i = _check_optimize_result(\n",
      " This problem is unconstrained.\n"
     ]
    },
    {
     "name": "stdout",
     "output_type": "stream",
     "text": [
      "\n",
      "At iterate   50    f=  7.77549D+03    |proj g|=  6.57108D+00\n",
      "\n",
      "At iterate  100    f=  7.68016D+03    |proj g|=  2.60547D+00\n",
      "\n",
      "           * * *\n",
      "\n",
      "Tit   = total number of iterations\n",
      "Tnf   = total number of function evaluations\n",
      "Tnint = total number of segments explored during Cauchy searches\n",
      "Skip  = number of BFGS updates skipped\n",
      "Nact  = number of active bounds at final generalized Cauchy point\n",
      "Projg = norm of the final projected gradient\n",
      "F     = final function value\n",
      "\n",
      "           * * *\n",
      "\n",
      "   N    Tit     Tnf  Tnint  Skip  Nact     Projg        F\n",
      "  769    100    117      1     0     0   2.605D+00   7.680D+03\n",
      "  F =   7680.1599061797842     \n",
      "\n",
      "STOP: TOTAL NO. of ITERATIONS REACHED LIMIT                 \n",
      "RUNNING THE L-BFGS-B CODE\n",
      "\n",
      "           * * *\n",
      "\n",
      "Machine precision = 2.220D-16\n",
      " N =          769     M =           10\n",
      "\n",
      "At X0         0 variables are exactly at the bounds\n",
      "\n",
      "At iterate    0    f=  7.62147D+03    |proj g|=  2.53290D+00\n"
     ]
    },
    {
     "name": "stderr",
     "output_type": "stream",
     "text": [
      "/home/poh9shka/.local/lib/python3.10/site-packages/sklearn/linear_model/_logistic.py:814: ConvergenceWarning: lbfgs failed to converge (status=1):\n",
      "STOP: TOTAL NO. of ITERATIONS REACHED LIMIT.\n",
      "\n",
      "Increase the number of iterations (max_iter) or scale the data as shown in:\n",
      "    https://scikit-learn.org/stable/modules/preprocessing.html\n",
      "Please also refer to the documentation for alternative solver options:\n",
      "    https://scikit-learn.org/stable/modules/linear_model.html#logistic-regression\n",
      "  n_iter_i = _check_optimize_result(\n",
      " This problem is unconstrained.\n"
     ]
    },
    {
     "name": "stdout",
     "output_type": "stream",
     "text": [
      "\n",
      "At iterate   50    f=  7.63484D+03    |proj g|=  6.47018D+01\n",
      "\n",
      "At iterate   50    f=  7.61574D+03    |proj g|=  3.85877D+01\n",
      "\n",
      "At iterate  100    f=  7.77292D+03    |proj g|=  3.59191D+00\n",
      "\n",
      "           * * *\n",
      "\n",
      "Tit   = total number of iterations\n",
      "Tnf   = total number of function evaluations\n",
      "Tnint = total number of segments explored during Cauchy searches\n",
      "Skip  = number of BFGS updates skipped\n",
      "Nact  = number of active bounds at final generalized Cauchy point\n",
      "Projg = norm of the final projected gradient\n",
      "F     = final function value\n",
      "\n",
      "           * * *\n",
      "\n",
      "   N    Tit     Tnf  Tnint  Skip  Nact     Projg        F\n",
      "  769    100    115      1     0     0   3.592D+00   7.773D+03\n",
      "  F =   7772.9245558364782     \n",
      "\n",
      "STOP: TOTAL NO. of ITERATIONS REACHED LIMIT                 \n",
      "RUNNING THE L-BFGS-B CODE\n",
      "\n",
      "           * * *\n",
      "\n",
      "Machine precision = 2.220D-16\n",
      " N =          769     M =           10\n",
      "\n",
      "At X0         0 variables are exactly at the bounds\n",
      "\n",
      "At iterate    0    f=  7.70224D+03    |proj g|=  3.34733D+00\n"
     ]
    },
    {
     "name": "stderr",
     "output_type": "stream",
     "text": [
      "/home/poh9shka/.local/lib/python3.10/site-packages/sklearn/linear_model/_logistic.py:814: ConvergenceWarning: lbfgs failed to converge (status=1):\n",
      "STOP: TOTAL NO. of ITERATIONS REACHED LIMIT.\n",
      "\n",
      "Increase the number of iterations (max_iter) or scale the data as shown in:\n",
      "    https://scikit-learn.org/stable/modules/preprocessing.html\n",
      "Please also refer to the documentation for alternative solver options:\n",
      "    https://scikit-learn.org/stable/modules/linear_model.html#logistic-regression\n",
      "  n_iter_i = _check_optimize_result(\n",
      " This problem is unconstrained.\n"
     ]
    },
    {
     "name": "stdout",
     "output_type": "stream",
     "text": [
      "\n",
      "At iterate  100    f=  7.63125D+03    |proj g|=  2.48687D+01\n",
      "\n",
      "           * * *\n",
      "\n",
      "Tit   = total number of iterations\n",
      "Tnf   = total number of function evaluations\n",
      "Tnint = total number of segments explored during Cauchy searches\n",
      "Skip  = number of BFGS updates skipped\n",
      "Nact  = number of active bounds at final generalized Cauchy point\n",
      "Projg = norm of the final projected gradient\n",
      "F     = final function value\n",
      "\n",
      "           * * *\n",
      "\n",
      "   N    Tit     Tnf  Tnint  Skip  Nact     Projg        F\n",
      "  769    100    114      1     0     0   2.487D+01   7.631D+03\n",
      "  F =   7631.2478519248907     \n",
      "\n",
      "STOP: TOTAL NO. of ITERATIONS REACHED LIMIT                 \n",
      "RUNNING THE L-BFGS-B CODE\n",
      "\n",
      "           * * *\n",
      "\n",
      "Machine precision = 2.220D-16\n",
      " N =          769     M =           10\n",
      "\n",
      "At X0         0 variables are exactly at the bounds\n",
      "\n",
      "At iterate    0    f=  7.58203D+03    |proj g|=  2.48757D+01\n"
     ]
    },
    {
     "name": "stderr",
     "output_type": "stream",
     "text": [
      "/home/poh9shka/.local/lib/python3.10/site-packages/sklearn/linear_model/_logistic.py:814: ConvergenceWarning: lbfgs failed to converge (status=1):\n",
      "STOP: TOTAL NO. of ITERATIONS REACHED LIMIT.\n",
      "\n",
      "Increase the number of iterations (max_iter) or scale the data as shown in:\n",
      "    https://scikit-learn.org/stable/modules/preprocessing.html\n",
      "Please also refer to the documentation for alternative solver options:\n",
      "    https://scikit-learn.org/stable/modules/linear_model.html#logistic-regression\n",
      "  n_iter_i = _check_optimize_result(\n",
      " This problem is unconstrained.\n"
     ]
    },
    {
     "name": "stdout",
     "output_type": "stream",
     "text": [
      "\n",
      "At iterate  100    f=  7.61454D+03    |proj g|=  1.97288D+01\n",
      "\n",
      "           * * *\n",
      "\n",
      "Tit   = total number of iterations\n",
      "Tnf   = total number of function evaluations\n",
      "Tnint = total number of segments explored during Cauchy searches\n",
      "Skip  = number of BFGS updates skipped\n",
      "Nact  = number of active bounds at final generalized Cauchy point\n",
      "Projg = norm of the final projected gradient\n",
      "F     = final function value\n",
      "\n",
      "           * * *\n",
      "\n",
      "   N    Tit     Tnf  Tnint  Skip  Nact     Projg        F\n",
      "  769    100    114      1     0     0   1.973D+01   7.615D+03\n",
      "  F =   7614.5402964485929     \n",
      "\n",
      "STOP: TOTAL NO. of ITERATIONS REACHED LIMIT                 \n",
      "RUNNING THE L-BFGS-B CODE\n",
      "\n",
      "           * * *\n",
      "\n",
      "Machine precision = 2.220D-16\n",
      " N =          769     M =           10\n",
      "\n",
      "At X0         0 variables are exactly at the bounds\n",
      "\n",
      "At iterate    0    f=  7.56611D+03    |proj g|=  1.97701D+01\n"
     ]
    },
    {
     "name": "stderr",
     "output_type": "stream",
     "text": [
      "/home/poh9shka/.local/lib/python3.10/site-packages/sklearn/linear_model/_logistic.py:814: ConvergenceWarning: lbfgs failed to converge (status=1):\n",
      "STOP: TOTAL NO. of ITERATIONS REACHED LIMIT.\n",
      "\n",
      "Increase the number of iterations (max_iter) or scale the data as shown in:\n",
      "    https://scikit-learn.org/stable/modules/preprocessing.html\n",
      "Please also refer to the documentation for alternative solver options:\n",
      "    https://scikit-learn.org/stable/modules/linear_model.html#logistic-regression\n",
      "  n_iter_i = _check_optimize_result(\n",
      " This problem is unconstrained.\n"
     ]
    },
    {
     "name": "stdout",
     "output_type": "stream",
     "text": [
      "\n",
      "At iterate   50    f=  7.69447D+03    |proj g|=  2.63343D+01\n",
      "\n",
      "At iterate   50    f=  7.58032D+03    |proj g|=  2.13769D+01\n",
      "\n",
      "At iterate   50    f=  7.56482D+03    |proj g|=  1.58381D+01\n",
      "\n",
      "At iterate  100    f=  7.57658D+03    |proj g|=  3.14114D+01\n",
      "\n",
      "           * * *\n",
      "\n",
      "Tit   = total number of iterations\n",
      "Tnf   = total number of function evaluations\n",
      "Tnint = total number of segments explored during Cauchy searches\n",
      "Skip  = number of BFGS updates skipped\n",
      "Nact  = number of active bounds at final generalized Cauchy point\n",
      "Projg = norm of the final projected gradient\n",
      "F     = final function value\n",
      "\n",
      "           * * *\n",
      "\n",
      "   N    Tit     Tnf  Tnint  Skip  Nact     Projg        F\n",
      "  769    100    115      1     0     0   3.141D+01   7.577D+03\n",
      "  F =   7576.5771879774502     \n",
      "\n",
      "STOP: TOTAL NO. of ITERATIONS REACHED LIMIT                 \n",
      "RUNNING THE L-BFGS-B CODE\n",
      "\n",
      "           * * *\n",
      "\n",
      "Machine precision = 2.220D-16\n",
      " N =          769     M =           10\n",
      "\n",
      "At X0         0 variables are exactly at the bounds\n",
      "\n",
      "At iterate    0    f=  7.53718D+03    |proj g|=  3.14091D+01\n",
      "\n",
      "At iterate  100    f=  7.69315D+03    |proj g|=  4.32530D+00\n",
      "\n",
      "           * * *\n",
      "\n",
      "Tit   = total number of iterations\n",
      "Tnf   = total number of function evaluations\n",
      "Tnint = total number of segments explored during Cauchy searches\n",
      "Skip  = number of BFGS updates skipped\n",
      "Nact  = number of active bounds at final generalized Cauchy point\n",
      "Projg = norm of the final projected gradient\n",
      "F     = final function value\n",
      "\n",
      "           * * *\n",
      "\n",
      "   N    Tit     Tnf  Tnint  Skip  Nact     Projg        F\n",
      "  769    100    115      1     0     0   4.325D+00   7.693D+03\n",
      "  F =   7693.1498764827893     \n",
      "\n",
      "STOP: TOTAL NO. of ITERATIONS REACHED LIMIT                 \n",
      "RUNNING THE L-BFGS-B CODE\n",
      "\n",
      "           * * *\n",
      "\n",
      "Machine precision = 2.220D-16\n",
      " N =          769     M =           10\n",
      "\n",
      "At X0         0 variables are exactly at the bounds\n",
      "\n",
      "At iterate    0    f=  7.63327D+03    |proj g|=  4.32951D+00\n"
     ]
    },
    {
     "name": "stderr",
     "output_type": "stream",
     "text": [
      "/home/poh9shka/.local/lib/python3.10/site-packages/sklearn/linear_model/_logistic.py:814: ConvergenceWarning: lbfgs failed to converge (status=1):\n",
      "STOP: TOTAL NO. of ITERATIONS REACHED LIMIT.\n",
      "\n",
      "Increase the number of iterations (max_iter) or scale the data as shown in:\n",
      "    https://scikit-learn.org/stable/modules/preprocessing.html\n",
      "Please also refer to the documentation for alternative solver options:\n",
      "    https://scikit-learn.org/stable/modules/linear_model.html#logistic-regression\n",
      "  n_iter_i = _check_optimize_result(\n",
      " This problem is unconstrained.\n",
      "/home/poh9shka/.local/lib/python3.10/site-packages/sklearn/linear_model/_logistic.py:814: ConvergenceWarning: lbfgs failed to converge (status=1):\n",
      "STOP: TOTAL NO. of ITERATIONS REACHED LIMIT.\n",
      "\n",
      "Increase the number of iterations (max_iter) or scale the data as shown in:\n",
      "    https://scikit-learn.org/stable/modules/preprocessing.html\n",
      "Please also refer to the documentation for alternative solver options:\n",
      "    https://scikit-learn.org/stable/modules/linear_model.html#logistic-regression\n",
      "  n_iter_i = _check_optimize_result(\n",
      " This problem is unconstrained.\n"
     ]
    },
    {
     "name": "stdout",
     "output_type": "stream",
     "text": [
      "\n",
      "At iterate  100    f=  7.56282D+03    |proj g|=  1.61241D+01\n",
      "\n",
      "           * * *\n",
      "\n",
      "Tit   = total number of iterations\n",
      "Tnf   = total number of function evaluations\n",
      "Tnint = total number of segments explored during Cauchy searches\n",
      "Skip  = number of BFGS updates skipped\n",
      "Nact  = number of active bounds at final generalized Cauchy point\n",
      "Projg = norm of the final projected gradient\n",
      "F     = final function value\n",
      "\n",
      "           * * *\n",
      "\n",
      "   N    Tit     Tnf  Tnint  Skip  Nact     Projg        F\n",
      "  769    100    113      1     0     0   1.612D+01   7.563D+03\n",
      "  F =   7562.8184385057466     \n",
      "\n",
      "STOP: TOTAL NO. of ITERATIONS REACHED LIMIT                 \n",
      "RUNNING THE L-BFGS-B CODE\n",
      "\n",
      "           * * *\n",
      "\n",
      "Machine precision = 2.220D-16\n",
      " N =          769     M =           10\n",
      "\n",
      "At X0         0 variables are exactly at the bounds\n",
      "\n",
      "At iterate    0    f=  7.52563D+03    |proj g|=  1.61504D+01\n"
     ]
    },
    {
     "name": "stderr",
     "output_type": "stream",
     "text": [
      "/home/poh9shka/.local/lib/python3.10/site-packages/sklearn/linear_model/_logistic.py:814: ConvergenceWarning: lbfgs failed to converge (status=1):\n",
      "STOP: TOTAL NO. of ITERATIONS REACHED LIMIT.\n",
      "\n",
      "Increase the number of iterations (max_iter) or scale the data as shown in:\n",
      "    https://scikit-learn.org/stable/modules/preprocessing.html\n",
      "Please also refer to the documentation for alternative solver options:\n",
      "    https://scikit-learn.org/stable/modules/linear_model.html#logistic-regression\n",
      "  n_iter_i = _check_optimize_result(\n",
      " This problem is unconstrained.\n"
     ]
    },
    {
     "name": "stdout",
     "output_type": "stream",
     "text": [
      "\n",
      "At iterate   50    f=  7.53590D+03    |proj g|=  1.56690D+01\n",
      "\n",
      "At iterate   50    f=  7.62878D+03    |proj g|=  1.68023D+01\n",
      "\n",
      "At iterate   50    f=  7.52369D+03    |proj g|=  3.34554D+00\n",
      "\n",
      "At iterate  100    f=  7.53404D+03    |proj g|=  3.31468D+00\n",
      "\n",
      "           * * *\n",
      "\n",
      "Tit   = total number of iterations\n",
      "Tnf   = total number of function evaluations\n",
      "Tnint = total number of segments explored during Cauchy searches\n",
      "Skip  = number of BFGS updates skipped\n",
      "Nact  = number of active bounds at final generalized Cauchy point\n",
      "Projg = norm of the final projected gradient\n",
      "F     = final function value\n",
      "\n",
      "           * * *\n",
      "\n",
      "   N    Tit     Tnf  Tnint  Skip  Nact     Projg        F\n",
      "  769    100    114      1     0     0   3.315D+00   7.534D+03\n",
      "  F =   7534.0360874627750     \n",
      "\n",
      "STOP: TOTAL NO. of ITERATIONS REACHED LIMIT                 \n",
      "RUNNING THE L-BFGS-B CODE\n",
      "\n",
      "           * * *\n",
      "\n",
      "Machine precision = 2.220D-16\n",
      " N =          769     M =           10\n",
      "\n",
      "At X0         0 variables are exactly at the bounds\n",
      "\n",
      "At iterate    0    f=  7.50432D+03    |proj g|=  3.32109D+00\n"
     ]
    },
    {
     "name": "stderr",
     "output_type": "stream",
     "text": [
      "/home/poh9shka/.local/lib/python3.10/site-packages/sklearn/linear_model/_logistic.py:814: ConvergenceWarning: lbfgs failed to converge (status=1):\n",
      "STOP: TOTAL NO. of ITERATIONS REACHED LIMIT.\n",
      "\n",
      "Increase the number of iterations (max_iter) or scale the data as shown in:\n",
      "    https://scikit-learn.org/stable/modules/preprocessing.html\n",
      "Please also refer to the documentation for alternative solver options:\n",
      "    https://scikit-learn.org/stable/modules/linear_model.html#logistic-regression\n",
      "  n_iter_i = _check_optimize_result(\n",
      " This problem is unconstrained.\n"
     ]
    },
    {
     "name": "stdout",
     "output_type": "stream",
     "text": [
      "\n",
      "At iterate  100    f=  7.52184D+03    |proj g|=  7.00651D+00\n",
      "\n",
      "           * * *\n",
      "\n",
      "Tit   = total number of iterations\n",
      "Tnf   = total number of function evaluations\n",
      "Tnint = total number of segments explored during Cauchy searches\n",
      "Skip  = number of BFGS updates skipped\n",
      "Nact  = number of active bounds at final generalized Cauchy point\n",
      "Projg = norm of the final projected gradient\n",
      "F     = final function value\n",
      "\n",
      "           * * *\n",
      "\n",
      "   N    Tit     Tnf  Tnint  Skip  Nact     Projg        F\n",
      "  769    100    112      1     0     0   7.007D+00   7.522D+03\n",
      "  F =   7521.8432411827325     \n",
      "\n",
      "STOP: TOTAL NO. of ITERATIONS REACHED LIMIT                 \n",
      "RUNNING THE L-BFGS-B CODE\n",
      "\n",
      "           * * *\n",
      "\n",
      "Machine precision = 2.220D-16\n",
      " N =          769     M =           10\n",
      "\n",
      "At X0         0 variables are exactly at the bounds\n",
      "\n",
      "At iterate    0    f=  7.49330D+03    |proj g|=  6.99246D+00\n"
     ]
    },
    {
     "name": "stderr",
     "output_type": "stream",
     "text": [
      "/home/poh9shka/.local/lib/python3.10/site-packages/sklearn/linear_model/_logistic.py:814: ConvergenceWarning: lbfgs failed to converge (status=1):\n",
      "STOP: TOTAL NO. of ITERATIONS REACHED LIMIT.\n",
      "\n",
      "Increase the number of iterations (max_iter) or scale the data as shown in:\n",
      "    https://scikit-learn.org/stable/modules/preprocessing.html\n",
      "Please also refer to the documentation for alternative solver options:\n",
      "    https://scikit-learn.org/stable/modules/linear_model.html#logistic-regression\n",
      "  n_iter_i = _check_optimize_result(\n",
      " This problem is unconstrained.\n"
     ]
    },
    {
     "name": "stdout",
     "output_type": "stream",
     "text": [
      "\n",
      "At iterate  100    f=  7.62712D+03    |proj g|=  2.11124D+00\n",
      "\n",
      "           * * *\n",
      "\n",
      "Tit   = total number of iterations\n",
      "Tnf   = total number of function evaluations\n",
      "Tnint = total number of segments explored during Cauchy searches\n",
      "Skip  = number of BFGS updates skipped\n",
      "Nact  = number of active bounds at final generalized Cauchy point\n",
      "Projg = norm of the final projected gradient\n",
      "F     = final function value\n",
      "\n",
      "           * * *\n",
      "\n",
      "   N    Tit     Tnf  Tnint  Skip  Nact     Projg        F\n",
      "  769    100    115      1     0     0   2.111D+00   7.627D+03\n",
      "  F =   7627.1193385851930     \n",
      "\n",
      "STOP: TOTAL NO. of ITERATIONS REACHED LIMIT                 \n",
      "RUNNING THE L-BFGS-B CODE\n",
      "\n",
      "           * * *\n",
      "\n",
      "Machine precision = 2.220D-16\n",
      " N =          769     M =           10\n",
      "\n",
      "At X0         0 variables are exactly at the bounds\n",
      "\n",
      "At iterate    0    f=  7.57827D+03    |proj g|=  2.22905D+00\n"
     ]
    },
    {
     "name": "stderr",
     "output_type": "stream",
     "text": [
      "/home/poh9shka/.local/lib/python3.10/site-packages/sklearn/linear_model/_logistic.py:814: ConvergenceWarning: lbfgs failed to converge (status=1):\n",
      "STOP: TOTAL NO. of ITERATIONS REACHED LIMIT.\n",
      "\n",
      "Increase the number of iterations (max_iter) or scale the data as shown in:\n",
      "    https://scikit-learn.org/stable/modules/preprocessing.html\n",
      "Please also refer to the documentation for alternative solver options:\n",
      "    https://scikit-learn.org/stable/modules/linear_model.html#logistic-regression\n",
      "  n_iter_i = _check_optimize_result(\n",
      " This problem is unconstrained.\n"
     ]
    },
    {
     "name": "stdout",
     "output_type": "stream",
     "text": [
      "\n",
      "At iterate   50    f=  7.50337D+03    |proj g|=  1.04431D+01\n",
      "\n",
      "At iterate   50    f=  7.49254D+03    |proj g|=  2.75895D+01\n",
      "\n",
      "At iterate   50    f=  7.57635D+03    |proj g|=  1.94026D+01\n",
      "\n",
      "At iterate  100    f=  7.50194D+03    |proj g|=  9.00887D+00\n",
      "\n",
      "           * * *\n",
      "\n",
      "Tit   = total number of iterations\n",
      "Tnf   = total number of function evaluations\n",
      "Tnint = total number of segments explored during Cauchy searches\n",
      "Skip  = number of BFGS updates skipped\n",
      "Nact  = number of active bounds at final generalized Cauchy point\n",
      "Projg = norm of the final projected gradient\n",
      "F     = final function value\n",
      "\n",
      "           * * *\n",
      "\n",
      "   N    Tit     Tnf  Tnint  Skip  Nact     Projg        F\n",
      "  769    100    115      1     0     0   9.009D+00   7.502D+03\n",
      "  F =   7501.9363859305286     \n",
      "\n",
      "STOP: TOTAL NO. of ITERATIONS REACHED LIMIT                 \n",
      "RUNNING THE L-BFGS-B CODE\n",
      "\n",
      "           * * *\n",
      "\n",
      "Machine precision = 2.220D-16\n",
      " N =          769     M =           10\n",
      "\n",
      "At X0         0 variables are exactly at the bounds\n",
      "\n",
      "At iterate    0    f=  7.47945D+03    |proj g|=  9.01676D+00\n"
     ]
    },
    {
     "name": "stderr",
     "output_type": "stream",
     "text": [
      "/home/poh9shka/.local/lib/python3.10/site-packages/sklearn/linear_model/_logistic.py:814: ConvergenceWarning: lbfgs failed to converge (status=1):\n",
      "STOP: TOTAL NO. of ITERATIONS REACHED LIMIT.\n",
      "\n",
      "Increase the number of iterations (max_iter) or scale the data as shown in:\n",
      "    https://scikit-learn.org/stable/modules/preprocessing.html\n",
      "Please also refer to the documentation for alternative solver options:\n",
      "    https://scikit-learn.org/stable/modules/linear_model.html#logistic-regression\n",
      "  n_iter_i = _check_optimize_result(\n",
      " This problem is unconstrained.\n"
     ]
    },
    {
     "name": "stdout",
     "output_type": "stream",
     "text": [
      "\n",
      "At iterate  100    f=  7.49176D+03    |proj g|=  1.70772D+01\n",
      "\n",
      "           * * *\n",
      "\n",
      "Tit   = total number of iterations\n",
      "Tnf   = total number of function evaluations\n",
      "Tnint = total number of segments explored during Cauchy searches\n",
      "Skip  = number of BFGS updates skipped\n",
      "Nact  = number of active bounds at final generalized Cauchy point\n",
      "Projg = norm of the final projected gradient\n",
      "F     = final function value\n",
      "\n",
      "           * * *\n",
      "\n",
      "   N    Tit     Tnf  Tnint  Skip  Nact     Projg        F\n",
      "  769    100    116      1     0     0   1.708D+01   7.492D+03\n",
      "  F =   7491.7568167375039     \n",
      "\n",
      "STOP: TOTAL NO. of ITERATIONS REACHED LIMIT                 \n",
      "RUNNING THE L-BFGS-B CODE\n",
      "\n",
      "           * * *\n",
      "\n",
      "Machine precision = 2.220D-16\n",
      " N =          769     M =           10\n",
      "\n",
      "At X0         0 variables are exactly at the bounds\n",
      "\n",
      "At iterate    0    f=  7.47114D+03    |proj g|=  1.70684D+01\n"
     ]
    },
    {
     "name": "stderr",
     "output_type": "stream",
     "text": [
      "/home/poh9shka/.local/lib/python3.10/site-packages/sklearn/linear_model/_logistic.py:814: ConvergenceWarning: lbfgs failed to converge (status=1):\n",
      "STOP: TOTAL NO. of ITERATIONS REACHED LIMIT.\n",
      "\n",
      "Increase the number of iterations (max_iter) or scale the data as shown in:\n",
      "    https://scikit-learn.org/stable/modules/preprocessing.html\n",
      "Please also refer to the documentation for alternative solver options:\n",
      "    https://scikit-learn.org/stable/modules/linear_model.html#logistic-regression\n",
      "  n_iter_i = _check_optimize_result(\n",
      " This problem is unconstrained.\n"
     ]
    },
    {
     "name": "stdout",
     "output_type": "stream",
     "text": [
      "\n",
      "At iterate  100    f=  7.57475D+03    |proj g|=  1.29205D+01\n",
      "\n",
      "           * * *\n",
      "\n",
      "Tit   = total number of iterations\n",
      "Tnf   = total number of function evaluations\n",
      "Tnint = total number of segments explored during Cauchy searches\n",
      "Skip  = number of BFGS updates skipped\n",
      "Nact  = number of active bounds at final generalized Cauchy point\n",
      "Projg = norm of the final projected gradient\n",
      "F     = final function value\n",
      "\n",
      "           * * *\n",
      "\n",
      "   N    Tit     Tnf  Tnint  Skip  Nact     Projg        F\n",
      "  769    100    115      1     0     0   1.292D+01   7.575D+03\n",
      "  F =   7574.7459578443650     \n",
      "\n",
      "STOP: TOTAL NO. of ITERATIONS REACHED LIMIT                 \n",
      "RUNNING THE L-BFGS-B CODE\n",
      "\n",
      "           * * *\n",
      "\n",
      "Machine precision = 2.220D-16\n",
      " N =          769     M =           10\n",
      "\n",
      "At X0         0 variables are exactly at the bounds\n",
      "\n",
      "At iterate    0    f=  7.53675D+03    |proj g|=  1.29137D+01\n"
     ]
    },
    {
     "name": "stderr",
     "output_type": "stream",
     "text": [
      "/home/poh9shka/.local/lib/python3.10/site-packages/sklearn/linear_model/_logistic.py:814: ConvergenceWarning: lbfgs failed to converge (status=1):\n",
      "STOP: TOTAL NO. of ITERATIONS REACHED LIMIT.\n",
      "\n",
      "Increase the number of iterations (max_iter) or scale the data as shown in:\n",
      "    https://scikit-learn.org/stable/modules/preprocessing.html\n",
      "Please also refer to the documentation for alternative solver options:\n",
      "    https://scikit-learn.org/stable/modules/linear_model.html#logistic-regression\n",
      "  n_iter_i = _check_optimize_result(\n",
      " This problem is unconstrained.\n"
     ]
    },
    {
     "name": "stdout",
     "output_type": "stream",
     "text": [
      "\n",
      "At iterate   50    f=  7.47910D+03    |proj g|=  5.11828D+00\n",
      "\n",
      "At iterate   50    f=  7.47039D+03    |proj g|=  2.97768D+00\n",
      "\n",
      "At iterate  100    f=  7.47856D+03    |proj g|=  2.92797D+00\n",
      "\n",
      "           * * *\n",
      "\n",
      "Tit   = total number of iterations\n",
      "Tnf   = total number of function evaluations\n",
      "Tnint = total number of segments explored during Cauchy searches\n",
      "Skip  = number of BFGS updates skipped\n",
      "Nact  = number of active bounds at final generalized Cauchy point\n",
      "Projg = norm of the final projected gradient\n",
      "F     = final function value\n",
      "\n",
      "           * * *\n",
      "\n",
      "   N    Tit     Tnf  Tnint  Skip  Nact     Projg        F\n",
      "  769    100    115      1     0     0   2.928D+00   7.479D+03\n",
      "  F =   7478.5586094091532     \n",
      "\n",
      "STOP: TOTAL NO. of ITERATIONS REACHED LIMIT                 \n",
      "RUNNING THE L-BFGS-B CODE\n",
      "\n",
      "           * * *\n",
      "\n",
      "Machine precision = 2.220D-16\n",
      " N =          769     M =           10\n",
      "\n",
      "At X0         0 variables are exactly at the bounds\n",
      "\n",
      "At iterate    0    f=  7.46283D+03    |proj g|=  2.92161D+00\n"
     ]
    },
    {
     "name": "stderr",
     "output_type": "stream",
     "text": [
      "/home/poh9shka/.local/lib/python3.10/site-packages/sklearn/linear_model/_logistic.py:814: ConvergenceWarning: lbfgs failed to converge (status=1):\n",
      "STOP: TOTAL NO. of ITERATIONS REACHED LIMIT.\n",
      "\n",
      "Increase the number of iterations (max_iter) or scale the data as shown in:\n",
      "    https://scikit-learn.org/stable/modules/preprocessing.html\n",
      "Please also refer to the documentation for alternative solver options:\n",
      "    https://scikit-learn.org/stable/modules/linear_model.html#logistic-regression\n",
      "  n_iter_i = _check_optimize_result(\n",
      " This problem is unconstrained.\n"
     ]
    },
    {
     "name": "stdout",
     "output_type": "stream",
     "text": [
      "\n",
      "At iterate   50    f=  7.53594D+03    |proj g|=  1.59428D+01\n",
      "\n",
      "At iterate  100    f=  7.46948D+03    |proj g|=  8.69320D+00\n",
      "\n",
      "           * * *\n",
      "\n",
      "Tit   = total number of iterations\n",
      "Tnf   = total number of function evaluations\n",
      "Tnint = total number of segments explored during Cauchy searches\n",
      "Skip  = number of BFGS updates skipped\n",
      "Nact  = number of active bounds at final generalized Cauchy point\n",
      "Projg = norm of the final projected gradient\n",
      "F     = final function value\n",
      "\n",
      "           * * *\n",
      "\n",
      "   N    Tit     Tnf  Tnint  Skip  Nact     Projg        F\n",
      "  769    100    117      1     0     0   8.693D+00   7.469D+03\n",
      "  F =   7469.4841173032255     \n",
      "\n",
      "STOP: TOTAL NO. of ITERATIONS REACHED LIMIT                 \n",
      "RUNNING THE L-BFGS-B CODE\n",
      "\n",
      "           * * *\n",
      "\n",
      "Machine precision = 2.220D-16\n",
      " N =          769     M =           10\n",
      "\n",
      "At X0         0 variables are exactly at the bounds\n",
      "\n",
      "At iterate    0    f=  7.45502D+03    |proj g|=  8.69806D+00\n"
     ]
    },
    {
     "name": "stderr",
     "output_type": "stream",
     "text": [
      "/home/poh9shka/.local/lib/python3.10/site-packages/sklearn/linear_model/_logistic.py:814: ConvergenceWarning: lbfgs failed to converge (status=1):\n",
      "STOP: TOTAL NO. of ITERATIONS REACHED LIMIT.\n",
      "\n",
      "Increase the number of iterations (max_iter) or scale the data as shown in:\n",
      "    https://scikit-learn.org/stable/modules/preprocessing.html\n",
      "Please also refer to the documentation for alternative solver options:\n",
      "    https://scikit-learn.org/stable/modules/linear_model.html#logistic-regression\n",
      "  n_iter_i = _check_optimize_result(\n",
      " This problem is unconstrained.\n"
     ]
    },
    {
     "name": "stdout",
     "output_type": "stream",
     "text": [
      "\n",
      "At iterate   50    f=  7.46244D+03    |proj g|=  3.20008D+00\n",
      "\n",
      "At iterate   50    f=  7.45418D+03    |proj g|=  4.43671D+00\n",
      "\n",
      "At iterate  100    f=  7.53378D+03    |proj g|=  2.64116D+01\n",
      "\n",
      "           * * *\n",
      "\n",
      "Tit   = total number of iterations\n",
      "Tnf   = total number of function evaluations\n",
      "Tnint = total number of segments explored during Cauchy searches\n",
      "Skip  = number of BFGS updates skipped\n",
      "Nact  = number of active bounds at final generalized Cauchy point\n",
      "Projg = norm of the final projected gradient\n",
      "F     = final function value\n",
      "\n",
      "           * * *\n",
      "\n",
      "   N    Tit     Tnf  Tnint  Skip  Nact     Projg        F\n",
      "  769    100    116      1     0     0   2.641D+01   7.534D+03\n",
      "  F =   7533.7764363784408     \n",
      "\n",
      "STOP: TOTAL NO. of ITERATIONS REACHED LIMIT                 \n",
      "RUNNING THE L-BFGS-B CODE\n",
      "\n",
      "           * * *\n",
      "\n",
      "Machine precision = 2.220D-16\n",
      " N =          769     M =           10\n",
      "\n",
      "At X0         0 variables are exactly at the bounds\n",
      "\n",
      "At iterate    0    f=  7.50554D+03    |proj g|=  2.64042D+01\n"
     ]
    },
    {
     "name": "stderr",
     "output_type": "stream",
     "text": [
      "/home/poh9shka/.local/lib/python3.10/site-packages/sklearn/linear_model/_logistic.py:814: ConvergenceWarning: lbfgs failed to converge (status=1):\n",
      "STOP: TOTAL NO. of ITERATIONS REACHED LIMIT.\n",
      "\n",
      "Increase the number of iterations (max_iter) or scale the data as shown in:\n",
      "    https://scikit-learn.org/stable/modules/preprocessing.html\n",
      "Please also refer to the documentation for alternative solver options:\n",
      "    https://scikit-learn.org/stable/modules/linear_model.html#logistic-regression\n",
      "  n_iter_i = _check_optimize_result(\n",
      " This problem is unconstrained.\n"
     ]
    },
    {
     "name": "stdout",
     "output_type": "stream",
     "text": [
      "\n",
      "At iterate  100    f=  7.46193D+03    |proj g|=  3.69817D+00\n",
      "\n",
      "           * * *\n",
      "\n",
      "Tit   = total number of iterations\n",
      "Tnf   = total number of function evaluations\n",
      "Tnint = total number of segments explored during Cauchy searches\n",
      "Skip  = number of BFGS updates skipped\n",
      "Nact  = number of active bounds at final generalized Cauchy point\n",
      "Projg = norm of the final projected gradient\n",
      "F     = final function value\n",
      "\n",
      "           * * *\n",
      "\n",
      "   N    Tit     Tnf  Tnint  Skip  Nact     Projg        F\n",
      "  769    100    114      1     0     0   3.698D+00   7.462D+03\n",
      "  F =   7461.9325823519866     \n",
      "\n",
      "STOP: TOTAL NO. of ITERATIONS REACHED LIMIT                 \n",
      "RUNNING THE L-BFGS-B CODE\n",
      "\n",
      "           * * *\n",
      "\n",
      "Machine precision = 2.220D-16\n",
      " N =          769     M =           10\n",
      "\n",
      "At X0         0 variables are exactly at the bounds\n",
      "\n",
      "At iterate    0    f=  7.45088D+03    |proj g|=  3.73096D+00\n"
     ]
    },
    {
     "name": "stderr",
     "output_type": "stream",
     "text": [
      "/home/poh9shka/.local/lib/python3.10/site-packages/sklearn/linear_model/_logistic.py:814: ConvergenceWarning: lbfgs failed to converge (status=1):\n",
      "STOP: TOTAL NO. of ITERATIONS REACHED LIMIT.\n",
      "\n",
      "Increase the number of iterations (max_iter) or scale the data as shown in:\n",
      "    https://scikit-learn.org/stable/modules/preprocessing.html\n",
      "Please also refer to the documentation for alternative solver options:\n",
      "    https://scikit-learn.org/stable/modules/linear_model.html#logistic-regression\n",
      "  n_iter_i = _check_optimize_result(\n",
      " This problem is unconstrained.\n"
     ]
    },
    {
     "name": "stdout",
     "output_type": "stream",
     "text": [
      "\n",
      "At iterate  100    f=  7.45302D+03    |proj g|=  2.91247D+00\n",
      "\n",
      "           * * *\n",
      "\n",
      "Tit   = total number of iterations\n",
      "Tnf   = total number of function evaluations\n",
      "Tnint = total number of segments explored during Cauchy searches\n",
      "Skip  = number of BFGS updates skipped\n",
      "Nact  = number of active bounds at final generalized Cauchy point\n",
      "Projg = norm of the final projected gradient\n",
      "F     = final function value\n",
      "\n",
      "           * * *\n",
      "\n",
      "   N    Tit     Tnf  Tnint  Skip  Nact     Projg        F\n",
      "  769    100    113      1     0     0   2.912D+00   7.453D+03\n",
      "  F =   7453.0187811789156     \n",
      "\n",
      "STOP: TOTAL NO. of ITERATIONS REACHED LIMIT                 \n",
      "RUNNING THE L-BFGS-B CODE\n",
      "\n",
      "           * * *\n",
      "\n",
      "Machine precision = 2.220D-16\n",
      " N =          769     M =           10\n",
      "\n",
      "At X0         0 variables are exactly at the bounds\n",
      "\n",
      "At iterate    0    f=  7.44231D+03    |proj g|=  2.90966D+00\n"
     ]
    },
    {
     "name": "stderr",
     "output_type": "stream",
     "text": [
      "/home/poh9shka/.local/lib/python3.10/site-packages/sklearn/linear_model/_logistic.py:814: ConvergenceWarning: lbfgs failed to converge (status=1):\n",
      "STOP: TOTAL NO. of ITERATIONS REACHED LIMIT.\n",
      "\n",
      "Increase the number of iterations (max_iter) or scale the data as shown in:\n",
      "    https://scikit-learn.org/stable/modules/preprocessing.html\n",
      "Please also refer to the documentation for alternative solver options:\n",
      "    https://scikit-learn.org/stable/modules/linear_model.html#logistic-regression\n",
      "  n_iter_i = _check_optimize_result(\n",
      " This problem is unconstrained.\n"
     ]
    },
    {
     "name": "stdout",
     "output_type": "stream",
     "text": [
      "\n",
      "At iterate   50    f=  7.50433D+03    |proj g|=  7.14744D+00\n",
      "\n",
      "At iterate   50    f=  7.45025D+03    |proj g|=  1.12572D+01\n",
      "\n",
      "At iterate   50    f=  7.44168D+03    |proj g|=  8.78975D+00\n",
      "\n",
      "At iterate  100    f=  7.50344D+03    |proj g|=  6.55135D+00\n",
      "\n",
      "           * * *\n",
      "\n",
      "Tit   = total number of iterations\n",
      "Tnf   = total number of function evaluations\n",
      "Tnint = total number of segments explored during Cauchy searches\n",
      "Skip  = number of BFGS updates skipped\n",
      "Nact  = number of active bounds at final generalized Cauchy point\n",
      "Projg = norm of the final projected gradient\n",
      "F     = final function value\n",
      "\n",
      "           * * *\n",
      "\n",
      "   N    Tit     Tnf  Tnint  Skip  Nact     Projg        F\n",
      "  769    100    116      1     0     0   6.551D+00   7.503D+03\n",
      "  F =   7503.4370238888414     \n",
      "\n",
      "STOP: TOTAL NO. of ITERATIONS REACHED LIMIT                 \n",
      "RUNNING THE L-BFGS-B CODE\n",
      "\n",
      "           * * *\n",
      "\n",
      "Machine precision = 2.220D-16\n",
      " N =          769     M =           10\n",
      "\n",
      "At X0         0 variables are exactly at the bounds\n",
      "\n",
      "At iterate    0    f=  7.48334D+03    |proj g|=  6.58740D+00\n"
     ]
    },
    {
     "name": "stderr",
     "output_type": "stream",
     "text": [
      "/home/poh9shka/.local/lib/python3.10/site-packages/sklearn/linear_model/_logistic.py:814: ConvergenceWarning: lbfgs failed to converge (status=1):\n",
      "STOP: TOTAL NO. of ITERATIONS REACHED LIMIT.\n",
      "\n",
      "Increase the number of iterations (max_iter) or scale the data as shown in:\n",
      "    https://scikit-learn.org/stable/modules/preprocessing.html\n",
      "Please also refer to the documentation for alternative solver options:\n",
      "    https://scikit-learn.org/stable/modules/linear_model.html#logistic-regression\n",
      "  n_iter_i = _check_optimize_result(\n",
      " This problem is unconstrained.\n"
     ]
    },
    {
     "name": "stdout",
     "output_type": "stream",
     "text": [
      "\n",
      "At iterate  100    f=  7.44952D+03    |proj g|=  6.15126D+00\n",
      "\n",
      "           * * *\n",
      "\n",
      "Tit   = total number of iterations\n",
      "Tnf   = total number of function evaluations\n",
      "Tnint = total number of segments explored during Cauchy searches\n",
      "Skip  = number of BFGS updates skipped\n",
      "Nact  = number of active bounds at final generalized Cauchy point\n",
      "Projg = norm of the final projected gradient\n",
      "F     = final function value\n",
      "\n",
      "           * * *\n",
      "\n",
      "   N    Tit     Tnf  Tnint  Skip  Nact     Projg        F\n",
      "  769    100    116      1     0     0   6.151D+00   7.450D+03\n",
      "  F =   7449.5229347907407     \n",
      "\n",
      "STOP: TOTAL NO. of ITERATIONS REACHED LIMIT                 \n",
      "RUNNING THE L-BFGS-B CODE\n",
      "\n",
      "           * * *\n",
      "\n",
      "Machine precision = 2.220D-16\n",
      " N =          769     M =           10\n",
      "\n",
      "At X0         0 variables are exactly at the bounds\n",
      "\n",
      "At iterate    0    f=  7.44153D+03    |proj g|=  6.15533D+00\n"
     ]
    },
    {
     "name": "stderr",
     "output_type": "stream",
     "text": [
      "/home/poh9shka/.local/lib/python3.10/site-packages/sklearn/linear_model/_logistic.py:814: ConvergenceWarning: lbfgs failed to converge (status=1):\n",
      "STOP: TOTAL NO. of ITERATIONS REACHED LIMIT.\n",
      "\n",
      "Increase the number of iterations (max_iter) or scale the data as shown in:\n",
      "    https://scikit-learn.org/stable/modules/preprocessing.html\n",
      "Please also refer to the documentation for alternative solver options:\n",
      "    https://scikit-learn.org/stable/modules/linear_model.html#logistic-regression\n",
      "  n_iter_i = _check_optimize_result(\n",
      " This problem is unconstrained.\n"
     ]
    },
    {
     "name": "stdout",
     "output_type": "stream",
     "text": [
      "\n",
      "At iterate  100    f=  7.44137D+03    |proj g|=  9.72688D+00\n",
      "\n",
      "           * * *\n",
      "\n",
      "Tit   = total number of iterations\n",
      "Tnf   = total number of function evaluations\n",
      "Tnint = total number of segments explored during Cauchy searches\n",
      "Skip  = number of BFGS updates skipped\n",
      "Nact  = number of active bounds at final generalized Cauchy point\n",
      "Projg = norm of the final projected gradient\n",
      "F     = final function value\n",
      "\n",
      "           * * *\n",
      "\n",
      "   N    Tit     Tnf  Tnint  Skip  Nact     Projg        F\n",
      "  769    100    119      1     0     0   9.727D+00   7.441D+03\n",
      "  F =   7441.3725795187520     \n",
      "\n",
      "STOP: TOTAL NO. of ITERATIONS REACHED LIMIT                 \n",
      "RUNNING THE L-BFGS-B CODE\n",
      "\n",
      "           * * *\n",
      "\n",
      "Machine precision = 2.220D-16\n",
      " N =          769     M =           10\n",
      "\n",
      "At X0         0 variables are exactly at the bounds\n",
      "\n",
      "At iterate    0    f=  7.43407D+03    |proj g|=  9.72547D+00\n"
     ]
    },
    {
     "name": "stderr",
     "output_type": "stream",
     "text": [
      "/home/poh9shka/.local/lib/python3.10/site-packages/sklearn/linear_model/_logistic.py:814: ConvergenceWarning: lbfgs failed to converge (status=1):\n",
      "STOP: TOTAL NO. of ITERATIONS REACHED LIMIT.\n",
      "\n",
      "Increase the number of iterations (max_iter) or scale the data as shown in:\n",
      "    https://scikit-learn.org/stable/modules/preprocessing.html\n",
      "Please also refer to the documentation for alternative solver options:\n",
      "    https://scikit-learn.org/stable/modules/linear_model.html#logistic-regression\n",
      "  n_iter_i = _check_optimize_result(\n",
      " This problem is unconstrained.\n"
     ]
    },
    {
     "name": "stdout",
     "output_type": "stream",
     "text": [
      "\n",
      "At iterate   50    f=  7.48122D+03    |proj g|=  3.18200D+00\n",
      "\n",
      "At iterate   50    f=  7.44129D+03    |proj g|=  4.35638D+00\n",
      "\n",
      "At iterate   50    f=  7.43376D+03    |proj g|=  2.62282D+01\n",
      "\n",
      "At iterate  100    f=  7.44105D+03    |proj g|=  3.49218D+00\n",
      "\n",
      "           * * *\n",
      "\n",
      "Tit   = total number of iterations\n",
      "Tnf   = total number of function evaluations\n",
      "Tnint = total number of segments explored during Cauchy searches\n",
      "Skip  = number of BFGS updates skipped\n",
      "Nact  = number of active bounds at final generalized Cauchy point\n",
      "Projg = norm of the final projected gradient\n",
      "F     = final function value\n",
      "\n",
      "           * * *\n",
      "\n",
      "   N    Tit     Tnf  Tnint  Skip  Nact     Projg        F\n",
      "  769    100    118      1     0     0   3.492D+00   7.441D+03\n",
      "  F =   7441.0491538326460     \n",
      "\n",
      "STOP: TOTAL NO. of ITERATIONS REACHED LIMIT                 \n",
      "RUNNING THE L-BFGS-B CODE\n",
      "\n",
      "           * * *\n",
      "\n",
      "Machine precision = 2.220D-16\n",
      " N =          769     M =           10\n",
      "\n",
      "At X0         0 variables are exactly at the bounds\n",
      "\n",
      "At iterate    0    f=  7.43556D+03    |proj g|=  3.48913D+00\n",
      "\n",
      "At iterate  100    f=  7.47986D+03    |proj g|=  6.78449D+00\n",
      "\n",
      "           * * *\n",
      "\n",
      "Tit   = total number of iterations\n",
      "Tnf   = total number of function evaluations\n",
      "Tnint = total number of segments explored during Cauchy searches\n",
      "Skip  = number of BFGS updates skipped\n",
      "Nact  = number of active bounds at final generalized Cauchy point\n",
      "Projg = norm of the final projected gradient\n",
      "F     = final function value\n",
      "\n",
      "           * * *\n",
      "\n",
      "   N    Tit     Tnf  Tnint  Skip  Nact     Projg        F\n",
      "  769    100    112      1     0     0   6.784D+00   7.480D+03\n",
      "  F =   7479.8561840329639     \n",
      "\n",
      "STOP: TOTAL NO. of ITERATIONS REACHED LIMIT                 \n",
      "RUNNING THE L-BFGS-B CODE\n",
      "\n",
      "           * * *\n",
      "\n",
      "Machine precision = 2.220D-16\n",
      " N =          769     M =           10\n",
      "\n",
      "At X0         0 variables are exactly at the bounds\n",
      "\n",
      "At iterate    0    f=  7.46435D+03    |proj g|=  6.78906D+00\n"
     ]
    },
    {
     "name": "stderr",
     "output_type": "stream",
     "text": [
      "/home/poh9shka/.local/lib/python3.10/site-packages/sklearn/linear_model/_logistic.py:814: ConvergenceWarning: lbfgs failed to converge (status=1):\n",
      "STOP: TOTAL NO. of ITERATIONS REACHED LIMIT.\n",
      "\n",
      "Increase the number of iterations (max_iter) or scale the data as shown in:\n",
      "    https://scikit-learn.org/stable/modules/preprocessing.html\n",
      "Please also refer to the documentation for alternative solver options:\n",
      "    https://scikit-learn.org/stable/modules/linear_model.html#logistic-regression\n",
      "  n_iter_i = _check_optimize_result(\n",
      " This problem is unconstrained.\n",
      "/home/poh9shka/.local/lib/python3.10/site-packages/sklearn/linear_model/_logistic.py:814: ConvergenceWarning: lbfgs failed to converge (status=1):\n",
      "STOP: TOTAL NO. of ITERATIONS REACHED LIMIT.\n",
      "\n",
      "Increase the number of iterations (max_iter) or scale the data as shown in:\n",
      "    https://scikit-learn.org/stable/modules/preprocessing.html\n",
      "Please also refer to the documentation for alternative solver options:\n",
      "    https://scikit-learn.org/stable/modules/linear_model.html#logistic-regression\n",
      "  n_iter_i = _check_optimize_result(\n",
      " This problem is unconstrained.\n"
     ]
    },
    {
     "name": "stdout",
     "output_type": "stream",
     "text": [
      "\n",
      "At iterate  100    f=  7.43332D+03    |proj g|=  6.19626D+00\n",
      "\n",
      "           * * *\n",
      "\n",
      "Tit   = total number of iterations\n",
      "Tnf   = total number of function evaluations\n",
      "Tnint = total number of segments explored during Cauchy searches\n",
      "Skip  = number of BFGS updates skipped\n",
      "Nact  = number of active bounds at final generalized Cauchy point\n",
      "Projg = norm of the final projected gradient\n",
      "F     = final function value\n",
      "\n",
      "           * * *\n",
      "\n",
      "   N    Tit     Tnf  Tnint  Skip  Nact     Projg        F\n",
      "  769    100    116      1     0     0   6.196D+00   7.433D+03\n",
      "  F =   7433.3161118983517     \n",
      "\n",
      "STOP: TOTAL NO. of ITERATIONS REACHED LIMIT                 \n",
      "RUNNING THE L-BFGS-B CODE\n",
      "\n",
      "           * * *\n",
      "\n",
      "Machine precision = 2.220D-16\n",
      " N =          769     M =           10\n",
      "\n",
      "At X0         0 variables are exactly at the bounds\n",
      "\n",
      "At iterate    0    f=  7.42818D+03    |proj g|=  6.19705D+00\n"
     ]
    },
    {
     "name": "stderr",
     "output_type": "stream",
     "text": [
      "/home/poh9shka/.local/lib/python3.10/site-packages/sklearn/linear_model/_logistic.py:814: ConvergenceWarning: lbfgs failed to converge (status=1):\n",
      "STOP: TOTAL NO. of ITERATIONS REACHED LIMIT.\n",
      "\n",
      "Increase the number of iterations (max_iter) or scale the data as shown in:\n",
      "    https://scikit-learn.org/stable/modules/preprocessing.html\n",
      "Please also refer to the documentation for alternative solver options:\n",
      "    https://scikit-learn.org/stable/modules/linear_model.html#logistic-regression\n",
      "  n_iter_i = _check_optimize_result(\n",
      " This problem is unconstrained.\n"
     ]
    },
    {
     "name": "stdout",
     "output_type": "stream",
     "text": [
      "\n",
      "At iterate   50    f=  7.43542D+03    |proj g|=  2.85297D+00\n",
      "\n",
      "At iterate   50    f=  7.42789D+03    |proj g|=  2.61578D+00\n",
      "\n",
      "At iterate   50    f=  7.46351D+03    |proj g|=  6.90429D+00\n",
      "\n",
      "At iterate  100    f=  7.43528D+03    |proj g|=  3.10547D+00\n",
      "\n",
      "           * * *\n",
      "\n",
      "Tit   = total number of iterations\n",
      "Tnf   = total number of function evaluations\n",
      "Tnint = total number of segments explored during Cauchy searches\n",
      "Skip  = number of BFGS updates skipped\n",
      "Nact  = number of active bounds at final generalized Cauchy point\n",
      "Projg = norm of the final projected gradient\n",
      "F     = final function value\n",
      "\n",
      "           * * *\n",
      "\n",
      "   N    Tit     Tnf  Tnint  Skip  Nact     Projg        F\n",
      "  769    100    116      1     0     0   3.105D+00   7.435D+03\n",
      "  F =   7435.2829713604015     \n",
      "\n",
      "STOP: TOTAL NO. of ITERATIONS REACHED LIMIT                 \n",
      "RUNNING THE L-BFGS-B CODE\n",
      "\n",
      "           * * *\n",
      "\n",
      "Machine precision = 2.220D-16\n",
      " N =          769     M =           10\n",
      "\n",
      "At X0         0 variables are exactly at the bounds\n",
      "\n",
      "At iterate    0    f=  7.43153D+03    |proj g|=  3.10761D+00\n"
     ]
    },
    {
     "name": "stderr",
     "output_type": "stream",
     "text": [
      "/home/poh9shka/.local/lib/python3.10/site-packages/sklearn/linear_model/_logistic.py:814: ConvergenceWarning: lbfgs failed to converge (status=1):\n",
      "STOP: TOTAL NO. of ITERATIONS REACHED LIMIT.\n",
      "\n",
      "Increase the number of iterations (max_iter) or scale the data as shown in:\n",
      "    https://scikit-learn.org/stable/modules/preprocessing.html\n",
      "Please also refer to the documentation for alternative solver options:\n",
      "    https://scikit-learn.org/stable/modules/linear_model.html#logistic-regression\n",
      "  n_iter_i = _check_optimize_result(\n",
      " This problem is unconstrained.\n"
     ]
    },
    {
     "name": "stdout",
     "output_type": "stream",
     "text": [
      "\n",
      "At iterate  100    f=  7.42744D+03    |proj g|=  1.69281D+01\n",
      "\n",
      "           * * *\n",
      "\n",
      "Tit   = total number of iterations\n",
      "Tnf   = total number of function evaluations\n",
      "Tnint = total number of segments explored during Cauchy searches\n",
      "Skip  = number of BFGS updates skipped\n",
      "Nact  = number of active bounds at final generalized Cauchy point\n",
      "Projg = norm of the final projected gradient\n",
      "F     = final function value\n",
      "\n",
      "           * * *\n",
      "\n",
      "   N    Tit     Tnf  Tnint  Skip  Nact     Projg        F\n",
      "  769    100    115      1     0     0   1.693D+01   7.427D+03\n",
      "  F =   7427.4389911140743     \n",
      "\n",
      "STOP: TOTAL NO. of ITERATIONS REACHED LIMIT                 \n",
      "RUNNING THE L-BFGS-B CODE\n",
      "\n",
      "           * * *\n",
      "\n",
      "Machine precision = 2.220D-16\n",
      " N =          769     M =           10\n",
      "\n",
      "At X0         0 variables are exactly at the bounds\n",
      "\n",
      "At iterate    0    f=  7.42387D+03    |proj g|=  1.69283D+01\n"
     ]
    },
    {
     "name": "stderr",
     "output_type": "stream",
     "text": [
      "/home/poh9shka/.local/lib/python3.10/site-packages/sklearn/linear_model/_logistic.py:814: ConvergenceWarning: lbfgs failed to converge (status=1):\n",
      "STOP: TOTAL NO. of ITERATIONS REACHED LIMIT.\n",
      "\n",
      "Increase the number of iterations (max_iter) or scale the data as shown in:\n",
      "    https://scikit-learn.org/stable/modules/preprocessing.html\n",
      "Please also refer to the documentation for alternative solver options:\n",
      "    https://scikit-learn.org/stable/modules/linear_model.html#logistic-regression\n",
      "  n_iter_i = _check_optimize_result(\n",
      " This problem is unconstrained.\n"
     ]
    },
    {
     "name": "stdout",
     "output_type": "stream",
     "text": [
      "\n",
      "At iterate  100    f=  7.46280D+03    |proj g|=  1.37001D+01\n",
      "\n",
      "           * * *\n",
      "\n",
      "Tit   = total number of iterations\n",
      "Tnf   = total number of function evaluations\n",
      "Tnint = total number of segments explored during Cauchy searches\n",
      "Skip  = number of BFGS updates skipped\n",
      "Nact  = number of active bounds at final generalized Cauchy point\n",
      "Projg = norm of the final projected gradient\n",
      "F     = final function value\n",
      "\n",
      "           * * *\n",
      "\n",
      "   N    Tit     Tnf  Tnint  Skip  Nact     Projg        F\n",
      "  769    100    115      1     0     0   1.370D+01   7.463D+03\n",
      "  F =   7462.7962912075191     \n",
      "\n",
      "STOP: TOTAL NO. of ITERATIONS REACHED LIMIT                 \n",
      "RUNNING THE L-BFGS-B CODE\n",
      "\n",
      "           * * *\n",
      "\n",
      "Machine precision = 2.220D-16\n",
      " N =          769     M =           10\n",
      "\n",
      "At X0         0 variables are exactly at the bounds\n",
      "\n",
      "At iterate    0    f=  7.45178D+03    |proj g|=  1.36844D+01\n"
     ]
    },
    {
     "name": "stderr",
     "output_type": "stream",
     "text": [
      "/home/poh9shka/.local/lib/python3.10/site-packages/sklearn/linear_model/_logistic.py:814: ConvergenceWarning: lbfgs failed to converge (status=1):\n",
      "STOP: TOTAL NO. of ITERATIONS REACHED LIMIT.\n",
      "\n",
      "Increase the number of iterations (max_iter) or scale the data as shown in:\n",
      "    https://scikit-learn.org/stable/modules/preprocessing.html\n",
      "Please also refer to the documentation for alternative solver options:\n",
      "    https://scikit-learn.org/stable/modules/linear_model.html#logistic-regression\n",
      "  n_iter_i = _check_optimize_result(\n",
      " This problem is unconstrained.\n"
     ]
    },
    {
     "name": "stdout",
     "output_type": "stream",
     "text": [
      "\n",
      "At iterate   50    f=  7.43146D+03    |proj g|=  4.92499D+00\n",
      "\n",
      "At iterate   50    f=  7.42367D+03    |proj g|=  1.49966D+01\n",
      "\n",
      "At iterate   50    f=  7.45144D+03    |proj g|=  4.07479D+00\n",
      "\n",
      "At iterate  100    f=  7.43135D+03    |proj g|=  1.82648D+00\n",
      "\n",
      "           * * *\n",
      "\n",
      "Tit   = total number of iterations\n",
      "Tnf   = total number of function evaluations\n",
      "Tnint = total number of segments explored during Cauchy searches\n",
      "Skip  = number of BFGS updates skipped\n",
      "Nact  = number of active bounds at final generalized Cauchy point\n",
      "Projg = norm of the final projected gradient\n",
      "F     = final function value\n",
      "\n",
      "           * * *\n",
      "\n",
      "   N    Tit     Tnf  Tnint  Skip  Nact     Projg        F\n",
      "  769    100    117      1     0     0   1.826D+00   7.431D+03\n",
      "  F =   7431.3454129860274     \n",
      "\n",
      "STOP: TOTAL NO. of ITERATIONS REACHED LIMIT                 \n",
      "RUNNING THE L-BFGS-B CODE\n",
      "\n",
      "           * * *\n",
      "\n",
      "Machine precision = 2.220D-16\n",
      " N =          769     M =           10\n",
      "\n",
      "At X0         0 variables are exactly at the bounds\n",
      "\n",
      "At iterate    0    f=  7.42878D+03    |proj g|=  1.81935D+00\n",
      "\n",
      "At iterate  100    f=  7.42354D+03    |proj g|=  1.59501D+00\n",
      "\n",
      "           * * *\n",
      "\n",
      "Tit   = total number of iterations\n",
      "Tnf   = total number of function evaluations\n",
      "Tnint = total number of segments explored during Cauchy searches\n",
      "Skip  = number of BFGS updates skipped\n",
      "Nact  = number of active bounds at final generalized Cauchy point\n",
      "Projg = norm of the final projected gradient\n",
      "F     = final function value\n",
      "\n",
      "           * * *\n",
      "\n",
      "   N    Tit     Tnf  Tnint  Skip  Nact     Projg        F\n",
      "  769    100    112      1     0     0   1.595D+00   7.424D+03\n",
      "  F =   7423.5397826252665     \n",
      "\n",
      "STOP: TOTAL NO. of ITERATIONS REACHED LIMIT                 \n"
     ]
    },
    {
     "name": "stderr",
     "output_type": "stream",
     "text": [
      "/home/poh9shka/.local/lib/python3.10/site-packages/sklearn/linear_model/_logistic.py:814: ConvergenceWarning: lbfgs failed to converge (status=1):\n",
      "STOP: TOTAL NO. of ITERATIONS REACHED LIMIT.\n",
      "\n",
      "Increase the number of iterations (max_iter) or scale the data as shown in:\n",
      "    https://scikit-learn.org/stable/modules/preprocessing.html\n",
      "Please also refer to the documentation for alternative solver options:\n",
      "    https://scikit-learn.org/stable/modules/linear_model.html#logistic-regression\n",
      "  n_iter_i = _check_optimize_result(\n",
      " This problem is unconstrained.\n",
      "/home/poh9shka/.local/lib/python3.10/site-packages/sklearn/linear_model/_logistic.py:814: ConvergenceWarning: lbfgs failed to converge (status=1):\n",
      "STOP: TOTAL NO. of ITERATIONS REACHED LIMIT.\n",
      "\n",
      "Increase the number of iterations (max_iter) or scale the data as shown in:\n",
      "    https://scikit-learn.org/stable/modules/preprocessing.html\n",
      "Please also refer to the documentation for alternative solver options:\n",
      "    https://scikit-learn.org/stable/modules/linear_model.html#logistic-regression\n",
      "  n_iter_i = _check_optimize_result(\n"
     ]
    },
    {
     "name": "stdout",
     "output_type": "stream",
     "text": [
      "RUNNING THE L-BFGS-B CODE\n",
      "\n",
      "           * * *\n",
      "\n",
      "Machine precision = 2.220D-16\n",
      " N =          769     M =           10\n",
      "\n",
      "At X0         0 variables are exactly at the bounds\n",
      "\n",
      "At iterate    0    f=  7.42110D+03    |proj g|=  1.59487D+00\n"
     ]
    },
    {
     "name": "stderr",
     "output_type": "stream",
     "text": [
      " This problem is unconstrained.\n"
     ]
    },
    {
     "name": "stdout",
     "output_type": "stream",
     "text": [
      "\n",
      "At iterate  100    f=  7.45127D+03    |proj g|=  5.50913D+00\n",
      "\n",
      "           * * *\n",
      "\n",
      "Tit   = total number of iterations\n",
      "Tnf   = total number of function evaluations\n",
      "Tnint = total number of segments explored during Cauchy searches\n",
      "Skip  = number of BFGS updates skipped\n",
      "Nact  = number of active bounds at final generalized Cauchy point\n",
      "Projg = norm of the final projected gradient\n",
      "F     = final function value\n",
      "\n",
      "           * * *\n",
      "\n",
      "   N    Tit     Tnf  Tnint  Skip  Nact     Projg        F\n",
      "  769    100    116      1     0     0   5.509D+00   7.451D+03\n",
      "  F =   7451.2667565844886     \n",
      "\n",
      "STOP: TOTAL NO. of ITERATIONS REACHED LIMIT                 \n",
      "RUNNING THE L-BFGS-B CODE\n",
      "\n",
      "           * * *\n",
      "\n",
      "Machine precision = 2.220D-16\n",
      " N =          769     M =           10\n",
      "\n",
      "At X0         0 variables are exactly at the bounds\n",
      "\n",
      "At iterate    0    f=  7.44372D+03    |proj g|=  5.51185D+00\n"
     ]
    },
    {
     "name": "stderr",
     "output_type": "stream",
     "text": [
      "/home/poh9shka/.local/lib/python3.10/site-packages/sklearn/linear_model/_logistic.py:814: ConvergenceWarning: lbfgs failed to converge (status=1):\n",
      "STOP: TOTAL NO. of ITERATIONS REACHED LIMIT.\n",
      "\n",
      "Increase the number of iterations (max_iter) or scale the data as shown in:\n",
      "    https://scikit-learn.org/stable/modules/preprocessing.html\n",
      "Please also refer to the documentation for alternative solver options:\n",
      "    https://scikit-learn.org/stable/modules/linear_model.html#logistic-regression\n",
      "  n_iter_i = _check_optimize_result(\n",
      " This problem is unconstrained.\n"
     ]
    },
    {
     "name": "stdout",
     "output_type": "stream",
     "text": [
      "\n",
      "At iterate   50    f=  7.42870D+03    |proj g|=  1.04458D+00\n",
      "\n",
      "At iterate   50    f=  7.42095D+03    |proj g|=  1.74497D+00\n",
      "\n",
      "At iterate   50    f=  7.44350D+03    |proj g|=  1.31957D+00\n",
      "\n",
      "At iterate  100    f=  7.42073D+03    |proj g|=  7.03992D+00\n",
      "\n",
      "           * * *\n",
      "\n",
      "Tit   = total number of iterations\n",
      "Tnf   = total number of function evaluations\n",
      "Tnint = total number of segments explored during Cauchy searches\n",
      "Skip  = number of BFGS updates skipped\n",
      "Nact  = number of active bounds at final generalized Cauchy point\n",
      "Projg = norm of the final projected gradient\n",
      "F     = final function value\n",
      "\n",
      "           * * *\n",
      "\n",
      "   N    Tit     Tnf  Tnint  Skip  Nact     Projg        F\n",
      "  769    100    114      1     0     0   7.040D+00   7.421D+03\n",
      "  F =   7420.7322088450401     \n",
      "\n",
      "STOP: TOTAL NO. of ITERATIONS REACHED LIMIT                 \n",
      "\n",
      "At iterate  100    f=  7.42859D+03    |proj g|=  1.90466D+00\n",
      "\n",
      "           * * *\n",
      "\n",
      "Tit   = total number of iterations\n",
      "Tnf   = total number of function evaluations\n",
      "Tnint = total number of segments explored during Cauchy searches\n",
      "Skip  = number of BFGS updates skipped\n",
      "Nact  = number of active bounds at final generalized Cauchy point\n",
      "Projg = norm of the final projected gradient\n",
      "F     = final function value\n",
      "\n",
      "           * * *\n",
      "\n",
      "   N    Tit     Tnf  Tnint  Skip  Nact     Projg        F\n",
      "  769    100    116      1     0     0   1.905D+00   7.429D+03\n",
      "  F =   7428.5880433943357     \n",
      "\n",
      "STOP: TOTAL NO. of ITERATIONS REACHED LIMIT                 \n",
      "RUNNING THE L-BFGS-B CODE\n",
      "\n",
      "           * * *\n",
      "\n",
      "Machine precision = 2.220D-16\n",
      " N =          769     M =           10\n",
      "\n",
      "At X0         0 variables are exactly at the bounds\n",
      "\n",
      "At iterate    0    f=  7.41902D+03    |proj g|=  7.03556D+00\n",
      "RUNNING THE L-BFGS-B CODE\n",
      "\n",
      "           * * *\n",
      "\n",
      "Machine precision = 2.220D-16\n",
      " N =          769     M =           10\n",
      "\n",
      "At X0         0 variables are exactly at the bounds\n",
      "\n",
      "At iterate    0    f=  7.42683D+03    |proj g|=  1.90574D+00\n"
     ]
    },
    {
     "name": "stderr",
     "output_type": "stream",
     "text": [
      "/home/poh9shka/.local/lib/python3.10/site-packages/sklearn/linear_model/_logistic.py:814: ConvergenceWarning: lbfgs failed to converge (status=1):\n",
      "STOP: TOTAL NO. of ITERATIONS REACHED LIMIT.\n",
      "\n",
      "Increase the number of iterations (max_iter) or scale the data as shown in:\n",
      "    https://scikit-learn.org/stable/modules/preprocessing.html\n",
      "Please also refer to the documentation for alternative solver options:\n",
      "    https://scikit-learn.org/stable/modules/linear_model.html#logistic-regression\n",
      "  n_iter_i = _check_optimize_result(\n",
      "/home/poh9shka/.local/lib/python3.10/site-packages/sklearn/linear_model/_logistic.py:814: ConvergenceWarning: lbfgs failed to converge (status=1):\n",
      "STOP: TOTAL NO. of ITERATIONS REACHED LIMIT.\n",
      "\n",
      "Increase the number of iterations (max_iter) or scale the data as shown in:\n",
      "    https://scikit-learn.org/stable/modules/preprocessing.html\n",
      "Please also refer to the documentation for alternative solver options:\n",
      "    https://scikit-learn.org/stable/modules/linear_model.html#logistic-regression\n",
      "  n_iter_i = _check_optimize_result(\n",
      " This problem is unconstrained.\n",
      " This problem is unconstrained.\n"
     ]
    },
    {
     "name": "stdout",
     "output_type": "stream",
     "text": [
      "\n",
      "At iterate   50    f=  7.41893D+03    |proj g|=  9.36469D-01\n",
      "\n",
      "At iterate   50    f=  7.42676D+03    |proj g|=  8.37596D-01\n",
      "\n",
      "At iterate  100    f=  7.44310D+03    |proj g|=  3.91627D+00\n",
      "\n",
      "           * * *\n",
      "\n",
      "Tit   = total number of iterations\n",
      "Tnf   = total number of function evaluations\n",
      "Tnint = total number of segments explored during Cauchy searches\n",
      "Skip  = number of BFGS updates skipped\n",
      "Nact  = number of active bounds at final generalized Cauchy point\n",
      "Projg = norm of the final projected gradient\n",
      "F     = final function value\n",
      "\n",
      "           * * *\n",
      "\n",
      "   N    Tit     Tnf  Tnint  Skip  Nact     Projg        F\n",
      "  769    100    117      1     0     0   3.916D+00   7.443D+03\n",
      "  F =   7443.0978770798283     \n",
      "\n",
      "STOP: TOTAL NO. of ITERATIONS REACHED LIMIT                 \n",
      "RUNNING THE L-BFGS-B CODE\n",
      "\n",
      "           * * *\n",
      "\n",
      "Machine precision = 2.220D-16\n",
      " N =          769     M =           10\n",
      "\n",
      "At X0         0 variables are exactly at the bounds\n",
      "\n",
      "At iterate    0    f=  7.43777D+03    |proj g|=  3.91428D+00\n"
     ]
    },
    {
     "name": "stderr",
     "output_type": "stream",
     "text": [
      "/home/poh9shka/.local/lib/python3.10/site-packages/sklearn/linear_model/_logistic.py:814: ConvergenceWarning: lbfgs failed to converge (status=1):\n",
      "STOP: TOTAL NO. of ITERATIONS REACHED LIMIT.\n",
      "\n",
      "Increase the number of iterations (max_iter) or scale the data as shown in:\n",
      "    https://scikit-learn.org/stable/modules/preprocessing.html\n",
      "Please also refer to the documentation for alternative solver options:\n",
      "    https://scikit-learn.org/stable/modules/linear_model.html#logistic-regression\n",
      "  n_iter_i = _check_optimize_result(\n",
      " This problem is unconstrained.\n"
     ]
    },
    {
     "name": "stdout",
     "output_type": "stream",
     "text": [
      "\n",
      "At iterate  100    f=  7.41891D+03    |proj g|=  2.50569D+00\n",
      "\n",
      "           * * *\n",
      "\n",
      "Tit   = total number of iterations\n",
      "Tnf   = total number of function evaluations\n",
      "Tnint = total number of segments explored during Cauchy searches\n",
      "Skip  = number of BFGS updates skipped\n",
      "Nact  = number of active bounds at final generalized Cauchy point\n",
      "Projg = norm of the final projected gradient\n",
      "F     = final function value\n",
      "\n",
      "           * * *\n",
      "\n",
      "   N    Tit     Tnf  Tnint  Skip  Nact     Projg        F\n",
      "  769    100    115      1     0     0   2.506D+00   7.419D+03\n",
      "  F =   7418.9091861565967     \n",
      "\n",
      "STOP: TOTAL NO. of ITERATIONS REACHED LIMIT                 \n",
      "RUNNING THE L-BFGS-B CODE\n",
      "\n",
      "           * * *\n",
      "\n",
      "Machine precision = 2.220D-16\n",
      " N =          769     M =           10\n",
      "\n",
      "At X0         0 variables are exactly at the bounds\n",
      "\n",
      "At iterate    0    f=  7.41776D+03    |proj g|=  2.50573D+00\n",
      "\n",
      "           * * *\n",
      "\n",
      "Tit   = total number of iterations\n",
      "Tnf   = total number of function evaluations\n",
      "Tnint = total number of segments explored during Cauchy searches\n",
      "Skip  = number of BFGS updates skipped\n",
      "Nact  = number of active bounds at final generalized Cauchy point\n",
      "Projg = norm of the final projected gradient\n",
      "F     = final function value\n",
      "\n",
      "           * * *\n",
      "\n",
      "   N    Tit     Tnf  Tnint  Skip  Nact     Projg        F\n",
      "  769      2      4      1     0     0   1.416D-01   7.418D+03\n",
      "  F =   7417.7585055136251     \n",
      "\n",
      "CONVERGENCE: REL_REDUCTION_OF_F_<=_FACTR*EPSMCH             \n",
      "RUNNING THE L-BFGS-B CODE\n",
      "\n",
      "           * * *\n",
      "\n",
      "Machine precision = 2.220D-16\n",
      " N =          769     M =           10\n",
      "\n",
      "At X0         0 variables are exactly at the bounds\n",
      "\n",
      "At iterate    0    f=  7.41698D+03    |proj g|=  1.49344D-01\n",
      "\n",
      "At iterate  100    f=  7.42672D+03    |proj g|=  1.79825D+00\n",
      "\n",
      "           * * *\n",
      "\n",
      "Tit   = total number of iterations\n",
      "Tnf   = total number of function evaluations\n",
      "Tnint = total number of segments explored during Cauchy searches\n",
      "Skip  = number of BFGS updates skipped\n",
      "Nact  = number of active bounds at final generalized Cauchy point\n",
      "Projg = norm of the final projected gradient\n",
      "F     = final function value\n",
      "\n",
      "           * * *\n",
      "\n",
      "   N    Tit     Tnf  Tnint  Skip  Nact     Projg        F\n",
      "  769    100    116      1     0     0   1.798D+00   7.427D+03\n",
      "  F =   7426.7183674307626     \n",
      "\n",
      "STOP: TOTAL NO. of ITERATIONS REACHED LIMIT                 \n"
     ]
    },
    {
     "name": "stderr",
     "output_type": "stream",
     "text": [
      "/home/poh9shka/.local/lib/python3.10/site-packages/sklearn/linear_model/_logistic.py:814: ConvergenceWarning: lbfgs failed to converge (status=1):\n",
      "STOP: TOTAL NO. of ITERATIONS REACHED LIMIT.\n",
      "\n",
      "Increase the number of iterations (max_iter) or scale the data as shown in:\n",
      "    https://scikit-learn.org/stable/modules/preprocessing.html\n",
      "Please also refer to the documentation for alternative solver options:\n",
      "    https://scikit-learn.org/stable/modules/linear_model.html#logistic-regression\n",
      "  n_iter_i = _check_optimize_result(\n",
      " This problem is unconstrained.\n",
      " This problem is unconstrained.\n",
      "/home/poh9shka/.local/lib/python3.10/site-packages/sklearn/linear_model/_logistic.py:814: ConvergenceWarning: lbfgs failed to converge (status=1):\n",
      "STOP: TOTAL NO. of ITERATIONS REACHED LIMIT.\n",
      "\n",
      "Increase the number of iterations (max_iter) or scale the data as shown in:\n",
      "    https://scikit-learn.org/stable/modules/preprocessing.html\n",
      "Please also refer to the documentation for alternative solver options:\n",
      "    https://scikit-learn.org/stable/modules/linear_model.html#logistic-regression\n",
      "  n_iter_i = _check_optimize_result(\n"
     ]
    },
    {
     "name": "stdout",
     "output_type": "stream",
     "text": [
      "RUNNING THE L-BFGS-B CODE\n",
      "\n",
      "           * * *\n",
      "\n",
      "Machine precision = 2.220D-16\n",
      " N =          769     M =           10\n",
      "\n",
      "At X0         0 variables are exactly at the bounds\n",
      "\n",
      "At iterate    0    f=  7.42553D+03    |proj g|=  1.80152D+00\n"
     ]
    },
    {
     "name": "stderr",
     "output_type": "stream",
     "text": [
      " This problem is unconstrained.\n"
     ]
    },
    {
     "name": "stdout",
     "output_type": "stream",
     "text": [
      "\n",
      "At iterate   50    f=  7.43753D+03    |proj g|=  1.34281D+00\n",
      "\n",
      "At iterate   50    f=  7.41695D+03    |proj g|=  7.74667D-01\n",
      "\n",
      "At iterate   50    f=  7.42549D+03    |proj g|=  1.73022D+00\n",
      "\n",
      "At iterate  100    f=  7.43731D+03    |proj g|=  3.24178D+00\n",
      "\n",
      "           * * *\n",
      "\n",
      "Tit   = total number of iterations\n",
      "Tnf   = total number of function evaluations\n",
      "Tnint = total number of segments explored during Cauchy searches\n",
      "Skip  = number of BFGS updates skipped\n",
      "Nact  = number of active bounds at final generalized Cauchy point\n",
      "Projg = norm of the final projected gradient\n",
      "F     = final function value\n",
      "\n",
      "           * * *\n",
      "\n",
      "   N    Tit     Tnf  Tnint  Skip  Nact     Projg        F\n",
      "  769    100    115      1     0     0   3.242D+00   7.437D+03\n",
      "  F =   7437.3080025166364     \n",
      "\n",
      "STOP: TOTAL NO. of ITERATIONS REACHED LIMIT                 \n",
      "RUNNING THE L-BFGS-B CODE\n",
      "\n",
      "           * * *\n",
      "\n",
      "Machine precision = 2.220D-16\n",
      " N =          769     M =           10\n",
      "\n",
      "At X0         0 variables are exactly at the bounds\n",
      "\n",
      "At iterate    0    f=  7.43362D+03    |proj g|=  3.24327D+00\n"
     ]
    },
    {
     "name": "stderr",
     "output_type": "stream",
     "text": [
      "/home/poh9shka/.local/lib/python3.10/site-packages/sklearn/linear_model/_logistic.py:814: ConvergenceWarning: lbfgs failed to converge (status=1):\n",
      "STOP: TOTAL NO. of ITERATIONS REACHED LIMIT.\n",
      "\n",
      "Increase the number of iterations (max_iter) or scale the data as shown in:\n",
      "    https://scikit-learn.org/stable/modules/preprocessing.html\n",
      "Please also refer to the documentation for alternative solver options:\n",
      "    https://scikit-learn.org/stable/modules/linear_model.html#logistic-regression\n",
      "  n_iter_i = _check_optimize_result(\n",
      " This problem is unconstrained.\n"
     ]
    },
    {
     "name": "stdout",
     "output_type": "stream",
     "text": [
      "\n",
      "At iterate  100    f=  7.41689D+03    |proj g|=  3.72133D+00\n",
      "\n",
      "           * * *\n",
      "\n",
      "Tit   = total number of iterations\n",
      "Tnf   = total number of function evaluations\n",
      "Tnint = total number of segments explored during Cauchy searches\n",
      "Skip  = number of BFGS updates skipped\n",
      "Nact  = number of active bounds at final generalized Cauchy point\n",
      "Projg = norm of the final projected gradient\n",
      "F     = final function value\n",
      "\n",
      "           * * *\n",
      "\n",
      "   N    Tit     Tnf  Tnint  Skip  Nact     Projg        F\n",
      "  769    100    113      1     0     0   3.721D+00   7.417D+03\n",
      "  F =   7416.8906699041554     \n",
      "\n",
      "STOP: TOTAL NO. of ITERATIONS REACHED LIMIT                 \n",
      "RUNNING THE L-BFGS-B CODE\n",
      "\n",
      "           * * *\n",
      "\n",
      "Machine precision = 2.220D-16\n",
      " N =          769     M =           10\n",
      "\n",
      "At X0         0 variables are exactly at the bounds\n",
      "\n",
      "At iterate    0    f=  7.41636D+03    |proj g|=  3.72138D+00\n"
     ]
    },
    {
     "name": "stderr",
     "output_type": "stream",
     "text": [
      "/home/poh9shka/.local/lib/python3.10/site-packages/sklearn/linear_model/_logistic.py:814: ConvergenceWarning: lbfgs failed to converge (status=1):\n",
      "STOP: TOTAL NO. of ITERATIONS REACHED LIMIT.\n",
      "\n",
      "Increase the number of iterations (max_iter) or scale the data as shown in:\n",
      "    https://scikit-learn.org/stable/modules/preprocessing.html\n",
      "Please also refer to the documentation for alternative solver options:\n",
      "    https://scikit-learn.org/stable/modules/linear_model.html#logistic-regression\n",
      "  n_iter_i = _check_optimize_result(\n",
      " This problem is unconstrained.\n"
     ]
    },
    {
     "name": "stdout",
     "output_type": "stream",
     "text": [
      "\n",
      "At iterate  100    f=  7.42544D+03    |proj g|=  1.87063D+00\n",
      "\n",
      "           * * *\n",
      "\n",
      "Tit   = total number of iterations\n",
      "Tnf   = total number of function evaluations\n",
      "Tnint = total number of segments explored during Cauchy searches\n",
      "Skip  = number of BFGS updates skipped\n",
      "Nact  = number of active bounds at final generalized Cauchy point\n",
      "Projg = norm of the final projected gradient\n",
      "F     = final function value\n",
      "\n",
      "           * * *\n",
      "\n",
      "   N    Tit     Tnf  Tnint  Skip  Nact     Projg        F\n",
      "  769    100    118      1     0     0   1.871D+00   7.425D+03\n",
      "  F =   7425.4379076177947     \n",
      "\n",
      "STOP: TOTAL NO. of ITERATIONS REACHED LIMIT                 \n",
      "RUNNING THE L-BFGS-B CODE\n",
      "\n",
      "           * * *\n",
      "\n",
      "Machine precision = 2.220D-16\n",
      " N =          769     M =           10\n",
      "\n",
      "At X0         0 variables are exactly at the bounds\n",
      "\n",
      "At iterate    0    f=  7.42462D+03    |proj g|=  1.87010D+00\n"
     ]
    },
    {
     "name": "stderr",
     "output_type": "stream",
     "text": [
      "/home/poh9shka/.local/lib/python3.10/site-packages/sklearn/linear_model/_logistic.py:814: ConvergenceWarning: lbfgs failed to converge (status=1):\n",
      "STOP: TOTAL NO. of ITERATIONS REACHED LIMIT.\n",
      "\n",
      "Increase the number of iterations (max_iter) or scale the data as shown in:\n",
      "    https://scikit-learn.org/stable/modules/preprocessing.html\n",
      "Please also refer to the documentation for alternative solver options:\n",
      "    https://scikit-learn.org/stable/modules/linear_model.html#logistic-regression\n",
      "  n_iter_i = _check_optimize_result(\n",
      " This problem is unconstrained.\n"
     ]
    },
    {
     "name": "stdout",
     "output_type": "stream",
     "text": [
      "\n",
      "At iterate   50    f=  7.43352D+03    |proj g|=  2.85715D+00\n",
      "\n",
      "           * * *\n",
      "\n",
      "Tit   = total number of iterations\n",
      "Tnf   = total number of function evaluations\n",
      "Tnint = total number of segments explored during Cauchy searches\n",
      "Skip  = number of BFGS updates skipped\n",
      "Nact  = number of active bounds at final generalized Cauchy point\n",
      "Projg = norm of the final projected gradient\n",
      "F     = final function value\n",
      "\n",
      "           * * *\n",
      "\n",
      "   N    Tit     Tnf  Tnint  Skip  Nact     Projg        F\n",
      "  769     49     56      1     0     0   1.366D+00   7.416D+03\n",
      "  F =   7416.3446320055145     \n",
      "\n",
      "CONVERGENCE: REL_REDUCTION_OF_F_<=_FACTR*EPSMCH             \n",
      "RUNNING THE L-BFGS-B CODE\n",
      "\n",
      "           * * *\n",
      "\n",
      "Machine precision = 2.220D-16\n",
      " N =          769     M =           10\n",
      "\n",
      "At X0         0 variables are exactly at the bounds\n",
      "\n",
      "At iterate    0    f=  7.41599D+03    |proj g|=  1.36553D+00\n"
     ]
    },
    {
     "name": "stderr",
     "output_type": "stream",
     "text": [
      " This problem is unconstrained.\n",
      " This problem is unconstrained.\n"
     ]
    },
    {
     "name": "stdout",
     "output_type": "stream",
     "text": [
      "\n",
      "           * * *\n",
      "\n",
      "Tit   = total number of iterations\n",
      "Tnf   = total number of function evaluations\n",
      "Tnint = total number of segments explored during Cauchy searches\n",
      "Skip  = number of BFGS updates skipped\n",
      "Nact  = number of active bounds at final generalized Cauchy point\n",
      "Projg = norm of the final projected gradient\n",
      "F     = final function value\n",
      "\n",
      "           * * *\n",
      "\n",
      "   N    Tit     Tnf  Tnint  Skip  Nact     Projg        F\n",
      "  769      2      4      1     0     0   5.518D-01   7.416D+03\n",
      "  F =   7415.9882186272225     \n",
      "\n",
      "CONVERGENCE: REL_REDUCTION_OF_F_<=_FACTR*EPSMCH             \n",
      "RUNNING THE L-BFGS-B CODE\n",
      "\n",
      "           * * *\n",
      "\n",
      "Machine precision = 2.220D-16\n",
      " N =          769     M =           10\n",
      "\n",
      "At X0         0 variables are exactly at the bounds\n",
      "\n",
      "At iterate    0    f=  7.41575D+03    |proj g|=  5.51871D-01\n",
      "\n",
      "At iterate   50    f=  7.42461D+03    |proj g|=  1.35959D+00\n",
      "\n",
      "           * * *\n",
      "\n",
      "Tit   = total number of iterations\n",
      "Tnf   = total number of function evaluations\n",
      "Tnint = total number of segments explored during Cauchy searches\n",
      "Skip  = number of BFGS updates skipped\n",
      "Nact  = number of active bounds at final generalized Cauchy point\n",
      "Projg = norm of the final projected gradient\n",
      "F     = final function value\n",
      "\n",
      "           * * *\n",
      "\n",
      "   N    Tit     Tnf  Tnint  Skip  Nact     Projg        F\n",
      "  769     13     17      1     0     0   6.330D-01   7.416D+03\n",
      "  F =   7415.7477392029114     \n",
      "\n",
      "CONVERGENCE: REL_REDUCTION_OF_F_<=_FACTR*EPSMCH             \n",
      "\n",
      "           * * *\n",
      "\n",
      "Tit   = total number of iterations\n",
      "Tnf   = total number of function evaluations\n",
      "Tnint = total number of segments explored during Cauchy searches\n",
      "Skip  = number of BFGS updates skipped\n",
      "Nact  = number of active bounds at final generalized Cauchy point\n",
      "Projg = norm of the final projected gradient\n",
      "F     = final function value\n",
      "\n",
      "           * * *\n",
      "\n",
      "   N    Tit     Tnf  Tnint  Skip  Nact     Projg        F\n",
      "  769     87     99      1     0     0   1.295D+00   7.425D+03\n",
      "  F =   7424.5970272849845     \n",
      "\n",
      "CONVERGENCE: REL_REDUCTION_OF_F_<=_FACTR*EPSMCH             \n",
      "RUNNING THE L-BFGS-B CODE\n",
      "\n",
      "           * * *\n",
      "\n",
      "Machine precision = 2.220D-16\n",
      " N =          769     M =           10\n",
      "\n",
      "At X0         0 variables are exactly at the bounds\n",
      "\n",
      "At iterate    0    f=  7.42405D+03    |proj g|=  1.29527D+00\n",
      "\n",
      "           * * *\n",
      "\n",
      "Tit   = total number of iterations\n",
      "Tnf   = total number of function evaluations\n",
      "Tnint = total number of segments explored during Cauchy searches\n",
      "Skip  = number of BFGS updates skipped\n",
      "Nact  = number of active bounds at final generalized Cauchy point\n",
      "Projg = norm of the final projected gradient\n",
      "F     = final function value\n",
      "\n",
      "           * * *\n",
      "\n",
      "   N    Tit     Tnf  Tnint  Skip  Nact     Projg        F\n",
      "  769      1      3      1     0     0   4.037D-01   7.424D+03\n",
      "  F =   7424.0500932009245     \n",
      "\n",
      "CONVERGENCE: REL_REDUCTION_OF_F_<=_FACTR*EPSMCH             \n",
      "RUNNING THE L-BFGS-B CODE\n",
      "\n",
      "           * * *\n",
      "\n",
      "Machine precision = 2.220D-16\n",
      " N =          769     M =           10\n",
      "\n",
      "At X0         0 variables are exactly at the bounds\n",
      "\n",
      "At iterate    0    f=  7.42368D+03    |proj g|=  4.03497D-01\n",
      "\n",
      "           * * *\n",
      "\n",
      "Tit   = total number of iterations\n",
      "Tnf   = total number of function evaluations\n",
      "Tnint = total number of segments explored during Cauchy searches\n",
      "Skip  = number of BFGS updates skipped\n",
      "Nact  = number of active bounds at final generalized Cauchy point\n",
      "Projg = norm of the final projected gradient\n",
      "F     = final function value\n",
      "\n",
      "           * * *\n",
      "\n",
      "   N    Tit     Tnf  Tnint  Skip  Nact     Projg        F\n",
      "  769      1      3      1     0     0   1.307D-01   7.424D+03\n",
      "  F =   7423.6823725569720     \n",
      "\n",
      "CONVERGENCE: REL_REDUCTION_OF_F_<=_FACTR*EPSMCH             \n"
     ]
    },
    {
     "name": "stderr",
     "output_type": "stream",
     "text": [
      " This problem is unconstrained.\n",
      " This problem is unconstrained.\n",
      " This problem is unconstrained.\n"
     ]
    },
    {
     "name": "stdout",
     "output_type": "stream",
     "text": [
      "RUNNING THE L-BFGS-B CODE\n",
      "\n",
      "           * * *\n",
      "\n",
      "Machine precision = 2.220D-16\n",
      " N =          769     M =           10\n",
      "\n",
      "At X0         0 variables are exactly at the bounds\n",
      "\n",
      "At iterate    0    f=  7.42344D+03    |proj g|=  1.30853D-01\n",
      "\n",
      "At iterate  100    f=  7.43349D+03    |proj g|=  3.99752D+00\n",
      "\n",
      "           * * *\n",
      "\n",
      "Tit   = total number of iterations\n",
      "Tnf   = total number of function evaluations\n",
      "Tnint = total number of segments explored during Cauchy searches\n",
      "Skip  = number of BFGS updates skipped\n",
      "Nact  = number of active bounds at final generalized Cauchy point\n",
      "Projg = norm of the final projected gradient\n",
      "F     = final function value\n",
      "\n",
      "           * * *\n",
      "\n",
      "   N    Tit     Tnf  Tnint  Skip  Nact     Projg        F\n",
      "  769    100    116      1     0     0   3.998D+00   7.433D+03\n",
      "  F =   7433.4888365856432     \n",
      "\n",
      "STOP: TOTAL NO. of ITERATIONS REACHED LIMIT                 \n",
      "\n",
      "           * * *\n",
      "\n",
      "Tit   = total number of iterations\n",
      "Tnf   = total number of function evaluations\n",
      "Tnint = total number of segments explored during Cauchy searches\n",
      "Skip  = number of BFGS updates skipped\n",
      "Nact  = number of active bounds at final generalized Cauchy point\n",
      "Projg = norm of the final projected gradient\n",
      "F     = final function value\n",
      "\n",
      "           * * *\n",
      "\n",
      "   N    Tit     Tnf  Tnint  Skip  Nact     Projg        F\n",
      "  769      2      5      1     0     0   8.508D-01   7.423D+03\n",
      "  F =   7423.4350210116208     \n",
      "\n",
      "CONVERGENCE: REL_REDUCTION_OF_F_<=_FACTR*EPSMCH             \n",
      "RUNNING THE L-BFGS-B CODE\n",
      "\n",
      "           * * *\n",
      "\n",
      "Machine precision = 2.220D-16\n",
      " N =          769     M =           10\n",
      "\n",
      "At X0         0 variables are exactly at the bounds\n",
      "\n",
      "At iterate    0    f=  7.43098D+03    |proj g|=  3.99854D+00\n"
     ]
    },
    {
     "name": "stderr",
     "output_type": "stream",
     "text": [
      "/home/poh9shka/.local/lib/python3.10/site-packages/sklearn/linear_model/_logistic.py:814: ConvergenceWarning: lbfgs failed to converge (status=1):\n",
      "STOP: TOTAL NO. of ITERATIONS REACHED LIMIT.\n",
      "\n",
      "Increase the number of iterations (max_iter) or scale the data as shown in:\n",
      "    https://scikit-learn.org/stable/modules/preprocessing.html\n",
      "Please also refer to the documentation for alternative solver options:\n",
      "    https://scikit-learn.org/stable/modules/linear_model.html#logistic-regression\n",
      "  n_iter_i = _check_optimize_result(\n",
      " This problem is unconstrained.\n"
     ]
    },
    {
     "name": "stdout",
     "output_type": "stream",
     "text": [
      "\n",
      "At iterate   50    f=  7.43096D+03    |proj g|=  4.77942D-01\n",
      "\n",
      "At iterate  100    f=  7.43088D+03    |proj g|=  1.80624D+00\n",
      "\n",
      "           * * *\n",
      "\n",
      "Tit   = total number of iterations\n",
      "Tnf   = total number of function evaluations\n",
      "Tnint = total number of segments explored during Cauchy searches\n",
      "Skip  = number of BFGS updates skipped\n",
      "Nact  = number of active bounds at final generalized Cauchy point\n",
      "Projg = norm of the final projected gradient\n",
      "F     = final function value\n",
      "\n",
      "           * * *\n",
      "\n",
      "   N    Tit     Tnf  Tnint  Skip  Nact     Projg        F\n",
      "  769    100    116      1     0     0   1.806D+00   7.431D+03\n",
      "  F =   7430.8829259431905     \n",
      "\n",
      "STOP: TOTAL NO. of ITERATIONS REACHED LIMIT                 \n",
      "RUNNING THE L-BFGS-B CODE\n",
      "\n",
      "           * * *\n",
      "\n",
      "Machine precision = 2.220D-16\n",
      " N =          769     M =           10\n",
      "\n",
      "At X0         0 variables are exactly at the bounds\n",
      "\n",
      "At iterate    0    f=  7.42917D+03    |proj g|=  1.80415D+00\n"
     ]
    },
    {
     "name": "stderr",
     "output_type": "stream",
     "text": [
      "/home/poh9shka/.local/lib/python3.10/site-packages/sklearn/linear_model/_logistic.py:814: ConvergenceWarning: lbfgs failed to converge (status=1):\n",
      "STOP: TOTAL NO. of ITERATIONS REACHED LIMIT.\n",
      "\n",
      "Increase the number of iterations (max_iter) or scale the data as shown in:\n",
      "    https://scikit-learn.org/stable/modules/preprocessing.html\n",
      "Please also refer to the documentation for alternative solver options:\n",
      "    https://scikit-learn.org/stable/modules/linear_model.html#logistic-regression\n",
      "  n_iter_i = _check_optimize_result(\n",
      " This problem is unconstrained.\n"
     ]
    },
    {
     "name": "stdout",
     "output_type": "stream",
     "text": [
      "\n",
      "At iterate   50    f=  7.42913D+03    |proj g|=  1.74370D+00\n",
      "\n",
      "At iterate  100    f=  7.42911D+03    |proj g|=  8.95716D-01\n",
      "\n",
      "           * * *\n",
      "\n",
      "Tit   = total number of iterations\n",
      "Tnf   = total number of function evaluations\n",
      "Tnint = total number of segments explored during Cauchy searches\n",
      "Skip  = number of BFGS updates skipped\n",
      "Nact  = number of active bounds at final generalized Cauchy point\n",
      "Projg = norm of the final projected gradient\n",
      "F     = final function value\n",
      "\n",
      "           * * *\n",
      "\n",
      "   N    Tit     Tnf  Tnint  Skip  Nact     Projg        F\n",
      "  769    100    112      1     0     0   8.957D-01   7.429D+03\n",
      "  F =   7429.1115805221298     \n",
      "\n",
      "STOP: TOTAL NO. of ITERATIONS REACHED LIMIT                 \n",
      "RUNNING THE L-BFGS-B CODE\n",
      "\n",
      "           * * *\n",
      "\n",
      "Machine precision = 2.220D-16\n",
      " N =          769     M =           10\n",
      "\n",
      "At X0         0 variables are exactly at the bounds\n",
      "\n",
      "At iterate    0    f=  7.42795D+03    |proj g|=  8.94329D-01\n"
     ]
    },
    {
     "name": "stderr",
     "output_type": "stream",
     "text": [
      "/home/poh9shka/.local/lib/python3.10/site-packages/sklearn/linear_model/_logistic.py:814: ConvergenceWarning: lbfgs failed to converge (status=1):\n",
      "STOP: TOTAL NO. of ITERATIONS REACHED LIMIT.\n",
      "\n",
      "Increase the number of iterations (max_iter) or scale the data as shown in:\n",
      "    https://scikit-learn.org/stable/modules/preprocessing.html\n",
      "Please also refer to the documentation for alternative solver options:\n",
      "    https://scikit-learn.org/stable/modules/linear_model.html#logistic-regression\n",
      "  n_iter_i = _check_optimize_result(\n",
      " This problem is unconstrained.\n"
     ]
    },
    {
     "name": "stdout",
     "output_type": "stream",
     "text": [
      "\n",
      "At iterate   50    f=  7.42793D+03    |proj g|=  8.04853D-01\n",
      "\n",
      "At iterate  100    f=  7.42791D+03    |proj g|=  9.23716D+00\n",
      "\n",
      "           * * *\n",
      "\n",
      "Tit   = total number of iterations\n",
      "Tnf   = total number of function evaluations\n",
      "Tnint = total number of segments explored during Cauchy searches\n",
      "Skip  = number of BFGS updates skipped\n",
      "Nact  = number of active bounds at final generalized Cauchy point\n",
      "Projg = norm of the final projected gradient\n",
      "F     = final function value\n",
      "\n",
      "           * * *\n",
      "\n",
      "   N    Tit     Tnf  Tnint  Skip  Nact     Projg        F\n",
      "  769    100    116      1     0     0   9.237D+00   7.428D+03\n",
      "  F =   7427.9138843085238     \n",
      "\n",
      "STOP: TOTAL NO. of ITERATIONS REACHED LIMIT                 \n",
      "RUNNING THE L-BFGS-B CODE\n",
      "\n",
      "           * * *\n",
      "\n",
      "Machine precision = 2.220D-16\n",
      " N =          769     M =           10\n",
      "\n",
      "At X0         0 variables are exactly at the bounds\n",
      "\n",
      "At iterate    0    f=  7.42713D+03    |proj g|=  9.23750D+00\n",
      "\n",
      "           * * *\n",
      "\n",
      "Tit   = total number of iterations\n",
      "Tnf   = total number of function evaluations\n",
      "Tnint = total number of segments explored during Cauchy searches\n",
      "Skip  = number of BFGS updates skipped\n",
      "Nact  = number of active bounds at final generalized Cauchy point\n",
      "Projg = norm of the final projected gradient\n",
      "F     = final function value\n",
      "\n",
      "           * * *\n",
      "\n",
      "   N    Tit     Tnf  Tnint  Skip  Nact     Projg        F\n",
      "  769      3      5      1     0     0   4.779D-01   7.427D+03\n",
      "  F =   7427.1268880368807     \n",
      "\n",
      "CONVERGENCE: REL_REDUCTION_OF_F_<=_FACTR*EPSMCH             \n",
      "RUNNING THE L-BFGS-B CODE\n",
      "\n",
      "           * * *\n",
      "\n",
      "Machine precision = 2.220D-16\n",
      " N =          769     M =           10\n",
      "\n",
      "At X0         0 variables are exactly at the bounds\n",
      "\n",
      "At iterate    0    f=  7.42660D+03    |proj g|=  4.78120D-01\n"
     ]
    },
    {
     "name": "stderr",
     "output_type": "stream",
     "text": [
      "/home/poh9shka/.local/lib/python3.10/site-packages/sklearn/linear_model/_logistic.py:814: ConvergenceWarning: lbfgs failed to converge (status=1):\n",
      "STOP: TOTAL NO. of ITERATIONS REACHED LIMIT.\n",
      "\n",
      "Increase the number of iterations (max_iter) or scale the data as shown in:\n",
      "    https://scikit-learn.org/stable/modules/preprocessing.html\n",
      "Please also refer to the documentation for alternative solver options:\n",
      "    https://scikit-learn.org/stable/modules/linear_model.html#logistic-regression\n",
      "  n_iter_i = _check_optimize_result(\n",
      " This problem is unconstrained.\n",
      " This problem is unconstrained.\n"
     ]
    },
    {
     "name": "stdout",
     "output_type": "stream",
     "text": [
      "\n",
      "           * * *\n",
      "\n",
      "Tit   = total number of iterations\n",
      "Tnf   = total number of function evaluations\n",
      "Tnint = total number of segments explored during Cauchy searches\n",
      "Skip  = number of BFGS updates skipped\n",
      "Nact  = number of active bounds at final generalized Cauchy point\n",
      "Projg = norm of the final projected gradient\n",
      "F     = final function value\n",
      "\n",
      "           * * *\n",
      "\n",
      "   N    Tit     Tnf  Tnint  Skip  Nact     Projg        F\n",
      "  769     45     54      1     0     0   6.688D-01   7.427D+03\n",
      "  F =   7426.5746169553868     \n",
      "\n",
      "CONVERGENCE: REL_REDUCTION_OF_F_<=_FACTR*EPSMCH             \n",
      "RUNNING THE L-BFGS-B CODE\n",
      "\n",
      "           * * *\n",
      "\n",
      "Machine precision = 2.220D-16\n",
      " N =          769     M =           10\n",
      "\n",
      "At X0         0 variables are exactly at the bounds\n",
      "\n",
      "At iterate    0    f=  7.42622D+03    |proj g|=  6.68940D-01\n",
      "\n",
      "           * * *\n",
      "\n",
      "Tit   = total number of iterations\n",
      "Tnf   = total number of function evaluations\n",
      "Tnint = total number of segments explored during Cauchy searches\n",
      "Skip  = number of BFGS updates skipped\n",
      "Nact  = number of active bounds at final generalized Cauchy point\n",
      "Projg = norm of the final projected gradient\n",
      "F     = final function value\n",
      "\n",
      "           * * *\n",
      "\n",
      "   N    Tit     Tnf  Tnint  Skip  Nact     Projg        F\n",
      "  769      1      3      1     0     0   4.486D-01   7.426D+03\n",
      "  F =   7426.2179439117326     \n",
      "\n",
      "CONVERGENCE: REL_REDUCTION_OF_F_<=_FACTR*EPSMCH             \n",
      "RUNNING THE L-BFGS-B CODE\n",
      "\n",
      "           * * *\n",
      "\n",
      "Machine precision = 2.220D-16\n",
      " N =          769     M =           10\n",
      "\n",
      "At X0         0 variables are exactly at the bounds\n",
      "\n",
      "At iterate    0    f=  7.42598D+03    |proj g|=  4.48501D-01\n",
      "\n",
      "           * * *\n",
      "\n",
      "Tit   = total number of iterations\n",
      "Tnf   = total number of function evaluations\n",
      "Tnint = total number of segments explored during Cauchy searches\n",
      "Skip  = number of BFGS updates skipped\n",
      "Nact  = number of active bounds at final generalized Cauchy point\n",
      "Projg = norm of the final projected gradient\n",
      "F     = final function value\n",
      "\n",
      "           * * *\n",
      "\n",
      "   N    Tit     Tnf  Tnint  Skip  Nact     Projg        F\n",
      "  769      1      3      1     0     0   7.938D-02   7.426D+03\n",
      "  F =   7425.9781397655979     \n",
      "\n",
      "CONVERGENCE: REL_REDUCTION_OF_F_<=_FACTR*EPSMCH             \n"
     ]
    },
    {
     "name": "stderr",
     "output_type": "stream",
     "text": [
      " This problem is unconstrained.\n",
      " This problem is unconstrained.\n",
      "[Parallel(n_jobs=12)]: Done   3 out of   3 | elapsed:  2.1min finished\n"
     ]
    },
    {
     "name": "stdout",
     "output_type": "stream",
     "text": [
      "CPU times: user 1min 15s, sys: 14.6 s, total: 1min 30s\n",
      "Wall time: 2min 9s\n"
     ]
    },
    {
     "data": {
      "text/plain": [
       "LogisticRegressionCV(Cs=array([1.00000000e-02, 1.48735211e-02, 2.21221629e-02, 3.29034456e-02,\n",
       "       4.89390092e-02, 7.27895384e-02, 1.08263673e-01, 1.61026203e-01,\n",
       "       2.39502662e-01, 3.56224789e-01, 5.29831691e-01, 7.88046282e-01,\n",
       "       1.17210230e+00, 1.74332882e+00, 2.59294380e+00, 3.85662042e+00,\n",
       "       5.73615251e+00, 8.53167852e+00, 1.26896100e+01, 1.88739182e+01,\n",
       "       2.80721620e+01, 4.17531894e+01, 6.21016942e+01, 9.23670857e+01,\n",
       "       1.37382380e+02, 2.04335972e+02, 3.03919538e+02, 4.52035366e+02,\n",
       "       6.72335754e+02, 1.00000000e+03]),\n",
       "                     cv=3, n_jobs=12, scoring=make_scorer(f1_score), verbose=1)"
      ]
     },
     "execution_count": 170,
     "metadata": {},
     "output_type": "execute_result"
    }
   ],
   "source": [
    "%%time\n",
    "\n",
    "model_cv_down.fit(features_train_cv_down, target_train_cv_down)"
   ]
  },
  {
   "cell_type": "markdown",
   "metadata": {},
   "source": [
    "Посмотрим, какой параметр был подобран:"
   ]
  },
  {
   "cell_type": "code",
   "execution_count": 171,
   "metadata": {
    "scrolled": true
   },
   "outputs": [
    {
     "data": {
      "text/plain": [
       "array([2.5929438])"
      ]
     },
     "execution_count": 171,
     "metadata": {},
     "output_type": "execute_result"
    }
   ],
   "source": [
    "model_cv_down.C_"
   ]
  },
  {
   "cell_type": "markdown",
   "metadata": {},
   "source": [
    "#### Обучение и тестирование моделей"
   ]
  },
  {
   "cell_type": "markdown",
   "metadata": {},
   "source": [
    "Создадим новую для `upsample`:"
   ]
  },
  {
   "cell_type": "code",
   "execution_count": 172,
   "metadata": {},
   "outputs": [],
   "source": [
    "model_up = LogisticRegression(C=model_cv_up.C_[0], max_iter=3000, random_state=1)"
   ]
  },
  {
   "cell_type": "markdown",
   "metadata": {},
   "source": [
    "Посчитаем с помощью кросс-валидации F1:"
   ]
  },
  {
   "cell_type": "code",
   "execution_count": 173,
   "metadata": {},
   "outputs": [
    {
     "name": "stdout",
     "output_type": "stream",
     "text": [
      "CPU times: user 269 ms, sys: 1.01 s, total: 1.28 s\n",
      "Wall time: 1min 53s\n"
     ]
    },
    {
     "data": {
      "text/plain": [
       "array([0.8033863 , 0.79852761, 0.80484078])"
      ]
     },
     "execution_count": 173,
     "metadata": {},
     "output_type": "execute_result"
    }
   ],
   "source": [
    "%%time\n",
    "\n",
    "scores_up = cross_val_score(\n",
    "    model_up, features_train_cv_up, target_train_cv_up, scoring=scorer, cv=3, n_jobs=3,\n",
    ")\n",
    "scores_up"
   ]
  },
  {
   "cell_type": "markdown",
   "metadata": {},
   "source": [
    "Создадим новую модель с подобранным параметром для `downsample`:"
   ]
  },
  {
   "cell_type": "code",
   "execution_count": 174,
   "metadata": {},
   "outputs": [],
   "source": [
    "model_down = LogisticRegression(C=model_cv_down.C_[0], max_iter=3000, random_state=1)"
   ]
  },
  {
   "cell_type": "markdown",
   "metadata": {},
   "source": [
    "Выполним кросс-валидацию:"
   ]
  },
  {
   "cell_type": "code",
   "execution_count": 175,
   "metadata": {},
   "outputs": [
    {
     "name": "stdout",
     "output_type": "stream",
     "text": [
      "CPU times: user 34.3 ms, sys: 75 ms, total: 109 ms\n",
      "Wall time: 53.2 s\n"
     ]
    },
    {
     "data": {
      "text/plain": [
       "array([0.79926918, 0.79628713, 0.79970725])"
      ]
     },
     "execution_count": 175,
     "metadata": {},
     "output_type": "execute_result"
    }
   ],
   "source": [
    "%%time\n",
    "\n",
    "scores_down = cross_val_score(\n",
    "    model_down, features_train_cv_down, target_train_cv_down, scoring=scorer, cv=3, n_jobs=3,\n",
    ")\n",
    "scores_down"
   ]
  },
  {
   "cell_type": "markdown",
   "metadata": {},
   "source": [
    "Посчитаем среднее для `upsample`:"
   ]
  },
  {
   "cell_type": "code",
   "execution_count": 176,
   "metadata": {},
   "outputs": [
    {
     "data": {
      "text/plain": [
       "0.8022515608615658"
      ]
     },
     "execution_count": 176,
     "metadata": {},
     "output_type": "execute_result"
    }
   ],
   "source": [
    "scores_up.mean()"
   ]
  },
  {
   "cell_type": "markdown",
   "metadata": {},
   "source": [
    "Посчитаем среднее для `downsample`:"
   ]
  },
  {
   "cell_type": "code",
   "execution_count": 177,
   "metadata": {},
   "outputs": [
    {
     "data": {
      "text/plain": [
       "0.7984211861015309"
      ]
     },
     "execution_count": 177,
     "metadata": {},
     "output_type": "execute_result"
    }
   ],
   "source": [
    "scores_down.mean()"
   ]
  },
  {
   "cell_type": "markdown",
   "metadata": {},
   "source": [
    "Обучим модель на `upsample`:"
   ]
  },
  {
   "cell_type": "code",
   "execution_count": 178,
   "metadata": {},
   "outputs": [
    {
     "name": "stdout",
     "output_type": "stream",
     "text": [
      "CPU times: user 23min 28s, sys: 3min 15s, total: 26min 43s\n",
      "Wall time: 1min 10s\n"
     ]
    },
    {
     "data": {
      "text/plain": [
       "LogisticRegression(C=3.856620421163472, max_iter=3000, random_state=1)"
      ]
     },
     "execution_count": 178,
     "metadata": {},
     "output_type": "execute_result"
    }
   ],
   "source": [
    "%%time\n",
    "\n",
    "model_up.fit(features_train_cv_up, target_train_cv_up)"
   ]
  },
  {
   "cell_type": "markdown",
   "metadata": {},
   "source": [
    "Выполним предсказание на тестовой выборке:"
   ]
  },
  {
   "cell_type": "code",
   "execution_count": 179,
   "metadata": {},
   "outputs": [
    {
     "name": "stdout",
     "output_type": "stream",
     "text": [
      "CPU times: user 469 ms, sys: 1.21 s, total: 1.68 s\n",
      "Wall time: 207 ms\n"
     ]
    }
   ],
   "source": [
    "%%time\n",
    "\n",
    "predicted_test = model_up.predict(features_test)"
   ]
  },
  {
   "cell_type": "markdown",
   "metadata": {},
   "source": [
    "Посчитаем F1-меру на тестовой выборке:"
   ]
  },
  {
   "cell_type": "code",
   "execution_count": 180,
   "metadata": {
    "scrolled": true
   },
   "outputs": [
    {
     "data": {
      "text/plain": [
       "0.746947496947497"
      ]
     },
     "execution_count": 180,
     "metadata": {},
     "output_type": "execute_result"
    }
   ],
   "source": [
    "f1_score(target_test, predicted_test)"
   ]
  },
  {
   "cell_type": "markdown",
   "metadata": {},
   "source": [
    "Обучим модель на `downsample`:"
   ]
  },
  {
   "cell_type": "code",
   "execution_count": 181,
   "metadata": {},
   "outputs": [
    {
     "name": "stdout",
     "output_type": "stream",
     "text": [
      "CPU times: user 9min 53s, sys: 1min 43s, total: 11min 36s\n",
      "Wall time: 30.6 s\n"
     ]
    },
    {
     "data": {
      "text/plain": [
       "LogisticRegression(C=2.592943797404667, max_iter=3000, random_state=1)"
      ]
     },
     "execution_count": 181,
     "metadata": {},
     "output_type": "execute_result"
    }
   ],
   "source": [
    "%%time\n",
    "\n",
    "model_down.fit(features_train_cv_down, target_train_cv_down)"
   ]
  },
  {
   "cell_type": "markdown",
   "metadata": {},
   "source": [
    "Выполним предсказание на тестовой выборке:"
   ]
  },
  {
   "cell_type": "code",
   "execution_count": 182,
   "metadata": {},
   "outputs": [
    {
     "name": "stdout",
     "output_type": "stream",
     "text": [
      "CPU times: user 407 ms, sys: 611 ms, total: 1.02 s\n",
      "Wall time: 45.7 ms\n"
     ]
    }
   ],
   "source": [
    "%%time\n",
    "\n",
    "predicted_test = model_down.predict(features_test)"
   ]
  },
  {
   "cell_type": "code",
   "execution_count": 206,
   "metadata": {},
   "outputs": [
    {
     "data": {
      "text/plain": [
       "array([5.25489769e-03, 2.43712212e-03, 8.05071089e-01, ...,\n",
       "       9.43081103e-04, 4.86088999e-04, 9.61778675e-01])"
      ]
     },
     "execution_count": 206,
     "metadata": {},
     "output_type": "execute_result"
    }
   ],
   "source": [
    "model_down.predict_proba(features_valid)[:, 1]"
   ]
  },
  {
   "cell_type": "markdown",
   "metadata": {},
   "source": [
    "Посчитаем F1-меру на тестовой выборке:"
   ]
  },
  {
   "cell_type": "code",
   "execution_count": 183,
   "metadata": {
    "scrolled": true
   },
   "outputs": [
    {
     "data": {
      "text/plain": [
       "0.7441507140686721"
      ]
     },
     "execution_count": 183,
     "metadata": {},
     "output_type": "execute_result"
    }
   ],
   "source": [
    "f1_score(target_test, predicted_test)"
   ]
  },
  {
   "cell_type": "markdown",
   "metadata": {},
   "source": [
    "#### Подбор оптимального порога"
   ]
  },
  {
   "cell_type": "markdown",
   "metadata": {},
   "source": [
    "Давайте попробуем подобрать оптимальный порог, чтобы улучшить результат. Создадим для этого функцию:"
   ]
  },
  {
   "cell_type": "code",
   "execution_count": 184,
   "metadata": {},
   "outputs": [],
   "source": [
    "def find_proba(estimator, features_valid, target_valid,\n",
    "               features_test, target_test):\n",
    "    proba_valid = pd.DataFrame(model.predict_proba(features_valid)[:, 1])\n",
    "    thresholds = [0] + sorted(list(proba_valid[0].unique()))\n",
    "    scores = []\n",
    "    for threshold in tqdm(thresholds):\n",
    "        predicted_valid = (proba_valid > threshold) * 1\n",
    "        scores.append((threshold, f1_score(target_valid, predicted_valid)))\n",
    "    scores = pd.DataFrame(scores, columns=('threshold', 'f1'))\n",
    "    best = scores[scores['f1'] == scores['f1'].max()]\n",
    "    proba_test = estimator.predict_proba(features_test)[:, 1]\n",
    "    predicted_test = (proba_test > float(best['threshold'])) * 1\n",
    "    score_test = f1_score(target_test, predicted_test)\n",
    "    best['f1_test'] = score_test\n",
    "    return best"
   ]
  },
  {
   "cell_type": "markdown",
   "metadata": {},
   "source": [
    "Попробуем ей воспользоваться:"
   ]
  },
  {
   "cell_type": "code",
   "execution_count": 208,
   "metadata": {},
   "outputs": [
    {
     "data": {
      "application/vnd.jupyter.widget-view+json": {
       "model_id": "d463b77d9597446aa067ceabdcf6f168",
       "version_major": 2,
       "version_minor": 0
      },
      "text/plain": [
       "  0%|          | 0/25461 [00:00<?, ?it/s]"
      ]
     },
     "metadata": {},
     "output_type": "display_data"
    },
    {
     "data": {
      "text/html": [
       "<div>\n",
       "<style scoped>\n",
       "    .dataframe tbody tr th:only-of-type {\n",
       "        vertical-align: middle;\n",
       "    }\n",
       "\n",
       "    .dataframe tbody tr th {\n",
       "        vertical-align: top;\n",
       "    }\n",
       "\n",
       "    .dataframe thead th {\n",
       "        text-align: right;\n",
       "    }\n",
       "</style>\n",
       "<table border=\"1\" class=\"dataframe\">\n",
       "  <thead>\n",
       "    <tr style=\"text-align: right;\">\n",
       "      <th></th>\n",
       "      <th>threshold</th>\n",
       "      <th>f1</th>\n",
       "      <th>f1_test</th>\n",
       "    </tr>\n",
       "  </thead>\n",
       "  <tbody>\n",
       "    <tr>\n",
       "      <th>22974</th>\n",
       "      <td>0.499205</td>\n",
       "      <td>0.735412</td>\n",
       "      <td>0.747216</td>\n",
       "    </tr>\n",
       "  </tbody>\n",
       "</table>\n",
       "</div>"
      ],
      "text/plain": [
       "       threshold        f1   f1_test\n",
       "22974   0.499205  0.735412  0.747216"
      ]
     },
     "execution_count": 208,
     "metadata": {},
     "output_type": "execute_result"
    }
   ],
   "source": [
    "find_proba(\n",
    "    model_up, features_valid, target_valid, features_test, target_test,\n",
    ")"
   ]
  },
  {
   "cell_type": "markdown",
   "metadata": {},
   "source": [
    "Теперь для `downsample`:"
   ]
  },
  {
   "cell_type": "code",
   "execution_count": 207,
   "metadata": {},
   "outputs": [
    {
     "data": {
      "application/vnd.jupyter.widget-view+json": {
       "model_id": "31ad9cbcfbb6496d88e8f75f941da7dd",
       "version_major": 2,
       "version_minor": 0
      },
      "text/plain": [
       "  0%|          | 0/25461 [00:00<?, ?it/s]"
      ]
     },
     "metadata": {},
     "output_type": "display_data"
    },
    {
     "data": {
      "text/html": [
       "<div>\n",
       "<style scoped>\n",
       "    .dataframe tbody tr th:only-of-type {\n",
       "        vertical-align: middle;\n",
       "    }\n",
       "\n",
       "    .dataframe tbody tr th {\n",
       "        vertical-align: top;\n",
       "    }\n",
       "\n",
       "    .dataframe thead th {\n",
       "        text-align: right;\n",
       "    }\n",
       "</style>\n",
       "<table border=\"1\" class=\"dataframe\">\n",
       "  <thead>\n",
       "    <tr style=\"text-align: right;\">\n",
       "      <th></th>\n",
       "      <th>threshold</th>\n",
       "      <th>f1</th>\n",
       "      <th>f1_test</th>\n",
       "    </tr>\n",
       "  </thead>\n",
       "  <tbody>\n",
       "    <tr>\n",
       "      <th>22974</th>\n",
       "      <td>0.499205</td>\n",
       "      <td>0.735412</td>\n",
       "      <td>0.743925</td>\n",
       "    </tr>\n",
       "  </tbody>\n",
       "</table>\n",
       "</div>"
      ],
      "text/plain": [
       "       threshold        f1   f1_test\n",
       "22974   0.499205  0.735412  0.743925"
      ]
     },
     "execution_count": 207,
     "metadata": {},
     "output_type": "execute_result"
    }
   ],
   "source": [
    "find_proba(\n",
    "    model_down, features_valid, target_valid, features_test, target_test,\n",
    ")"
   ]
  },
  {
   "cell_type": "markdown",
   "metadata": {},
   "source": [
    "**Вывод**\n",
    "\n",
    "Мы получили достаточно неплохой результат, давайте посмотрим, как покажет себя CatBoost."
   ]
  },
  {
   "cell_type": "markdown",
   "metadata": {},
   "source": [
    "### CatBoost с Bert"
   ]
  },
  {
   "cell_type": "markdown",
   "metadata": {},
   "source": [
    "#### Подбор параметров ресемплирования"
   ]
  },
  {
   "cell_type": "markdown",
   "metadata": {},
   "source": [
    "Создадим для CatBoost параметры:"
   ]
  },
  {
   "cell_type": "code",
   "execution_count": 187,
   "metadata": {},
   "outputs": [],
   "source": [
    "cat_params = {\n",
    "    'iterations': 1000,\n",
    "    'task_type': 'GPU',\n",
    "    'eval_metric': 'F1',\n",
    "    'verbose': 100,\n",
    "    'random_state': 1,\n",
    "}"
   ]
  },
  {
   "cell_type": "markdown",
   "metadata": {},
   "source": [
    "Подберём `repeat` для `upsample`:"
   ]
  },
  {
   "cell_type": "code",
   "execution_count": 188,
   "metadata": {},
   "outputs": [
    {
     "name": "stderr",
     "output_type": "stream",
     "text": [
      "Warning: less than 75% gpu memory available for training. Free: 2196.3125 Total: 4039.625\n"
     ]
    },
    {
     "name": "stdout",
     "output_type": "stream",
     "text": [
      "ange: 0.00012206\n",
      "Epoch 5, change: 0.00014382\n",
      "Epoch 67, change: 0.00012104\n",
      "Epoch 6, change: 0.00014300\n",
      "Epoch 68, change: 0.00011875\n",
      "Epoch 7, change: 0.00014158\n",
      "Epoch 69, change: 0.00011778\n",
      "Epoch 8, change: 0.00013963\n",
      "Epoch 70, change: 0.00011499\n",
      "Epoch 9, change: 0.00013939\n",
      "Epoch 71, change: 0.00011327\n",
      "Epoch 10, change: 0.00013575\n",
      "Epoch 72, change: 0.00011181\n",
      "Epoch 11, change: 0.00013314\n",
      "Epoch 73, change: 0.00011037\n",
      "Epoch 12, change: 0.00013331\n",
      "Epoch 13, change: 0.00013254\n",
      "Epoch 74, change: 0.00010945\n",
      "Epoch 14, change: 0.00012921\n",
      "Epoch 75, change: 0.00010738\n",
      "Epoch 15, change: 0.00012679\n",
      "Epoch 76, change: 0.00010603\n",
      "Epoch 16, change: 0.00012449\n",
      "Epoch 77, change: 0.00010406\n",
      "Epoch 17, change: 0.00012413\n",
      "Epoch 78, change: 0.00010294\n",
      "Epoch 18, change: 0.00012165\n",
      "Epoch 79, change: 0.00010144\n",
      "Epoch 19, change: 0.00011895\n",
      "Epoch 20, change: 0.00011855\n",
      "Epoch 1, change: 1.00000000\n",
      "Epoch 21, change: 0.00011621\n",
      "Epoch 2, change: 0.00020453\n",
      "Epoch 22, change: 0.00011325\n",
      "Epoch 3, change: 0.00019680\n",
      "Epoch 23, change: 0.00011177\n",
      "Epoch 4, change: 0.00018813\n",
      "Epoch 24, change: 0.00011071\n",
      "Epoch 5, change: 0.00017828\n",
      "Epoch 25, change: 0.00010908\n",
      "Epoch 6, change: 0.00017394\n",
      "Epoch 26, change: 0.00010771\n",
      "Epoch 7, change: 0.00016753\n",
      "Epoch 27, change: 0.00010515\n",
      "Epoch 8, change: 0.00016156\n",
      "Epoch 28, change: 0.00010326\n",
      "Epoch 9, change: 0.00015425\n",
      "Epoch 29, change: 0.00010198\n",
      "Epoch 10, change: 0.00015269\n",
      "Epoch 30, change: 0.00010081\n",
      "Epoch 11, change: 0.00014618\n",
      "Epoch 12, change: 0.00013927\n",
      "Epoch 1, change: 1.00000000\n",
      "Epoch 13, change: 0.00013816\n",
      "Epoch 2, change: 0.00010868\n",
      "Epoch 14, change: 0.00013164\n",
      "Epoch 3, change: 0.00010717\n",
      "Epoch 15, change: 0.00012740\n",
      "Epoch 4, change: 0.00010678\n",
      "Epoch 16, change: 0.00012384\n",
      "Epoch 5, change: 0.00010474\n",
      "Epoch 17, change: 0.00012180\n",
      "Epoch 6, change: 0.00010411\n",
      "Epoch 18, change: 0.00011808\n",
      "Epoch 7, change: 0.00010210\n",
      "Epoch 19, change: 0.00011772\n",
      "Epoch 8, change: 0.00010324\n",
      "Epoch 20, change: 0.00011650\n",
      "Epoch 9, change: 0.00010032\n",
      "Epoch 21, change: 0.00011359\n",
      "Epoch 22, change: 0.00011283\n",
      "Epoch 23, change: 0.00011091\n",
      "Epoch 24, change: 0.00010967\n",
      "Epoch 25, change: 0.00010865\n",
      "Epoch 26, change: 0.00010564\n",
      "Epoch 27, change: 0.00010439\n",
      "Epoch 28, change: 0.00010342\n",
      "Epoch 29, change: 0.00010068\n",
      "Epoch 1, change: 1.00000000\n",
      "Epoch 2, change: 0.00011836\n",
      "Epoch 3, change: 0.00011368\n",
      "Epoch 4, change: 0.00011071\n",
      "Epoch 5, change: 0.00010706\n",
      "Epoch 6, change: 0.00010492\n",
      "Epoch 7, change: 0.00010343\n",
      "Epoch 8, change: 0.00010082\n",
      "Learning rate set to 0.048056\n",
      "0:\tlearn: 0.4891242\ttest: 0.4709609\tbest: 0.4709609 (0)\ttotal: 35.5ms\tremaining: 35.5s\n",
      "100:\tlearn: 0.6755359\ttest: 0.6595331\tbest: 0.6595331 (100)\ttotal: 2.14s\tremaining: 19s\n",
      "200:\tlearn: 0.7090060\ttest: 0.6817539\tbest: 0.6825472 (198)\ttotal: 4.06s\tremaining: 16.1s\n",
      "300:\tlearn: 0.7289003\ttest: 0.6897682\tbest: 0.6903815 (279)\ttotal: 5.93s\tremaining: 13.8s\n",
      "400:\tlearn: 0.7446222\ttest: 0.6982358\tbest: 0.6986778 (399)\ttotal: 7.8s\tremaining: 11.6s\n",
      "500:\tlearn: 0.7577020\ttest: 0.7012746\tbest: 0.7012746 (500)\ttotal: 9.63s\tremaining: 9.59s\n",
      "600:\tlearn: 0.7685590\ttest: 0.7031647\tbest: 0.7037893 (594)\ttotal: 11.5s\tremaining: 7.61s\n",
      "700:\tlearn: 0.7773721\ttest: 0.7022161\tbest: 0.7046871 (644)\ttotal: 13.3s\tremaining: 5.68s\n",
      "800:\tlearn: 0.7892050\ttest: 0.7040441\tbest: 0.7046871 (644)\ttotal: 15.1s\tremaining: 3.76s\n",
      "900:\tlearn: 0.7986788\ttest: 0.7055313\tbest: 0.7065841 (886)\ttotal: 17s\tremaining: 1.87s\n",
      "999:\tlearn: 0.8068850\ttest: 0.7051811\tbest: 0.7071494 (936)\ttotal: 18.8s\tremaining: 0us\n",
      "bestTest = 0.7071494042\n",
      "bestIteration = 936\n",
      "Shrink model to first 937 iterations.\n",
      "New best score! Repeat: 1; mean_score: 0.7071494042163154...\n"
     ]
    },
    {
     "name": "stderr",
     "output_type": "stream",
     "text": [
      "Warning: less than 75% gpu memory available for training. Free: 2209.3125 Total: 4039.625\n"
     ]
    },
    {
     "name": "stdout",
     "output_type": "stream",
     "text": [
      "Learning rate set to 0.04766\n",
      "0:\tlearn: 0.6189961\ttest: 0.5599828\tbest: 0.5599828 (0)\ttotal: 29.8ms\tremaining: 29.8s\n",
      "100:\tlearn: 0.7579889\ttest: 0.6867622\tbest: 0.6907783 (93)\ttotal: 2.29s\tremaining: 20.4s\n",
      "200:\tlearn: 0.7862683\ttest: 0.7015964\tbest: 0.7019053 (197)\ttotal: 4.43s\tremaining: 17.6s\n",
      "300:\tlearn: 0.8021388\ttest: 0.7079501\tbest: 0.7087161 (290)\ttotal: 6.56s\tremaining: 15.2s\n",
      "400:\tlearn: 0.8139974\ttest: 0.7130008\tbest: 0.7140813 (395)\ttotal: 8.67s\tremaining: 12.9s\n",
      "500:\tlearn: 0.8242468\ttest: 0.7160090\tbest: 0.7160090 (473)\ttotal: 10.8s\tremaining: 10.7s\n",
      "600:\tlearn: 0.8337011\ttest: 0.7161913\tbest: 0.7187372 (562)\ttotal: 12.8s\tremaining: 8.53s\n",
      "700:\tlearn: 0.8431383\ttest: 0.7197701\tbest: 0.7200657 (698)\ttotal: 14.8s\tremaining: 6.31s\n",
      "800:\tlearn: 0.8519311\ttest: 0.7220736\tbest: 0.7224507 (788)\ttotal: 16.7s\tremaining: 4.16s\n",
      "900:\tlearn: 0.8606593\ttest: 0.7223253\tbest: 0.7228866 (873)\ttotal: 18.7s\tremaining: 2.05s\n",
      "999:\tlearn: 0.8696444\ttest: 0.7212709\tbest: 0.7240882 (925)\ttotal: 20.7s\tremaining: 0us\n",
      "bestTest = 0.7240881929\n",
      "bestIteration = 925\n",
      "Shrink model to first 926 iterations.\n",
      "New best score! Repeat: 2; mean_score: 0.7240881928703893...\n"
     ]
    },
    {
     "name": "stderr",
     "output_type": "stream",
     "text": [
      "Warning: less than 75% gpu memory available for training. Free: 2211.8125 Total: 4039.625\n"
     ]
    },
    {
     "name": "stdout",
     "output_type": "stream",
     "text": [
      "Learning rate set to 0.047303\n",
      "0:\tlearn: 0.6956643\ttest: 0.5746255\tbest: 0.5746255 (0)\ttotal: 25.7ms\tremaining: 25.7s\n",
      "100:\tlearn: 0.8001103\ttest: 0.6905624\tbest: 0.6909438 (99)\ttotal: 2.45s\tremaining: 21.8s\n",
      "200:\tlearn: 0.8208012\ttest: 0.7022356\tbest: 0.7030781 (198)\ttotal: 4.67s\tremaining: 18.6s\n",
      "300:\tlearn: 0.8349485\ttest: 0.7120813\tbest: 0.7123494 (279)\ttotal: 6.89s\tremaining: 16s\n",
      "400:\tlearn: 0.8460365\ttest: 0.7148534\tbest: 0.7148534 (400)\ttotal: 9.1s\tremaining: 13.6s\n",
      "500:\tlearn: 0.8568712\ttest: 0.7172178\tbest: 0.7182404 (457)\ttotal: 11.3s\tremaining: 11.3s\n",
      "600:\tlearn: 0.8664184\ttest: 0.7190712\tbest: 0.7217358 (571)\ttotal: 13.4s\tremaining: 8.91s\n",
      "700:\tlearn: 0.8747825\ttest: 0.7209480\tbest: 0.7223390 (696)\ttotal: 15.5s\tremaining: 6.59s\n",
      "800:\tlearn: 0.8834866\ttest: 0.7234696\tbest: 0.7236489 (784)\ttotal: 17.5s\tremaining: 4.36s\n",
      "900:\tlearn: 0.8932202\ttest: 0.7232813\tbest: 0.7240915 (843)\ttotal: 19.6s\tremaining: 2.15s\n",
      "999:\tlearn: 0.9006840\ttest: 0.7219644\tbest: 0.7243639 (938)\ttotal: 21.6s\tremaining: 0us\n",
      "bestTest = 0.7243639167\n",
      "bestIteration = 938\n",
      "Shrink model to first 939 iterations.\n",
      "New best score! Repeat: 3; mean_score: 0.7243639167309176...\n"
     ]
    },
    {
     "name": "stderr",
     "output_type": "stream",
     "text": [
      "Warning: less than 75% gpu memory available for training. Free: 2216.3125 Total: 4039.625\n"
     ]
    },
    {
     "name": "stdout",
     "output_type": "stream",
     "text": [
      "Learning rate set to 0.046976\n",
      "0:\tlearn: 0.7358715\ttest: 0.5386785\tbest: 0.5386785 (0)\ttotal: 24.1ms\tremaining: 24.1s\n",
      "100:\tlearn: 0.8258978\ttest: 0.6806693\tbest: 0.6824831 (89)\ttotal: 2.44s\tremaining: 21.7s\n",
      "200:\tlearn: 0.8459142\ttest: 0.6904720\tbest: 0.6920354 (186)\ttotal: 4.72s\tremaining: 18.8s\n",
      "300:\tlearn: 0.8574120\ttest: 0.6964856\tbest: 0.6976909 (294)\ttotal: 6.94s\tremaining: 16.1s\n",
      "400:\tlearn: 0.8685979\ttest: 0.7019797\tbest: 0.7021239 (393)\ttotal: 9.12s\tremaining: 13.6s\n",
      "500:\tlearn: 0.8786263\ttest: 0.7015274\tbest: 0.7032535 (411)\ttotal: 11.3s\tremaining: 11.3s\n",
      "600:\tlearn: 0.8884973\ttest: 0.7049002\tbest: 0.7057329 (579)\ttotal: 13.5s\tremaining: 8.95s\n",
      "700:\tlearn: 0.8968680\ttest: 0.7077484\tbest: 0.7086442 (685)\ttotal: 15.7s\tremaining: 6.69s\n",
      "800:\tlearn: 0.9048395\ttest: 0.7104489\tbest: 0.7109231 (799)\ttotal: 17.9s\tremaining: 4.44s\n",
      "900:\tlearn: 0.9130857\ttest: 0.7145236\tbest: 0.7156337 (899)\ttotal: 20s\tremaining: 2.2s\n",
      "999:\tlearn: 0.9207896\ttest: 0.7159620\tbest: 0.7162687 (908)\ttotal: 22.1s\tremaining: 0us\n",
      "bestTest = 0.7162687396\n",
      "bestIteration = 908\n",
      "Shrink model to first 909 iterations.\n"
     ]
    },
    {
     "name": "stderr",
     "output_type": "stream",
     "text": [
      "Warning: less than 75% gpu memory available for training. Free: 2211.0625 Total: 4039.625\n"
     ]
    },
    {
     "name": "stdout",
     "output_type": "stream",
     "text": [
      "Learning rate set to 0.046677\n",
      "0:\tlearn: 0.7599242\ttest: 0.5245808\tbest: 0.5245808 (0)\ttotal: 26.4ms\tremaining: 26.4s\n",
      "100:\tlearn: 0.8446622\ttest: 0.6693562\tbest: 0.6701465 (92)\ttotal: 2.55s\tremaining: 22.7s\n",
      "200:\tlearn: 0.8633001\ttest: 0.6789668\tbest: 0.6796312 (190)\ttotal: 4.89s\tremaining: 19.4s\n",
      "300:\tlearn: 0.8751799\ttest: 0.6859169\tbest: 0.6863805 (292)\ttotal: 7.27s\tremaining: 16.9s\n",
      "400:\tlearn: 0.8852734\ttest: 0.6877229\tbest: 0.6888474 (394)\ttotal: 9.58s\tremaining: 14.3s\n",
      "500:\tlearn: 0.8946156\ttest: 0.6935900\tbest: 0.6938144 (498)\ttotal: 11.9s\tremaining: 11.8s\n",
      "600:\tlearn: 0.9042229\ttest: 0.6987701\tbest: 0.6987701 (600)\ttotal: 14.1s\tremaining: 9.38s\n",
      "700:\tlearn: 0.9130728\ttest: 0.7030895\tbest: 0.7034002 (695)\ttotal: 16.4s\tremaining: 7s\n",
      "800:\tlearn: 0.9204896\ttest: 0.7073944\tbest: 0.7073944 (800)\ttotal: 18.7s\tremaining: 4.64s\n",
      "900:\tlearn: 0.9281750\ttest: 0.7116238\tbest: 0.7116238 (900)\ttotal: 20.9s\tremaining: 2.3s\n",
      "999:\tlearn: 0.9346697\ttest: 0.7119672\tbest: 0.7125045 (951)\ttotal: 23.2s\tremaining: 0us\n",
      "bestTest = 0.7125044532\n",
      "bestIteration = 951\n",
      "Shrink model to first 952 iterations.\n"
     ]
    },
    {
     "name": "stderr",
     "output_type": "stream",
     "text": [
      "Warning: less than 75% gpu memory available for training. Free: 2209.4375 Total: 4039.625\n"
     ]
    },
    {
     "name": "stdout",
     "output_type": "stream",
     "text": [
      "Learning rate set to 0.0464\n",
      "0:\tlearn: 0.7690260\ttest: 0.5257468\tbest: 0.5257468 (0)\ttotal: 28.2ms\tremaining: 28.2s\n",
      "100:\tlearn: 0.8596307\ttest: 0.6566544\tbest: 0.6566544 (100)\ttotal: 2.65s\tremaining: 23.6s\n",
      "200:\tlearn: 0.8771240\ttest: 0.6684817\tbest: 0.6684817 (200)\ttotal: 5.13s\tremaining: 20.4s\n",
      "300:\tlearn: 0.8888781\ttest: 0.6749677\tbest: 0.6758242 (298)\ttotal: 7.52s\tremaining: 17.5s\n",
      "400:\tlearn: 0.8991185\ttest: 0.6803010\tbest: 0.6804966 (392)\ttotal: 9.9s\tremaining: 14.8s\n",
      "500:\tlearn: 0.9078713\ttest: 0.6828543\tbest: 0.6833856 (482)\ttotal: 12.3s\tremaining: 12.3s\n",
      "600:\tlearn: 0.9167459\ttest: 0.6884263\tbest: 0.6890812 (593)\ttotal: 15s\tremaining: 9.96s\n",
      "700:\tlearn: 0.9241737\ttest: 0.6912086\tbest: 0.6919718 (676)\ttotal: 17.6s\tremaining: 7.49s\n",
      "800:\tlearn: 0.9320527\ttest: 0.6964195\tbest: 0.6964346 (799)\ttotal: 20s\tremaining: 4.97s\n",
      "900:\tlearn: 0.9396548\ttest: 0.7003090\tbest: 0.7006522 (899)\ttotal: 22.5s\tremaining: 2.47s\n",
      "999:\tlearn: 0.9462726\ttest: 0.7027494\tbest: 0.7029926 (993)\ttotal: 25s\tremaining: 0us\n",
      "bestTest = 0.7029925618\n",
      "bestIteration = 993\n",
      "Shrink model to first 994 iterations.\n"
     ]
    },
    {
     "name": "stderr",
     "output_type": "stream",
     "text": [
      "Warning: less than 75% gpu memory available for training. Free: 2201.5625 Total: 4039.625\n"
     ]
    },
    {
     "name": "stdout",
     "output_type": "stream",
     "text": [
      "Learning rate set to 0.046142\n",
      "0:\tlearn: 0.7879882\ttest: 0.5064309\tbest: 0.5064309 (0)\ttotal: 28.2ms\tremaining: 28.1s\n",
      "100:\tlearn: 0.8715729\ttest: 0.6431732\tbest: 0.6437834 (96)\ttotal: 2.73s\tremaining: 24.3s\n",
      "200:\tlearn: 0.8870761\ttest: 0.6587400\tbest: 0.6596697 (198)\ttotal: 5.3s\tremaining: 21.1s\n",
      "300:\tlearn: 0.8992338\ttest: 0.6609589\tbest: 0.6618951 (261)\ttotal: 7.81s\tremaining: 18.1s\n",
      "400:\tlearn: 0.9077957\ttest: 0.6698247\tbest: 0.6702464 (387)\ttotal: 10.4s\tremaining: 15.5s\n",
      "500:\tlearn: 0.9173497\ttest: 0.6749880\tbest: 0.6756238 (497)\ttotal: 12.8s\tremaining: 12.7s\n",
      "600:\tlearn: 0.9257137\ttest: 0.6811336\tbest: 0.6815534 (597)\ttotal: 15.2s\tremaining: 10.1s\n",
      "700:\tlearn: 0.9342337\ttest: 0.6889435\tbest: 0.6890564 (697)\ttotal: 18s\tremaining: 7.66s\n",
      "800:\tlearn: 0.9420554\ttest: 0.6907830\tbest: 0.6913295 (796)\ttotal: 20.6s\tremaining: 5.13s\n",
      "900:\tlearn: 0.9478940\ttest: 0.6955796\tbest: 0.6955796 (900)\ttotal: 23.2s\tremaining: 2.55s\n",
      "999:\tlearn: 0.9540756\ttest: 0.6993927\tbest: 0.6993927 (998)\ttotal: 25.9s\tremaining: 0us\n",
      "bestTest = 0.6993927126\n",
      "bestIteration = 998\n",
      "Shrink model to first 999 iterations.\n"
     ]
    },
    {
     "name": "stderr",
     "output_type": "stream",
     "text": [
      "Warning: less than 75% gpu memory available for training. Free: 2200.4375 Total: 4039.625\n"
     ]
    },
    {
     "name": "stdout",
     "output_type": "stream",
     "text": [
      "Learning rate set to 0.045902\n",
      "0:\tlearn: 0.7994925\ttest: 0.4914633\tbest: 0.4914633 (0)\ttotal: 39.9ms\tremaining: 39.8s\n",
      "100:\tlearn: 0.8809385\ttest: 0.6293583\tbest: 0.6298197 (98)\ttotal: 2.89s\tremaining: 25.7s\n",
      "200:\tlearn: 0.8961103\ttest: 0.6485757\tbest: 0.6485757 (200)\ttotal: 5.55s\tremaining: 22.1s\n",
      "300:\tlearn: 0.9061610\ttest: 0.6550046\tbest: 0.6560024 (297)\ttotal: 8.16s\tremaining: 19s\n",
      "400:\tlearn: 0.9169000\ttest: 0.6619349\tbest: 0.6620456 (393)\ttotal: 10.7s\tremaining: 16s\n",
      "500:\tlearn: 0.9261919\ttest: 0.6670831\tbest: 0.6681243 (483)\ttotal: 13.2s\tremaining: 13.1s\n",
      "600:\tlearn: 0.9351556\ttest: 0.6733112\tbest: 0.6736276 (598)\ttotal: 15.7s\tremaining: 10.5s\n",
      "700:\tlearn: 0.9425523\ttest: 0.6800959\tbest: 0.6805046 (687)\ttotal: 18.4s\tremaining: 7.86s\n",
      "800:\tlearn: 0.9482427\ttest: 0.6848426\tbest: 0.6848426 (800)\ttotal: 20.9s\tremaining: 5.2s\n",
      "900:\tlearn: 0.9538117\ttest: 0.6903670\tbest: 0.6903670 (900)\ttotal: 23.7s\tremaining: 2.6s\n",
      "999:\tlearn: 0.9592261\ttest: 0.6927651\tbest: 0.6927651 (999)\ttotal: 26.3s\tremaining: 0us\n",
      "bestTest = 0.692765114\n",
      "bestIteration = 999\n"
     ]
    },
    {
     "name": "stderr",
     "output_type": "stream",
     "text": [
      "Warning: less than 75% gpu memory available for training. Free: 2206.9375 Total: 4039.625\n"
     ]
    },
    {
     "name": "stdout",
     "output_type": "stream",
     "text": [
      "Learning rate set to 0.045677\n",
      "0:\tlearn: 0.8177202\ttest: 0.4546559\tbest: 0.4546559 (0)\ttotal: 30.3ms\tremaining: 30.2s\n",
      "100:\tlearn: 0.8895623\ttest: 0.6132208\tbest: 0.6132208 (100)\ttotal: 3.01s\tremaining: 26.8s\n",
      "200:\tlearn: 0.9040623\ttest: 0.6313051\tbest: 0.6315334 (189)\ttotal: 5.76s\tremaining: 22.9s\n",
      "300:\tlearn: 0.9135177\ttest: 0.6407282\tbest: 0.6411047 (294)\ttotal: 8.32s\tremaining: 19.3s\n",
      "400:\tlearn: 0.9231942\ttest: 0.6514337\tbest: 0.6515310 (399)\ttotal: 10.8s\tremaining: 16.2s\n",
      "500:\tlearn: 0.9327167\ttest: 0.6576672\tbest: 0.6576672 (500)\ttotal: 13.3s\tremaining: 13.3s\n",
      "600:\tlearn: 0.9402166\ttest: 0.6657425\tbest: 0.6657425 (600)\ttotal: 16s\tremaining: 10.6s\n",
      "700:\tlearn: 0.9479593\ttest: 0.6692692\tbest: 0.6704067 (692)\ttotal: 18.5s\tremaining: 7.91s\n",
      "800:\tlearn: 0.9534633\ttest: 0.6744701\tbest: 0.6757226 (793)\ttotal: 21.1s\tremaining: 5.24s\n",
      "900:\tlearn: 0.9591132\ttest: 0.6805511\tbest: 0.6809600 (893)\ttotal: 23.9s\tremaining: 2.63s\n",
      "999:\tlearn: 0.9634131\ttest: 0.6854460\tbest: 0.6857698 (998)\ttotal: 26.5s\tremaining: 0us\n",
      "bestTest = 0.6857697912\n",
      "bestIteration = 998\n",
      "Shrink model to first 999 iterations.\n",
      "Best mean score: 0.7243639167309176; best repeat: 3\n",
      "CPU times: user 6min 40s, sys: 1min 22s, total: 8min 2s\n",
      "Wall time: 3min 47s\n"
     ]
    }
   ],
   "source": [
    "%%time\n",
    "\n",
    "_, best_repeat = select_best_value(\n",
    "    CatBoostClassifier, features_train_cv, target_train_cv, upsample,\n",
    "    params=cat_params, eval_fit=True,\n",
    ")"
   ]
  },
  {
   "cell_type": "markdown",
   "metadata": {},
   "source": [
    "Теперь для `downsample`:"
   ]
  },
  {
   "cell_type": "code",
   "execution_count": 189,
   "metadata": {
    "scrolled": true
   },
   "outputs": [
    {
     "name": "stderr",
     "output_type": "stream",
     "text": [
      "Warning: less than 75% gpu memory available for training. Free: 2194.6875 Total: 4039.625\n"
     ]
    },
    {
     "name": "stdout",
     "output_type": "stream",
     "text": [
      "Learning rate set to 0.051323\n",
      "0:\tlearn: 0.6396200\ttest: 0.5497193\tbest: 0.5497193 (0)\ttotal: 128ms\tremaining: 2m 7s\n",
      "100:\tlearn: 0.7833219\ttest: 0.6896960\tbest: 0.6899563 (94)\ttotal: 13.1s\tremaining: 1m 56s\n",
      "200:\tlearn: 0.8067374\ttest: 0.7013087\tbest: 0.7021195 (194)\ttotal: 25.5s\tremaining: 1m 41s\n",
      "300:\tlearn: 0.8215216\ttest: 0.7072843\tbest: 0.7072843 (299)\ttotal: 37.1s\tremaining: 1m 26s\n",
      "400:\tlearn: 0.8339446\ttest: 0.7125024\tbest: 0.7131336 (389)\ttotal: 48.4s\tremaining: 1m 12s\n",
      "500:\tlearn: 0.8423723\ttest: 0.7118514\tbest: 0.7131336 (389)\ttotal: 59.7s\tremaining: 59.4s\n",
      "600:\tlearn: 0.8528638\ttest: 0.7116119\tbest: 0.7137944 (586)\ttotal: 1m 10s\tremaining: 47.1s\n",
      "700:\tlearn: 0.8608783\ttest: 0.7165264\tbest: 0.7183314 (682)\ttotal: 1m 22s\tremaining: 35.3s\n",
      "800:\tlearn: 0.8695565\ttest: 0.7175076\tbest: 0.7183314 (682)\ttotal: 1m 33s\tremaining: 23.3s\n",
      "900:\tlearn: 0.8762182\ttest: 0.7156244\tbest: 0.7183314 (682)\ttotal: 1m 44s\tremaining: 11.5s\n",
      "999:\tlearn: 0.8850586\ttest: 0.7179193\tbest: 0.7183314 (682)\ttotal: 1m 56s\tremaining: 0us\n",
      "bestTest = 0.7183314198\n",
      "bestIteration = 682\n",
      "Shrink model to first 683 iterations.\n",
      "New best score! Fraction: 0.4; mean_score: 0.7183314198239572...\n"
     ]
    },
    {
     "name": "stderr",
     "output_type": "stream",
     "text": [
      "Warning: less than 75% gpu memory available for training. Free: 2216.3125 Total: 4039.625\n"
     ]
    },
    {
     "name": "stdout",
     "output_type": "stream",
     "text": [
      "Learning rate set to 0.050553\n",
      "0:\tlearn: 0.6108213\ttest: 0.5521417\tbest: 0.5521417 (0)\ttotal: 15.2ms\tremaining: 15.2s\n",
      "100:\tlearn: 0.7579628\ttest: 0.6922271\tbest: 0.6932271 (98)\ttotal: 1.65s\tremaining: 14.7s\n",
      "200:\tlearn: 0.7880443\ttest: 0.7048242\tbest: 0.7058342 (198)\ttotal: 3.3s\tremaining: 13.1s\n",
      "300:\tlearn: 0.8046708\ttest: 0.7098214\tbest: 0.7098477 (272)\ttotal: 4.8s\tremaining: 11.2s\n",
      "400:\tlearn: 0.8187899\ttest: 0.7104839\tbest: 0.7120693 (385)\ttotal: 6.34s\tremaining: 9.48s\n",
      "500:\tlearn: 0.8290995\ttest: 0.7168517\tbest: 0.7181763 (497)\ttotal: 7.83s\tremaining: 7.79s\n",
      "600:\tlearn: 0.8393345\ttest: 0.7189385\tbest: 0.7203219 (593)\ttotal: 9.28s\tremaining: 6.16s\n",
      "700:\tlearn: 0.8510223\ttest: 0.7214961\tbest: 0.7223340 (680)\ttotal: 10.7s\tremaining: 4.58s\n",
      "800:\tlearn: 0.8605557\ttest: 0.7223114\tbest: 0.7232591 (788)\ttotal: 12.2s\tremaining: 3.02s\n",
      "900:\tlearn: 0.8681060\ttest: 0.7222669\tbest: 0.7232591 (788)\ttotal: 13.6s\tremaining: 1.5s\n",
      "999:\tlearn: 0.8766075\ttest: 0.7243178\tbest: 0.7255926 (979)\ttotal: 15.1s\tremaining: 0us\n",
      "bestTest = 0.7255926075\n",
      "bestIteration = 979\n",
      "Shrink model to first 980 iterations.\n",
      "New best score! Fraction: 0.5; mean_score: 0.7255926074728807...\n"
     ]
    },
    {
     "name": "stderr",
     "output_type": "stream",
     "text": [
      "Warning: less than 75% gpu memory available for training. Free: 2212.1875 Total: 4039.625\n"
     ]
    },
    {
     "name": "stdout",
     "output_type": "stream",
     "text": [
      "Learning rate set to 0.049908\n",
      "0:\tlearn: 0.5962541\ttest: 0.5477032\tbest: 0.5477032 (0)\ttotal: 16.6ms\tremaining: 16.5s\n",
      "100:\tlearn: 0.7399682\ttest: 0.6846728\tbest: 0.6846728 (100)\ttotal: 1.76s\tremaining: 15.6s\n",
      "200:\tlearn: 0.7678896\ttest: 0.7014037\tbest: 0.7023226 (195)\ttotal: 3.48s\tremaining: 13.9s\n",
      "300:\tlearn: 0.7865537\ttest: 0.7080431\tbest: 0.7091869 (291)\ttotal: 5.21s\tremaining: 12.1s\n",
      "400:\tlearn: 0.8019989\ttest: 0.7123345\tbest: 0.7136860 (366)\ttotal: 6.93s\tremaining: 10.4s\n",
      "500:\tlearn: 0.8141009\ttest: 0.7133305\tbest: 0.7140766 (482)\ttotal: 8.67s\tremaining: 8.64s\n",
      "600:\tlearn: 0.8248446\ttest: 0.7181837\tbest: 0.7194005 (595)\ttotal: 10.3s\tremaining: 6.85s\n",
      "700:\tlearn: 0.8353468\ttest: 0.7179167\tbest: 0.7194005 (595)\ttotal: 12s\tremaining: 5.1s\n",
      "800:\tlearn: 0.8442253\ttest: 0.7205668\tbest: 0.7209835 (775)\ttotal: 13.7s\tremaining: 3.4s\n",
      "900:\tlearn: 0.8510263\ttest: 0.7217011\tbest: 0.7229969 (874)\ttotal: 15.4s\tremaining: 1.69s\n",
      "999:\tlearn: 0.8599019\ttest: 0.7230769\tbest: 0.7237143 (940)\ttotal: 17.1s\tremaining: 0us\n",
      "bestTest = 0.7237143452\n",
      "bestIteration = 940\n",
      "Shrink model to first 941 iterations.\n"
     ]
    },
    {
     "name": "stderr",
     "output_type": "stream",
     "text": [
      "Warning: less than 75% gpu memory available for training. Free: 2194.9375 Total: 4039.625\n"
     ]
    },
    {
     "name": "stdout",
     "output_type": "stream",
     "text": [
      "Learning rate set to 0.049355\n",
      "0:\tlearn: 0.5712131\ttest: 0.5418878\tbest: 0.5418878 (0)\ttotal: 20.3ms\tremaining: 20.3s\n",
      "100:\tlearn: 0.7211340\ttest: 0.6820548\tbest: 0.6820548 (100)\ttotal: 1.96s\tremaining: 17.5s\n",
      "200:\tlearn: 0.7524182\ttest: 0.6930038\tbest: 0.6944753 (168)\ttotal: 3.65s\tremaining: 14.5s\n",
      "300:\tlearn: 0.7705041\ttest: 0.7026201\tbest: 0.7028559 (296)\ttotal: 5.41s\tremaining: 12.6s\n",
      "400:\tlearn: 0.7842341\ttest: 0.7101952\tbest: 0.7111882 (395)\ttotal: 7.08s\tremaining: 10.6s\n",
      "500:\tlearn: 0.7969381\ttest: 0.7122162\tbest: 0.7128283 (468)\ttotal: 8.7s\tremaining: 8.66s\n",
      "600:\tlearn: 0.8088757\ttest: 0.7154542\tbest: 0.7164051 (588)\ttotal: 10.2s\tremaining: 6.8s\n",
      "700:\tlearn: 0.8191995\ttest: 0.7179487\tbest: 0.7194492 (673)\ttotal: 11.8s\tremaining: 5.05s\n",
      "800:\tlearn: 0.8275063\ttest: 0.7187299\tbest: 0.7194677 (796)\ttotal: 13.4s\tremaining: 3.33s\n",
      "900:\tlearn: 0.8367797\ttest: 0.7199829\tbest: 0.7204095 (897)\ttotal: 15s\tremaining: 1.65s\n",
      "999:\tlearn: 0.8441327\ttest: 0.7193845\tbest: 0.7204095 (897)\ttotal: 16.6s\tremaining: 0us\n",
      "bestTest = 0.720409469\n",
      "bestIteration = 897\n",
      "Shrink model to first 898 iterations.\n"
     ]
    },
    {
     "name": "stderr",
     "output_type": "stream",
     "text": [
      "Warning: less than 75% gpu memory available for training. Free: 2196.8125 Total: 4039.625\n"
     ]
    },
    {
     "name": "stdout",
     "output_type": "stream",
     "text": [
      "Learning rate set to 0.048871\n",
      "0:\tlearn: 0.5560793\ttest: 0.5347171\tbest: 0.5347171 (0)\ttotal: 17.2ms\tremaining: 17.2s\n",
      "100:\tlearn: 0.7029360\ttest: 0.6725871\tbest: 0.6725871 (100)\ttotal: 1.9s\tremaining: 16.9s\n",
      "200:\tlearn: 0.7372765\ttest: 0.6880109\tbest: 0.6886214 (199)\ttotal: 3.65s\tremaining: 14.5s\n",
      "300:\tlearn: 0.7552775\ttest: 0.7010309\tbest: 0.7019987 (283)\ttotal: 5.48s\tremaining: 12.7s\n",
      "400:\tlearn: 0.7698876\ttest: 0.7088438\tbest: 0.7088438 (400)\ttotal: 7.11s\tremaining: 10.6s\n",
      "500:\tlearn: 0.7816773\ttest: 0.7101514\tbest: 0.7108836 (483)\ttotal: 8.73s\tremaining: 8.7s\n",
      "600:\tlearn: 0.7933734\ttest: 0.7112878\tbest: 0.7122924 (560)\ttotal: 10.4s\tremaining: 6.93s\n",
      "700:\tlearn: 0.8040786\ttest: 0.7119841\tbest: 0.7132743 (640)\ttotal: 12.1s\tremaining: 5.14s\n",
      "800:\tlearn: 0.8133411\ttest: 0.7143488\tbest: 0.7147584 (756)\ttotal: 13.7s\tremaining: 3.41s\n",
      "900:\tlearn: 0.8213396\ttest: 0.7164574\tbest: 0.7168064 (870)\ttotal: 15.5s\tremaining: 1.7s\n",
      "999:\tlearn: 0.8300190\ttest: 0.7166740\tbest: 0.7169894 (987)\ttotal: 17.2s\tremaining: 0us\n",
      "bestTest = 0.7169894366\n",
      "bestIteration = 987\n",
      "Shrink model to first 988 iterations.\n"
     ]
    },
    {
     "name": "stderr",
     "output_type": "stream",
     "text": [
      "Warning: less than 75% gpu memory available for training. Free: 2201.5625 Total: 4039.625\n"
     ]
    },
    {
     "name": "stdout",
     "output_type": "stream",
     "text": [
      "Learning rate set to 0.048442\n",
      "0:\tlearn: 0.5097577\ttest: 0.4898512\tbest: 0.4898512 (0)\ttotal: 17.4ms\tremaining: 17.4s\n",
      "100:\tlearn: 0.6874569\ttest: 0.6663475\tbest: 0.6663475 (100)\ttotal: 1.91s\tremaining: 17s\n",
      "200:\tlearn: 0.7202318\ttest: 0.6872247\tbest: 0.6880372 (195)\ttotal: 3.73s\tremaining: 14.8s\n",
      "300:\tlearn: 0.7406959\ttest: 0.6938681\tbest: 0.6946301 (290)\ttotal: 5.45s\tremaining: 12.7s\n",
      "400:\tlearn: 0.7574617\ttest: 0.6967476\tbest: 0.6981219 (380)\ttotal: 7.21s\tremaining: 10.8s\n",
      "500:\tlearn: 0.7696318\ttest: 0.7017065\tbest: 0.7026904 (476)\ttotal: 8.93s\tremaining: 8.89s\n",
      "600:\tlearn: 0.7793402\ttest: 0.7047360\tbest: 0.7050817 (597)\ttotal: 10.6s\tremaining: 7.04s\n",
      "700:\tlearn: 0.7899876\ttest: 0.7064407\tbest: 0.7073171 (697)\ttotal: 12.3s\tremaining: 5.26s\n",
      "800:\tlearn: 0.7995912\ttest: 0.7102298\tbest: 0.7103899 (790)\ttotal: 14.1s\tremaining: 3.5s\n",
      "900:\tlearn: 0.8084353\ttest: 0.7120701\tbest: 0.7126799 (855)\ttotal: 15.9s\tremaining: 1.75s\n",
      "999:\tlearn: 0.8160103\ttest: 0.7131644\tbest: 0.7131644 (984)\ttotal: 17.6s\tremaining: 0us\n",
      "bestTest = 0.7131643866\n",
      "bestIteration = 984\n",
      "Shrink model to first 985 iterations.\n"
     ]
    },
    {
     "name": "stderr",
     "output_type": "stream",
     "text": [
      "Warning: less than 75% gpu memory available for training. Free: 2203.1875 Total: 4039.625\n"
     ]
    },
    {
     "name": "stdout",
     "output_type": "stream",
     "text": [
      "Learning rate set to 0.048056\n",
      "0:\tlearn: 0.5292443\ttest: 0.5212032\tbest: 0.5212032 (0)\ttotal: 22.7ms\tremaining: 22.7s\n",
      "100:\tlearn: 0.6741966\ttest: 0.6608358\tbest: 0.6608358 (100)\ttotal: 2.25s\tremaining: 20s\n",
      "200:\tlearn: 0.7072102\ttest: 0.6809614\tbest: 0.6823862 (193)\ttotal: 4.14s\tremaining: 16.5s\n",
      "300:\tlearn: 0.7283944\ttest: 0.6907481\tbest: 0.6913753 (296)\ttotal: 5.95s\tremaining: 13.8s\n",
      "400:\tlearn: 0.7440115\ttest: 0.6944831\tbest: 0.6953903 (383)\ttotal: 7.89s\tremaining: 11.8s\n",
      "500:\tlearn: 0.7575058\ttest: 0.6952293\tbest: 0.6964575 (414)\ttotal: 9.89s\tremaining: 9.85s\n",
      "600:\tlearn: 0.7691213\ttest: 0.7007602\tbest: 0.7019807 (597)\ttotal: 11.7s\tremaining: 7.76s\n",
      "700:\tlearn: 0.7807137\ttest: 0.7008469\tbest: 0.7025535 (616)\ttotal: 13.6s\tremaining: 5.78s\n",
      "800:\tlearn: 0.7917819\ttest: 0.7041610\tbest: 0.7050491 (797)\ttotal: 15.5s\tremaining: 3.85s\n",
      "900:\tlearn: 0.8007131\ttest: 0.7045922\tbest: 0.7064199 (869)\ttotal: 17.2s\tremaining: 1.89s\n",
      "999:\tlearn: 0.8083706\ttest: 0.7049704\tbest: 0.7066332 (973)\ttotal: 19.1s\tremaining: 0us\n",
      "bestTest = 0.7066332346\n",
      "bestIteration = 973\n",
      "Shrink model to first 974 iterations.\n",
      "Best mean score: 0.7255926074728807; best fraction: 0.5\n",
      "CPU times: user 5min 15s, sys: 47 s, total: 6min 2s\n",
      "Wall time: 3min 46s\n"
     ]
    }
   ],
   "source": [
    "%%time\n",
    "\n",
    "_, best_fraction = select_best_value(\n",
    "    CatBoostClassifier, features_train_cv, target_train_cv, downsample,\n",
    "    select_param='fraction', values=np.arange(0.4, 1.1, 0.1), params=cat_params,\n",
    "    eval_fit=True,\n",
    ")"
   ]
  },
  {
   "cell_type": "markdown",
   "metadata": {},
   "source": [
    "Хорошо, будем использовать `upsample`, она показала себя лучше всего:"
   ]
  },
  {
   "cell_type": "code",
   "execution_count": 190,
   "metadata": {},
   "outputs": [],
   "source": [
    "features_train_up, target_train_up = upsample(features_train, target_train, repeat=best_repeat)"
   ]
  },
  {
   "cell_type": "markdown",
   "metadata": {},
   "source": [
    "#### Обучение и тестирование модели"
   ]
  },
  {
   "cell_type": "markdown",
   "metadata": {},
   "source": [
    "Увеличим количество итераций:"
   ]
  },
  {
   "cell_type": "code",
   "execution_count": 197,
   "metadata": {},
   "outputs": [],
   "source": [
    "cat_params['iterations'] = 3000"
   ]
  },
  {
   "cell_type": "markdown",
   "metadata": {},
   "source": [
    "Создадим модель:"
   ]
  },
  {
   "cell_type": "code",
   "execution_count": 198,
   "metadata": {},
   "outputs": [],
   "source": [
    "model = CatBoostClassifier(**cat_params)"
   ]
  },
  {
   "cell_type": "markdown",
   "metadata": {},
   "source": [
    "Обучим её:"
   ]
  },
  {
   "cell_type": "code",
   "execution_count": 199,
   "metadata": {
    "scrolled": true
   },
   "outputs": [
    {
     "name": "stderr",
     "output_type": "stream",
     "text": [
      "Warning: less than 75% gpu memory available for training. Free: 2253.1875 Total: 4039.625\n"
     ]
    },
    {
     "name": "stdout",
     "output_type": "stream",
     "text": [
      "Learning rate set to 0.030016\n",
      "0:\tlearn: 0.6956643\ttest: 0.5746255\tbest: 0.5746255 (0)\ttotal: 28.7ms\tremaining: 1m 26s\n",
      "100:\tlearn: 0.7844102\ttest: 0.6785435\tbest: 0.6785784 (94)\ttotal: 2.38s\tremaining: 1m 8s\n",
      "200:\tlearn: 0.8079413\ttest: 0.6986353\tbest: 0.6990328 (199)\ttotal: 4.61s\tremaining: 1m 4s\n",
      "300:\tlearn: 0.8195236\ttest: 0.7036898\tbest: 0.7052612 (268)\ttotal: 6.86s\tremaining: 1m 1s\n",
      "400:\tlearn: 0.8291465\ttest: 0.7099079\tbest: 0.7104175 (398)\ttotal: 8.99s\tremaining: 58.3s\n",
      "500:\tlearn: 0.8366811\ttest: 0.7140975\tbest: 0.7148776 (493)\ttotal: 11.1s\tremaining: 55.2s\n",
      "600:\tlearn: 0.8436635\ttest: 0.7156344\tbest: 0.7157418 (570)\ttotal: 13.2s\tremaining: 52.6s\n",
      "700:\tlearn: 0.8510781\ttest: 0.7157216\tbest: 0.7168024 (675)\ttotal: 15.3s\tremaining: 50s\n",
      "800:\tlearn: 0.8579147\ttest: 0.7169237\tbest: 0.7179292 (771)\ttotal: 17.2s\tremaining: 47.3s\n",
      "900:\tlearn: 0.8632224\ttest: 0.7176942\tbest: 0.7185538 (815)\ttotal: 19.2s\tremaining: 44.7s\n",
      "1000:\tlearn: 0.8692213\ttest: 0.7194795\tbest: 0.7202142 (977)\ttotal: 21.1s\tremaining: 42.2s\n",
      "1100:\tlearn: 0.8754993\ttest: 0.7224568\tbest: 0.7224568 (1100)\ttotal: 23.1s\tremaining: 39.9s\n",
      "1200:\tlearn: 0.8816148\ttest: 0.7224145\tbest: 0.7233308 (1165)\ttotal: 25.1s\tremaining: 37.5s\n",
      "1300:\tlearn: 0.8876723\ttest: 0.7233796\tbest: 0.7242576 (1268)\ttotal: 27.1s\tremaining: 35.4s\n",
      "1400:\tlearn: 0.8931550\ttest: 0.7237505\tbest: 0.7242846 (1340)\ttotal: 29.2s\tremaining: 33.4s\n",
      "1500:\tlearn: 0.8984584\ttest: 0.7253302\tbest: 0.7253644 (1497)\ttotal: 31.3s\tremaining: 31.3s\n",
      "1600:\tlearn: 0.9033326\ttest: 0.7275560\tbest: 0.7276621 (1594)\ttotal: 33.4s\tremaining: 29.1s\n",
      "1700:\tlearn: 0.9074310\ttest: 0.7275923\tbest: 0.7280890 (1689)\ttotal: 35.3s\tremaining: 27s\n",
      "1800:\tlearn: 0.9113093\ttest: 0.7284095\tbest: 0.7291179 (1749)\ttotal: 37.3s\tremaining: 24.8s\n",
      "1900:\tlearn: 0.9152940\ttest: 0.7290891\tbest: 0.7301587 (1888)\ttotal: 39.4s\tremaining: 22.7s\n",
      "2000:\tlearn: 0.9202376\ttest: 0.7294487\tbest: 0.7301587 (1888)\ttotal: 41.4s\tremaining: 20.7s\n",
      "2100:\tlearn: 0.9243225\ttest: 0.7306331\tbest: 0.7308146 (2094)\ttotal: 43.3s\tremaining: 18.5s\n",
      "2200:\tlearn: 0.9282526\ttest: 0.7315344\tbest: 0.7316785 (2183)\ttotal: 45.3s\tremaining: 16.5s\n",
      "2300:\tlearn: 0.9321691\ttest: 0.7327671\tbest: 0.7330567 (2295)\ttotal: 47.4s\tremaining: 14.4s\n",
      "2400:\tlearn: 0.9364605\ttest: 0.7319486\tbest: 0.7333861 (2382)\ttotal: 49.5s\tremaining: 12.4s\n",
      "2500:\tlearn: 0.9398874\ttest: 0.7338358\tbest: 0.7346291 (2492)\ttotal: 51.5s\tremaining: 10.3s\n",
      "2600:\tlearn: 0.9436182\ttest: 0.7325789\tbest: 0.7346291 (2492)\ttotal: 53.5s\tremaining: 8.21s\n",
      "2700:\tlearn: 0.9468703\ttest: 0.7329217\tbest: 0.7346291 (2492)\ttotal: 55.5s\tremaining: 6.14s\n",
      "2800:\tlearn: 0.9498907\ttest: 0.7327879\tbest: 0.7346291 (2492)\ttotal: 57.4s\tremaining: 4.08s\n",
      "2900:\tlearn: 0.9528199\ttest: 0.7338532\tbest: 0.7346291 (2492)\ttotal: 59.4s\tremaining: 2.03s\n",
      "2999:\tlearn: 0.9550903\ttest: 0.7346939\tbest: 0.7350530 (2907)\ttotal: 1m 1s\tremaining: 0us\n",
      "bestTest = 0.7350529894\n",
      "bestIteration = 2907\n",
      "Shrink model to first 2908 iterations.\n",
      "CPU times: user 1min 26s, sys: 22.7 s, total: 1min 49s\n",
      "Wall time: 1min 2s\n"
     ]
    },
    {
     "data": {
      "text/plain": [
       "<catboost.core.CatBoostClassifier at 0x7f3aef467910>"
      ]
     },
     "execution_count": 199,
     "metadata": {},
     "output_type": "execute_result"
    }
   ],
   "source": [
    "%%time\n",
    "\n",
    "model.fit(features_train_up, target_train_up, eval_set=(features_valid, target_valid))"
   ]
  },
  {
   "cell_type": "markdown",
   "metadata": {},
   "source": [
    "Выполним предсказание на валидационной выборке:"
   ]
  },
  {
   "cell_type": "code",
   "execution_count": 200,
   "metadata": {},
   "outputs": [
    {
     "name": "stdout",
     "output_type": "stream",
     "text": [
      "CPU times: user 508 ms, sys: 31.6 ms, total: 540 ms\n",
      "Wall time: 101 ms\n"
     ]
    }
   ],
   "source": [
    "%%time\n",
    "\n",
    "predicted_valid = model.predict(features_valid)"
   ]
  },
  {
   "cell_type": "markdown",
   "metadata": {},
   "source": [
    "Выполним предсказание на тестовой выборке:"
   ]
  },
  {
   "cell_type": "code",
   "execution_count": 201,
   "metadata": {},
   "outputs": [
    {
     "name": "stdout",
     "output_type": "stream",
     "text": [
      "CPU times: user 682 ms, sys: 21.9 ms, total: 704 ms\n",
      "Wall time: 118 ms\n"
     ]
    }
   ],
   "source": [
    "%%time\n",
    "\n",
    "predicted_test = model.predict(features_test)"
   ]
  },
  {
   "cell_type": "markdown",
   "metadata": {},
   "source": [
    "Посчитаем F1-меру на валидационной:"
   ]
  },
  {
   "cell_type": "code",
   "execution_count": 202,
   "metadata": {},
   "outputs": [
    {
     "data": {
      "text/plain": [
       "0.7350529894021196"
      ]
     },
     "execution_count": 202,
     "metadata": {},
     "output_type": "execute_result"
    }
   ],
   "source": [
    "f1_score(target_valid, predicted_valid)"
   ]
  },
  {
   "cell_type": "markdown",
   "metadata": {},
   "source": [
    "Посчитаем F1-меру на тестовой выборке:"
   ]
  },
  {
   "cell_type": "code",
   "execution_count": 203,
   "metadata": {
    "scrolled": false
   },
   "outputs": [
    {
     "data": {
      "text/plain": [
       "0.7348262548262549"
      ]
     },
     "execution_count": 203,
     "metadata": {},
     "output_type": "execute_result"
    }
   ],
   "source": [
    "f1_score(target_test, predicted_test)"
   ]
  },
  {
   "cell_type": "markdown",
   "metadata": {},
   "source": [
    "#### Подбор оптимального порога"
   ]
  },
  {
   "cell_type": "markdown",
   "metadata": {},
   "source": [
    "Давайте попробуем найти оптимальный порог, для этого воспользуемся нашей функцией:"
   ]
  },
  {
   "cell_type": "code",
   "execution_count": 204,
   "metadata": {},
   "outputs": [
    {
     "data": {
      "application/vnd.jupyter.widget-view+json": {
       "model_id": "2df538198f2944148382b436ce6e784e",
       "version_major": 2,
       "version_minor": 0
      },
      "text/plain": [
       "  0%|          | 0/25461 [00:00<?, ?it/s]"
      ]
     },
     "metadata": {},
     "output_type": "display_data"
    },
    {
     "data": {
      "text/html": [
       "<div>\n",
       "<style scoped>\n",
       "    .dataframe tbody tr th:only-of-type {\n",
       "        vertical-align: middle;\n",
       "    }\n",
       "\n",
       "    .dataframe tbody tr th {\n",
       "        vertical-align: top;\n",
       "    }\n",
       "\n",
       "    .dataframe thead th {\n",
       "        text-align: right;\n",
       "    }\n",
       "</style>\n",
       "<table border=\"1\" class=\"dataframe\">\n",
       "  <thead>\n",
       "    <tr style=\"text-align: right;\">\n",
       "      <th></th>\n",
       "      <th>threshold</th>\n",
       "      <th>f1</th>\n",
       "      <th>f1_test</th>\n",
       "    </tr>\n",
       "  </thead>\n",
       "  <tbody>\n",
       "    <tr>\n",
       "      <th>22974</th>\n",
       "      <td>0.499205</td>\n",
       "      <td>0.735412</td>\n",
       "      <td>0.734373</td>\n",
       "    </tr>\n",
       "  </tbody>\n",
       "</table>\n",
       "</div>"
      ],
      "text/plain": [
       "       threshold        f1   f1_test\n",
       "22974   0.499205  0.735412  0.734373"
      ]
     },
     "execution_count": 204,
     "metadata": {},
     "output_type": "execute_result"
    }
   ],
   "source": [
    "find_proba(\n",
    "    model, features_valid, target_valid, features_test, target_test,\n",
    ")"
   ]
  },
  {
   "cell_type": "markdown",
   "metadata": {},
   "source": [
    "**Вывод**\n",
    "\n",
    "Не удалось побить рекорд логистической регресси, попробуем воспользоваться CatBoost без BERT."
   ]
  },
  {
   "cell_type": "markdown",
   "metadata": {},
   "source": [
    "### CatBoost"
   ]
  },
  {
   "cell_type": "markdown",
   "metadata": {},
   "source": [
    "#### Создание признаков"
   ]
  },
  {
   "cell_type": "markdown",
   "metadata": {},
   "source": [
    "Попробуем обучить CatBoost без Bert, для этого создадим признаки и целевой признак ещё раз:"
   ]
  },
  {
   "cell_type": "code",
   "execution_count": 57,
   "metadata": {},
   "outputs": [],
   "source": [
    "features_cat = pd.DataFrame(df['text'].apply(clean), columns=('text',))\n",
    "target_cat = df['toxic']"
   ]
  },
  {
   "cell_type": "markdown",
   "metadata": {},
   "source": [
    "Разделим выборки на три части:"
   ]
  },
  {
   "cell_type": "code",
   "execution_count": 58,
   "metadata": {},
   "outputs": [],
   "source": [
    "features_train_cat, features_valid_cat, target_train_cat, target_valid_cat = train_test_split(\n",
    "    features_cat, target_cat, test_size=0.4, random_state=1,\n",
    ")\n",
    "features_valid_cat, features_test_cat, target_valid_cat, target_test_cat = train_test_split(\n",
    "    features_valid_cat, target_valid_cat, test_size=0.5, random_state=1,\n",
    ")"
   ]
  },
  {
   "cell_type": "markdown",
   "metadata": {},
   "source": [
    "#### Подбор параметров ресемплирования"
   ]
  },
  {
   "cell_type": "markdown",
   "metadata": {},
   "source": [
    "Уменьшим количество итераций для ускорения обучения:"
   ]
  },
  {
   "cell_type": "code",
   "execution_count": 81,
   "metadata": {},
   "outputs": [],
   "source": [
    "cat_params['iterations'] = 1000"
   ]
  },
  {
   "cell_type": "markdown",
   "metadata": {},
   "source": [
    "Добавим параметр для того, чтобы CatBoost распознал наш текст:"
   ]
  },
  {
   "cell_type": "code",
   "execution_count": 83,
   "metadata": {},
   "outputs": [],
   "source": [
    "cat_params['text_features'] = ['text']"
   ]
  },
  {
   "cell_type": "markdown",
   "metadata": {},
   "source": [
    "Подберём `repeat` для `upsample`:"
   ]
  },
  {
   "cell_type": "code",
   "execution_count": 84,
   "metadata": {},
   "outputs": [
    {
     "name": "stderr",
     "output_type": "stream",
     "text": [
      "Warning: less than 75% gpu memory available for training. Free: 2445.1875 Total: 4039.625\n"
     ]
    },
    {
     "name": "stdout",
     "output_type": "stream",
     "text": [
      "Learning rate set to 0.049246\n",
      "0:\tlearn: 0.6816216\ttest: 0.7276862\tbest: 0.7276862 (0)\ttotal: 9.74ms\tremaining: 9.73s\n",
      "100:\tlearn: 0.7202695\ttest: 0.7502851\tbest: 0.7502851 (100)\ttotal: 931ms\tremaining: 8.28s\n",
      "200:\tlearn: 0.7429572\ttest: 0.7587983\tbest: 0.7587983 (196)\ttotal: 1.81s\tremaining: 7.21s\n",
      "300:\tlearn: 0.7528639\ttest: 0.7594864\tbest: 0.7609812 (257)\ttotal: 2.69s\tremaining: 6.24s\n",
      "400:\tlearn: 0.7582938\ttest: 0.7654956\tbest: 0.7657143 (392)\ttotal: 3.57s\tremaining: 5.34s\n",
      "500:\tlearn: 0.7625774\ttest: 0.7670374\tbest: 0.7681779 (469)\ttotal: 4.43s\tremaining: 4.41s\n",
      "600:\tlearn: 0.7674707\ttest: 0.7694064\tbest: 0.7708096 (567)\ttotal: 5.29s\tremaining: 3.51s\n",
      "700:\tlearn: 0.7724499\ttest: 0.7724295\tbest: 0.7729084 (694)\ttotal: 6.17s\tremaining: 2.63s\n",
      "800:\tlearn: 0.7786071\ttest: 0.7725591\tbest: 0.7736977 (729)\ttotal: 7.04s\tremaining: 1.75s\n",
      "900:\tlearn: 0.7827157\ttest: 0.7721591\tbest: 0.7736977 (729)\ttotal: 7.92s\tremaining: 870ms\n",
      "999:\tlearn: 0.7857762\ttest: 0.7734619\tbest: 0.7736977 (729)\ttotal: 8.79s\tremaining: 0us\n",
      "bestTest = 0.7736976943\n",
      "bestIteration = 729\n",
      "Shrink model to first 730 iterations.\n",
      "New best score! Repeat: 1; mean_score: 0.7736976942783945...\n"
     ]
    },
    {
     "name": "stderr",
     "output_type": "stream",
     "text": [
      "Warning: less than 75% gpu memory available for training. Free: 2447.1875 Total: 4039.625\n"
     ]
    },
    {
     "name": "stdout",
     "output_type": "stream",
     "text": [
      "Learning rate set to 0.048845\n",
      "0:\tlearn: 0.7956652\ttest: 0.7285068\tbest: 0.7285068 (0)\ttotal: 9.12ms\tremaining: 9.11s\n",
      "100:\tlearn: 0.8150612\ttest: 0.7547170\tbest: 0.7549176 (99)\ttotal: 948ms\tremaining: 8.44s\n",
      "200:\tlearn: 0.8249301\ttest: 0.7642233\tbest: 0.7642233 (200)\ttotal: 1.87s\tremaining: 7.43s\n",
      "300:\tlearn: 0.8300794\ttest: 0.7724393\tbest: 0.7726433 (285)\ttotal: 2.77s\tremaining: 6.44s\n",
      "400:\tlearn: 0.8349376\ttest: 0.7759620\tbest: 0.7767503 (347)\ttotal: 3.67s\tremaining: 5.47s\n",
      "500:\tlearn: 0.8401671\ttest: 0.7771338\tbest: 0.7772512 (483)\ttotal: 4.55s\tremaining: 4.53s\n",
      "600:\tlearn: 0.8429589\ttest: 0.7761352\tbest: 0.7772512 (483)\ttotal: 5.44s\tremaining: 3.61s\n",
      "700:\tlearn: 0.8462504\ttest: 0.7771911\tbest: 0.7781588 (660)\ttotal: 6.32s\tremaining: 2.7s\n",
      "800:\tlearn: 0.8499390\ttest: 0.7792757\tbest: 0.7794818 (799)\ttotal: 7.21s\tremaining: 1.79s\n",
      "900:\tlearn: 0.8525867\ttest: 0.7786864\tbest: 0.7800370 (870)\ttotal: 8.09s\tremaining: 889ms\n",
      "999:\tlearn: 0.8551029\ttest: 0.7785978\tbest: 0.7800370 (870)\ttotal: 8.96s\tremaining: 0us\n",
      "bestTest = 0.7800369686\n",
      "bestIteration = 870\n",
      "Shrink model to first 871 iterations.\n",
      "New best score! Repeat: 2; mean_score: 0.7800369685767099...\n"
     ]
    },
    {
     "name": "stderr",
     "output_type": "stream",
     "text": [
      "Warning: less than 75% gpu memory available for training. Free: 2448.8125 Total: 4039.625\n"
     ]
    },
    {
     "name": "stdout",
     "output_type": "stream",
     "text": [
      "Learning rate set to 0.048482\n",
      "0:\tlearn: 0.8534566\ttest: 0.7289815\tbest: 0.7289815 (0)\ttotal: 9.38ms\tremaining: 9.37s\n",
      "100:\tlearn: 0.8666815\ttest: 0.7530198\tbest: 0.7534740 (87)\ttotal: 957ms\tremaining: 8.52s\n",
      "200:\tlearn: 0.8733013\ttest: 0.7601326\tbest: 0.7610303 (195)\ttotal: 1.9s\tremaining: 7.54s\n",
      "300:\tlearn: 0.8784406\ttest: 0.7625350\tbest: 0.7627291 (299)\ttotal: 2.81s\tremaining: 6.53s\n",
      "400:\tlearn: 0.8819294\ttest: 0.7648106\tbest: 0.7648106 (398)\ttotal: 3.71s\tremaining: 5.54s\n",
      "500:\tlearn: 0.8854571\ttest: 0.7659791\tbest: 0.7660982 (446)\ttotal: 4.61s\tremaining: 4.59s\n",
      "600:\tlearn: 0.8882523\ttest: 0.7686815\tbest: 0.7691131 (574)\ttotal: 5.51s\tremaining: 3.65s\n",
      "700:\tlearn: 0.8908707\ttest: 0.7701736\tbest: 0.7715088 (684)\ttotal: 6.4s\tremaining: 2.73s\n",
      "800:\tlearn: 0.8932829\ttest: 0.7706469\tbest: 0.7715088 (684)\ttotal: 7.3s\tremaining: 1.81s\n",
      "900:\tlearn: 0.8962306\ttest: 0.7714724\tbest: 0.7721810 (824)\ttotal: 8.2s\tremaining: 901ms\n",
      "999:\tlearn: 0.8984858\ttest: 0.7717503\tbest: 0.7721810 (824)\ttotal: 9.12s\tremaining: 0us\n",
      "bestTest = 0.7721810279\n",
      "bestIteration = 824\n",
      "Shrink model to first 825 iterations.\n"
     ]
    },
    {
     "name": "stderr",
     "output_type": "stream",
     "text": [
      "Warning: less than 75% gpu memory available for training. Free: 2439.4375 Total: 4039.625\n"
     ]
    },
    {
     "name": "stdout",
     "output_type": "stream",
     "text": [
      "Learning rate set to 0.048151\n",
      "0:\tlearn: 0.8767531\ttest: 0.7183950\tbest: 0.7183950 (0)\ttotal: 11.5ms\tremaining: 11.5s\n",
      "100:\tlearn: 0.8884454\ttest: 0.7474496\tbest: 0.7475704 (97)\ttotal: 1.13s\tremaining: 10s\n",
      "200:\tlearn: 0.8956069\ttest: 0.7550919\tbest: 0.7552900 (188)\ttotal: 2.21s\tremaining: 8.79s\n",
      "300:\tlearn: 0.9002576\ttest: 0.7583976\tbest: 0.7591350 (291)\ttotal: 3.26s\tremaining: 7.57s\n",
      "400:\tlearn: 0.9039019\ttest: 0.7607667\tbest: 0.7618100 (375)\ttotal: 4.25s\tremaining: 6.35s\n",
      "500:\tlearn: 0.9069469\ttest: 0.7614770\tbest: 0.7619760 (496)\ttotal: 5.24s\tremaining: 5.22s\n",
      "600:\tlearn: 0.9097629\ttest: 0.7630723\tbest: 0.7633817 (591)\ttotal: 6.23s\tremaining: 4.14s\n",
      "700:\tlearn: 0.9125564\ttest: 0.7655742\tbest: 0.7659574 (649)\ttotal: 7.23s\tremaining: 3.08s\n",
      "800:\tlearn: 0.9153137\ttest: 0.7676109\tbest: 0.7678034 (797)\ttotal: 8.3s\tremaining: 2.06s\n",
      "900:\tlearn: 0.9168127\ttest: 0.7696559\tbest: 0.7699648 (888)\ttotal: 9.36s\tremaining: 1.03s\n",
      "999:\tlearn: 0.9187597\ttest: 0.7713208\tbest: 0.7715506 (940)\ttotal: 10.4s\tremaining: 0us\n",
      "bestTest = 0.7715506409\n",
      "bestIteration = 940\n",
      "Shrink model to first 941 iterations.\n"
     ]
    },
    {
     "name": "stderr",
     "output_type": "stream",
     "text": [
      "Warning: less than 75% gpu memory available for training. Free: 2444.4375 Total: 4039.625\n"
     ]
    },
    {
     "name": "stdout",
     "output_type": "stream",
     "text": [
      "Learning rate set to 0.047846\n",
      "0:\tlearn: 0.8892669\ttest: 0.7104646\tbest: 0.7104646 (0)\ttotal: 13.6ms\tremaining: 13.6s\n",
      "100:\tlearn: 0.9000252\ttest: 0.7317426\tbest: 0.7320955 (96)\ttotal: 1.15s\tremaining: 10.3s\n",
      "200:\tlearn: 0.9069580\ttest: 0.7425814\tbest: 0.7428847 (192)\ttotal: 2.19s\tremaining: 8.72s\n",
      "300:\tlearn: 0.9113102\ttest: 0.7475822\tbest: 0.7479439 (297)\ttotal: 3.2s\tremaining: 7.43s\n",
      "400:\tlearn: 0.9154602\ttest: 0.7513946\tbest: 0.7513946 (396)\ttotal: 4.21s\tremaining: 6.29s\n",
      "500:\tlearn: 0.9180422\ttest: 0.7520661\tbest: 0.7520661 (495)\ttotal: 5.2s\tremaining: 5.18s\n",
      "600:\tlearn: 0.9210757\ttest: 0.7527981\tbest: 0.7527981 (599)\ttotal: 6.21s\tremaining: 4.12s\n",
      "700:\tlearn: 0.9236579\ttest: 0.7547538\tbest: 0.7552413 (699)\ttotal: 7.2s\tremaining: 3.07s\n",
      "800:\tlearn: 0.9258756\ttest: 0.7573907\tbest: 0.7578125 (790)\ttotal: 8.2s\tremaining: 2.04s\n",
      "900:\tlearn: 0.9282425\ttest: 0.7583170\tbest: 0.7583170 (900)\ttotal: 9.2s\tremaining: 1.01s\n",
      "999:\tlearn: 0.9301519\ttest: 0.7592457\tbest: 0.7595495 (992)\ttotal: 10.2s\tremaining: 0us\n",
      "bestTest = 0.7595494613\n",
      "bestIteration = 992\n",
      "Shrink model to first 993 iterations.\n"
     ]
    },
    {
     "name": "stderr",
     "output_type": "stream",
     "text": [
      "Warning: less than 75% gpu memory available for training. Free: 2444.4375 Total: 4039.625\n"
     ]
    },
    {
     "name": "stdout",
     "output_type": "stream",
     "text": [
      "Learning rate set to 0.047565\n",
      "0:\tlearn: 0.8974446\ttest: 0.7021227\tbest: 0.7021227 (0)\ttotal: 12.1ms\tremaining: 12.1s\n",
      "100:\tlearn: 0.9102131\ttest: 0.7278782\tbest: 0.7281391 (90)\ttotal: 1.12s\tremaining: 9.97s\n",
      "200:\tlearn: 0.9160720\ttest: 0.7385714\tbest: 0.7385714 (200)\ttotal: 2.22s\tremaining: 8.82s\n",
      "300:\tlearn: 0.9201426\ttest: 0.7411821\tbest: 0.7413588 (299)\ttotal: 3.27s\tremaining: 7.6s\n",
      "400:\tlearn: 0.9238756\ttest: 0.7443860\tbest: 0.7448638 (389)\ttotal: 4.32s\tremaining: 6.45s\n",
      "500:\tlearn: 0.9266906\ttest: 0.7471264\tbest: 0.7476054 (497)\ttotal: 5.36s\tremaining: 5.34s\n",
      "600:\tlearn: 0.9299024\ttest: 0.7479012\tbest: 0.7479597 (595)\ttotal: 6.4s\tremaining: 4.25s\n",
      "700:\tlearn: 0.9319602\ttest: 0.7510812\tbest: 0.7512008 (677)\ttotal: 7.45s\tremaining: 3.18s\n",
      "800:\tlearn: 0.9341942\ttest: 0.7543987\tbest: 0.7547625 (796)\ttotal: 8.51s\tremaining: 2.11s\n",
      "900:\tlearn: 0.9360862\ttest: 0.7546531\tbest: 0.7552008 (897)\ttotal: 9.54s\tremaining: 1.05s\n",
      "999:\tlearn: 0.9382061\ttest: 0.7555018\tbest: 0.7563513 (952)\ttotal: 10.6s\tremaining: 0us\n",
      "bestTest = 0.7563513187\n",
      "bestIteration = 952\n",
      "Shrink model to first 953 iterations.\n"
     ]
    },
    {
     "name": "stderr",
     "output_type": "stream",
     "text": [
      "Warning: less than 75% gpu memory available for training. Free: 2444.6875 Total: 4039.625\n"
     ]
    },
    {
     "name": "stdout",
     "output_type": "stream",
     "text": [
      "Learning rate set to 0.047303\n",
      "0:\tlearn: 0.9061195\ttest: 0.6957929\tbest: 0.6957929 (0)\ttotal: 11ms\tremaining: 11s\n",
      "100:\tlearn: 0.9198203\ttest: 0.7230444\tbest: 0.7230444 (100)\ttotal: 1.18s\tremaining: 10.5s\n",
      "200:\tlearn: 0.9255064\ttest: 0.7293233\tbest: 0.7296218 (193)\ttotal: 2.31s\tremaining: 9.18s\n",
      "300:\tlearn: 0.9295564\ttest: 0.7344633\tbest: 0.7347611 (297)\ttotal: 3.39s\tremaining: 7.87s\n",
      "400:\tlearn: 0.9330067\ttest: 0.7360980\tbest: 0.7362715 (394)\ttotal: 4.45s\tremaining: 6.64s\n",
      "500:\tlearn: 0.9357943\ttest: 0.7411625\tbest: 0.7411625 (498)\ttotal: 5.49s\tremaining: 5.46s\n",
      "600:\tlearn: 0.9389225\ttest: 0.7434679\tbest: 0.7438213 (567)\ttotal: 6.53s\tremaining: 4.34s\n",
      "700:\tlearn: 0.9409976\ttest: 0.7453032\tbest: 0.7453032 (698)\ttotal: 7.56s\tremaining: 3.22s\n",
      "800:\tlearn: 0.9430890\ttest: 0.7473734\tbest: 0.7473734 (797)\ttotal: 8.58s\tremaining: 2.13s\n",
      "900:\tlearn: 0.9450265\ttest: 0.7493416\tbest: 0.7493416 (895)\ttotal: 9.61s\tremaining: 1.06s\n",
      "999:\tlearn: 0.9468866\ttest: 0.7499401\tbest: 0.7504196 (995)\ttotal: 10.6s\tremaining: 0us\n",
      "bestTest = 0.7504195637\n",
      "bestIteration = 995\n",
      "Shrink model to first 996 iterations.\n"
     ]
    },
    {
     "name": "stderr",
     "output_type": "stream",
     "text": [
      "Warning: less than 75% gpu memory available for training. Free: 2450.3125 Total: 4039.625\n"
     ]
    },
    {
     "name": "stdout",
     "output_type": "stream",
     "text": [
      "Learning rate set to 0.047059\n",
      "0:\tlearn: 0.9114347\ttest: 0.6866876\tbest: 0.6866876 (0)\ttotal: 11.2ms\tremaining: 11.1s\n",
      "100:\tlearn: 0.9244933\ttest: 0.7164317\tbest: 0.7173210 (99)\ttotal: 1.15s\tremaining: 10.3s\n",
      "200:\tlearn: 0.9311100\ttest: 0.7223757\tbest: 0.7226697 (193)\ttotal: 2.25s\tremaining: 8.94s\n",
      "300:\tlearn: 0.9352255\ttest: 0.7252544\tbest: 0.7252544 (300)\ttotal: 3.33s\tremaining: 7.74s\n",
      "400:\tlearn: 0.9385632\ttest: 0.7285383\tbest: 0.7289590 (391)\ttotal: 4.39s\tremaining: 6.56s\n",
      "500:\tlearn: 0.9415053\ttest: 0.7322176\tbest: 0.7331938 (481)\ttotal: 5.45s\tremaining: 5.43s\n",
      "600:\tlearn: 0.9438304\ttest: 0.7364486\tbest: 0.7364486 (599)\ttotal: 6.52s\tremaining: 4.33s\n",
      "700:\tlearn: 0.9458693\ttest: 0.7375555\tbest: 0.7385407 (670)\ttotal: 7.57s\tremaining: 3.23s\n",
      "800:\tlearn: 0.9482919\ttest: 0.7398546\tbest: 0.7398546 (796)\ttotal: 8.63s\tremaining: 2.14s\n",
      "900:\tlearn: 0.9500780\ttest: 0.7416471\tbest: 0.7417686 (835)\ttotal: 9.69s\tremaining: 1.06s\n",
      "999:\tlearn: 0.9518085\ttest: 0.7425206\tbest: 0.7428168 (997)\ttotal: 10.7s\tremaining: 0us\n",
      "bestTest = 0.7428167687\n",
      "bestIteration = 997\n",
      "Shrink model to first 998 iterations.\n"
     ]
    },
    {
     "name": "stderr",
     "output_type": "stream",
     "text": [
      "Warning: less than 75% gpu memory available for training. Free: 2455.8125 Total: 4039.625\n"
     ]
    },
    {
     "name": "stdout",
     "output_type": "stream",
     "text": [
      "Learning rate set to 0.046829\n",
      "0:\tlearn: 0.9144203\ttest: 0.6986839\tbest: 0.6986839 (0)\ttotal: 13.1ms\tremaining: 13.1s\n",
      "100:\tlearn: 0.9291508\ttest: 0.7113543\tbest: 0.7127538 (88)\ttotal: 1.21s\tremaining: 10.8s\n",
      "200:\tlearn: 0.9352146\ttest: 0.7175051\tbest: 0.7176685 (192)\ttotal: 2.34s\tremaining: 9.32s\n",
      "300:\tlearn: 0.9399423\ttest: 0.7206385\tbest: 0.7216636 (272)\ttotal: 3.46s\tremaining: 8.04s\n",
      "400:\tlearn: 0.9431153\ttest: 0.7241143\tbest: 0.7247769 (373)\ttotal: 4.57s\tremaining: 6.83s\n",
      "500:\tlearn: 0.9461818\ttest: 0.7278568\tbest: 0.7278568 (500)\ttotal: 5.69s\tremaining: 5.67s\n",
      "600:\tlearn: 0.9487466\ttest: 0.7296612\tbest: 0.7296612 (600)\ttotal: 6.79s\tremaining: 4.51s\n",
      "700:\tlearn: 0.9511326\ttest: 0.7313019\tbest: 0.7314708 (690)\ttotal: 7.89s\tremaining: 3.37s\n",
      "800:\tlearn: 0.9530012\ttest: 0.7332098\tbest: 0.7335031 (794)\ttotal: 9s\tremaining: 2.24s\n",
      "900:\tlearn: 0.9545911\ttest: 0.7351101\tbest: 0.7351101 (896)\ttotal: 10.1s\tremaining: 1.11s\n",
      "999:\tlearn: 0.9563186\ttest: 0.7375029\tbest: 0.7376744 (995)\ttotal: 11.2s\tremaining: 0us\n",
      "bestTest = 0.7376744186\n",
      "bestIteration = 995\n",
      "Shrink model to first 996 iterations.\n",
      "Best mean score: 0.7800369685767099; best repeat: 2\n",
      "CPU times: user 3min 22s, sys: 32.5 s, total: 3min 55s\n",
      "Wall time: 2min 4s\n"
     ]
    }
   ],
   "source": [
    "%%time\n",
    "\n",
    "_, best_repeat = select_best_value(\n",
    "    CatBoostClassifier, features_train_cat, target_train_cat, upsample,\n",
    "    params=cat_params, eval_fit=True,\n",
    ")"
   ]
  },
  {
   "cell_type": "markdown",
   "metadata": {},
   "source": [
    "Теперь для `downsample`:"
   ]
  },
  {
   "cell_type": "code",
   "execution_count": 88,
   "metadata": {},
   "outputs": [
    {
     "name": "stderr",
     "output_type": "stream",
     "text": [
      "Warning: less than 75% gpu memory available for training. Free: 2447.6875 Total: 4039.625\n"
     ]
    },
    {
     "name": "stdout",
     "output_type": "stream",
     "text": [
      "Learning rate set to 0.056691\n",
      "0:\tlearn: 0.8716225\ttest: 0.5776452\tbest: 0.5776452 (0)\ttotal: 37.4ms\tremaining: 37.3s\n",
      "100:\tlearn: 0.9004438\ttest: 0.6494408\tbest: 0.6505792 (96)\ttotal: 3.15s\tremaining: 28.1s\n",
      "200:\tlearn: 0.9096306\ttest: 0.6601979\tbest: 0.6610927 (192)\ttotal: 6.04s\tremaining: 24s\n",
      "300:\tlearn: 0.9151583\ttest: 0.6617619\tbest: 0.6625315 (286)\ttotal: 8.93s\tremaining: 20.7s\n",
      "400:\tlearn: 0.9199133\ttest: 0.6633166\tbest: 0.6643478 (362)\ttotal: 11.9s\tremaining: 17.8s\n",
      "500:\tlearn: 0.9232988\ttest: 0.6625673\tbest: 0.6651252 (459)\ttotal: 14.9s\tremaining: 14.8s\n",
      "600:\tlearn: 0.9272858\ttest: 0.6647410\tbest: 0.6653824 (594)\ttotal: 17.8s\tremaining: 11.8s\n",
      "700:\tlearn: 0.9298521\ttest: 0.6626946\tbest: 0.6653824 (594)\ttotal: 20.8s\tremaining: 8.87s\n",
      "800:\tlearn: 0.9325747\ttest: 0.6623127\tbest: 0.6653824 (594)\ttotal: 23.7s\tremaining: 5.88s\n",
      "900:\tlearn: 0.9345978\ttest: 0.6616801\tbest: 0.6653824 (594)\ttotal: 26.6s\tremaining: 2.92s\n",
      "999:\tlearn: 0.9368992\ttest: 0.6615503\tbest: 0.6653824 (594)\ttotal: 29.4s\tremaining: 0us\n",
      "bestTest = 0.6653823926\n",
      "bestIteration = 594\n",
      "Shrink model to first 595 iterations.\n",
      "New best score! Fraction: 0.1; mean_score: 0.6653823926025814...\n"
     ]
    },
    {
     "name": "stderr",
     "output_type": "stream",
     "text": [
      "Warning: less than 75% gpu memory available for training. Free: 2447.6875 Total: 4039.625\n"
     ]
    },
    {
     "name": "stdout",
     "output_type": "stream",
     "text": [
      "Learning rate set to 0.054861\n",
      "0:\tlearn: 0.8247948\ttest: 0.7115878\tbest: 0.7115878 (0)\ttotal: 31.2ms\tremaining: 31.2s\n",
      "100:\tlearn: 0.8633620\ttest: 0.7120232\tbest: 0.7120232 (100)\ttotal: 3.21s\tremaining: 28.5s\n",
      "200:\tlearn: 0.8735431\ttest: 0.7178240\tbest: 0.7178240 (199)\ttotal: 6.19s\tremaining: 24.6s\n",
      "300:\tlearn: 0.8803327\ttest: 0.7188737\tbest: 0.7191705 (276)\ttotal: 9.16s\tremaining: 21.3s\n",
      "400:\tlearn: 0.8861250\ttest: 0.7203334\tbest: 0.7210884 (384)\ttotal: 12.1s\tremaining: 18.1s\n",
      "500:\tlearn: 0.8898985\ttest: 0.7214192\tbest: 0.7214552 (480)\ttotal: 15.1s\tremaining: 15s\n",
      "600:\tlearn: 0.8930121\ttest: 0.7234508\tbest: 0.7242438 (563)\ttotal: 18s\tremaining: 11.9s\n",
      "700:\tlearn: 0.8965195\ttest: 0.7262349\tbest: 0.7263944 (697)\ttotal: 20.9s\tremaining: 8.91s\n",
      "800:\tlearn: 0.8980408\ttest: 0.7260364\tbest: 0.7271131 (768)\ttotal: 23.8s\tremaining: 5.92s\n",
      "900:\tlearn: 0.9009321\ttest: 0.7260364\tbest: 0.7273127 (872)\ttotal: 26.8s\tremaining: 2.95s\n",
      "999:\tlearn: 0.9026030\ttest: 0.7267939\tbest: 0.7275521 (987)\ttotal: 29.7s\tremaining: 0us\n",
      "bestTest = 0.7275521405\n",
      "bestIteration = 987\n",
      "Shrink model to first 988 iterations.\n",
      "New best score! Fraction: 0.2; mean_score: 0.7275521405049398...\n"
     ]
    },
    {
     "name": "stderr",
     "output_type": "stream",
     "text": [
      "Warning: less than 75% gpu memory available for training. Free: 2445.9375 Total: 4039.625\n"
     ]
    },
    {
     "name": "stdout",
     "output_type": "stream",
     "text": [
      "Learning rate set to 0.05358\n",
      "0:\tlearn: 0.8037017\ttest: 0.7074988\tbest: 0.7074988 (0)\ttotal: 35.4ms\tremaining: 35.4s\n",
      "100:\tlearn: 0.8377681\ttest: 0.7295274\tbest: 0.7296600 (85)\ttotal: 3.75s\tremaining: 33.4s\n",
      "200:\tlearn: 0.8491432\ttest: 0.7373315\tbest: 0.7373315 (197)\ttotal: 7.4s\tremaining: 29.4s\n",
      "300:\tlearn: 0.8548539\ttest: 0.7433752\tbest: 0.7433752 (300)\ttotal: 10.9s\tremaining: 25.3s\n",
      "400:\tlearn: 0.8601572\ttest: 0.7476113\tbest: 0.7476113 (400)\ttotal: 14.5s\tremaining: 21.6s\n",
      "500:\tlearn: 0.8653872\ttest: 0.7498833\tbest: 0.7499416 (483)\ttotal: 18s\tremaining: 17.9s\n",
      "600:\tlearn: 0.8696468\ttest: 0.7512241\tbest: 0.7518657 (594)\ttotal: 21.4s\tremaining: 14.2s\n",
      "700:\tlearn: 0.8742796\ttest: 0.7527383\tbest: 0.7537313 (669)\ttotal: 25s\tremaining: 10.7s\n",
      "800:\tlearn: 0.8777287\ttest: 0.7530345\tbest: 0.7542590 (734)\ttotal: 28.5s\tremaining: 7.09s\n",
      "900:\tlearn: 0.8813537\ttest: 0.7541978\tbest: 0.7550257 (860)\ttotal: 32s\tremaining: 3.52s\n",
      "999:\tlearn: 0.8843583\ttest: 0.7553588\tbest: 0.7558248 (986)\ttotal: 35.5s\tremaining: 0us\n",
      "bestTest = 0.7558247903\n",
      "bestIteration = 986\n",
      "Shrink model to first 987 iterations.\n",
      "New best score! Fraction: 0.30000000000000004; mean_score: 0.755824790307549...\n"
     ]
    },
    {
     "name": "stderr",
     "output_type": "stream",
     "text": [
      "Warning: less than 75% gpu memory available for training. Free: 2440.6875 Total: 4039.625\n"
     ]
    },
    {
     "name": "stdout",
     "output_type": "stream",
     "text": [
      "Learning rate set to 0.0526\n",
      "0:\tlearn: 0.7763713\ttest: 0.7220996\tbest: 0.7220996 (0)\ttotal: 35.2ms\tremaining: 35.1s\n",
      "100:\tlearn: 0.8102841\ttest: 0.7491921\tbest: 0.7493784 (93)\ttotal: 3.72s\tremaining: 33.1s\n",
      "200:\tlearn: 0.8229416\ttest: 0.7556650\tbest: 0.7558512 (199)\ttotal: 7.26s\tremaining: 28.9s\n",
      "300:\tlearn: 0.8303175\ttest: 0.7602858\tbest: 0.7604731 (294)\ttotal: 10.7s\tremaining: 24.9s\n",
      "400:\tlearn: 0.8377070\ttest: 0.7627494\tbest: 0.7634303 (343)\ttotal: 14.3s\tremaining: 21.4s\n",
      "500:\tlearn: 0.8430799\ttest: 0.7655172\tbest: 0.7661986 (496)\ttotal: 17.8s\tremaining: 17.7s\n",
      "600:\tlearn: 0.8475912\ttest: 0.7672584\tbest: 0.7684340 (596)\ttotal: 21.3s\tremaining: 14.1s\n",
      "700:\tlearn: 0.8524857\ttest: 0.7672244\tbest: 0.7684340 (596)\ttotal: 24.8s\tremaining: 10.6s\n",
      "800:\tlearn: 0.8577048\ttest: 0.7675622\tbest: 0.7693067 (764)\ttotal: 28.4s\tremaining: 7.05s\n",
      "900:\tlearn: 0.8611525\ttest: 0.7674476\tbest: 0.7693067 (764)\ttotal: 31.9s\tremaining: 3.51s\n",
      "999:\tlearn: 0.8648136\ttest: 0.7675222\tbest: 0.7693067 (764)\ttotal: 35.4s\tremaining: 0us\n",
      "bestTest = 0.7693066864\n",
      "bestIteration = 764\n",
      "Shrink model to first 765 iterations.\n",
      "New best score! Fraction: 0.4; mean_score: 0.7693066864051321...\n"
     ]
    },
    {
     "name": "stderr",
     "output_type": "stream",
     "text": [
      "Warning: less than 75% gpu memory available for training. Free: 2444.8125 Total: 4039.625\n"
     ]
    },
    {
     "name": "stdout",
     "output_type": "stream",
     "text": [
      "Learning rate set to 0.051809\n",
      "0:\tlearn: 0.7687608\ttest: 0.7452731\tbest: 0.7452731 (0)\ttotal: 35.3ms\tremaining: 35.3s\n",
      "100:\tlearn: 0.8022903\ttest: 0.7506387\tbest: 0.7506387 (97)\ttotal: 3.76s\tremaining: 33.5s\n",
      "200:\tlearn: 0.8116062\ttest: 0.7576913\tbest: 0.7581998 (197)\ttotal: 7.31s\tremaining: 29.1s\n",
      "300:\tlearn: 0.8179889\ttest: 0.7626263\tbest: 0.7633241 (294)\ttotal: 10.8s\tremaining: 25.1s\n",
      "400:\tlearn: 0.8244223\ttest: 0.7651515\tbest: 0.7662797 (372)\ttotal: 14.3s\tremaining: 21.4s\n",
      "500:\tlearn: 0.8297247\ttest: 0.7690753\tbest: 0.7696970 (476)\ttotal: 17.8s\tremaining: 17.7s\n",
      "600:\tlearn: 0.8342319\ttest: 0.7719121\tbest: 0.7724173 (596)\ttotal: 21.3s\tremaining: 14.1s\n",
      "700:\tlearn: 0.8388286\ttest: 0.7739328\tbest: 0.7742424 (697)\ttotal: 25s\tremaining: 10.6s\n",
      "800:\tlearn: 0.8428591\ttest: 0.7755925\tbest: 0.7762626 (758)\ttotal: 28.5s\tremaining: 7.09s\n",
      "900:\tlearn: 0.8464527\ttest: 0.7764289\tbest: 0.7771602 (850)\ttotal: 32s\tremaining: 3.52s\n",
      "999:\tlearn: 0.8499591\ttest: 0.7781432\tbest: 0.7781432 (985)\ttotal: 35.6s\tremaining: 0us\n",
      "bestTest = 0.7781431824\n",
      "bestIteration = 985\n",
      "Shrink model to first 986 iterations.\n",
      "New best score! Fraction: 0.5; mean_score: 0.7781431823931191...\n"
     ]
    },
    {
     "name": "stderr",
     "output_type": "stream",
     "text": [
      "Warning: less than 75% gpu memory available for training. Free: 2447.3125 Total: 4039.625\n"
     ]
    },
    {
     "name": "stdout",
     "output_type": "stream",
     "text": [
      "Learning rate set to 0.051147\n",
      "0:\tlearn: 0.7543586\ttest: 0.7363311\tbest: 0.7363311 (0)\ttotal: 36.6ms\tremaining: 36.5s\n",
      "100:\tlearn: 0.7800620\ttest: 0.7555205\tbest: 0.7555205 (100)\ttotal: 3.83s\tremaining: 34.1s\n",
      "200:\tlearn: 0.7918704\ttest: 0.7630332\tbest: 0.7654321 (187)\ttotal: 7.44s\tremaining: 29.6s\n",
      "300:\tlearn: 0.8006141\ttest: 0.7698371\tbest: 0.7700394 (295)\ttotal: 11s\tremaining: 25.6s\n",
      "400:\tlearn: 0.8082325\ttest: 0.7709644\tbest: 0.7716907 (391)\ttotal: 14.7s\tremaining: 22s\n",
      "500:\tlearn: 0.8130952\ttest: 0.7742611\tbest: 0.7751897 (483)\ttotal: 18.4s\tremaining: 18.3s\n",
      "600:\tlearn: 0.8182954\ttest: 0.7773999\tbest: 0.7778069 (552)\ttotal: 22s\tremaining: 14.6s\n",
      "700:\tlearn: 0.8227383\ttest: 0.7795812\tbest: 0.7801047 (686)\ttotal: 25.6s\tremaining: 10.9s\n",
      "800:\tlearn: 0.8273331\ttest: 0.7781266\tbest: 0.7801047 (686)\ttotal: 29.2s\tremaining: 7.25s\n",
      "900:\tlearn: 0.8312928\ttest: 0.7800157\tbest: 0.7804496 (887)\ttotal: 32.9s\tremaining: 3.61s\n",
      "999:\tlearn: 0.8350722\ttest: 0.7812908\tbest: 0.7816993 (986)\ttotal: 36.6s\tremaining: 0us\n",
      "bestTest = 0.7816993464\n",
      "bestIteration = 986\n",
      "Shrink model to first 987 iterations.\n",
      "New best score! Fraction: 0.6; mean_score: 0.7816993464052289...\n"
     ]
    },
    {
     "name": "stderr",
     "output_type": "stream",
     "text": [
      "Warning: less than 75% gpu memory available for training. Free: 2465.3125 Total: 4039.625\n"
     ]
    },
    {
     "name": "stdout",
     "output_type": "stream",
     "text": [
      "Learning rate set to 0.050579\n",
      "0:\tlearn: 0.7358591\ttest: 0.7371121\tbest: 0.7371121 (0)\ttotal: 8.09ms\tremaining: 8.08s\n",
      "100:\tlearn: 0.7555969\ttest: 0.7550111\tbest: 0.7551475 (99)\ttotal: 852ms\tremaining: 7.58s\n",
      "200:\tlearn: 0.7704369\ttest: 0.7573407\tbest: 0.7583333 (143)\ttotal: 1.73s\tremaining: 6.87s\n",
      "300:\tlearn: 0.7801509\ttest: 0.7605634\tbest: 0.7620890 (281)\ttotal: 2.57s\tremaining: 5.97s\n",
      "400:\tlearn: 0.7871372\ttest: 0.7640573\tbest: 0.7641379 (389)\ttotal: 3.33s\tremaining: 4.98s\n",
      "500:\tlearn: 0.7926110\ttest: 0.7692308\tbest: 0.7692308 (499)\ttotal: 4.1s\tremaining: 4.09s\n",
      "600:\tlearn: 0.7985816\ttest: 0.7718047\tbest: 0.7730769 (581)\ttotal: 4.91s\tremaining: 3.26s\n",
      "700:\tlearn: 0.8029766\ttest: 0.7726899\tbest: 0.7733626 (668)\ttotal: 5.74s\tremaining: 2.45s\n",
      "800:\tlearn: 0.8075317\ttest: 0.7745823\tbest: 0.7749179 (775)\ttotal: 6.59s\tremaining: 1.64s\n",
      "900:\tlearn: 0.8118071\ttest: 0.7728888\tbest: 0.7749179 (775)\ttotal: 7.42s\tremaining: 815ms\n",
      "999:\tlearn: 0.8145065\ttest: 0.7720548\tbest: 0.7749179 (775)\ttotal: 8.26s\tremaining: 0us\n",
      "bestTest = 0.7749178532\n",
      "bestIteration = 775\n",
      "Shrink model to first 776 iterations.\n"
     ]
    },
    {
     "name": "stderr",
     "output_type": "stream",
     "text": [
      "Warning: less than 75% gpu memory available for training. Free: 2464.5625 Total: 4039.625\n"
     ]
    },
    {
     "name": "stdout",
     "output_type": "stream",
     "text": [
      "Learning rate set to 0.050082\n",
      "0:\tlearn: 0.7118359\ttest: 0.7396974\tbest: 0.7396974 (0)\ttotal: 8.43ms\tremaining: 8.42s\n",
      "100:\tlearn: 0.7432147\ttest: 0.7545605\tbest: 0.7545605 (100)\ttotal: 856ms\tremaining: 7.62s\n",
      "200:\tlearn: 0.7576151\ttest: 0.7638163\tbest: 0.7638163 (200)\ttotal: 1.7s\tremaining: 6.78s\n",
      "300:\tlearn: 0.7671450\ttest: 0.7659341\tbest: 0.7680044 (264)\ttotal: 2.54s\tremaining: 5.9s\n",
      "400:\tlearn: 0.7745274\ttest: 0.7693570\tbest: 0.7695676 (398)\ttotal: 3.37s\tremaining: 5.04s\n",
      "500:\tlearn: 0.7813373\ttest: 0.7722177\tbest: 0.7725157 (470)\ttotal: 4.2s\tremaining: 4.18s\n",
      "600:\tlearn: 0.7856938\ttest: 0.7729389\tbest: 0.7731507 (599)\ttotal: 5.03s\tremaining: 3.34s\n",
      "700:\tlearn: 0.7907842\ttest: 0.7722664\tbest: 0.7733990 (610)\ttotal: 5.85s\tremaining: 2.5s\n",
      "800:\tlearn: 0.7939598\ttest: 0.7739464\tbest: 0.7741582 (798)\ttotal: 6.67s\tremaining: 1.66s\n",
      "900:\tlearn: 0.7983109\ttest: 0.7735746\tbest: 0.7749521 (814)\ttotal: 7.48s\tremaining: 822ms\n",
      "999:\tlearn: 0.8010576\ttest: 0.7707477\tbest: 0.7749521 (814)\ttotal: 8.27s\tremaining: 0us\n",
      "bestTest = 0.7749521466\n",
      "bestIteration = 814\n",
      "Shrink model to first 815 iterations.\n"
     ]
    },
    {
     "name": "stderr",
     "output_type": "stream",
     "text": [
      "Warning: less than 75% gpu memory available for training. Free: 2473.0625 Total: 4039.625\n"
     ]
    },
    {
     "name": "stdout",
     "output_type": "stream",
     "text": [
      "Learning rate set to 0.049642\n",
      "0:\tlearn: 0.7001321\ttest: 0.7354976\tbest: 0.7354976 (0)\ttotal: 8.72ms\tremaining: 8.71s\n",
      "100:\tlearn: 0.7284140\ttest: 0.7524809\tbest: 0.7526943 (97)\ttotal: 919ms\tremaining: 8.18s\n",
      "200:\tlearn: 0.7509623\ttest: 0.7564972\tbest: 0.7566497 (195)\ttotal: 1.79s\tremaining: 7.13s\n",
      "300:\tlearn: 0.7599768\ttest: 0.7623622\tbest: 0.7627645 (244)\ttotal: 2.67s\tremaining: 6.2s\n",
      "400:\tlearn: 0.7671451\ttest: 0.7645398\tbest: 0.7647557 (379)\ttotal: 3.52s\tremaining: 5.26s\n",
      "500:\tlearn: 0.7745063\ttest: 0.7687113\tbest: 0.7690141 (497)\ttotal: 4.37s\tremaining: 4.35s\n",
      "600:\tlearn: 0.7781397\ttest: 0.7701408\tbest: 0.7701408 (584)\ttotal: 5.22s\tremaining: 3.46s\n",
      "700:\tlearn: 0.7817853\ttest: 0.7681486\tbest: 0.7709214 (602)\ttotal: 6.08s\tremaining: 2.59s\n",
      "800:\tlearn: 0.7854666\ttest: 0.7696203\tbest: 0.7709214 (602)\ttotal: 6.93s\tremaining: 1.72s\n",
      "900:\tlearn: 0.7887486\ttest: 0.7700084\tbest: 0.7709214 (602)\ttotal: 7.79s\tremaining: 856ms\n",
      "999:\tlearn: 0.7932599\ttest: 0.7697923\tbest: 0.7709214 (602)\ttotal: 8.64s\tremaining: 0us\n",
      "bestTest = 0.7709213863\n",
      "bestIteration = 602\n",
      "Shrink model to first 603 iterations.\n"
     ]
    },
    {
     "name": "stderr",
     "output_type": "stream",
     "text": [
      "Warning: less than 75% gpu memory available for training. Free: 2467.4375 Total: 4039.625\n"
     ]
    },
    {
     "name": "stdout",
     "output_type": "stream",
     "text": [
      "Learning rate set to 0.049246\n",
      "0:\tlearn: 0.6578866\ttest: 0.6970238\tbest: 0.6970238 (0)\ttotal: 9.53ms\tremaining: 9.52s\n",
      "100:\tlearn: 0.7233760\ttest: 0.7510767\tbest: 0.7510767 (100)\ttotal: 922ms\tremaining: 8.21s\n",
      "200:\tlearn: 0.7432730\ttest: 0.7566791\tbest: 0.7572537 (197)\ttotal: 1.85s\tremaining: 7.34s\n",
      "300:\tlearn: 0.7539060\ttest: 0.7626682\tbest: 0.7632933 (288)\ttotal: 2.77s\tremaining: 6.42s\n",
      "400:\tlearn: 0.7609892\ttest: 0.7646554\tbest: 0.7667238 (376)\ttotal: 3.66s\tremaining: 5.47s\n",
      "500:\tlearn: 0.7672237\ttest: 0.7646220\tbest: 0.7667238 (376)\ttotal: 4.55s\tremaining: 4.54s\n",
      "600:\tlearn: 0.7708623\ttest: 0.7653615\tbest: 0.7667238 (376)\ttotal: 5.42s\tremaining: 3.6s\n",
      "700:\tlearn: 0.7744762\ttest: 0.7680456\tbest: 0.7682648 (695)\ttotal: 6.29s\tremaining: 2.68s\n",
      "800:\tlearn: 0.7787985\ttest: 0.7685739\tbest: 0.7702818 (758)\ttotal: 7.17s\tremaining: 1.78s\n",
      "900:\tlearn: 0.7819188\ttest: 0.7709815\tbest: 0.7718999 (860)\ttotal: 8.04s\tremaining: 884ms\n",
      "999:\tlearn: 0.7852573\ttest: 0.7714611\tbest: 0.7727273 (946)\ttotal: 8.91s\tremaining: 0us\n",
      "bestTest = 0.7727272727\n",
      "bestIteration = 946\n",
      "Shrink model to first 947 iterations.\n",
      "Best mean score: 0.7816993464052289; best fraction: 0.6\n",
      "CPU times: user 5min 20s, sys: 22.2 s, total: 5min 42s\n",
      "Wall time: 4min 16s\n"
     ]
    }
   ],
   "source": [
    "%%time\n",
    "\n",
    "_, best_fraction = select_best_value(\n",
    "    CatBoostClassifier, features_train_cat, target_train_cat, downsample,\n",
    "    select_param='fraction', values=np.arange(0.4, 1.1, 0.1), params=cat_params,\n",
    "    eval_fit=True,\n",
    ")"
   ]
  },
  {
   "cell_type": "markdown",
   "metadata": {},
   "source": [
    "Хорошо, будем использовать `upsample`, она снова показывает результаты лучше, чем у `downsample`:"
   ]
  },
  {
   "cell_type": "code",
   "execution_count": 89,
   "metadata": {},
   "outputs": [],
   "source": [
    "features_train_cat_up, target_train_cat_up = upsample(features_train_cat, target_train_cat, repeat=best_repeat)"
   ]
  },
  {
   "cell_type": "markdown",
   "metadata": {},
   "source": [
    "#### Обучение и тестирование модели"
   ]
  },
  {
   "cell_type": "markdown",
   "metadata": {},
   "source": [
    "Выберем оптимальное количество итераций:"
   ]
  },
  {
   "cell_type": "code",
   "execution_count": 90,
   "metadata": {},
   "outputs": [],
   "source": [
    "cat_params['iterations'] = 3000"
   ]
  },
  {
   "cell_type": "markdown",
   "metadata": {},
   "source": [
    "Создадим модель:"
   ]
  },
  {
   "cell_type": "code",
   "execution_count": 92,
   "metadata": {},
   "outputs": [],
   "source": [
    "model = CatBoostClassifier(**cat_params)"
   ]
  },
  {
   "cell_type": "markdown",
   "metadata": {},
   "source": [
    "Обучим её:"
   ]
  },
  {
   "cell_type": "code",
   "execution_count": 93,
   "metadata": {
    "scrolled": true
   },
   "outputs": [
    {
     "name": "stderr",
     "output_type": "stream",
     "text": [
      "Warning: less than 75% gpu memory available for training. Free: 2447.6875 Total: 4039.625\n"
     ]
    },
    {
     "name": "stdout",
     "output_type": "stream",
     "text": [
      "Learning rate set to 0.030412\n",
      "0:\tlearn: 0.7956948\ttest: 0.7420528\tbest: 0.7420528 (0)\ttotal: 11ms\tremaining: 33s\n",
      "100:\tlearn: 0.8100864\ttest: 0.7592861\tbest: 0.7594082 (98)\ttotal: 1.07s\tremaining: 30.7s\n",
      "200:\tlearn: 0.8184534\ttest: 0.7688386\tbest: 0.7692798 (197)\ttotal: 2.1s\tremaining: 29.2s\n",
      "300:\tlearn: 0.8242047\ttest: 0.7739780\tbest: 0.7740293 (297)\ttotal: 3.11s\tremaining: 27.9s\n",
      "400:\tlearn: 0.8285382\ttest: 0.7779904\tbest: 0.7785042 (389)\ttotal: 4.11s\tremaining: 26.7s\n",
      "500:\tlearn: 0.8315026\ttest: 0.7808701\tbest: 0.7811351 (480)\ttotal: 5.09s\tremaining: 25.4s\n",
      "600:\tlearn: 0.8341045\ttest: 0.7833600\tbest: 0.7837492 (580)\ttotal: 6.07s\tremaining: 24.2s\n",
      "700:\tlearn: 0.8365062\ttest: 0.7880243\tbest: 0.7880243 (699)\ttotal: 7.05s\tremaining: 23.1s\n",
      "800:\tlearn: 0.8378919\ttest: 0.7886062\tbest: 0.7886062 (800)\ttotal: 8.01s\tremaining: 22s\n",
      "900:\tlearn: 0.8393687\ttest: 0.7889761\tbest: 0.7894990 (842)\ttotal: 8.94s\tremaining: 20.8s\n",
      "1000:\tlearn: 0.8408569\ttest: 0.7902502\tbest: 0.7903769 (993)\ttotal: 9.88s\tremaining: 19.7s\n",
      "1100:\tlearn: 0.8428413\ttest: 0.7899294\tbest: 0.7911524 (1071)\ttotal: 10.8s\tremaining: 18.7s\n",
      "1200:\tlearn: 0.8453174\ttest: 0.7908916\tbest: 0.7911524 (1071)\ttotal: 11.8s\tremaining: 17.6s\n",
      "1300:\tlearn: 0.8467492\ttest: 0.7911524\tbest: 0.7911524 (1071)\ttotal: 12.7s\tremaining: 16.6s\n",
      "1400:\tlearn: 0.8486253\ttest: 0.7918001\tbest: 0.7921141 (1364)\ttotal: 13.7s\tremaining: 15.6s\n",
      "1500:\tlearn: 0.8504124\ttest: 0.7918668\tbest: 0.7925012 (1449)\ttotal: 14.6s\tremaining: 14.6s\n",
      "1600:\tlearn: 0.8524705\ttest: 0.7925132\tbest: 0.7930869 (1550)\ttotal: 15.6s\tremaining: 13.6s\n",
      "1700:\tlearn: 0.8543810\ttest: 0.7929656\tbest: 0.7930869 (1550)\ttotal: 16.5s\tremaining: 12.6s\n",
      "1800:\tlearn: 0.8561895\ttest: 0.7929656\tbest: 0.7934122 (1725)\ttotal: 17.5s\tremaining: 11.6s\n",
      "1900:\tlearn: 0.8572505\ttest: 0.7941129\tbest: 0.7943058 (1888)\ttotal: 18.5s\tremaining: 10.7s\n",
      "2000:\tlearn: 0.8585180\ttest: 0.7948841\tbest: 0.7948841 (1997)\ttotal: 19.4s\tremaining: 9.7s\n",
      "2100:\tlearn: 0.8603832\ttest: 0.7941176\tbest: 0.7950807 (2050)\ttotal: 20.4s\tremaining: 8.73s\n",
      "2200:\tlearn: 0.8614864\ttest: 0.7951422\tbest: 0.7953964 (2176)\ttotal: 21.3s\tremaining: 7.75s\n",
      "2300:\tlearn: 0.8627219\ttest: 0.7952038\tbest: 0.7953964 (2176)\ttotal: 22.3s\tremaining: 6.77s\n",
      "2400:\tlearn: 0.8642539\ttest: 0.7960979\tbest: 0.7962252 (2383)\ttotal: 23.3s\tremaining: 5.8s\n",
      "2500:\tlearn: 0.8651435\ttest: 0.7964828\tbest: 0.7966752 (2474)\ttotal: 24.3s\tremaining: 4.84s\n",
      "2600:\tlearn: 0.8666237\ttest: 0.7957161\tbest: 0.7966752 (2474)\ttotal: 25.2s\tremaining: 3.87s\n",
      "2700:\tlearn: 0.8682848\ttest: 0.7962904\tbest: 0.7966752 (2474)\ttotal: 26.2s\tremaining: 2.9s\n",
      "2800:\tlearn: 0.8693065\ttest: 0.7959706\tbest: 0.7966752 (2474)\ttotal: 27.1s\tremaining: 1.93s\n",
      "2900:\tlearn: 0.8701083\ttest: 0.7971200\tbest: 0.7971849 (2870)\ttotal: 28.1s\tremaining: 959ms\n",
      "2999:\tlearn: 0.8710966\ttest: 0.7967350\tbest: 0.7971849 (2870)\ttotal: 29.1s\tremaining: 0us\n",
      "bestTest = 0.7971849008\n",
      "bestIteration = 2870\n",
      "Shrink model to first 2871 iterations.\n"
     ]
    },
    {
     "data": {
      "text/plain": [
       "<catboost.core.CatBoostClassifier at 0x7f3b1431c4c0>"
      ]
     },
     "execution_count": 93,
     "metadata": {},
     "output_type": "execute_result"
    }
   ],
   "source": [
    "model.fit(features_train_cat_up, target_train_cat_up, eval_set=(features_valid_cat, target_valid_cat))"
   ]
  },
  {
   "cell_type": "markdown",
   "metadata": {},
   "source": [
    "Выполним предсказания на тестовой выборке:"
   ]
  },
  {
   "cell_type": "code",
   "execution_count": 94,
   "metadata": {},
   "outputs": [
    {
     "name": "stdout",
     "output_type": "stream",
     "text": [
      "CPU times: user 4.52 s, sys: 28.5 ms, total: 4.55 s\n",
      "Wall time: 222 ms\n"
     ]
    }
   ],
   "source": [
    "%%time\n",
    "\n",
    "predicted_test = model.predict(features_test_cat)"
   ]
  },
  {
   "cell_type": "markdown",
   "metadata": {},
   "source": [
    "Посчитаем F1:"
   ]
  },
  {
   "cell_type": "code",
   "execution_count": 95,
   "metadata": {
    "scrolled": true
   },
   "outputs": [
    {
     "data": {
      "text/plain": [
       "0.7864992150706437"
      ]
     },
     "execution_count": 95,
     "metadata": {},
     "output_type": "execute_result"
    }
   ],
   "source": [
    "f1_score(target_test_cat, predicted_test)"
   ]
  },
  {
   "cell_type": "markdown",
   "metadata": {},
   "source": [
    "#### Подбор оптимального порога"
   ]
  },
  {
   "cell_type": "markdown",
   "metadata": {},
   "source": [
    "Подберём порог:"
   ]
  },
  {
   "cell_type": "code",
   "execution_count": 111,
   "metadata": {
    "scrolled": true
   },
   "outputs": [
    {
     "data": {
      "application/vnd.jupyter.widget-view+json": {
       "model_id": "2e79fbb4438e4c05a6e81e63b543a3af",
       "version_major": 2,
       "version_minor": 0
      },
      "text/plain": [
       "  0%|          | 0/31278 [00:00<?, ?it/s]"
      ]
     },
     "metadata": {},
     "output_type": "display_data"
    },
    {
     "data": {
      "text/html": [
       "<div>\n",
       "<style scoped>\n",
       "    .dataframe tbody tr th:only-of-type {\n",
       "        vertical-align: middle;\n",
       "    }\n",
       "\n",
       "    .dataframe tbody tr th {\n",
       "        vertical-align: top;\n",
       "    }\n",
       "\n",
       "    .dataframe thead th {\n",
       "        text-align: right;\n",
       "    }\n",
       "</style>\n",
       "<table border=\"1\" class=\"dataframe\">\n",
       "  <thead>\n",
       "    <tr style=\"text-align: right;\">\n",
       "      <th></th>\n",
       "      <th>threshold</th>\n",
       "      <th>f1</th>\n",
       "      <th>f1_test</th>\n",
       "    </tr>\n",
       "  </thead>\n",
       "  <tbody>\n",
       "    <tr>\n",
       "      <th>28386</th>\n",
       "      <td>0.530724</td>\n",
       "      <td>0.797788</td>\n",
       "      <td>0.787898</td>\n",
       "    </tr>\n",
       "  </tbody>\n",
       "</table>\n",
       "</div>"
      ],
      "text/plain": [
       "       threshold        f1   f1_test\n",
       "28386   0.530724  0.797788  0.787898"
      ]
     },
     "execution_count": 111,
     "metadata": {},
     "output_type": "execute_result"
    }
   ],
   "source": [
    "find_proba(\n",
    "    model, features_valid_cat, target_valid_cat, features_test_cat, target_test_cat,\n",
    ")"
   ]
  },
  {
   "cell_type": "markdown",
   "metadata": {},
   "source": [
    "## Выводы"
   ]
  },
  {
   "cell_type": "markdown",
   "metadata": {},
   "source": [
    "CatBoost работает довольно быстро, так как его можно запустить на видеокарте, предсказывает c Bert чуть менее точно, но всё же неплохо, без Bert показывает результаты лучше, чем у логистической регрессии. Логистическая регрессия показывает более хорошие результаты, чем CatBoost с Bert, но долго обучается и дольше предсказывает. Можно конечно понизить количество итераций у логистической регрессии, тогда оценка будет чуть ниже, а скорость вырастет в разы. В данной ситуации предпочтительнее использовать CatBoost без Bert, вот почему:\n",
    "- Не нужно долго создавать признаки с помощью Bert\n",
    "- Признаки не занимают большое количество памяти\n",
    "- Модель обучается и предсказывает довольно  быстро"
   ]
  }
 ],
 "metadata": {
  "kernelspec": {
   "display_name": "Python 3 (ipykernel)",
   "language": "python",
   "name": "python3"
  },
  "language_info": {
   "codemirror_mode": {
    "name": "ipython",
    "version": 3
   },
   "file_extension": ".py",
   "mimetype": "text/x-python",
   "name": "python",
   "nbconvert_exporter": "python",
   "pygments_lexer": "ipython3",
   "version": "3.10.8"
  },
  "toc": {
   "base_numbering": 1,
   "nav_menu": {},
   "number_sections": true,
   "sideBar": true,
   "skip_h1_title": true,
   "title_cell": "Содержание",
   "title_sidebar": "Contents",
   "toc_cell": true,
   "toc_position": {
    "height": "calc(100% - 180px)",
    "left": "10px",
    "top": "150px",
    "width": "310px"
   },
   "toc_section_display": true,
   "toc_window_display": false
  }
 },
 "nbformat": 4,
 "nbformat_minor": 2
}
